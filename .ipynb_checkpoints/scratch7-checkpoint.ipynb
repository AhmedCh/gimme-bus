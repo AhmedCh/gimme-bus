{
 "cells": [
  {
   "cell_type": "code",
   "execution_count": 1,
   "metadata": {
    "collapsed": true
   },
   "outputs": [],
   "source": [
    "import pandas as pd\n",
    "import numpy as np\n",
    "import networkx as nx\n",
    "import cPickle as pickle\n",
    "from model.utilities import haversine, diff_timestamps\n",
    "\n",
    "# Reading in static schedule data\n",
    "stops_full = pd.read_csv('data/google_transit/stops.txt', index_col='stop_id')\n",
    "routes = pd.read_csv('data/google_transit/routes.txt', index_col='route_id')\n",
    "trips = pd.read_csv('data/google_transit/trips.txt', index_col='trip_id')\n",
    "stop_times = pd.read_csv('data/google_transit/stop_times.txt')\n",
    "shapes = pd.read_csv('data/google_transit/shapes.txt')\n",
    "\n",
    "# Some of these stops are named \"Not a public stop\" but are still in trips.\n",
    "# Luckily, in the few trips they appear in, they're only either at the\n",
    "# beginning or the end, so we can remove them now and we'll still build\n",
    "# a nice graph with the connections we expect.\n",
    "stops = stops_full[~stops_full.index.isin([7520, 7530, 7531, 7540])]\n",
    "stop_times = stop_times[~stop_times['stop_id'].isin([7520, 7530, 7531, 7540])]\n",
    "\n",
    "# Oh and some stops are in stops.txt but not used in trips... let's remove 'em\n",
    "used_stops = set(stop_times['stop_id'].unique())\n",
    "stops = stops[stops.index.isin(used_stops)]\n",
    "\n",
    "# Let's make some sorted stop-timepoint lists for each stop_id to\n",
    "# make lookup faster for things\n",
    "all_stop_timepoints = {}\n",
    "for stopid in used_stops:\n",
    "    all_stop_timepoints[stopid] = sorted( list( set(stop_times[stop_times['stop_id'] == stopid].\\\n",
    "                                                    apply(lambda x: '{0}_{1}'.\\\n",
    "                                                          format(stopid, \\\n",
    "                                                                 x['arrival_time']), axis=1))))"
   ]
  },
  {
   "cell_type": "code",
   "execution_count": 2,
   "metadata": {
    "collapsed": true
   },
   "outputs": [],
   "source": [
    "G_x = nx.read_gpickle('graph_x_7.gpkl')"
   ]
  },
  {
   "cell_type": "code",
   "execution_count": 3,
   "metadata": {
    "collapsed": false
   },
   "outputs": [
    {
     "data": {
      "text/plain": [
       "{'3327_07:43:00': {'block_id': 3309,\n",
       "  'duration': 52,\n",
       "  'route_id': 11076,\n",
       "  'service_id': 1,\n",
       "  'shape_id': 135779,\n",
       "  'trip_id': 6887009,\n",
       "  'type': 'ride'},\n",
       " '3335_07:44:08': {'duration': 120, 'type': 'wait'},\n",
       " '3336_07:46:47': {'duration': 279, 'type': 'walk'},\n",
       " '4179_07:55:37': {'duration': 809, 'type': 'walk'},\n",
       " '4180_07:52:27': {'duration': 619, 'type': 'walk'},\n",
       " '4185_07:55:24': {'duration': 796, 'type': 'walk'}}"
      ]
     },
     "execution_count": 3,
     "metadata": {},
     "output_type": "execute_result"
    }
   ],
   "source": [
    "G_x['3335_07:42:08']"
   ]
  },
  {
   "cell_type": "code",
   "execution_count": 31,
   "metadata": {
    "collapsed": false
   },
   "outputs": [],
   "source": [
    "def earliest_target(source, target, est_time, G):\n",
    "    t1 = source[-8:]\n",
    "    p_t, p = None, None\n",
    "    for n in all_stop_timepoints[target][::-1]:\n",
    "        t2 = n[-8:]\n",
    "        if (t2 > t1) and (diff_timestamps(t1, t2) < est_time):\n",
    "            try:\n",
    "                p_t, p = nx.bidirectional_dijkstra(G, source, n, weight='duration')\n",
    "            except nx.NetworkXNoPath:\n",
    "                return p_t, p"
   ]
  },
  {
   "cell_type": "code",
   "execution_count": 35,
   "metadata": {
    "collapsed": false
   },
   "outputs": [
    {
     "data": {
      "text/plain": [
       "(2692,\n",
       " ['3335_07:42:08',\n",
       "  '3336_07:46:47',\n",
       "  '3329_07:48:01',\n",
       "  '3326_07:49:00',\n",
       "  '3341_07:49:56',\n",
       "  '3345_07:51:00',\n",
       "  '3323_07:52:13',\n",
       "  '3331_07:53:17',\n",
       "  '3334_07:54:23',\n",
       "  '3349_07:55:27',\n",
       "  '5553_07:57:00',\n",
       "  '3292_07:58:40',\n",
       "  '3293_08:00:00',\n",
       "  '3299_08:01:32',\n",
       "  '3289_08:02:42',\n",
       "  '3282_08:04:00',\n",
       "  '3296_08:04:55',\n",
       "  '3297_08:05:39',\n",
       "  '7761_08:06:39',\n",
       "  '7762_08:07:39',\n",
       "  '7763_08:08:38',\n",
       "  '7764_08:10:43',\n",
       "  '7324_08:11:14',\n",
       "  '7360_08:12:52',\n",
       "  '7361_08:14:30',\n",
       "  '7362_08:16:00',\n",
       "  '7363_08:17:48',\n",
       "  '7364_08:20:00',\n",
       "  '7365_08:22:08',\n",
       "  '4555_08:27:00'])"
      ]
     },
     "execution_count": 35,
     "metadata": {},
     "output_type": "execute_result"
    }
   ],
   "source": [
    "earliest_target('3335_07:42:08', 4555, 3600, G_x)"
   ]
  },
  {
   "cell_type": "code",
   "execution_count": 4,
   "metadata": {
    "collapsed": true
   },
   "outputs": [],
   "source": [
    "foo = nx.all_shortest_paths(G_x, '3335_07:42:08', '4555_09:47:13', weight='duration')"
   ]
  },
  {
   "cell_type": "code",
   "execution_count": null,
   "metadata": {
    "collapsed": true
   },
   "outputs": [],
   "source": []
  },
  {
   "cell_type": "code",
   "execution_count": null,
   "metadata": {
    "collapsed": true
   },
   "outputs": [],
   "source": []
  },
  {
   "cell_type": "code",
   "execution_count": null,
   "metadata": {
    "collapsed": true
   },
   "outputs": [],
   "source": []
  },
  {
   "cell_type": "code",
   "execution_count": 8,
   "metadata": {
    "collapsed": false
   },
   "outputs": [
    {
     "ename": "KeyboardInterrupt",
     "evalue": "",
     "output_type": "error",
     "traceback": [
      "\u001b[1;31m---------------------------------------------------------------------------\u001b[0m",
      "\u001b[1;31mKeyboardInterrupt\u001b[0m                         Traceback (most recent call last)",
      "\u001b[1;32m<ipython-input-8-f8bae71b708c>\u001b[0m in \u001b[0;36m<module>\u001b[1;34m()\u001b[0m\n\u001b[0;32m      1\u001b[0m \u001b[0mcand\u001b[0m \u001b[1;33m=\u001b[0m \u001b[1;33m[\u001b[0m\u001b[1;33m]\u001b[0m\u001b[1;33m\u001b[0m\u001b[0m\n\u001b[0;32m      2\u001b[0m \u001b[1;32mfor\u001b[0m \u001b[0mp\u001b[0m \u001b[1;32min\u001b[0m \u001b[0mfoo\u001b[0m\u001b[1;33m:\u001b[0m\u001b[1;33m\u001b[0m\u001b[0m\n\u001b[1;32m----> 3\u001b[1;33m     \u001b[0mst\u001b[0m \u001b[1;33m=\u001b[0m \u001b[1;33m[\u001b[0m\u001b[0mn\u001b[0m\u001b[1;33m[\u001b[0m\u001b[1;33m:\u001b[0m\u001b[1;36m4\u001b[0m\u001b[1;33m]\u001b[0m \u001b[1;32mfor\u001b[0m \u001b[0mn\u001b[0m \u001b[1;32min\u001b[0m \u001b[0mp\u001b[0m\u001b[1;33m]\u001b[0m\u001b[1;33m\u001b[0m\u001b[0m\n\u001b[0m\u001b[0;32m      4\u001b[0m     \u001b[1;32mif\u001b[0m \u001b[0mst\u001b[0m\u001b[1;33m.\u001b[0m\u001b[0mcount\u001b[0m\u001b[1;33m(\u001b[0m\u001b[1;34m'4555'\u001b[0m\u001b[1;33m)\u001b[0m \u001b[1;33m>\u001b[0m \u001b[1;36m1\u001b[0m\u001b[1;33m:\u001b[0m\u001b[1;33m\u001b[0m\u001b[0m\n\u001b[0;32m      5\u001b[0m         \u001b[0mcand\u001b[0m\u001b[1;33m.\u001b[0m\u001b[0mappend\u001b[0m\u001b[1;33m(\u001b[0m\u001b[0mp\u001b[0m\u001b[1;33m)\u001b[0m\u001b[1;33m\u001b[0m\u001b[0m\n",
      "\u001b[1;31mKeyboardInterrupt\u001b[0m: "
     ]
    }
   ],
   "source": [
    "cand = []\n",
    "for p in foo:\n",
    "    st = [n[:4] for n in p]\n",
    "    if st.count('4555') > 1:\n",
    "        cand.append(p)"
   ]
  },
  {
   "cell_type": "code",
   "execution_count": 11,
   "metadata": {
    "collapsed": false
   },
   "outputs": [
    {
     "data": {
      "text/plain": [
       "['3335_07:42:08',\n",
       " '3327_07:43:00',\n",
       " '3327_07:45:00',\n",
       " '3328_07:45:48',\n",
       " '3336_07:46:47',\n",
       " '3329_07:48:01',\n",
       " '3326_07:49:00',\n",
       " '3341_07:49:56',\n",
       " '3345_07:51:00',\n",
       " '3323_07:52:13',\n",
       " '3331_07:53:17',\n",
       " '3334_07:54:23',\n",
       " '3349_07:55:27',\n",
       " '5553_07:57:00',\n",
       " '3292_07:58:40',\n",
       " '3293_08:00:00',\n",
       " '3299_08:01:32',\n",
       " '3289_08:02:42',\n",
       " '3282_08:04:00',\n",
       " '3296_08:04:55',\n",
       " '3297_08:05:39',\n",
       " '7761_08:06:39',\n",
       " '7762_08:07:39',\n",
       " '7763_08:08:38',\n",
       " '7764_08:10:43',\n",
       " '7324_08:11:14',\n",
       " '7360_08:12:52',\n",
       " '7361_08:14:30',\n",
       " '7362_08:16:00',\n",
       " '7363_08:17:48',\n",
       " '7364_08:20:00',\n",
       " '7365_08:22:08',\n",
       " '4555_08:27:00',\n",
       " '7365_08:31:08',\n",
       " '7428_08:40:16',\n",
       " '7352_08:43:52',\n",
       " '4560_08:58:33',\n",
       " '4547_09:06:02',\n",
       " '7365_09:11:08',\n",
       " '7428_09:22:16',\n",
       " '7772_09:29:00',\n",
       " '7428_09:37:20',\n",
       " '4547_09:40:56',\n",
       " '4547_09:44:50',\n",
       " '4555_09:47:13']"
      ]
     },
     "execution_count": 11,
     "metadata": {},
     "output_type": "execute_result"
    }
   ],
   "source": [
    "cand[4]"
   ]
  },
  {
   "cell_type": "code",
   "execution_count": 16,
   "metadata": {
    "collapsed": false
   },
   "outputs": [],
   "source": [
    "try:\n",
    "    path_length, path = nx.bidirectional_dijkstra(G_x, '3335_07:42:08', '4555_08:27:00', weight='duration')\n",
    "except nx.NetworkXNoPath:\n",
    "    print \"that ain't no path\""
   ]
  },
  {
   "cell_type": "code",
   "execution_count": 17,
   "metadata": {
    "collapsed": false
   },
   "outputs": [
    {
     "data": {
      "text/plain": [
       "2692"
      ]
     },
     "execution_count": 17,
     "metadata": {},
     "output_type": "execute_result"
    }
   ],
   "source": [
    "path_length"
   ]
  },
  {
   "cell_type": "code",
   "execution_count": 18,
   "metadata": {
    "collapsed": false
   },
   "outputs": [
    {
     "data": {
      "text/plain": [
       "['3335_07:42:08',\n",
       " '3336_07:46:47',\n",
       " '3329_07:48:01',\n",
       " '3326_07:49:00',\n",
       " '3341_07:49:56',\n",
       " '3345_07:51:00',\n",
       " '3323_07:52:13',\n",
       " '3331_07:53:17',\n",
       " '3334_07:54:23',\n",
       " '3349_07:55:27',\n",
       " '5553_07:57:00',\n",
       " '3292_07:58:40',\n",
       " '3293_08:00:00',\n",
       " '3299_08:01:32',\n",
       " '3289_08:02:42',\n",
       " '3282_08:04:00',\n",
       " '3296_08:04:55',\n",
       " '3297_08:05:39',\n",
       " '7761_08:06:39',\n",
       " '7762_08:07:39',\n",
       " '7763_08:08:38',\n",
       " '7764_08:10:43',\n",
       " '7324_08:11:14',\n",
       " '7360_08:12:52',\n",
       " '7361_08:14:30',\n",
       " '7362_08:16:00',\n",
       " '7363_08:17:48',\n",
       " '7364_08:20:00',\n",
       " '7365_08:22:08',\n",
       " '4555_08:27:00']"
      ]
     },
     "execution_count": 18,
     "metadata": {},
     "output_type": "execute_result"
    }
   ],
   "source": [
    "path"
   ]
  },
  {
   "cell_type": "code",
   "execution_count": 7,
   "metadata": {
    "collapsed": false,
    "scrolled": true
   },
   "outputs": [
    {
     "data": {
      "text/plain": [
       "['4555_05:28:00',\n",
       " '4555_05:28:48',\n",
       " '4555_05:48:00',\n",
       " '4555_05:48:48',\n",
       " '4555_06:09:00',\n",
       " '4555_06:29:00',\n",
       " '4555_06:49:00',\n",
       " '4555_07:04:00',\n",
       " '4555_07:09:00',\n",
       " '4555_07:19:00',\n",
       " '4555_07:29:00',\n",
       " '4555_07:34:13',\n",
       " '4555_07:47:00',\n",
       " '4555_07:49:13',\n",
       " '4555_08:04:13',\n",
       " '4555_08:07:00',\n",
       " '4555_08:18:13',\n",
       " '4555_08:27:00',\n",
       " '4555_08:33:13',\n",
       " '4555_08:47:00',\n",
       " '4555_08:48:13',\n",
       " '4555_09:02:13',\n",
       " '4555_09:07:00',\n",
       " '4555_09:17:13',\n",
       " '4555_09:27:00',\n",
       " '4555_09:32:13',\n",
       " '4555_09:47:00',\n",
       " '4555_09:47:13',\n",
       " '4555_10:02:13',\n",
       " '4555_10:06:00',\n",
       " '4555_10:17:13',\n",
       " '4555_10:21:00',\n",
       " '4555_10:32:13',\n",
       " '4555_10:36:00',\n",
       " '4555_10:47:13',\n",
       " '4555_10:51:00',\n",
       " '4555_11:02:13',\n",
       " '4555_11:06:00',\n",
       " '4555_11:17:13',\n",
       " '4555_11:21:00',\n",
       " '4555_11:32:13',\n",
       " '4555_11:36:00',\n",
       " '4555_11:47:13',\n",
       " '4555_11:51:00',\n",
       " '4555_12:02:13',\n",
       " '4555_12:06:00',\n",
       " '4555_12:17:13',\n",
       " '4555_12:21:13',\n",
       " '4555_12:32:13',\n",
       " '4555_12:36:13',\n",
       " '4555_12:47:13',\n",
       " '4555_12:51:13',\n",
       " '4555_13:02:13',\n",
       " '4555_13:06:13',\n",
       " '4555_13:17:13',\n",
       " '4555_13:21:13',\n",
       " '4555_13:32:13',\n",
       " '4555_13:36:13',\n",
       " '4555_13:47:13',\n",
       " '4555_13:51:13',\n",
       " '4555_14:02:13',\n",
       " '4555_14:06:13',\n",
       " '4555_14:17:13',\n",
       " '4555_14:21:13',\n",
       " '4555_14:32:13',\n",
       " '4555_14:36:13',\n",
       " '4555_14:46:13',\n",
       " '4555_14:51:13',\n",
       " '4555_15:01:13',\n",
       " '4555_15:06:13',\n",
       " '4555_15:16:13',\n",
       " '4555_15:21:13',\n",
       " '4555_15:31:13',\n",
       " '4555_15:36:13',\n",
       " '4555_15:46:13',\n",
       " '4555_15:51:13',\n",
       " '4555_16:01:13',\n",
       " '4555_16:06:13',\n",
       " '4555_16:16:13',\n",
       " '4555_16:21:13',\n",
       " '4555_16:31:13',\n",
       " '4555_16:36:00',\n",
       " '4555_16:46:13',\n",
       " '4555_16:51:00',\n",
       " '4555_17:01:13',\n",
       " '4555_17:06:00',\n",
       " '4555_17:16:13',\n",
       " '4555_17:21:00',\n",
       " '4555_17:31:13',\n",
       " '4555_17:36:00',\n",
       " '4555_17:46:13',\n",
       " '4555_17:51:00',\n",
       " '4555_18:01:13',\n",
       " '4555_18:06:00',\n",
       " '4555_18:16:13',\n",
       " '4555_18:21:00',\n",
       " '4555_18:31:00',\n",
       " '4555_18:36:00',\n",
       " '4555_18:46:00',\n",
       " '4555_18:51:00',\n",
       " '4555_19:01:00',\n",
       " '4555_19:06:00',\n",
       " '4555_19:16:00',\n",
       " '4555_19:22:00',\n",
       " '4555_19:31:00',\n",
       " '4555_19:42:00',\n",
       " '4555_19:46:00',\n",
       " '4555_20:02:00',\n",
       " '4555_20:22:00',\n",
       " '4555_20:42:00',\n",
       " '4555_21:02:00',\n",
       " '4555_21:22:00',\n",
       " '4555_21:42:00',\n",
       " '4555_22:02:00',\n",
       " '4555_22:22:00',\n",
       " '4555_22:52:00',\n",
       " '4555_23:22:00',\n",
       " '4555_23:52:00',\n",
       " '4555_24:22:00',\n",
       " '4555_24:52:00']"
      ]
     },
     "execution_count": 7,
     "metadata": {},
     "output_type": "execute_result"
    }
   ],
   "source": [
    "all_stop_timepoints[4555]"
   ]
  },
  {
   "cell_type": "code",
   "execution_count": 18,
   "metadata": {
    "collapsed": false
   },
   "outputs": [],
   "source": [
    "path_length, path = nx.bidirectional_dijkstra(G_x, '3335_07:42:08', '4555_08:27:00', weight='duration')"
   ]
  },
  {
   "cell_type": "code",
   "execution_count": 21,
   "metadata": {
    "collapsed": true
   },
   "outputs": [],
   "source": [
    "nx.bidirectional_dijkstra?"
   ]
  },
  {
   "cell_type": "code",
   "execution_count": 23,
   "metadata": {
    "collapsed": false
   },
   "outputs": [
    {
     "data": {
      "text/plain": [
       "['3335_07:42:08',\n",
       " '3336_07:46:47',\n",
       " '3329_07:48:01',\n",
       " '3326_07:49:00',\n",
       " '3341_07:49:56',\n",
       " '3345_07:51:00',\n",
       " '3323_07:52:13',\n",
       " '3331_07:53:17',\n",
       " '3334_07:54:23',\n",
       " '3349_07:55:27',\n",
       " '5553_07:57:00',\n",
       " '3292_07:58:40',\n",
       " '3293_08:00:00',\n",
       " '3299_08:01:32',\n",
       " '3289_08:02:42',\n",
       " '3282_08:04:00',\n",
       " '3296_08:04:55',\n",
       " '3297_08:05:39',\n",
       " '7761_08:06:39',\n",
       " '7762_08:07:39',\n",
       " '7763_08:08:38',\n",
       " '7764_08:10:43',\n",
       " '7324_08:11:14',\n",
       " '7360_08:12:52',\n",
       " '7361_08:14:30',\n",
       " '7362_08:16:00',\n",
       " '7363_08:17:48',\n",
       " '7364_08:20:00',\n",
       " '7365_08:22:08',\n",
       " '4555_08:27:00']"
      ]
     },
     "execution_count": 23,
     "metadata": {},
     "output_type": "execute_result"
    }
   ],
   "source": [
    "path"
   ]
  },
  {
   "cell_type": "code",
   "execution_count": 34,
   "metadata": {
    "collapsed": false
   },
   "outputs": [
    {
     "name": "stdout",
     "output_type": "stream",
     "text": [
      "07:42:08: walk(walk) to 18th St & Hattie St\n",
      "07:46:47: 33(1) to 18th St & Diamond St\n",
      "07:48:01: 33(1) to 18th St & Castro St\n",
      "07:49:00: 33(1) to 18th St & Noe St\n",
      "07:49:56: 33(1) to 18th St & Sanchez St\n",
      "07:51:00: 33(1) to 18th St & Church St\n",
      "07:52:13: 33(1) to 18th St & Dolores St\n",
      "07:53:17: 33(1) to 18th St & Guerrero St\n",
      "07:54:23: 33(1) to 18th St & Valencia St\n",
      "07:55:27: 33(1) to Mission St & 18th St\n",
      "07:57:00: 33(1) to 16th St & Mission St\n",
      "07:58:40: walk(walk) to 16th St & Mission St\n",
      "08:00:00: 55(3) to 16th St & Shotwell St\n",
      "08:01:32: 55(3) to 16th St & Harrison St\n",
      "08:02:42: 55(3) to 16th St & Bryant St\n",
      "08:04:00: 55(3) to 16th St & Potrero Ave\n",
      "08:04:55: 55(3) to 16th St & San Bruno Ave\n",
      "08:05:39: 55(3) to 16th St& Rhode Island St\n",
      "08:06:39: 55(3) to 16th St & Wisconsin St\n",
      "08:07:39: 55(3) to 16th St & Missouri St\n",
      "08:08:38: 55(3) to 16th St & 4th St\n",
      "08:10:43: 55(3) to 3rd St & Gene Friend Way\n",
      "08:11:14: walk(walk) to UCSF/Mission Bay\n",
      "08:12:52: KT(2) to Third Street & Mariposa St\n",
      "08:14:30: KT(2) to Third Street & 20th St\n",
      "08:16:00: KT(2) to Third Street & 23rd St\n",
      "08:17:48: KT(2) to Third Street & Marin St\n",
      "08:20:00: KT(2) to Third Street & Evans Ave\n",
      "08:22:08: walk(walk) to Evans Ave & Newhall St\n"
     ]
    }
   ],
   "source": [
    "simple_path = []\n",
    "last_step = 0\n",
    "for i in xrange(len(path) - 1):\n",
    "    route = G_x[path[i]][path[i+1]].get('route_id', 'walk')\n",
    "    serv = G_x[path[i]][path[i+1]].get('service_id', 'walk')\n",
    "    if route != 'walk':\n",
    "        route = routes.loc[route]['route_short_name']\n",
    "        #if route != last_step:\n",
    "    print '{0}: {1}({2}) to {3}'.\\\n",
    "                format(G_x.node[path[i]]['arrival_time'], \\\n",
    "                       route, serv, G_x.node[path[i+1]]['stop_name'])\n",
    "    last_step = route"
   ]
  },
  {
   "cell_type": "code",
   "execution_count": 33,
   "metadata": {
    "collapsed": false
   },
   "outputs": [
    {
     "data": {
      "text/html": [
       "<div>\n",
       "<table border=\"1\" class=\"dataframe\">\n",
       "  <thead>\n",
       "    <tr style=\"text-align: right;\">\n",
       "      <th></th>\n",
       "      <th>route_id</th>\n",
       "      <th>service_id</th>\n",
       "      <th>trip_headsign</th>\n",
       "      <th>direction_id</th>\n",
       "      <th>block_id</th>\n",
       "      <th>shape_id</th>\n",
       "    </tr>\n",
       "    <tr>\n",
       "      <th>trip_id</th>\n",
       "      <th></th>\n",
       "      <th></th>\n",
       "      <th></th>\n",
       "      <th></th>\n",
       "      <th></th>\n",
       "      <th></th>\n",
       "    </tr>\n",
       "  </thead>\n",
       "  <tbody>\n",
       "    <tr>\n",
       "      <th>6858659</th>\n",
       "      <td>11047</td>\n",
       "      <td>2</td>\n",
       "      <td>Geary + 33rd Avenue</td>\n",
       "      <td>0</td>\n",
       "      <td>115</td>\n",
       "      <td>135594</td>\n",
       "    </tr>\n",
       "    <tr>\n",
       "      <th>7048008</th>\n",
       "      <td>11047</td>\n",
       "      <td>1</td>\n",
       "      <td>Geary + 33rd Avenue</td>\n",
       "      <td>0</td>\n",
       "      <td>110</td>\n",
       "      <td>135595</td>\n",
       "    </tr>\n",
       "    <tr>\n",
       "      <th>7048006</th>\n",
       "      <td>11047</td>\n",
       "      <td>1</td>\n",
       "      <td>Geary + 33rd Avenue</td>\n",
       "      <td>0</td>\n",
       "      <td>116</td>\n",
       "      <td>135595</td>\n",
       "    </tr>\n",
       "    <tr>\n",
       "      <th>7048005</th>\n",
       "      <td>11047</td>\n",
       "      <td>1</td>\n",
       "      <td>Geary + 33rd Avenue</td>\n",
       "      <td>0</td>\n",
       "      <td>103</td>\n",
       "      <td>135595</td>\n",
       "    </tr>\n",
       "    <tr>\n",
       "      <th>7048004</th>\n",
       "      <td>11047</td>\n",
       "      <td>1</td>\n",
       "      <td>Geary + 33rd Avenue</td>\n",
       "      <td>0</td>\n",
       "      <td>113</td>\n",
       "      <td>135595</td>\n",
       "    </tr>\n",
       "  </tbody>\n",
       "</table>\n",
       "</div>"
      ],
      "text/plain": [
       "         route_id  service_id        trip_headsign  direction_id  block_id  \\\n",
       "trip_id                                                                      \n",
       "6858659     11047           2  Geary + 33rd Avenue             0       115   \n",
       "7048008     11047           1  Geary + 33rd Avenue             0       110   \n",
       "7048006     11047           1  Geary + 33rd Avenue             0       116   \n",
       "7048005     11047           1  Geary + 33rd Avenue             0       103   \n",
       "7048004     11047           1  Geary + 33rd Avenue             0       113   \n",
       "\n",
       "         shape_id  \n",
       "trip_id            \n",
       "6858659    135594  \n",
       "7048008    135595  \n",
       "7048006    135595  \n",
       "7048005    135595  \n",
       "7048004    135595  "
      ]
     },
     "execution_count": 33,
     "metadata": {},
     "output_type": "execute_result"
    }
   ],
   "source": [
    "trips.head()"
   ]
  },
  {
   "cell_type": "code",
   "execution_count": 36,
   "metadata": {
    "collapsed": true
   },
   "outputs": [],
   "source": [
    "nx.shortest_paths.bidirectional_dijkstra?"
   ]
  },
  {
   "cell_type": "code",
   "execution_count": null,
   "metadata": {
    "collapsed": true
   },
   "outputs": [],
   "source": []
  },
  {
   "cell_type": "code",
   "execution_count": null,
   "metadata": {
    "collapsed": true
   },
   "outputs": [],
   "source": []
  },
  {
   "cell_type": "code",
   "execution_count": null,
   "metadata": {
    "collapsed": true
   },
   "outputs": [],
   "source": []
  },
  {
   "cell_type": "code",
   "execution_count": 3,
   "metadata": {
    "collapsed": false
   },
   "outputs": [],
   "source": [
    "sat_edges = [(u, v, d) for u,v,d in G_x.edges_iter(data=True) if d.get('service_id', 0) == 2]"
   ]
  },
  {
   "cell_type": "code",
   "execution_count": 4,
   "metadata": {
    "collapsed": true
   },
   "outputs": [],
   "source": [
    "sun_edges = [(u, v, d) for u,v,d in G_x.edges_iter(data=True) if d.get('service_id', 0) == 3]"
   ]
  },
  {
   "cell_type": "code",
   "execution_count": 5,
   "metadata": {
    "collapsed": true
   },
   "outputs": [],
   "source": [
    "w_edges = [(u, v, d) for u,v,d in G_x.edges_iter(data=True) if d.get('service_id', 0) == 1]"
   ]
  },
  {
   "cell_type": "code",
   "execution_count": 6,
   "metadata": {
    "collapsed": false
   },
   "outputs": [
    {
     "data": {
      "text/plain": [
       "6474187"
      ]
     },
     "execution_count": 6,
     "metadata": {},
     "output_type": "execute_result"
    }
   ],
   "source": [
    "G_x.number_of_edges()"
   ]
  },
  {
   "cell_type": "code",
   "execution_count": 7,
   "metadata": {
    "collapsed": false
   },
   "outputs": [
    {
     "data": {
      "text/plain": [
       "198470"
      ]
     },
     "execution_count": 7,
     "metadata": {},
     "output_type": "execute_result"
    }
   ],
   "source": [
    "len(sat_edges)"
   ]
  },
  {
   "cell_type": "code",
   "execution_count": 8,
   "metadata": {
    "collapsed": false
   },
   "outputs": [
    {
     "data": {
      "text/plain": [
       "148775"
      ]
     },
     "execution_count": 8,
     "metadata": {},
     "output_type": "execute_result"
    }
   ],
   "source": [
    "len(sun_edges)"
   ]
  },
  {
   "cell_type": "code",
   "execution_count": 9,
   "metadata": {
    "collapsed": false
   },
   "outputs": [
    {
     "data": {
      "text/plain": [
       "401965"
      ]
     },
     "execution_count": 9,
     "metadata": {},
     "output_type": "execute_result"
    }
   ],
   "source": [
    "len(w_edges)"
   ]
  },
  {
   "cell_type": "code",
   "execution_count": 11,
   "metadata": {
    "collapsed": true
   },
   "outputs": [],
   "source": [
    "G_x.remove_edges_from(sat_edges)"
   ]
  },
  {
   "cell_type": "code",
   "execution_count": 12,
   "metadata": {
    "collapsed": true
   },
   "outputs": [],
   "source": [
    "G_x.remove_edges_from(sun_edges)"
   ]
  },
  {
   "cell_type": "code",
   "execution_count": 13,
   "metadata": {
    "collapsed": false
   },
   "outputs": [
    {
     "data": {
      "text/plain": [
       "6126942"
      ]
     },
     "execution_count": 13,
     "metadata": {},
     "output_type": "execute_result"
    }
   ],
   "source": [
    "G_x.number_of_edges()"
   ]
  },
  {
   "cell_type": "code",
   "execution_count": 46,
   "metadata": {
    "collapsed": false
   },
   "outputs": [],
   "source": [
    "path_length, path = nx.bidirectional_dijkstra(G_x, '3335_07:42:08', '4555_09:07:00', weight='duration')"
   ]
  },
  {
   "cell_type": "code",
   "execution_count": 47,
   "metadata": {
    "collapsed": false
   },
   "outputs": [
    {
     "name": "stdout",
     "output_type": "stream",
     "text": [
      "07:42:08: walk(walk) to Corbett Ave & Hattie St\n",
      "07:52:27: walk(walk) to Corbett Ave & Douglass St\n",
      "07:57:48: 37(3) to Market St & Castro St\n",
      "07:59:00: walk(walk) to Metro Castro Station/Downtown\n",
      "08:01:00: KT(3) to Metro Church Station/Downtown\n",
      "08:02:07: KT(3) to Metro Van Ness Station\n",
      "08:04:00: walk(walk) to Market St & Van Ness Ave\n",
      "08:06:00: walk(walk) to 11th St & Market St\n",
      "08:10:00: 9(2) to 11th St & Mission St\n",
      "08:10:47: 9(2) to 11th St & Howard St\n",
      "08:11:29: 9(2) to 11th St & Harrison St\n",
      "08:12:56: walk(walk) to Bryant St & Division St\n",
      "08:26:46: walk(walk) to Bryant St & Alameda St\n",
      "08:37:41: walk(walk) to Bryant St & Alameda St\n",
      "08:38:19: 27(2) to Bryant St & Division St\n",
      "08:38:57: 27(2) to Bryant St & 9th St\n",
      "08:40:04: walk(walk) to 8th St & Brannan St\n",
      "08:43:00: 19(2) to 8th St & Townsend St\n",
      "08:43:44: 19(2) to Division St & Rhode Island St\n",
      "08:44:03: 19(2) to Rhode Island St & Alameda St\n",
      "08:44:29: 19(2) to Rhode Island St & 15th St\n",
      "08:44:58: 19(2) to Rhode Island St & 16th St\n",
      "08:45:27: 19(2) to Rhode Island St & 17th St\n",
      "08:45:56: 19(2) to Rhode Island St & Mariposa St\n",
      "08:46:32: 19(2) to Rhode Island St & 18th St\n",
      "08:47:01: 19(2) to Rhode Island St & 19th St\n",
      "08:47:24: 19(2) to Rhode Island St & 20th St\n",
      "08:47:58: 19(2) to Rhode Island St & Southern Heights Ave\n",
      "08:48:19: 19(2) to Rhode Island St & 22nd St\n",
      "08:48:55: 19(2) to 176 Rhode Island St\n",
      "08:49:11: 19(2) to Rhode Island St & 23rd St\n",
      "08:50:00: 19(2) to Rhode Island St & 24th St\n",
      "08:50:20: 19(2) to Rhode Island St & 25th St\n",
      "08:50:47: 19(2) to Rhode Island St & 26th St\n",
      "08:51:16: 19(2) to 26th St & De Haro St\n",
      "08:51:38: 19(2) to Wisconsin St & 26th St\n",
      "08:52:12: 19(2) to 25th St & Wisconsin St\n",
      "08:52:34: 19(2) to 25th St & Connecticut St\n",
      "08:53:02: 19(2) to Connecticut St & 26th St\n",
      "08:53:26: 19(2) to Connecticut St & Cesar Chavez St\n",
      "08:54:00: 19(2) to Evans Ave & Cesar Chavez St\n",
      "08:54:40: 19(2) to Evans Ave & Napoleon St\n",
      "08:55:25: 19(2) to Evans Ave & Selby St\n",
      "08:56:24: 19(2) to Evans Ave & Quint St\n",
      "08:57:47: 19(2) to Evans Ave & Phelps St\n",
      "08:58:33: walk(walk) to Third Street & Evans Ave\n",
      "09:02:52: walk(walk) to Evans Ave & Newhall St\n"
     ]
    }
   ],
   "source": [
    "simple_path = []\n",
    "last_step = 0\n",
    "for i in xrange(len(path) - 1):\n",
    "    route = G_x[path[i]][path[i+1]].get('route_id', 'walk')\n",
    "    serv = G_x[path[i]][path[i+1]].get('service_id', 'walk')\n",
    "    if route != 'walk':\n",
    "        route = routes.loc[route]['route_short_name']\n",
    "        #if route != last_step:\n",
    "    print '{0}: {1}({2}) to {3}'.\\\n",
    "                format(G_x.node[path[i]]['arrival_time'], \\\n",
    "                       route, serv, G_x.node[path[i+1]]['stop_name'])\n",
    "    last_step = route"
   ]
  },
  {
   "cell_type": "code",
   "execution_count": 18,
   "metadata": {
    "collapsed": true
   },
   "outputs": [],
   "source": [
    "def get_closest_stop(lat, lon, stops):\n",
    "    dist = stops.apply(lambda x: haversine(x['stop_lon'], \\\n",
    "                        x['stop_lat'], lon, lat), axis=1)\n",
    "    return dist.argmin()"
   ]
  },
  {
   "cell_type": "code",
   "execution_count": 15,
   "metadata": {
    "collapsed": false
   },
   "outputs": [
    {
     "data": {
      "text/plain": [
       "stop_id\n",
       "390     9.679407\n",
       "913     7.446415\n",
       "3003    0.379653\n",
       "3004    0.354342\n",
       "3008    0.374988\n",
       "dtype: float64"
      ]
     },
     "execution_count": 15,
     "metadata": {},
     "output_type": "execute_result"
    }
   ],
   "source": [
    "dist = stops.apply(lambda x: haversine(x['stop_lon'], \\\n",
    "                        x['stop_lat'], -122.396262, 37.781954), axis=1)\n",
    "dist.head()"
   ]
  },
  {
   "cell_type": "code",
   "execution_count": 17,
   "metadata": {
    "collapsed": false
   },
   "outputs": [
    {
     "data": {
      "text/plain": [
       "3144"
      ]
     },
     "execution_count": 17,
     "metadata": {},
     "output_type": "execute_result"
    }
   ],
   "source": [
    "dist.argmin()"
   ]
  },
  {
   "cell_type": "code",
   "execution_count": 14,
   "metadata": {
    "collapsed": false
   },
   "outputs": [
    {
     "data": {
      "text/html": [
       "<div>\n",
       "<table border=\"1\" class=\"dataframe\">\n",
       "  <thead>\n",
       "    <tr style=\"text-align: right;\">\n",
       "      <th></th>\n",
       "      <th>stop_name</th>\n",
       "      <th>stop_desc</th>\n",
       "      <th>stop_lat</th>\n",
       "      <th>stop_lon</th>\n",
       "      <th>zone_id</th>\n",
       "      <th>stop_url</th>\n",
       "    </tr>\n",
       "    <tr>\n",
       "      <th>stop_id</th>\n",
       "      <th></th>\n",
       "      <th></th>\n",
       "      <th></th>\n",
       "      <th></th>\n",
       "      <th></th>\n",
       "      <th></th>\n",
       "    </tr>\n",
       "  </thead>\n",
       "  <tbody>\n",
       "    <tr>\n",
       "      <th>390</th>\n",
       "      <td>19th Avenue &amp; Holloway St</td>\n",
       "      <td></td>\n",
       "      <td>37.721190</td>\n",
       "      <td>-122.475096</td>\n",
       "      <td></td>\n",
       "      <td></td>\n",
       "    </tr>\n",
       "    <tr>\n",
       "      <th>913</th>\n",
       "      <td>DUBLIN ST &amp; LAGRANDE AVE</td>\n",
       "      <td></td>\n",
       "      <td>37.719192</td>\n",
       "      <td>-122.425802</td>\n",
       "      <td></td>\n",
       "      <td></td>\n",
       "    </tr>\n",
       "    <tr>\n",
       "      <th>3003</th>\n",
       "      <td>2nd St &amp; Brannan St</td>\n",
       "      <td></td>\n",
       "      <td>37.781827</td>\n",
       "      <td>-122.391945</td>\n",
       "      <td></td>\n",
       "      <td></td>\n",
       "    </tr>\n",
       "    <tr>\n",
       "      <th>3004</th>\n",
       "      <td>2nd St &amp; Brannan St</td>\n",
       "      <td></td>\n",
       "      <td>37.781854</td>\n",
       "      <td>-122.392232</td>\n",
       "      <td></td>\n",
       "      <td></td>\n",
       "    </tr>\n",
       "    <tr>\n",
       "      <th>3008</th>\n",
       "      <td>2nd St &amp; Folsom St</td>\n",
       "      <td></td>\n",
       "      <td>37.785318</td>\n",
       "      <td>-122.396562</td>\n",
       "      <td></td>\n",
       "      <td></td>\n",
       "    </tr>\n",
       "  </tbody>\n",
       "</table>\n",
       "</div>"
      ],
      "text/plain": [
       "                         stop_name stop_desc   stop_lat    stop_lon zone_id  \\\n",
       "stop_id                                                                       \n",
       "390      19th Avenue & Holloway St            37.721190 -122.475096           \n",
       "913       DUBLIN ST & LAGRANDE AVE            37.719192 -122.425802           \n",
       "3003           2nd St & Brannan St            37.781827 -122.391945           \n",
       "3004           2nd St & Brannan St            37.781854 -122.392232           \n",
       "3008            2nd St & Folsom St            37.785318 -122.396562           \n",
       "\n",
       "        stop_url  \n",
       "stop_id           \n",
       "390               \n",
       "913               \n",
       "3003              \n",
       "3004              \n",
       "3008              "
      ]
     },
     "execution_count": 14,
     "metadata": {},
     "output_type": "execute_result"
    }
   ],
   "source": [
    "stops.head()"
   ]
  },
  {
   "cell_type": "code",
   "execution_count": 19,
   "metadata": {
    "collapsed": false
   },
   "outputs": [
    {
     "data": {
      "text/plain": [
       "stop_name    3rd St & Perry St\n",
       "stop_desc                     \n",
       "stop_lat               37.7827\n",
       "stop_lon              -122.397\n",
       "zone_id                       \n",
       "stop_url                      \n",
       "Name: 3144, dtype: object"
      ]
     },
     "execution_count": 19,
     "metadata": {},
     "output_type": "execute_result"
    }
   ],
   "source": [
    "stops.loc[3144]"
   ]
  },
  {
   "cell_type": "code",
   "execution_count": null,
   "metadata": {
    "collapsed": true
   },
   "outputs": [],
   "source": []
  }
 ],
 "metadata": {
  "kernelspec": {
   "display_name": "Python 2",
   "language": "python",
   "name": "python2"
  },
  "language_info": {
   "codemirror_mode": {
    "name": "ipython",
    "version": 2
   },
   "file_extension": ".py",
   "mimetype": "text/x-python",
   "name": "python",
   "nbconvert_exporter": "python",
   "pygments_lexer": "ipython2",
   "version": "2.7.11"
  }
 },
 "nbformat": 4,
 "nbformat_minor": 0
}
