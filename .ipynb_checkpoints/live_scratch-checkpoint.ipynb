{
 "cells": [
  {
   "cell_type": "code",
   "execution_count": 2,
   "metadata": {
    "collapsed": true
   },
   "outputs": [],
   "source": [
    "import requests\n",
    "from bs4 import BeautifulSoup\n",
    "import json"
   ]
  },
  {
   "cell_type": "code",
   "execution_count": null,
   "metadata": {
    "collapsed": true
   },
   "outputs": [],
   "source": [
    "# Querying live position data\n",
    "live_url = 'http://webservices.nextbus.com/service/publicXMLFeed?command=vehicleLocations&a=sf-muni'\n",
    "response = requests.get(live_url)\n",
    "soup = BeautifulSoup(response.text, 'lxml')\n",
    "soup.findAll('vehicle')[0]['lat']\n"
   ]
  },
  {
   "cell_type": "code",
   "execution_count": 17,
   "metadata": {
    "collapsed": false
   },
   "outputs": [],
   "source": [
    "weather_url = 'http://www.ncdc.noaa.gov/homr/services/station/20002487?definitions=false'\n",
    "response = requests.get(weather_url)\n",
    "weather = json.loads(response.text)"
   ]
  },
  {
   "cell_type": "code",
   "execution_count": 25,
   "metadata": {
    "collapsed": false
   },
   "outputs": [
    {
     "data": {
      "text/plain": [
       "[u'stations']"
      ]
     },
     "execution_count": 25,
     "metadata": {},
     "output_type": "execute_result"
    }
   ],
   "source": [
    "weather['stationCollection'].keys()"
   ]
  },
  {
   "cell_type": "code",
   "execution_count": 26,
   "metadata": {
    "collapsed": false
   },
   "outputs": [
    {
     "data": {
      "text/plain": [
       "1"
      ]
     },
     "execution_count": 26,
     "metadata": {},
     "output_type": "execute_result"
    }
   ],
   "source": [
    "len(weather['stationCollection']['stations'])"
   ]
  },
  {
   "cell_type": "code",
   "execution_count": 27,
   "metadata": {
    "collapsed": false
   },
   "outputs": [
    {
     "data": {
      "text/plain": [
       "[u'elements',\n",
       " u'platforms',\n",
       " u'relocations',\n",
       " u'identifiers',\n",
       " u'ncdcStnId',\n",
       " u'header',\n",
       " u'location',\n",
       " u'remarks',\n",
       " u'updates',\n",
       " u'names']"
      ]
     },
     "execution_count": 27,
     "metadata": {},
     "output_type": "execute_result"
    }
   ],
   "source": [
    "weather['stationCollection']['stations'][0].keys()"
   ]
  },
  {
   "cell_type": "code",
   "execution_count": 30,
   "metadata": {
    "collapsed": false
   },
   "outputs": [
    {
     "data": {
      "text/plain": [
       "[{u'remark': u'CHANGE HPD REPORTING METHOD', u'type': u'NWS COOP INGEST'},\n",
       " {u'remark': u'CHANGE REPORTING METHOD TO F6 MAKING STATION PAPERLESS  UPDATED FOCAL POINT, UPDATE HPD REPORT METHOD',\n",
       "  u'type': u'NWS COOP INGEST'},\n",
       " {u'remark': u'UPDATED TO RETURN PROCESSING OF DATA FROM \"PAPERLESS\" TO \"PAPER\".  THIS REQUEST IS PER NCDC\\r\\n',\n",
       "  u'type': u'NWS COOP INGEST'},\n",
       " {u'remark': u'UPDATED/CORRECTED EXPOSURE. THIS HAS NOT BEEN A \"ROOFTOP\" EXPOSURE SINCE RELOCATION 01/26/2007. ALSO DELETE SECONDARY OBSERVER.',\n",
       "  u'type': u'NWS COOP INGEST'},\n",
       " {u'remark': u'UPDATING FOR PAPERLESS DATA COLLECTION SYSTEM DELETE DEW POINT TEMPERATURE\\r\\n',\n",
       "  u'type': u'NWS COOP INGEST'},\n",
       " {u'remark': u'STATION RELOCATION (0.4 MI EAST OF PREVIOUS SITE AND 25 FT LOWER) REQUIRED DUE TO BUILDING RECONSTRUCTION AT PREVIOUS SITE. NEW SITE AT GROUND LEVEL. \\r\\nCHANGE STATION BEGIN DATE BACK TO 08/14/1849',\n",
       "  u'type': u'NWS COOP INGEST'},\n",
       " {u'remark': u'HEIGHT OF TB ORIFICE AGL 14 FEET 2 INCHES',\n",
       "  u'type': u'HPD PRCP2 REMARK (COOP)'},\n",
       " {u'remark': u'TB. STATION TAKES CD PRCP WITH RRNG, CHECK FOR DUPLICATE STN_EQUIP',\n",
       "  u'type': u'HPD PRCP2 REMARK (COOP)'},\n",
       " {u'remark': u'CENTRAL COAST', u'type': u'RIVER BASIN (COOP NETWORK)'},\n",
       " {u'remark': u'EXPOSURE GOOD EXCEPT TALL BUILDINGS NNE SHIELDS WINDS SOMEWHAT FROM NE.',\n",
       "  u'type': u'GENERAL'}]"
      ]
     },
     "execution_count": 30,
     "metadata": {},
     "output_type": "execute_result"
    }
   ],
   "source": [
    "weather['stationCollection']['stations'][0]['remarks']"
   ]
  },
  {
   "cell_type": "code",
   "execution_count": null,
   "metadata": {
    "collapsed": true
   },
   "outputs": [],
   "source": []
  }
 ],
 "metadata": {
  "kernelspec": {
   "display_name": "Python 2",
   "language": "python",
   "name": "python2"
  },
  "language_info": {
   "codemirror_mode": {
    "name": "ipython",
    "version": 2
   },
   "file_extension": ".py",
   "mimetype": "text/x-python",
   "name": "python",
   "nbconvert_exporter": "python",
   "pygments_lexer": "ipython2",
   "version": "2.7.11"
  }
 },
 "nbformat": 4,
 "nbformat_minor": 0
}
