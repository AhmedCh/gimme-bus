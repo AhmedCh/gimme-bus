{
 "cells": [
  {
   "cell_type": "code",
   "execution_count": 3,
   "metadata": {
    "collapsed": true
   },
   "outputs": [],
   "source": [
    "import pandas as pd\n",
    "import numpy as np\n",
    "import networkx as nx\n",
    "import cPickle as pickle\n",
    "from model.utilities import haversine, diff_timestamps\n",
    "\n",
    "# Reading in static schedule data\n",
    "stops_full = pd.read_csv('data/google_transit/stops.txt', index_col='stop_id')\n",
    "routes = pd.read_csv('data/google_transit/routes.txt', index_col='route_id')\n",
    "trips = pd.read_csv('data/google_transit/trips.txt', index_col='trip_id')\n",
    "stop_times = pd.read_csv('data/google_transit/stop_times.txt')\n",
    "shapes = pd.read_csv('data/google_transit/shapes.txt')\n",
    "\n",
    "# Some of these stops are named \"Not a public stop\" but are still in trips.\n",
    "# Luckily, in the few trips they appear in, they're only either at the\n",
    "# beginning or the end, so we can remove them now and we'll still build\n",
    "# a nice graph with the connections we expect.\n",
    "stops = stops_full[~stops_full.index.isin([7520, 7530, 7531, 7540])]\n",
    "stop_times = stop_times[~stop_times['stop_id'].isin([7520, 7530, 7531, 7540])]\n",
    "\n",
    "# Oh and some stops are in stops.txt but not used in trips... let's remove 'em\n",
    "used_stops = set(stop_times['stop_id'].unique())\n",
    "stops = stops[stops.index.isin(used_stops)]\n",
    "\n",
    "# Let's make some sorted stop-timepoint lists for each stop_id to\n",
    "# make lookup faster for things\n",
    "all_stop_timepoints = {}\n",
    "for stopid in used_stops:\n",
    "    all_stop_timepoints[stopid] = sorted( list( set(stop_times[stop_times['stop_id'] == stopid].\\\n",
    "                                                    apply(lambda x: '{0}_{1}'.\\\n",
    "                                                          format(stopid, \\\n",
    "                                                                 x['arrival_time']), axis=1))))"
   ]
  },
  {
   "cell_type": "code",
   "execution_count": 2,
   "metadata": {
    "collapsed": true
   },
   "outputs": [],
   "source": [
    "G_x = nx.read_gpickle('graph_x_6.gpkl')"
   ]
  },
  {
   "cell_type": "code",
   "execution_count": 4,
   "metadata": {
    "collapsed": false
   },
   "outputs": [
    {
     "data": {
      "text/plain": [
       "{'3327_07:43:00': {'block_id': 3309,\n",
       "  'duration': 52,\n",
       "  'route_id': 11076,\n",
       "  'service_id': 1,\n",
       "  'shape_id': 135779,\n",
       "  'trip_id': 6887009,\n",
       "  'type': 'ride'},\n",
       " '3335_07:44:08': {'duration': 120, 'type': 'wait'},\n",
       " '3336_07:46:47': {'duration': 52.0, 'type': 'walk'},\n",
       " '4179_07:55:37': {'duration': 121.0, 'type': 'walk'},\n",
       " '4180_07:52:27': {'duration': 112.0, 'type': 'walk'},\n",
       " '4185_07:55:24': {'duration': 149.0, 'type': 'walk'}}"
      ]
     },
     "execution_count": 4,
     "metadata": {},
     "output_type": "execute_result"
    }
   ],
   "source": [
    "G_x['3335_07:42:08']"
   ]
  },
  {
   "cell_type": "code",
   "execution_count": 10,
   "metadata": {
    "collapsed": false
   },
   "outputs": [],
   "source": [
    "path_length, path = nx.bidirectional_dijkstra(G_x, '3335_07:42:08', '4555_09:47:13', weight='duration')"
   ]
  },
  {
   "cell_type": "code",
   "execution_count": 40,
   "metadata": {
    "collapsed": false
   },
   "outputs": [
    {
     "data": {
      "text/plain": [
       "35.366666666666667"
      ]
     },
     "execution_count": 40,
     "metadata": {},
     "output_type": "execute_result"
    }
   ],
   "source": [
    "path_length/60."
   ]
  },
  {
   "cell_type": "code",
   "execution_count": 31,
   "metadata": {
    "collapsed": false,
    "scrolled": false
   },
   "outputs": [
    {
     "data": {
      "text/plain": [
       "['3335_07:42:08',\n",
       " '3336_07:46:47',\n",
       " '3329_07:48:01',\n",
       " '3326_07:49:00',\n",
       " '4314_07:51:00',\n",
       " '3326_08:05:00',\n",
       " '4315_08:07:00',\n",
       " '4316_08:07:25',\n",
       " '4318_08:07:55',\n",
       " '4321_08:08:26',\n",
       " '4322_08:08:53',\n",
       " '4325_08:09:26',\n",
       " '4333_08:09:41',\n",
       " '4327_08:10:00',\n",
       " '4328_08:10:28',\n",
       " '7290_08:11:00',\n",
       " '3521_08:11:35',\n",
       " '5732_08:12:06',\n",
       " '5734_08:12:35',\n",
       " '5736_08:13:07',\n",
       " '5738_08:13:37',\n",
       " '3544_08:14:09',\n",
       " '3536_08:14:44',\n",
       " '3538_08:15:19',\n",
       " '3541_08:16:00',\n",
       " '4157_08:16:40',\n",
       " '4161_08:17:08',\n",
       " '4150_08:17:30',\n",
       " '4146_08:17:47',\n",
       " '4143_08:18:21',\n",
       " '4152_08:18:52',\n",
       " '4154_08:19:10',\n",
       " '4159_08:19:34',\n",
       " '7213_08:20:07',\n",
       " '4148_08:21:00',\n",
       " '5093_08:21:41',\n",
       " '5094_08:22:35',\n",
       " '5095_08:23:24',\n",
       " '5884_08:24:17',\n",
       " '5882_08:24:55',\n",
       " '5880_08:25:35',\n",
       " '5939_08:42:44',\n",
       " '5938_08:59:16',\n",
       " '5936_08:59:43',\n",
       " '5934_09:00:24',\n",
       " '5176_09:15:04',\n",
       " '3129_09:25:27',\n",
       " '7404_09:30:54',\n",
       " '7352_09:31:52',\n",
       " '4555_09:47:00',\n",
       " '4555_09:47:13']"
      ]
     },
     "execution_count": 31,
     "metadata": {},
     "output_type": "execute_result"
    }
   ],
   "source": [
    "path"
   ]
  },
  {
   "cell_type": "code",
   "execution_count": 19,
   "metadata": {
    "collapsed": false
   },
   "outputs": [
    {
     "data": {
      "text/plain": [
       "agency_id              SFMTA\n",
       "route_short_name          23\n",
       "route_long_name     MONTEREY\n",
       "route_desc                  \n",
       "route_type                 3\n",
       "route_url                   \n",
       "route_color                 \n",
       "route_text_color            \n",
       "Name: 11066, dtype: object"
      ]
     },
     "execution_count": 19,
     "metadata": {},
     "output_type": "execute_result"
    }
   ],
   "source": [
    "routes.loc[11066]"
   ]
  },
  {
   "cell_type": "code",
   "execution_count": 41,
   "metadata": {
    "collapsed": false,
    "scrolled": true
   },
   "outputs": [
    {
     "name": "stdout",
     "output_type": "stream",
     "text": [
      "07:46:47: 33 to 18th St & Diamond St\n",
      "07:48:01: 33 to 18th St & Castro St\n",
      "08:07:00: 24 to Castro St & 19th St\n",
      "08:07:25: 24 to Castro St & 20th St\n",
      "08:07:55: 24 to Castro St & 21st St\n",
      "08:08:26: 24 to Castro St & 22nd St\n",
      "08:08:53: 24 to Castro St & 23rd St\n",
      "08:09:26: 24 to Castro St & Elizabeth St\n",
      "08:09:41: 24 to Castro St & 24th St\n",
      "08:10:00: 24 to Castro St & 25th St\n",
      "08:10:28: 24 to Castro St & 26th St\n",
      "08:11:00: 24 to 26th St & Noe St\n",
      "08:11:35: 24 to Noe St & 27th St\n",
      "08:12:06: 24 to Noe St & 28th St\n",
      "08:12:35: 24 to Noe St & 29th St\n",
      "08:13:07: 24 to Noe St & 30th St\n",
      "08:13:37: 24 to 30th St & Sanchez St\n",
      "08:14:09: 24 to 30th St & Church St\n",
      "08:14:44: 24 to 30th St & Dolores St\n",
      "08:15:19: 24 to 30th St & Mission St\n",
      "08:16:00: 24 to Cortland Ave & Mission St\n",
      "08:16:40: 24 to Cortland Ave & Prospect Ave\n",
      "08:17:08: 24 to Cortland Ave & Elsie St\n",
      "08:17:30: 24 to Cortland Ave & Bocana St\n",
      "08:17:47: 24 to Cortland Ave & Andover St\n",
      "08:18:21: 24 to Cortland Ave & Ellsworth St\n",
      "08:18:52: 24 to Cortland Ave & Folsom St\n",
      "08:19:10: 24 to Cortland Ave & Prentiss St\n",
      "08:19:34: 24 to CORTLAND AVE & BRONTE ST\n",
      "08:20:07: 24 to Cortland Ave & Bayshore Blvd\n",
      "08:21:00: 24 to Industrial St & Bay Shore Blvd\n",
      "08:21:41: 24 to Industrial St & Elmira St\n",
      "08:22:35: 24 to Industrial St & Palou Ave\n",
      "08:23:24: 24 to Palou Ave & Rankin St\n",
      "08:24:17: 24 to Palou Ave & Quint St\n",
      "08:24:55: 24 to Palou Ave & Phelps St\n",
      "08:59:16: 23 to Phelps St & Mckinnon Ave\n",
      "08:59:43: 23 to Phelps St & Jerrold Ave\n",
      "09:30:54: KT to Third Street & Evans Ave\n"
     ]
    }
   ],
   "source": [
    "simple_path = []\n",
    "last_step = 0\n",
    "for i in xrange(len(path) - 1):\n",
    "    route = G_x[path[i]][path[i+1]].get('route_id', 'walk')\n",
    "    if route != 'walk':\n",
    "        route = routes.loc[route]['route_short_name']\n",
    "    #if route != last_step:\n",
    "        print '{0}: {1} to {2}'.\\\n",
    "                format(G_x.node[path[i]]['arrival_time'], \\\n",
    "                       route, G_x.node[path[i+1]]['stop_name'])\n",
    "    last_step = route"
   ]
  },
  {
   "cell_type": "code",
   "execution_count": 42,
   "metadata": {
    "collapsed": true
   },
   "outputs": [],
   "source": [
    "nx.dijkstra_path?"
   ]
  },
  {
   "cell_type": "code",
   "execution_count": 46,
   "metadata": {
    "collapsed": false
   },
   "outputs": [
    {
     "data": {
      "text/plain": [
       "186"
      ]
     },
     "execution_count": 46,
     "metadata": {},
     "output_type": "execute_result"
    }
   ],
   "source": [
    "len(all_stop_timepoints[5093])"
   ]
  },
  {
   "cell_type": "code",
   "execution_count": 51,
   "metadata": {
    "collapsed": false
   },
   "outputs": [
    {
     "name": "stdout",
     "output_type": "stream",
     "text": [
      "The slowest run took 12.99 times longer than the fastest. This could mean that an intermediate result is being cached \n",
      "10000000 loops, best of 3: 147 ns per loop\n"
     ]
    }
   ],
   "source": [
    "%timeit G_x.node['5880_08:25:35']['arrival_time']"
   ]
  },
  {
   "cell_type": "code",
   "execution_count": 52,
   "metadata": {
    "collapsed": false
   },
   "outputs": [
    {
     "name": "stdout",
     "output_type": "stream",
     "text": [
      "The slowest run took 16.62 times longer than the fastest. This could mean that an intermediate result is being cached \n",
      "1000000 loops, best of 3: 244 ns per loop\n"
     ]
    }
   ],
   "source": [
    "%timeit '5880_08:25:35'.split('_')[1]"
   ]
  },
  {
   "cell_type": "code",
   "execution_count": null,
   "metadata": {
    "collapsed": true
   },
   "outputs": [],
   "source": []
  }
 ],
 "metadata": {
  "kernelspec": {
   "display_name": "Python 2",
   "language": "python",
   "name": "python2"
  },
  "language_info": {
   "codemirror_mode": {
    "name": "ipython",
    "version": 2
   },
   "file_extension": ".py",
   "mimetype": "text/x-python",
   "name": "python",
   "nbconvert_exporter": "python",
   "pygments_lexer": "ipython2",
   "version": "2.7.11"
  }
 },
 "nbformat": 4,
 "nbformat_minor": 0
}
