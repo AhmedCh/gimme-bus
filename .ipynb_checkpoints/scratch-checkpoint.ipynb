{
 "cells": [
  {
   "cell_type": "code",
   "execution_count": 28,
   "metadata": {
    "collapsed": false
   },
   "outputs": [],
   "source": [
    "import pandas as pd\n",
    "import numpy as np\n",
    "import networkx as nx\n",
    "import requests\n",
    "from bs4 import BeautifulSoup"
   ]
  },
  {
   "cell_type": "code",
   "execution_count": 2,
   "metadata": {
    "collapsed": false
   },
   "outputs": [],
   "source": [
    "df = pd.read_csv('download', delim_whitespace=True, header=None)"
   ]
  },
  {
   "cell_type": "code",
   "execution_count": 3,
   "metadata": {
    "collapsed": false
   },
   "outputs": [],
   "source": [
    "with open('download') as f:\n",
    "    foo = f.readline()"
   ]
  },
  {
   "cell_type": "code",
   "execution_count": 4,
   "metadata": {
    "collapsed": false
   },
   "outputs": [
    {
     "data": {
      "text/html": [
       "<div>\n",
       "<table border=\"1\" class=\"dataframe\">\n",
       "  <thead>\n",
       "    <tr style=\"text-align: right;\">\n",
       "      <th></th>\n",
       "      <th>0</th>\n",
       "      <th>1</th>\n",
       "      <th>2</th>\n",
       "      <th>3</th>\n",
       "      <th>4</th>\n",
       "      <th>5</th>\n",
       "      <th>6</th>\n",
       "      <th>7</th>\n",
       "      <th>8</th>\n",
       "    </tr>\n",
       "  </thead>\n",
       "  <tbody>\n",
       "    <tr>\n",
       "      <th>0</th>\n",
       "      <td>-r--r--r--</td>\n",
       "      <td>1</td>\n",
       "      <td>ftp</td>\n",
       "      <td>ftp</td>\n",
       "      <td>2038334</td>\n",
       "      <td>Jul</td>\n",
       "      <td>30</td>\n",
       "      <td>2013</td>\n",
       "      <td>lookUpBlockIDToBlockNumNam.csv</td>\n",
       "    </tr>\n",
       "    <tr>\n",
       "      <th>1</th>\n",
       "      <td>-r--r--r--</td>\n",
       "      <td>1</td>\n",
       "      <td>ftp</td>\n",
       "      <td>ftp</td>\n",
       "      <td>548</td>\n",
       "      <td>Jul</td>\n",
       "      <td>30</td>\n",
       "      <td>2013</td>\n",
       "      <td>lookUpSignUpPeriods.csv</td>\n",
       "    </tr>\n",
       "    <tr>\n",
       "      <th>2</th>\n",
       "      <td>-r--r--r--</td>\n",
       "      <td>1</td>\n",
       "      <td>ftp</td>\n",
       "      <td>ftp</td>\n",
       "      <td>4700</td>\n",
       "      <td>Mar</td>\n",
       "      <td>14</td>\n",
       "      <td>2013</td>\n",
       "      <td>read_me.txt</td>\n",
       "    </tr>\n",
       "    <tr>\n",
       "      <th>3</th>\n",
       "      <td>-r--r--r--</td>\n",
       "      <td>1</td>\n",
       "      <td>ftp</td>\n",
       "      <td>ftp</td>\n",
       "      <td>13719074</td>\n",
       "      <td>Jul</td>\n",
       "      <td>30</td>\n",
       "      <td>2013</td>\n",
       "      <td>sfmtaAVL04042012_04112012.zip</td>\n",
       "    </tr>\n",
       "    <tr>\n",
       "      <th>4</th>\n",
       "      <td>-r--r--r--</td>\n",
       "      <td>1</td>\n",
       "      <td>ftp</td>\n",
       "      <td>ftp</td>\n",
       "      <td>59119742</td>\n",
       "      <td>Jan</td>\n",
       "      <td>2</td>\n",
       "      <td>2013</td>\n",
       "      <td>sfmtaAVLRawData01012013.csv</td>\n",
       "    </tr>\n",
       "  </tbody>\n",
       "</table>\n",
       "</div>"
      ],
      "text/plain": [
       "            0  1    2    3         4    5   6     7  \\\n",
       "0  -r--r--r--  1  ftp  ftp   2038334  Jul  30  2013   \n",
       "1  -r--r--r--  1  ftp  ftp       548  Jul  30  2013   \n",
       "2  -r--r--r--  1  ftp  ftp      4700  Mar  14  2013   \n",
       "3  -r--r--r--  1  ftp  ftp  13719074  Jul  30  2013   \n",
       "4  -r--r--r--  1  ftp  ftp  59119742  Jan   2  2013   \n",
       "\n",
       "                                8  \n",
       "0  lookUpBlockIDToBlockNumNam.csv  \n",
       "1         lookUpSignUpPeriods.csv  \n",
       "2                     read_me.txt  \n",
       "3   sfmtaAVL04042012_04112012.zip  \n",
       "4     sfmtaAVLRawData01012013.csv  "
      ]
     },
     "execution_count": 4,
     "metadata": {},
     "output_type": "execute_result"
    }
   ],
   "source": [
    "df.head()"
   ]
  },
  {
   "cell_type": "code",
   "execution_count": 5,
   "metadata": {
    "collapsed": false
   },
   "outputs": [
    {
     "data": {
      "text/plain": [
       "76.71441589575261"
      ]
     },
     "execution_count": 5,
     "metadata": {},
     "output_type": "execute_result"
    }
   ],
   "source": [
    "1.*df[4].sum()/(2**30)"
   ]
  },
  {
   "cell_type": "code",
   "execution_count": 6,
   "metadata": {
    "collapsed": false
   },
   "outputs": [
    {
     "data": {
      "text/plain": [
       "1.9439067840576172"
      ]
     },
     "execution_count": 6,
     "metadata": {},
     "output_type": "execute_result"
    }
   ],
   "source": [
    "2038334./(2**20)"
   ]
  },
  {
   "cell_type": "code",
   "execution_count": 7,
   "metadata": {
    "collapsed": false
   },
   "outputs": [],
   "source": [
    "stops = pd.read_csv('data/google_transit/stops.txt')"
   ]
  },
  {
   "cell_type": "code",
   "execution_count": 8,
   "metadata": {
    "collapsed": false
   },
   "outputs": [
    {
     "name": "stdout",
     "output_type": "stream",
     "text": [
      "<class 'pandas.core.frame.DataFrame'>\n",
      "RangeIndex: 4627 entries, 0 to 4626\n",
      "Data columns (total 7 columns):\n",
      "stop_id      4627 non-null int64\n",
      "stop_name    4627 non-null object\n",
      "stop_desc    4627 non-null object\n",
      "stop_lat     4627 non-null float64\n",
      "stop_lon     4627 non-null float64\n",
      "zone_id      4627 non-null object\n",
      "stop_url     4627 non-null object\n",
      "dtypes: float64(2), int64(1), object(4)\n",
      "memory usage: 253.1+ KB\n"
     ]
    }
   ],
   "source": [
    "stops.info()"
   ]
  },
  {
   "cell_type": "code",
   "execution_count": 9,
   "metadata": {
    "collapsed": false
   },
   "outputs": [
    {
     "data": {
      "text/html": [
       "<div>\n",
       "<table border=\"1\" class=\"dataframe\">\n",
       "  <thead>\n",
       "    <tr style=\"text-align: right;\">\n",
       "      <th></th>\n",
       "      <th>stop_id</th>\n",
       "      <th>stop_name</th>\n",
       "      <th>stop_desc</th>\n",
       "      <th>stop_lat</th>\n",
       "      <th>stop_lon</th>\n",
       "      <th>zone_id</th>\n",
       "      <th>stop_url</th>\n",
       "    </tr>\n",
       "  </thead>\n",
       "  <tbody>\n",
       "    <tr>\n",
       "      <th>0</th>\n",
       "      <td>98</td>\n",
       "      <td>2ND ST &amp; MARKET ST</td>\n",
       "      <td></td>\n",
       "      <td>37.789255</td>\n",
       "      <td>-122.401225</td>\n",
       "      <td></td>\n",
       "      <td></td>\n",
       "    </tr>\n",
       "    <tr>\n",
       "      <th>1</th>\n",
       "      <td>100</td>\n",
       "      <td>STEUART ST &amp; FRANCISCO ST</td>\n",
       "      <td></td>\n",
       "      <td>37.794463</td>\n",
       "      <td>-122.394607</td>\n",
       "      <td></td>\n",
       "      <td></td>\n",
       "    </tr>\n",
       "    <tr>\n",
       "      <th>2</th>\n",
       "      <td>202</td>\n",
       "      <td>COLUMBUS AVE &amp; Pacific Ave</td>\n",
       "      <td></td>\n",
       "      <td>37.797055</td>\n",
       "      <td>-122.405669</td>\n",
       "      <td></td>\n",
       "      <td></td>\n",
       "    </tr>\n",
       "    <tr>\n",
       "      <th>3</th>\n",
       "      <td>210</td>\n",
       "      <td>LINCOLN WAY &amp;  19TH AVE</td>\n",
       "      <td></td>\n",
       "      <td>37.765375</td>\n",
       "      <td>-122.477197</td>\n",
       "      <td></td>\n",
       "      <td></td>\n",
       "    </tr>\n",
       "    <tr>\n",
       "      <th>4</th>\n",
       "      <td>383</td>\n",
       "      <td>19TH AVE &amp;  LINCOLN WAY</td>\n",
       "      <td></td>\n",
       "      <td>37.765375</td>\n",
       "      <td>-122.477197</td>\n",
       "      <td></td>\n",
       "      <td></td>\n",
       "    </tr>\n",
       "  </tbody>\n",
       "</table>\n",
       "</div>"
      ],
      "text/plain": [
       "   stop_id                   stop_name stop_desc   stop_lat    stop_lon  \\\n",
       "0       98          2ND ST & MARKET ST            37.789255 -122.401225   \n",
       "1      100   STEUART ST & FRANCISCO ST            37.794463 -122.394607   \n",
       "2      202  COLUMBUS AVE & Pacific Ave            37.797055 -122.405669   \n",
       "3      210     LINCOLN WAY &  19TH AVE            37.765375 -122.477197   \n",
       "4      383     19TH AVE &  LINCOLN WAY            37.765375 -122.477197   \n",
       "\n",
       "  zone_id stop_url  \n",
       "0                   \n",
       "1                   \n",
       "2                   \n",
       "3                   \n",
       "4                   "
      ]
     },
     "execution_count": 9,
     "metadata": {},
     "output_type": "execute_result"
    }
   ],
   "source": [
    "stops.head()"
   ]
  },
  {
   "cell_type": "code",
   "execution_count": 10,
   "metadata": {
    "collapsed": true
   },
   "outputs": [],
   "source": [
    "routes = pd.read_csv('data/google_transit/routes.txt')"
   ]
  },
  {
   "cell_type": "code",
   "execution_count": 11,
   "metadata": {
    "collapsed": false
   },
   "outputs": [
    {
     "data": {
      "text/html": [
       "<div>\n",
       "<table border=\"1\" class=\"dataframe\">\n",
       "  <thead>\n",
       "    <tr style=\"text-align: right;\">\n",
       "      <th></th>\n",
       "      <th>route_id</th>\n",
       "      <th>agency_id</th>\n",
       "      <th>route_short_name</th>\n",
       "      <th>route_long_name</th>\n",
       "      <th>route_desc</th>\n",
       "      <th>route_type</th>\n",
       "      <th>route_url</th>\n",
       "      <th>route_color</th>\n",
       "      <th>route_text_color</th>\n",
       "    </tr>\n",
       "  </thead>\n",
       "  <tbody>\n",
       "    <tr>\n",
       "      <th>0</th>\n",
       "      <td>11047</td>\n",
       "      <td>SFMTA</td>\n",
       "      <td>1</td>\n",
       "      <td>CALIFORNIA</td>\n",
       "      <td></td>\n",
       "      <td>3</td>\n",
       "      <td></td>\n",
       "      <td></td>\n",
       "      <td></td>\n",
       "    </tr>\n",
       "    <tr>\n",
       "      <th>1</th>\n",
       "      <td>1033</td>\n",
       "      <td>SFMTA</td>\n",
       "      <td>1AX</td>\n",
       "      <td>CALIFORNIA A EXPRESS</td>\n",
       "      <td></td>\n",
       "      <td>3</td>\n",
       "      <td></td>\n",
       "      <td></td>\n",
       "      <td></td>\n",
       "    </tr>\n",
       "    <tr>\n",
       "      <th>2</th>\n",
       "      <td>1034</td>\n",
       "      <td>SFMTA</td>\n",
       "      <td>1BX</td>\n",
       "      <td>CALIFORNIA B EXPRESS</td>\n",
       "      <td></td>\n",
       "      <td>3</td>\n",
       "      <td></td>\n",
       "      <td></td>\n",
       "      <td></td>\n",
       "    </tr>\n",
       "    <tr>\n",
       "      <th>3</th>\n",
       "      <td>1031</td>\n",
       "      <td>SFMTA</td>\n",
       "      <td>31AX</td>\n",
       "      <td>BALBOA A EXPRESS</td>\n",
       "      <td></td>\n",
       "      <td>3</td>\n",
       "      <td></td>\n",
       "      <td></td>\n",
       "      <td></td>\n",
       "    </tr>\n",
       "    <tr>\n",
       "      <th>4</th>\n",
       "      <td>1032</td>\n",
       "      <td>SFMTA</td>\n",
       "      <td>31BX</td>\n",
       "      <td>BALBOA B EXPRESS</td>\n",
       "      <td></td>\n",
       "      <td>3</td>\n",
       "      <td></td>\n",
       "      <td></td>\n",
       "      <td></td>\n",
       "    </tr>\n",
       "  </tbody>\n",
       "</table>\n",
       "</div>"
      ],
      "text/plain": [
       "   route_id agency_id route_short_name       route_long_name route_desc  \\\n",
       "0     11047     SFMTA                1            CALIFORNIA              \n",
       "1      1033     SFMTA              1AX  CALIFORNIA A EXPRESS              \n",
       "2      1034     SFMTA              1BX  CALIFORNIA B EXPRESS              \n",
       "3      1031     SFMTA             31AX      BALBOA A EXPRESS              \n",
       "4      1032     SFMTA             31BX      BALBOA B EXPRESS              \n",
       "\n",
       "   route_type route_url route_color route_text_color  \n",
       "0           3                                         \n",
       "1           3                                         \n",
       "2           3                                         \n",
       "3           3                                         \n",
       "4           3                                         "
      ]
     },
     "execution_count": 11,
     "metadata": {},
     "output_type": "execute_result"
    }
   ],
   "source": [
    "routes.head()"
   ]
  },
  {
   "cell_type": "code",
   "execution_count": 12,
   "metadata": {
    "collapsed": true
   },
   "outputs": [],
   "source": [
    "trips = pd.read_csv('data/google_transit/trips.txt')"
   ]
  },
  {
   "cell_type": "code",
   "execution_count": 13,
   "metadata": {
    "collapsed": false
   },
   "outputs": [
    {
     "data": {
      "text/html": [
       "<div>\n",
       "<table border=\"1\" class=\"dataframe\">\n",
       "  <thead>\n",
       "    <tr style=\"text-align: right;\">\n",
       "      <th></th>\n",
       "      <th>route_id</th>\n",
       "      <th>service_id</th>\n",
       "      <th>trip_id</th>\n",
       "      <th>trip_headsign</th>\n",
       "      <th>direction_id</th>\n",
       "      <th>block_id</th>\n",
       "      <th>shape_id</th>\n",
       "    </tr>\n",
       "  </thead>\n",
       "  <tbody>\n",
       "    <tr>\n",
       "      <th>0</th>\n",
       "      <td>11047</td>\n",
       "      <td>2</td>\n",
       "      <td>6858659</td>\n",
       "      <td>Geary + 33rd Avenue</td>\n",
       "      <td>0</td>\n",
       "      <td>115</td>\n",
       "      <td>135594</td>\n",
       "    </tr>\n",
       "    <tr>\n",
       "      <th>1</th>\n",
       "      <td>11047</td>\n",
       "      <td>1</td>\n",
       "      <td>7048008</td>\n",
       "      <td>Geary + 33rd Avenue</td>\n",
       "      <td>0</td>\n",
       "      <td>110</td>\n",
       "      <td>135595</td>\n",
       "    </tr>\n",
       "    <tr>\n",
       "      <th>2</th>\n",
       "      <td>11047</td>\n",
       "      <td>1</td>\n",
       "      <td>7048006</td>\n",
       "      <td>Geary + 33rd Avenue</td>\n",
       "      <td>0</td>\n",
       "      <td>116</td>\n",
       "      <td>135595</td>\n",
       "    </tr>\n",
       "    <tr>\n",
       "      <th>3</th>\n",
       "      <td>11047</td>\n",
       "      <td>1</td>\n",
       "      <td>7048005</td>\n",
       "      <td>Geary + 33rd Avenue</td>\n",
       "      <td>0</td>\n",
       "      <td>103</td>\n",
       "      <td>135595</td>\n",
       "    </tr>\n",
       "    <tr>\n",
       "      <th>4</th>\n",
       "      <td>11047</td>\n",
       "      <td>1</td>\n",
       "      <td>7048004</td>\n",
       "      <td>Geary + 33rd Avenue</td>\n",
       "      <td>0</td>\n",
       "      <td>113</td>\n",
       "      <td>135595</td>\n",
       "    </tr>\n",
       "  </tbody>\n",
       "</table>\n",
       "</div>"
      ],
      "text/plain": [
       "   route_id  service_id  trip_id        trip_headsign  direction_id  block_id  \\\n",
       "0     11047           2  6858659  Geary + 33rd Avenue             0       115   \n",
       "1     11047           1  7048008  Geary + 33rd Avenue             0       110   \n",
       "2     11047           1  7048006  Geary + 33rd Avenue             0       116   \n",
       "3     11047           1  7048005  Geary + 33rd Avenue             0       103   \n",
       "4     11047           1  7048004  Geary + 33rd Avenue             0       113   \n",
       "\n",
       "   shape_id  \n",
       "0    135594  \n",
       "1    135595  \n",
       "2    135595  \n",
       "3    135595  \n",
       "4    135595  "
      ]
     },
     "execution_count": 13,
     "metadata": {},
     "output_type": "execute_result"
    }
   ],
   "source": [
    "trips.head()"
   ]
  },
  {
   "cell_type": "code",
   "execution_count": 14,
   "metadata": {
    "collapsed": false
   },
   "outputs": [
    {
     "name": "stdout",
     "output_type": "stream",
     "text": [
      "<class 'pandas.core.frame.DataFrame'>\n",
      "RangeIndex: 29087 entries, 0 to 29086\n",
      "Data columns (total 7 columns):\n",
      "route_id         29087 non-null int64\n",
      "service_id       29087 non-null int64\n",
      "trip_id          29087 non-null int64\n",
      "trip_headsign    29071 non-null object\n",
      "direction_id     29087 non-null int64\n",
      "block_id         29087 non-null int64\n",
      "shape_id         29087 non-null int64\n",
      "dtypes: int64(6), object(1)\n",
      "memory usage: 1.6+ MB\n"
     ]
    }
   ],
   "source": [
    "trips.info()"
   ]
  },
  {
   "cell_type": "code",
   "execution_count": 15,
   "metadata": {
    "collapsed": false
   },
   "outputs": [
    {
     "data": {
      "text/plain": [
       "29087"
      ]
     },
     "execution_count": 15,
     "metadata": {},
     "output_type": "execute_result"
    }
   ],
   "source": [
    "len(trips['trip_id'].unique())"
   ]
  },
  {
   "cell_type": "code",
   "execution_count": 16,
   "metadata": {
    "collapsed": true
   },
   "outputs": [],
   "source": [
    "stop_times = pd.read_csv('data/google_transit/stop_times.txt')"
   ]
  },
  {
   "cell_type": "code",
   "execution_count": 176,
   "metadata": {
    "collapsed": false
   },
   "outputs": [
    {
     "data": {
      "text/html": [
       "<div>\n",
       "<table border=\"1\" class=\"dataframe\">\n",
       "  <thead>\n",
       "    <tr style=\"text-align: right;\">\n",
       "      <th></th>\n",
       "      <th>trip_id</th>\n",
       "      <th>arrival_time</th>\n",
       "      <th>departure_time</th>\n",
       "      <th>stop_id</th>\n",
       "      <th>stop_sequence</th>\n",
       "      <th>stop_headsign</th>\n",
       "      <th>pickup_type</th>\n",
       "      <th>drop_off_type</th>\n",
       "      <th>shape_dist_traveled</th>\n",
       "    </tr>\n",
       "  </thead>\n",
       "  <tbody>\n",
       "    <tr>\n",
       "      <th>0</th>\n",
       "      <td>6858631</td>\n",
       "      <td>26:00:00</td>\n",
       "      <td>26:00:00</td>\n",
       "      <td>4015</td>\n",
       "      <td>1</td>\n",
       "      <td></td>\n",
       "      <td></td>\n",
       "      <td></td>\n",
       "      <td></td>\n",
       "    </tr>\n",
       "    <tr>\n",
       "      <th>1</th>\n",
       "      <td>6858631</td>\n",
       "      <td>26:00:45</td>\n",
       "      <td>26:00:45</td>\n",
       "      <td>6294</td>\n",
       "      <td>2</td>\n",
       "      <td></td>\n",
       "      <td></td>\n",
       "      <td></td>\n",
       "      <td></td>\n",
       "    </tr>\n",
       "    <tr>\n",
       "      <th>2</th>\n",
       "      <td>6858631</td>\n",
       "      <td>26:01:33</td>\n",
       "      <td>26:01:33</td>\n",
       "      <td>6290</td>\n",
       "      <td>3</td>\n",
       "      <td></td>\n",
       "      <td></td>\n",
       "      <td></td>\n",
       "      <td></td>\n",
       "    </tr>\n",
       "    <tr>\n",
       "      <th>3</th>\n",
       "      <td>6858631</td>\n",
       "      <td>26:02:00</td>\n",
       "      <td>26:02:00</td>\n",
       "      <td>6314</td>\n",
       "      <td>4</td>\n",
       "      <td></td>\n",
       "      <td></td>\n",
       "      <td></td>\n",
       "      <td></td>\n",
       "    </tr>\n",
       "    <tr>\n",
       "      <th>4</th>\n",
       "      <td>6858631</td>\n",
       "      <td>26:02:35</td>\n",
       "      <td>26:02:35</td>\n",
       "      <td>6307</td>\n",
       "      <td>5</td>\n",
       "      <td></td>\n",
       "      <td></td>\n",
       "      <td></td>\n",
       "      <td></td>\n",
       "    </tr>\n",
       "    <tr>\n",
       "      <th>5</th>\n",
       "      <td>6858631</td>\n",
       "      <td>26:03:17</td>\n",
       "      <td>26:03:17</td>\n",
       "      <td>6302</td>\n",
       "      <td>6</td>\n",
       "      <td></td>\n",
       "      <td></td>\n",
       "      <td></td>\n",
       "      <td></td>\n",
       "    </tr>\n",
       "    <tr>\n",
       "      <th>6</th>\n",
       "      <td>6858631</td>\n",
       "      <td>26:03:51</td>\n",
       "      <td>26:03:51</td>\n",
       "      <td>6299</td>\n",
       "      <td>7</td>\n",
       "      <td></td>\n",
       "      <td></td>\n",
       "      <td></td>\n",
       "      <td></td>\n",
       "    </tr>\n",
       "    <tr>\n",
       "      <th>7</th>\n",
       "      <td>6858631</td>\n",
       "      <td>26:04:21</td>\n",
       "      <td>26:04:21</td>\n",
       "      <td>6316</td>\n",
       "      <td>8</td>\n",
       "      <td></td>\n",
       "      <td></td>\n",
       "      <td></td>\n",
       "      <td></td>\n",
       "    </tr>\n",
       "    <tr>\n",
       "      <th>8</th>\n",
       "      <td>6858631</td>\n",
       "      <td>26:05:00</td>\n",
       "      <td>26:05:00</td>\n",
       "      <td>6312</td>\n",
       "      <td>9</td>\n",
       "      <td></td>\n",
       "      <td></td>\n",
       "      <td></td>\n",
       "      <td></td>\n",
       "    </tr>\n",
       "    <tr>\n",
       "      <th>9</th>\n",
       "      <td>6858631</td>\n",
       "      <td>26:05:54</td>\n",
       "      <td>26:05:54</td>\n",
       "      <td>6315</td>\n",
       "      <td>10</td>\n",
       "      <td></td>\n",
       "      <td></td>\n",
       "      <td></td>\n",
       "      <td></td>\n",
       "    </tr>\n",
       "    <tr>\n",
       "      <th>10</th>\n",
       "      <td>6858631</td>\n",
       "      <td>26:06:39</td>\n",
       "      <td>26:06:39</td>\n",
       "      <td>6301</td>\n",
       "      <td>11</td>\n",
       "      <td></td>\n",
       "      <td></td>\n",
       "      <td></td>\n",
       "      <td></td>\n",
       "    </tr>\n",
       "    <tr>\n",
       "      <th>11</th>\n",
       "      <td>6858631</td>\n",
       "      <td>26:07:10</td>\n",
       "      <td>26:07:10</td>\n",
       "      <td>6304</td>\n",
       "      <td>12</td>\n",
       "      <td></td>\n",
       "      <td></td>\n",
       "      <td></td>\n",
       "      <td></td>\n",
       "    </tr>\n",
       "    <tr>\n",
       "      <th>12</th>\n",
       "      <td>6858631</td>\n",
       "      <td>26:07:43</td>\n",
       "      <td>26:07:43</td>\n",
       "      <td>6300</td>\n",
       "      <td>13</td>\n",
       "      <td></td>\n",
       "      <td></td>\n",
       "      <td></td>\n",
       "      <td></td>\n",
       "    </tr>\n",
       "    <tr>\n",
       "      <th>13</th>\n",
       "      <td>6858631</td>\n",
       "      <td>26:08:24</td>\n",
       "      <td>26:08:24</td>\n",
       "      <td>6303</td>\n",
       "      <td>14</td>\n",
       "      <td></td>\n",
       "      <td></td>\n",
       "      <td></td>\n",
       "      <td></td>\n",
       "    </tr>\n",
       "    <tr>\n",
       "      <th>14</th>\n",
       "      <td>6858631</td>\n",
       "      <td>26:09:00</td>\n",
       "      <td>26:09:00</td>\n",
       "      <td>6311</td>\n",
       "      <td>15</td>\n",
       "      <td></td>\n",
       "      <td></td>\n",
       "      <td></td>\n",
       "      <td></td>\n",
       "    </tr>\n",
       "    <tr>\n",
       "      <th>15</th>\n",
       "      <td>6858631</td>\n",
       "      <td>26:09:20</td>\n",
       "      <td>26:09:20</td>\n",
       "      <td>6317</td>\n",
       "      <td>16</td>\n",
       "      <td></td>\n",
       "      <td></td>\n",
       "      <td></td>\n",
       "      <td></td>\n",
       "    </tr>\n",
       "    <tr>\n",
       "      <th>16</th>\n",
       "      <td>6858631</td>\n",
       "      <td>26:09:51</td>\n",
       "      <td>26:09:51</td>\n",
       "      <td>6297</td>\n",
       "      <td>17</td>\n",
       "      <td></td>\n",
       "      <td></td>\n",
       "      <td></td>\n",
       "      <td></td>\n",
       "    </tr>\n",
       "    <tr>\n",
       "      <th>17</th>\n",
       "      <td>6858631</td>\n",
       "      <td>26:10:29</td>\n",
       "      <td>26:10:29</td>\n",
       "      <td>6298</td>\n",
       "      <td>18</td>\n",
       "      <td></td>\n",
       "      <td></td>\n",
       "      <td></td>\n",
       "      <td></td>\n",
       "    </tr>\n",
       "    <tr>\n",
       "      <th>18</th>\n",
       "      <td>6858631</td>\n",
       "      <td>26:10:53</td>\n",
       "      <td>26:10:53</td>\n",
       "      <td>6309</td>\n",
       "      <td>19</td>\n",
       "      <td></td>\n",
       "      <td></td>\n",
       "      <td></td>\n",
       "      <td></td>\n",
       "    </tr>\n",
       "    <tr>\n",
       "      <th>19</th>\n",
       "      <td>6858631</td>\n",
       "      <td>26:11:19</td>\n",
       "      <td>26:11:19</td>\n",
       "      <td>6305</td>\n",
       "      <td>20</td>\n",
       "      <td></td>\n",
       "      <td></td>\n",
       "      <td></td>\n",
       "      <td></td>\n",
       "    </tr>\n",
       "    <tr>\n",
       "      <th>20</th>\n",
       "      <td>6858631</td>\n",
       "      <td>26:11:49</td>\n",
       "      <td>26:11:49</td>\n",
       "      <td>6291</td>\n",
       "      <td>21</td>\n",
       "      <td></td>\n",
       "      <td></td>\n",
       "      <td></td>\n",
       "      <td></td>\n",
       "    </tr>\n",
       "    <tr>\n",
       "      <th>21</th>\n",
       "      <td>6858631</td>\n",
       "      <td>26:12:18</td>\n",
       "      <td>26:12:18</td>\n",
       "      <td>6319</td>\n",
       "      <td>22</td>\n",
       "      <td></td>\n",
       "      <td></td>\n",
       "      <td></td>\n",
       "      <td></td>\n",
       "    </tr>\n",
       "    <tr>\n",
       "      <th>22</th>\n",
       "      <td>6858631</td>\n",
       "      <td>26:13:00</td>\n",
       "      <td>26:13:00</td>\n",
       "      <td>6295</td>\n",
       "      <td>23</td>\n",
       "      <td></td>\n",
       "      <td></td>\n",
       "      <td></td>\n",
       "      <td></td>\n",
       "    </tr>\n",
       "    <tr>\n",
       "      <th>23</th>\n",
       "      <td>6858631</td>\n",
       "      <td>26:13:40</td>\n",
       "      <td>26:13:40</td>\n",
       "      <td>6486</td>\n",
       "      <td>26</td>\n",
       "      <td></td>\n",
       "      <td></td>\n",
       "      <td></td>\n",
       "      <td></td>\n",
       "    </tr>\n",
       "    <tr>\n",
       "      <th>24</th>\n",
       "      <td>6858631</td>\n",
       "      <td>26:14:17</td>\n",
       "      <td>26:14:17</td>\n",
       "      <td>3884</td>\n",
       "      <td>27</td>\n",
       "      <td></td>\n",
       "      <td></td>\n",
       "      <td></td>\n",
       "      <td></td>\n",
       "    </tr>\n",
       "    <tr>\n",
       "      <th>25</th>\n",
       "      <td>6858631</td>\n",
       "      <td>26:15:15</td>\n",
       "      <td>26:15:15</td>\n",
       "      <td>3858</td>\n",
       "      <td>28</td>\n",
       "      <td></td>\n",
       "      <td></td>\n",
       "      <td></td>\n",
       "      <td></td>\n",
       "    </tr>\n",
       "    <tr>\n",
       "      <th>26</th>\n",
       "      <td>6858631</td>\n",
       "      <td>26:16:02</td>\n",
       "      <td>26:16:02</td>\n",
       "      <td>3847</td>\n",
       "      <td>29</td>\n",
       "      <td></td>\n",
       "      <td></td>\n",
       "      <td></td>\n",
       "      <td></td>\n",
       "    </tr>\n",
       "    <tr>\n",
       "      <th>27</th>\n",
       "      <td>6858631</td>\n",
       "      <td>26:17:00</td>\n",
       "      <td>26:17:00</td>\n",
       "      <td>3892</td>\n",
       "      <td>30</td>\n",
       "      <td></td>\n",
       "      <td></td>\n",
       "      <td></td>\n",
       "      <td></td>\n",
       "    </tr>\n",
       "    <tr>\n",
       "      <th>28</th>\n",
       "      <td>6858631</td>\n",
       "      <td>26:17:50</td>\n",
       "      <td>26:17:50</td>\n",
       "      <td>3875</td>\n",
       "      <td>31</td>\n",
       "      <td></td>\n",
       "      <td></td>\n",
       "      <td></td>\n",
       "      <td></td>\n",
       "    </tr>\n",
       "    <tr>\n",
       "      <th>29</th>\n",
       "      <td>6858631</td>\n",
       "      <td>26:18:45</td>\n",
       "      <td>26:18:45</td>\n",
       "      <td>3896</td>\n",
       "      <td>32</td>\n",
       "      <td></td>\n",
       "      <td></td>\n",
       "      <td></td>\n",
       "      <td></td>\n",
       "    </tr>\n",
       "  </tbody>\n",
       "</table>\n",
       "</div>"
      ],
      "text/plain": [
       "    trip_id arrival_time departure_time  stop_id  stop_sequence stop_headsign  \\\n",
       "0   6858631     26:00:00       26:00:00     4015              1                 \n",
       "1   6858631     26:00:45       26:00:45     6294              2                 \n",
       "2   6858631     26:01:33       26:01:33     6290              3                 \n",
       "3   6858631     26:02:00       26:02:00     6314              4                 \n",
       "4   6858631     26:02:35       26:02:35     6307              5                 \n",
       "5   6858631     26:03:17       26:03:17     6302              6                 \n",
       "6   6858631     26:03:51       26:03:51     6299              7                 \n",
       "7   6858631     26:04:21       26:04:21     6316              8                 \n",
       "8   6858631     26:05:00       26:05:00     6312              9                 \n",
       "9   6858631     26:05:54       26:05:54     6315             10                 \n",
       "10  6858631     26:06:39       26:06:39     6301             11                 \n",
       "11  6858631     26:07:10       26:07:10     6304             12                 \n",
       "12  6858631     26:07:43       26:07:43     6300             13                 \n",
       "13  6858631     26:08:24       26:08:24     6303             14                 \n",
       "14  6858631     26:09:00       26:09:00     6311             15                 \n",
       "15  6858631     26:09:20       26:09:20     6317             16                 \n",
       "16  6858631     26:09:51       26:09:51     6297             17                 \n",
       "17  6858631     26:10:29       26:10:29     6298             18                 \n",
       "18  6858631     26:10:53       26:10:53     6309             19                 \n",
       "19  6858631     26:11:19       26:11:19     6305             20                 \n",
       "20  6858631     26:11:49       26:11:49     6291             21                 \n",
       "21  6858631     26:12:18       26:12:18     6319             22                 \n",
       "22  6858631     26:13:00       26:13:00     6295             23                 \n",
       "23  6858631     26:13:40       26:13:40     6486             26                 \n",
       "24  6858631     26:14:17       26:14:17     3884             27                 \n",
       "25  6858631     26:15:15       26:15:15     3858             28                 \n",
       "26  6858631     26:16:02       26:16:02     3847             29                 \n",
       "27  6858631     26:17:00       26:17:00     3892             30                 \n",
       "28  6858631     26:17:50       26:17:50     3875             31                 \n",
       "29  6858631     26:18:45       26:18:45     3896             32                 \n",
       "\n",
       "   pickup_type drop_off_type shape_dist_traveled  \n",
       "0                                                 \n",
       "1                                                 \n",
       "2                                                 \n",
       "3                                                 \n",
       "4                                                 \n",
       "5                                                 \n",
       "6                                                 \n",
       "7                                                 \n",
       "8                                                 \n",
       "9                                                 \n",
       "10                                                \n",
       "11                                                \n",
       "12                                                \n",
       "13                                                \n",
       "14                                                \n",
       "15                                                \n",
       "16                                                \n",
       "17                                                \n",
       "18                                                \n",
       "19                                                \n",
       "20                                                \n",
       "21                                                \n",
       "22                                                \n",
       "23                                                \n",
       "24                                                \n",
       "25                                                \n",
       "26                                                \n",
       "27                                                \n",
       "28                                                \n",
       "29                                                "
      ]
     },
     "execution_count": 176,
     "metadata": {},
     "output_type": "execute_result"
    }
   ],
   "source": [
    "stop_times.head(30)"
   ]
  },
  {
   "cell_type": "code",
   "execution_count": 18,
   "metadata": {
    "collapsed": true
   },
   "outputs": [],
   "source": [
    "shapes = pd.read_csv('data/google_transit/shapes.txt')"
   ]
  },
  {
   "cell_type": "code",
   "execution_count": 72,
   "metadata": {
    "collapsed": false,
    "scrolled": true
   },
   "outputs": [
    {
     "data": {
      "text/html": [
       "<div>\n",
       "<table border=\"1\" class=\"dataframe\">\n",
       "  <thead>\n",
       "    <tr style=\"text-align: right;\">\n",
       "      <th></th>\n",
       "      <th>shape_id</th>\n",
       "      <th>shape_pt_lon</th>\n",
       "      <th>shape_pt_lat</th>\n",
       "      <th>shape_pt_sequence</th>\n",
       "      <th>shape_dist_traveled</th>\n",
       "    </tr>\n",
       "  </thead>\n",
       "  <tbody>\n",
       "    <tr>\n",
       "      <th>0</th>\n",
       "      <td>135594</td>\n",
       "      <td>-122.446805</td>\n",
       "      <td>37.787266</td>\n",
       "      <td>1</td>\n",
       "      <td>0</td>\n",
       "    </tr>\n",
       "    <tr>\n",
       "      <th>1</th>\n",
       "      <td>135594</td>\n",
       "      <td>-122.448481</td>\n",
       "      <td>37.787054</td>\n",
       "      <td>2</td>\n",
       "      <td>149</td>\n",
       "    </tr>\n",
       "    <tr>\n",
       "      <th>2</th>\n",
       "      <td>135594</td>\n",
       "      <td>-122.450131</td>\n",
       "      <td>37.786842</td>\n",
       "      <td>3</td>\n",
       "      <td>296</td>\n",
       "    </tr>\n",
       "    <tr>\n",
       "      <th>3</th>\n",
       "      <td>135594</td>\n",
       "      <td>-122.450238</td>\n",
       "      <td>37.786822</td>\n",
       "      <td>4</td>\n",
       "      <td>306</td>\n",
       "    </tr>\n",
       "    <tr>\n",
       "      <th>4</th>\n",
       "      <td>135594</td>\n",
       "      <td>-122.451771</td>\n",
       "      <td>37.786624</td>\n",
       "      <td>5</td>\n",
       "      <td>443</td>\n",
       "    </tr>\n",
       "    <tr>\n",
       "      <th>5</th>\n",
       "      <td>135594</td>\n",
       "      <td>-122.453300</td>\n",
       "      <td>37.786433</td>\n",
       "      <td>6</td>\n",
       "      <td>579</td>\n",
       "    </tr>\n",
       "    <tr>\n",
       "      <th>6</th>\n",
       "      <td>135594</td>\n",
       "      <td>-122.453419</td>\n",
       "      <td>37.786422</td>\n",
       "      <td>7</td>\n",
       "      <td>590</td>\n",
       "    </tr>\n",
       "    <tr>\n",
       "      <th>7</th>\n",
       "      <td>135594</td>\n",
       "      <td>-122.454787</td>\n",
       "      <td>37.786248</td>\n",
       "      <td>8</td>\n",
       "      <td>712</td>\n",
       "    </tr>\n",
       "    <tr>\n",
       "      <th>8</th>\n",
       "      <td>135594</td>\n",
       "      <td>-122.455062</td>\n",
       "      <td>37.786213</td>\n",
       "      <td>9</td>\n",
       "      <td>737</td>\n",
       "    </tr>\n",
       "    <tr>\n",
       "      <th>9</th>\n",
       "      <td>135594</td>\n",
       "      <td>-122.455878</td>\n",
       "      <td>37.786109</td>\n",
       "      <td>10</td>\n",
       "      <td>810</td>\n",
       "    </tr>\n",
       "  </tbody>\n",
       "</table>\n",
       "</div>"
      ],
      "text/plain": [
       "   shape_id  shape_pt_lon  shape_pt_lat  shape_pt_sequence  \\\n",
       "0    135594   -122.446805     37.787266                  1   \n",
       "1    135594   -122.448481     37.787054                  2   \n",
       "2    135594   -122.450131     37.786842                  3   \n",
       "3    135594   -122.450238     37.786822                  4   \n",
       "4    135594   -122.451771     37.786624                  5   \n",
       "5    135594   -122.453300     37.786433                  6   \n",
       "6    135594   -122.453419     37.786422                  7   \n",
       "7    135594   -122.454787     37.786248                  8   \n",
       "8    135594   -122.455062     37.786213                  9   \n",
       "9    135594   -122.455878     37.786109                 10   \n",
       "\n",
       "   shape_dist_traveled  \n",
       "0                    0  \n",
       "1                  149  \n",
       "2                  296  \n",
       "3                  306  \n",
       "4                  443  \n",
       "5                  579  \n",
       "6                  590  \n",
       "7                  712  \n",
       "8                  737  \n",
       "9                  810  "
      ]
     },
     "execution_count": 72,
     "metadata": {},
     "output_type": "execute_result"
    }
   ],
   "source": [
    "shapes.head(10)"
   ]
  },
  {
   "cell_type": "code",
   "execution_count": 21,
   "metadata": {
    "collapsed": true
   },
   "outputs": [
    {
     "name": "stdout",
     "output_type": "stream",
     "text": [
      "(0, shape_id               135594.000000\n",
      "shape_pt_lon             -122.446805\n",
      "shape_pt_lat               37.787266\n",
      "shape_pt_sequence           1.000000\n",
      "shape_dist_traveled         0.000000\n",
      "Name: 0, dtype: float64)\n",
      "(1, shape_id               135594.000000\n",
      "shape_pt_lon             -122.448481\n",
      "shape_pt_lat               37.787054\n",
      "shape_pt_sequence           2.000000\n",
      "shape_dist_traveled       149.000000\n",
      "Name: 1, dtype: float64)\n",
      "(2, shape_id               135594.000000\n",
      "shape_pt_lon             -122.450131\n",
      "shape_pt_lat               37.786842\n",
      "shape_pt_sequence           3.000000\n",
      "shape_dist_traveled       296.000000\n",
      "Name: 2, dtype: float64)\n",
      "(3, shape_id               135594.000000\n",
      "shape_pt_lon             -122.450238\n",
      "shape_pt_lat               37.786822\n",
      "shape_pt_sequence           4.000000\n",
      "shape_dist_traveled       306.000000\n",
      "Name: 3, dtype: float64)\n",
      "(4, shape_id               135594.000000\n",
      "shape_pt_lon             -122.451771\n",
      "shape_pt_lat               37.786624\n",
      "shape_pt_sequence           5.000000\n",
      "shape_dist_traveled       443.000000\n",
      "Name: 4, dtype: float64)\n"
     ]
    }
   ],
   "source": [
    "for row in shapes.head().iterrows():\n",
    "    print row"
   ]
  },
  {
   "cell_type": "code",
   "execution_count": 23,
   "metadata": {
    "collapsed": true
   },
   "outputs": [],
   "source": [
    "response = requests.get('http://webservices.nextbus.com/service/publicXMLFeed?command=vehicleLocations&a=sf-muni')"
   ]
  },
  {
   "cell_type": "code",
   "execution_count": 26,
   "metadata": {
    "collapsed": true
   },
   "outputs": [
    {
     "data": {
      "text/plain": [
       "u'<?xml version=\"1.0\" encoding=\"utf-8\" ?> \\n<body copyright=\"All data copyright San Francisco Muni 2016.\">\\n<Error shouldRetry=\"false\">\\n  last time \"t\" parameter must be specified in query string\\n</Error>\\n<vehicle id=\"8217\" routeTag=\"28\" dirTag=\"28___O_F00\" lat=\"37.80237\" lon=\"-122.42482\" secsSinceReport=\"28\" predictable=\"true\" heading=\"161\" speedKmHr=\"7\"/>\\n<vehicle id=\"6247\" routeTag=\"14R\" dirTag=\"14R__O_F00\" lat=\"37.71841\" lon=\"-122.43962\" secsSinceReport=\"13\" predictable=\"true\" heading=\"210\" speedKmHr=\"50\"/>\\n<vehicle id=\"8179\" routeTag=\"43\" dirTag=\"43___O_F00\" lat=\"37.80501\" lon=\"-122.43302\" secsSinceReport=\"69\" predictable=\"true\" heading=\"83\" speedKmHr=\"0\"/>\\n<vehicle id=\"6508\" routeTag=\"38R\" dirTag=\"38R__O_F00\" lat=\"37.78304\" lon=\"-122.44257\" secsSinceReport=\"5\" predictable=\"true\" heading=\"261\" speedKmHr=\"38\"/>\\n<vehicle id=\"6221\" routeTag=\"38R\" dirTag=\"38R__I_F00\" lat=\"37.7808599\" lon=\"-122.46586\" secsSinceReport=\"22\" predictable=\"true\" heading=\"87\" speedKmHr=\"35\"/>\\n<vehicle id=\"8641\" routeTag=\"7\" dirTag=\"7____O_F00\" lat=\"37.76627\" lon=\"-122.45848\" secsSinceReport=\"17\" predictable=\"true\" heading=\"290\" speedKmHr=\"37\"/>\\n<vehicle id=\"6240\" routeTag=\"8\" dirTag=\"8____O_F00\" lat=\"37.71075\" lon=\"-122.40539\" secsSinceReport=\"25\" predictable=\"true\" heading=\"289\" speedKmHr=\"19\"/>\\n<vehicle id=\"27\" routeTag=\"59\" dirTag=\"59___O_F00\" lat=\"37.80328\" lon=\"-122.41458\" secsSinceReport=\"27\" predictable=\"true\" heading=\"311\" speedKmHr=\"0\"/>\\n<vehicle id=\"7226\" routeTag=\"14\" dirTag=\"14___I_F00\" lat=\"37.72468\" lon=\"-122.43476\" secsSinceReport=\"5\" predictable=\"true\" heading=\"25\" speedKmHr=\"14\"/>\\n<vehicle id=\"1431\" routeTag=\"N\" dirTag=\"N____I_F00\" lat=\"37.75923\" lon=\"-122.42796\" secsSinceReport=\"9\" predictable=\"true\" heading=\"174\" speedKmHr=\"24\"/>\\n<vehicle id=\"8604\" routeTag=\"29\" dirTag=\"29___I_F00\" lat=\"37.72115\" lon=\"-122.40318\" secsSinceReport=\"14\" predictable=\"true\" heading=\"250\" speedKmHr=\"24\"/>\\n<vehicle id=\"1538\" routeTag=\"L\" dirTag=\"L____O_F00\" lat=\"37.7424\" lon=\"-122.49097\" secsSinceReport=\"41\" predictable=\"true\" heading=\"266\" speedKmHr=\"37\"/>\\n<vehicle id=\"8032\" routeTag=\"9R\" lat=\"37.74891\" lon=\"-122.39223\" secsSinceReport=\"2779\" predictable=\"true\" heading=\"218\" speedKmHr=\"0\"/>\\n<vehicle id=\"1434\" routeTag=\"L\" dirTag=\"L____O_F00\" lat=\"37.74579\" lon=\"-122.4616\" secsSinceReport=\"2\" predictable=\"true\" heading=\"219\" speedKmHr=\"68\"/>\\n<vehicle id=\"8608\" routeTag=\"5\" dirTag=\"5____O_S00\" lat=\"37.77531\" lon=\"-122.4639\" secsSinceReport=\"43\" predictable=\"true\" heading=\"352\" speedKmHr=\"3\"/>\\n<vehicle id=\"8628\" routeTag=\"7\" dirTag=\"7____I_F00\" lat=\"37.77259\" lon=\"-122.42729\" secsSinceReport=\"15\" predictable=\"true\" heading=\"81\" speedKmHr=\"0\"/>\\n<vehicle id=\"8333\" routeTag=\"2\" dirTag=\"2____O_F00\" lat=\"37.78708\" lon=\"-122.44689\" secsSinceReport=\"46\" predictable=\"true\" heading=\"350\" speedKmHr=\"3\"/>\\n<vehicle id=\"8103\" routeTag=\"6\" dirTag=\"6____I_F00\" lat=\"37.76331\" lon=\"-122.45849\" secsSinceReport=\"29\" predictable=\"true\" heading=\"75\" speedKmHr=\"12\"/>\\n<vehicle id=\"6514\" routeTag=\"8\" dirTag=\"8____O_F00\" lat=\"37.80718\" lon=\"-122.40724\" secsSinceReport=\"18\" predictable=\"true\" heading=\"218\" speedKmHr=\"0\"/>\\n<vehicle id=\"5564\" routeTag=\"21\" dirTag=\"21___I_F00\" lat=\"37.77471\" lon=\"-122.4398\" secsSinceReport=\"2\" predictable=\"true\" heading=\"80\" speedKmHr=\"25\"/>\\n<vehicle id=\"6546\" routeTag=\"38R\" dirTag=\"38R__O_F00\" lat=\"37.7798299\" lon=\"-122.50528\" secsSinceReport=\"1\" predictable=\"true\" heading=\"277\" speedKmHr=\"31\"/>\\n<vehicle id=\"8157\" routeTag=\"43\" dirTag=\"43___O_F00\" lat=\"37.71803\" lon=\"-122.4426\" secsSinceReport=\"3\" predictable=\"true\" heading=\"134\" speedKmHr=\"0\"/>\\n<vehicle id=\"1411\" routeTag=\"KT\" dirTag=\"KT___O_F00\" lat=\"37.79291\" lon=\"-122.39674\" secsSinceReport=\"17\" predictable=\"true\" heading=\"225\" speedKmHr=\"0\"/>\\n<vehicle id=\"8525\" routeTag=\"52\" dirTag=\"52___I_F00\" lat=\"37.73956\" lon=\"-122.43616\" secsSinceReport=\"28\" predictable=\"true\" heading=\"25\" speedKmHr=\"33\"/>\\n<vehicle id=\"7105\" routeTag=\"14\" dirTag=\"14___O_F00\" lat=\"37.7192099\" lon=\"-122.43907\" secsSinceReport=\"18\" predictable=\"true\" heading=\"211\" speedKmHr=\"0\"/>\\n<vehicle id=\"02\" routeTag=\"60\" lat=\"37.78548\" lon=\"-122.40755\" secsSinceReport=\"84\" predictable=\"true\" heading=\"171\" speedKmHr=\"0\"/>\\n<vehicle id=\"7221\" routeTag=\"14\" dirTag=\"14___O_F00\" lat=\"37.77938\" lon=\"-122.41077\" secsSinceReport=\"43\" predictable=\"true\" heading=\"228\" speedKmHr=\"38\"/>\\n<vehicle id=\"8402\" routeTag=\"9R\" dirTag=\"9R___I_L20\" lat=\"37.71435\" lon=\"-122.42469\" secsSinceReport=\"37\" predictable=\"true\" heading=\"121\" speedKmHr=\"11\"/>\\n<vehicle id=\"5573\" routeTag=\"21\" dirTag=\"21___O_F00\" lat=\"37.78965\" lon=\"-122.40097\" secsSinceReport=\"44\" predictable=\"true\" heading=\"221\" speedKmHr=\"11\"/>\\n<vehicle id=\"6254\" routeTag=\"8\" dirTag=\"8____I_F00\" lat=\"37.71609\" lon=\"-122.44067\" secsSinceReport=\"16\" predictable=\"true\" heading=\"122\" speedKmHr=\"0\"/>\\n<vehicle id=\"6705\" routeTag=\"14R\" dirTag=\"14R__O_F00\" lat=\"37.78998\" lon=\"-122.39734\" secsSinceReport=\"39\" predictable=\"true\" heading=\"225\" speedKmHr=\"0\"/>\\n<vehicle id=\"8311\" routeTag=\"12\" dirTag=\"12___I_F00\" lat=\"37.79733\" lon=\"-122.40391\" secsSinceReport=\"63\" predictable=\"true\" heading=\"261\" speedKmHr=\"22\"/>\\n<vehicle id=\"1413\" routeTag=\"N\" dirTag=\"N____O_F00\" lat=\"37.77318\" lon=\"-122.39775\" secsSinceReport=\"61\" predictable=\"true\" heading=\"218\" speedKmHr=\"0\"/>\\n<vehicle id=\"5489\" routeTag=\"21\" dirTag=\"21___O_F00\" lat=\"37.77425\" lon=\"-122.44376\" secsSinceReport=\"9\" predictable=\"true\" heading=\"261\" speedKmHr=\"31\"/>\\n<vehicle id=\"8222\" routeTag=\"19\" dirTag=\"19___O_F00\" lat=\"37.77898\" lon=\"-122.41498\" secsSinceReport=\"38\" predictable=\"true\" heading=\"164\" speedKmHr=\"14\"/>\\n<vehicle id=\"1074\" routeTag=\"F\" dirTag=\"F____I_F00\" lat=\"37.79436\" lon=\"-122.39695\" secsSinceReport=\"1\" predictable=\"true\" heading=\"20\" speedKmHr=\"11\"/>\\n<vehicle id=\"8661\" routeTag=\"54\" dirTag=\"54___I_F00\" lat=\"37.71154\" lon=\"-122.46379\" secsSinceReport=\"11\" predictable=\"true\" heading=\"109\" speedKmHr=\"22\"/>\\n<vehicle id=\"5541\" routeTag=\"30\" dirTag=\"30___I_S10\" lat=\"37.7890299\" lon=\"-122.41016\" secsSinceReport=\"25\" predictable=\"true\" heading=\"239\" speedKmHr=\"7\"/>\\n<vehicle id=\"1473\" routeTag=\"N\" dirTag=\"N____I_F00\" lat=\"37.76035\" lon=\"-122.50849\" secsSinceReport=\"69\" predictable=\"true\" heading=\"84\" speedKmHr=\"3\" leadingVehicleId=\"1532\"/>\\n<vehicle id=\"8417\" routeTag=\"9R\" dirTag=\"9R___I_L20\" lat=\"37.75022\" lon=\"-122.40572\" secsSinceReport=\"3\" predictable=\"true\" heading=\"337\" speedKmHr=\"40\"/>\\n<vehicle id=\"8452\" routeTag=\"48\" dirTag=\"48___I_F00\" lat=\"37.75263\" lon=\"-122.41162\" secsSinceReport=\"4\" predictable=\"true\" heading=\"86\" speedKmHr=\"0\"/>\\n<vehicle id=\"8436\" routeTag=\"44\" dirTag=\"44___I_F00\" lat=\"37.73336\" lon=\"-122.38437\" secsSinceReport=\"10\" predictable=\"true\" heading=\"294\" speedKmHr=\"29\"/>\\n<vehicle id=\"8649\" routeTag=\"9R\" dirTag=\"9R___I_L20\" lat=\"37.72341\" lon=\"-122.40186\" secsSinceReport=\"40\" predictable=\"true\" heading=\"342\" speedKmHr=\"27\"/>\\n<vehicle id=\"7228\" routeTag=\"49\" dirTag=\"49___O_F00\" lat=\"37.77554\" lon=\"-122.41945\" secsSinceReport=\"20\" predictable=\"true\" heading=\"172\" speedKmHr=\"0\"/>\\n<vehicle id=\"8723\" routeTag=\"55\" dirTag=\"55___I_F00\" lat=\"37.77056\" lon=\"-122.39062\" secsSinceReport=\"90\" predictable=\"true\" heading=\"218\" speedKmHr=\"0\"/>\\n<vehicle id=\"1076\" routeTag=\"F\" dirTag=\"F____O_F00\" lat=\"37.8054599\" lon=\"-122.40383\" secsSinceReport=\"38\" predictable=\"true\" heading=\"132\" speedKmHr=\"42\"/>\\n<vehicle id=\"1449\" routeTag=\"L\" dirTag=\"L____I_F00\" lat=\"37.74114\" lon=\"-122.46628\" secsSinceReport=\"45\" predictable=\"true\" heading=\"120\" speedKmHr=\"3\"/>\\n<vehicle id=\"8707\" routeTag=\"5\" dirTag=\"5____O_S00\" lat=\"37.78944\" lon=\"-122.39266\" secsSinceReport=\"82\" predictable=\"true\" heading=\"218\" speedKmHr=\"0\"/>\\n<vehicle id=\"1063\" routeTag=\"F\" dirTag=\"F____I_F00\" lat=\"37.77861\" lon=\"-122.4148\" secsSinceReport=\"25\" predictable=\"true\" heading=\"45\" speedKmHr=\"20\"/>\\n<vehicle id=\"6575\" routeTag=\"14R\" dirTag=\"14R__I_F00\" lat=\"37.70649\" lon=\"-122.4596\" secsSinceReport=\"127\" predictable=\"true\" heading=\"68\" speedKmHr=\"12\"/>\\n<vehicle id=\"8453\" routeTag=\"44\" dirTag=\"44___I_F00\" lat=\"37.7401399\" lon=\"-122.38846\" secsSinceReport=\"37\" predictable=\"true\" heading=\"218\" speedKmHr=\"0\"/>\\n<vehicle id=\"8412\" routeTag=\"44\" dirTag=\"44___O_F00\" lat=\"37.74562\" lon=\"-122.45269\" secsSinceReport=\"38\" predictable=\"true\" heading=\"91\" speedKmHr=\"37\"/>\\n<vehicle id=\"7114\" routeTag=\"14\" dirTag=\"14___O_F00\" lat=\"37.79441\" lon=\"-122.39438\" secsSinceReport=\"15\" predictable=\"true\" heading=\"138\" speedKmHr=\"11\"/>\\n<vehicle id=\"6521\" routeTag=\"8\" dirTag=\"8____O_F00\" lat=\"37.78187\" lon=\"-122.40555\" secsSinceReport=\"21\" predictable=\"true\" heading=\"135\" speedKmHr=\"12\"/>\\n<vehicle id=\"5457\" routeTag=\"24\" dirTag=\"24___O_F00\" lat=\"37.73997\" lon=\"-122.42016\" secsSinceReport=\"150\" predictable=\"true\" heading=\"116\" speedKmHr=\"29\"/>\\n<vehicle id=\"8358\" routeTag=\"19\" dirTag=\"19___I_F00\" lat=\"37.72915\" lon=\"-122.36738\" secsSinceReport=\"26\" predictable=\"true\" heading=\"302\" speedKmHr=\"35\"/>\\n<vehicle id=\"1008\" routeTag=\"F\" dirTag=\"F____O_F00\" lat=\"37.80745\" lon=\"-122.41743\" secsSinceReport=\"34\" predictable=\"true\" heading=\"175\" speedKmHr=\"0\"/>\\n<vehicle id=\"6225\" routeTag=\"38R\" dirTag=\"38R__I_F00\" lat=\"37.78233\" lon=\"-122.44798\" secsSinceReport=\"1\" predictable=\"true\" heading=\"85\" speedKmHr=\"25\"/>\\n<vehicle id=\"5491\" routeTag=\"31\" dirTag=\"31___O_F00\" lat=\"37.78278\" lon=\"-122.41559\" secsSinceReport=\"28\" predictable=\"true\" heading=\"259\" speedKmHr=\"12\"/>\\n<vehicle id=\"8722\" routeTag=\"29\" lat=\"37.78797\" lon=\"-122.48311\" secsSinceReport=\"3036\" predictable=\"true\" heading=\"57\" speedKmHr=\"51\"/>\\n<vehicle id=\"5533\" routeTag=\"30\" dirTag=\"30___O_F00\" lat=\"37.80485\" lon=\"-122.41661\" secsSinceReport=\"35\" predictable=\"true\" heading=\"316\" speedKmHr=\"24\"/>\\n<vehicle id=\"8428\" routeTag=\"9R\" dirTag=\"9R___I_L20\" lat=\"37.71007\" lon=\"-122.40433\" secsSinceReport=\"53\" predictable=\"true\" heading=\"218\" speedKmHr=\"0\"/>\\n<vehicle id=\"5440\" routeTag=\"22\" dirTag=\"22___I_F00\" lat=\"37.7807\" lon=\"-122.43218\" secsSinceReport=\"41\" predictable=\"true\" heading=\"351\" speedKmHr=\"25\"/>\\n<vehicle id=\"1420\" routeTag=\"KT\" dirTag=\"KT___I_F00\" lat=\"37.7124\" lon=\"-122.40197\" secsSinceReport=\"1\" predictable=\"true\" heading=\"251\" speedKmHr=\"24\"/>\\n<vehicle id=\"5613\" routeTag=\"30\" dirTag=\"30___I_F00\" lat=\"37.78125\" lon=\"-122.40465\" secsSinceReport=\"38\" predictable=\"true\" heading=\"135\" speedKmHr=\"0\"/>\\n<vehicle id=\"7113\" routeTag=\"14\" dirTag=\"14___O_F00\" lat=\"37.74151\" lon=\"-122.42257\" secsSinceReport=\"9\" predictable=\"true\" heading=\"205\" speedKmHr=\"29\"/>\\n<vehicle id=\"8509\" routeTag=\"52\" dirTag=\"52___O_F00\" lat=\"37.73541\" lon=\"-122.434\" secsSinceReport=\"39\" predictable=\"true\" heading=\"148\" speedKmHr=\"33\"/>\\n<vehicle id=\"5612\" routeTag=\"3\" dirTag=\"3____O_F00\" lat=\"37.78998\" lon=\"-122.40186\" secsSinceReport=\"12\" predictable=\"true\" heading=\"261\" speedKmHr=\"1\"/>\\n<vehicle id=\"1009\" routeTag=\"F\" dirTag=\"F____O_F00\" lat=\"37.7944\" lon=\"-122.39329\" secsSinceReport=\"45\" predictable=\"true\" heading=\"136\" speedKmHr=\"5\"/>\\n<vehicle id=\"8163\" routeTag=\"28\" dirTag=\"28___I_F00\" lat=\"37.70653\" lon=\"-122.46776\" secsSinceReport=\"45\" predictable=\"true\" heading=\"5\" speedKmHr=\"27\"/>\\n<vehicle id=\"1461\" routeTag=\"N\" dirTag=\"N____I_F00\" lat=\"37.79115\" lon=\"-122.39042\" secsSinceReport=\"11\" predictable=\"true\" heading=\"145\" speedKmHr=\"0\" leadingVehicleId=\"1475\"/>\\n<vehicle id=\"6580\" routeTag=\"38R\" dirTag=\"38R__I_F00\" lat=\"37.79207\" lon=\"-122.39825\" secsSinceReport=\"17\" predictable=\"true\" heading=\"42\" speedKmHr=\"7\"/>\\n<vehicle id=\"8343\" routeTag=\"47\" dirTag=\"47___O_F00\" lat=\"37.79996\" lon=\"-122.4244\" secsSinceReport=\"43\" predictable=\"true\" heading=\"170\" speedKmHr=\"25\"/>\\n<vehicle id=\"8214\" routeTag=\"28\" dirTag=\"28___I_F00\" lat=\"37.73577\" lon=\"-122.47509\" secsSinceReport=\"12\" predictable=\"true\" heading=\"357\" speedKmHr=\"29\"/>\\n<vehicle id=\"6232\" routeTag=\"8\" dirTag=\"8____O_F00\" lat=\"37.71423\" lon=\"-122.436\" secsSinceReport=\"17\" predictable=\"true\" heading=\"299\" speedKmHr=\"29\"/>\\n<vehicle id=\"8336\" routeTag=\"19\" dirTag=\"19___O_F00\" lat=\"37.75155\" lon=\"-122.40137\" secsSinceReport=\"12\" predictable=\"true\" heading=\"176\" speedKmHr=\"31\"/>\\n<vehicle id=\"07\" routeTag=\"60\" dirTag=\"60___O_F00\" lat=\"37.7951\" lon=\"-122.40977\" secsSinceReport=\"12\" predictable=\"true\" heading=\"349\" speedKmHr=\"11\"/>\\n<vehicle id=\"5512\" routeTag=\"30\" dirTag=\"30___O_S10\" lat=\"37.80633\" lon=\"-122.42094\" secsSinceReport=\"28\" predictable=\"true\" heading=\"259\" speedKmHr=\"24\"/>\\n<vehicle id=\"8635\" routeTag=\"5\" dirTag=\"5____O_S00\" lat=\"37.7900599\" lon=\"-122.3946\" secsSinceReport=\"261\" predictable=\"true\" heading=\"218\" speedKmHr=\"0\"/>\\n<vehicle id=\"8659\" routeTag=\"5\" dirTag=\"5____I_S00\" lat=\"37.77924\" lon=\"-122.42729\" secsSinceReport=\"24\" predictable=\"true\" heading=\"83\" speedKmHr=\"31\"/>\\n<vehicle id=\"5433\" routeTag=\"24\" dirTag=\"24___I_F00\" lat=\"37.73433\" lon=\"-122.39072\" secsSinceReport=\"74\" predictable=\"true\" heading=\"218\" speedKmHr=\"0\"/>\\n<vehicle id=\"8159\" routeTag=\"47\" dirTag=\"47___I_F00\" lat=\"37.78148\" lon=\"-122.4205\" secsSinceReport=\"4\" predictable=\"true\" heading=\"352\" speedKmHr=\"22\"/>\\n<vehicle id=\"6204\" routeTag=\"8\" dirTag=\"8____I_F00\" lat=\"37.789387\" lon=\"-122.4039\" secsSinceReport=\"27\" predictable=\"true\" heading=\"349\" speedKmHr=\"19\"/>\\n<vehicle id=\"6565\" routeTag=\"14R\" dirTag=\"14R__I_F00\" lat=\"37.72322\" lon=\"-122.43585\" secsSinceReport=\"11\" predictable=\"true\" heading=\"33\" speedKmHr=\"20\"/>\\n<vehicle id=\"8429\" routeTag=\"29\" dirTag=\"29___O_F00\" lat=\"37.73297\" lon=\"-122.49394\" secsSinceReport=\"33\" predictable=\"true\" heading=\"176\" speedKmHr=\"31\"/>\\n<vehicle id=\"14\" routeTag=\"59\" dirTag=\"59___I_F00\" lat=\"37.80066\" lon=\"-122.41261\" secsSinceReport=\"9\" predictable=\"true\" heading=\"170\" speedKmHr=\"14\"/>\\n<vehicle id=\"8607\" routeTag=\"29\" dirTag=\"29___O_F00\" lat=\"37.79201\" lon=\"-122.48153\" secsSinceReport=\"80\" predictable=\"true\" heading=\"218\" speedKmHr=\"0\"/>\\n<vehicle id=\"1426\" routeTag=\"L\" dirTag=\"L____I_F00\" lat=\"37.7691299\" lon=\"-122.42672\" secsSinceReport=\"9\" predictable=\"true\" heading=\"46\" speedKmHr=\"26\"/>\\n<vehicle id=\"8327\" routeTag=\"43\" dirTag=\"43___O_F00\" lat=\"37.73917\" lon=\"-122.46033\" secsSinceReport=\"18\" predictable=\"true\" heading=\"246\" speedKmHr=\"20\"/>\\n<vehicle id=\"8119\" routeTag=\"12\" dirTag=\"12___O_F00\" lat=\"37.7545\" lon=\"-122.41428\" secsSinceReport=\"10\" predictable=\"true\" heading=\"176\" speedKmHr=\"37\"/>\\n<vehicle id=\"1468\" routeTag=\"L\" dirTag=\"L____I_F00\" lat=\"37.73615\" lon=\"-122.50526\" secsSinceReport=\"68\" predictable=\"true\" heading=\"137\" speedKmHr=\"12\"/>\\n<vehicle id=\"1524\" routeTag=\"N\" dirTag=\"N____O_F00\" lat=\"37.76045\" lon=\"-122.50661\" secsSinceReport=\"49\" predictable=\"true\" heading=\"265\" speedKmHr=\"0\" leadingVehicleId=\"1517\"/>\\n<vehicle id=\"5456\" routeTag=\"24\" dirTag=\"24___O_F00\" lat=\"37.73428\" lon=\"-122.39147\" secsSinceReport=\"4\" predictable=\"true\" heading=\"126\" speedKmHr=\"18\"/>\\n<vehicle id=\"1421\" routeTag=\"KT\" lat=\"37.72106\" lon=\"-122.44702\" secsSinceReport=\"54\" predictable=\"true\" heading=\"218\" speedKmHr=\"0\"/>\\n<vehicle id=\"8625\" routeTag=\"29\" dirTag=\"29___I_F00\" lat=\"37.72211\" lon=\"-122.39329\" secsSinceReport=\"9\" predictable=\"true\" heading=\"126\" speedKmHr=\"0\"/>\\n<vehicle id=\"5599\" routeTag=\"31\" dirTag=\"31___O_F00\" lat=\"37.77657\" lon=\"-122.47982\" secsSinceReport=\"6\" predictable=\"true\" heading=\"267\" speedKmHr=\"40\"/>\\n<vehicle id=\"8642\" routeTag=\"9\" dirTag=\"9____O_L00\" lat=\"37.78532\" lon=\"-122.40687\" secsSinceReport=\"75\" predictable=\"true\" heading=\"225\" speedKmHr=\"29\"/>\\n<vehicle id=\"8603\" routeTag=\"9\" dirTag=\"9____I_S00\" lat=\"37.76929\" lon=\"-122.40986\" secsSinceReport=\"24\" predictable=\"true\" heading=\"281\" speedKmHr=\"40\"/>\\n<vehicle id=\"5529\" routeTag=\"45\" dirTag=\"45___I_F00\" lat=\"37.79295\" lon=\"-122.40779\" secsSinceReport=\"1\" predictable=\"true\" heading=\"171\" speedKmHr=\"18\"/>\\n<vehicle id=\"5409\" routeTag=\"33\" dirTag=\"33___O_F00\" lat=\"37.77361\" lon=\"-122.4545\" secsSinceReport=\"12\" predictable=\"true\" heading=\"169\" speedKmHr=\"31\"/>\\n<vehicle id=\"7120\" routeTag=\"14\" dirTag=\"14___I_F00\" lat=\"37.77646\" lon=\"-122.41479\" secsSinceReport=\"5\" predictable=\"true\" heading=\"48\" speedKmHr=\"22\"/>\\n<vehicle id=\"8703\" routeTag=\"23\" dirTag=\"23___O_F10\" lat=\"37.73818\" lon=\"-122.40724\" secsSinceReport=\"26\" predictable=\"true\" heading=\"184\" speedKmHr=\"27\"/>\\n<vehicle id=\"5567\" routeTag=\"1\" dirTag=\"1____I_F00\" lat=\"37.7798299\" lon=\"-122.49291\" secsSinceReport=\"35\" predictable=\"true\" heading=\"270\" speedKmHr=\"0\"/>\\n<vehicle id=\"8189\" routeTag=\"2\" dirTag=\"2____I_F00\" lat=\"37.78911\" lon=\"-122.40234\" secsSinceReport=\"215\" predictable=\"true\" heading=\"85\" speedKmHr=\"11\"/>\\n<vehicle id=\"1547\" routeTag=\"KT\" dirTag=\"KT___O_F00\" lat=\"37.78433\" lon=\"-122.40778\" secsSinceReport=\"0\" predictable=\"true\" heading=\"225\" speedKmHr=\"0\"/>\\n<vehicle id=\"5469\" routeTag=\"22\" dirTag=\"22___I_F00\" lat=\"37.76256\" lon=\"-122.39727\" secsSinceReport=\"11\" predictable=\"true\" heading=\"266\" speedKmHr=\"0\"/>\\n<vehicle id=\"8430\" routeTag=\"44\" dirTag=\"44___I_F00\" lat=\"37.75846\" lon=\"-122.46379\" secsSinceReport=\"1\" predictable=\"true\" heading=\"359\" speedKmHr=\"3\"/>\\n<vehicle id=\"8191\" routeTag=\"6\" dirTag=\"6____I_F00\" lat=\"37.79136\" lon=\"-122.39876\" secsSinceReport=\"1\" predictable=\"true\" heading=\"37\" speedKmHr=\"29\"/>\\n<vehicle id=\"1505\" routeTag=\"KT\" dirTag=\"KT___I_F00\" lat=\"37.78013\" lon=\"-122.38928\" secsSinceReport=\"41\" predictable=\"true\" heading=\"224\" speedKmHr=\"20\"/>\\n<vehicle id=\"1403\" routeTag=\"KT\" dirTag=\"KT___I_F00\" lat=\"37.74992\" lon=\"-122.45727\" secsSinceReport=\"13\" predictable=\"true\" heading=\"35\" speedKmHr=\"68\"/>\\n<vehicle id=\"6500\" routeTag=\"38\" dirTag=\"38___I_S00\" lat=\"37.78522\" lon=\"-122.42413\" secsSinceReport=\"5\" predictable=\"true\" heading=\"118\" speedKmHr=\"3\"/>\\n<vehicle id=\"7119\" routeTag=\"49\" dirTag=\"49___I_F00\" lat=\"37.72386\" lon=\"-122.43573\" secsSinceReport=\"41\" predictable=\"true\" heading=\"81\" speedKmHr=\"18\"/>\\n<vehicle id=\"8227\" routeTag=\"10\" dirTag=\"10___O_G00\" lat=\"37.75452\" lon=\"-122.40336\" secsSinceReport=\"9\" predictable=\"true\" heading=\"268\" speedKmHr=\"1\"/>\\n<vehicle id=\"8409\" routeTag=\"48\" dirTag=\"48___O_F00\" lat=\"37.7518\" lon=\"-122.42557\" secsSinceReport=\"11\" predictable=\"true\" heading=\"85\" speedKmHr=\"25\"/>\\n<vehicle id=\"5402\" routeTag=\"24\" dirTag=\"24___I_F00\" lat=\"37.78038\" lon=\"-122.43885\" secsSinceReport=\"22\" predictable=\"true\" heading=\"350\" speedKmHr=\"12\"/>\\n<vehicle id=\"5471\" routeTag=\"24\" dirTag=\"24___I_F00\" lat=\"37.76408\" lon=\"-122.43533\" secsSinceReport=\"24\" predictable=\"true\" heading=\"359\" speedKmHr=\"20\"/>\\n<vehicle id=\"1534\" routeTag=\"L\" dirTag=\"L____O_F00\" lat=\"37.7947599\" lon=\"-122.39444\" secsSinceReport=\"10\" predictable=\"true\" heading=\"240\" speedKmHr=\"45\"/>\\n<vehicle id=\"8610\" routeTag=\"9R\" dirTag=\"9R___I_L20\" lat=\"37.71298\" lon=\"-122.42\" secsSinceReport=\"4\" predictable=\"true\" heading=\"108\" speedKmHr=\"44\"/>\\n<vehicle id=\"1478\" routeTag=\"L\" dirTag=\"L____I_F00\" lat=\"37.7691299\" lon=\"-122.42672\" secsSinceReport=\"9\" predictable=\"true\" heading=\"46\" speedKmHr=\"26\" leadingVehicleId=\"1426\"/>\\n<vehicle id=\"1506\" routeTag=\"KT\" dirTag=\"KT___O_F00\" lat=\"37.77478\" lon=\"-122.39203\" secsSinceReport=\"29\" predictable=\"true\" heading=\"315\" speedKmHr=\"18\"/>\\n<vehicle id=\"5627\" routeTag=\"5R\" dirTag=\"5R___O_F00\" lat=\"37.79043\" lon=\"-122.3937\" secsSinceReport=\"58\" predictable=\"true\" heading=\"51\" speedKmHr=\"0\"/>\\n<vehicle id=\"6245\" routeTag=\"38R\" dirTag=\"38R__O_F00\" lat=\"37.78048\" lon=\"-122.47852\" secsSinceReport=\"41\" predictable=\"true\" heading=\"269\" speedKmHr=\"24\"/>\\n<vehicle id=\"1419\" routeTag=\"M\" dirTag=\"M____I_F00\" lat=\"37.7205\" lon=\"-122.4468\" secsSinceReport=\"5\" predictable=\"true\" heading=\"218\" speedKmHr=\"0\" leadingVehicleId=\"1501\"/>\\n<vehicle id=\"8620\" routeTag=\"27\" dirTag=\"27___I_F00\" lat=\"37.76925\" lon=\"-122.4108\" secsSinceReport=\"41\" predictable=\"true\" heading=\"0\" speedKmHr=\"5\"/>\\n<vehicle id=\"6252\" routeTag=\"8\" dirTag=\"8____O_F00\" lat=\"37.80691\" lon=\"-122.40723\" secsSinceReport=\"79\" predictable=\"true\" heading=\"218\" speedKmHr=\"0\"/>\\n<vehicle id=\"8632\" routeTag=\"5\" dirTag=\"5____O_S00\" lat=\"37.77615\" lon=\"-122.44483\" secsSinceReport=\"15\" predictable=\"true\" heading=\"180\" speedKmHr=\"5\"/>\\n<vehicle id=\"8743\" routeTag=\"7\" dirTag=\"7____I_F00\" lat=\"37.7931\" lon=\"-122.39811\" secsSinceReport=\"26\" predictable=\"true\" heading=\"43\" speedKmHr=\"0\"/>\\n<vehicle id=\"8502\" routeTag=\"57\" dirTag=\"57___I_F00\" lat=\"37.72349\" lon=\"-122.50277\" secsSinceReport=\"10\" predictable=\"true\" heading=\"161\" speedKmHr=\"62\"/>\\n<vehicle id=\"1073\" routeTag=\"F\" dirTag=\"F____I_F00\" lat=\"37.7990799\" lon=\"-122.3975\" secsSinceReport=\"18\" predictable=\"true\" heading=\"324\" speedKmHr=\"9\"/>\\n<vehicle id=\"8405\" routeTag=\"48\" dirTag=\"48___I_F00\" lat=\"37.7409899\" lon=\"-122.46605\" secsSinceReport=\"1\" predictable=\"true\" heading=\"115\" speedKmHr=\"0\"/>\\n<vehicle id=\"8750\" routeTag=\"55\" dirTag=\"55___I_F00\" lat=\"37.77107\" lon=\"-122.38987\" secsSinceReport=\"1342\" predictable=\"true\" heading=\"263\" speedKmHr=\"0\"/>\\n<vehicle id=\"5534\" routeTag=\"3\" dirTag=\"3____I_F00\" lat=\"37.79066\" lon=\"-122.44748\" secsSinceReport=\"23\" predictable=\"true\" heading=\"351\" speedKmHr=\"22\"/>\\n<vehicle id=\"1537\" routeTag=\"KT\" dirTag=\"KT___O_F00\" lat=\"37.70846\" lon=\"-122.40533\" secsSinceReport=\"37\" predictable=\"true\" heading=\"199\" speedKmHr=\"14\"/>\\n<vehicle id=\"5492\" routeTag=\"5R\" dirTag=\"5R___I_F00\" lat=\"37.77308\" lon=\"-122.47199\" secsSinceReport=\"5\" predictable=\"true\" heading=\"80\" speedKmHr=\"5\"/>\\n<vehicle id=\"8524\" routeTag=\"37\" dirTag=\"37___I_F00\" lat=\"37.76755\" lon=\"-122.42897\" secsSinceReport=\"2\" predictable=\"true\" heading=\"357\" speedKmHr=\"20\"/>\\n<vehicle id=\"8434\" routeTag=\"44\" dirTag=\"44___I_F00\" lat=\"37.74021\" lon=\"-122.38824\" secsSinceReport=\"82\" predictable=\"true\" heading=\"218\" speedKmHr=\"0\"/>\\n<vehicle id=\"1460\" routeTag=\"KT\" dirTag=\"KT___O_F00\" lat=\"37.75406\" lon=\"-122.38786\" secsSinceReport=\"9\" predictable=\"true\" heading=\"355\" speedKmHr=\"33\"/>\\n<vehicle id=\"8504\" routeTag=\"57\" dirTag=\"57___I_F00\" lat=\"37.72263\" lon=\"-122.48324\" secsSinceReport=\"14\" predictable=\"true\" heading=\"316\" speedKmHr=\"24\"/>\\n<vehicle id=\"6203\" routeTag=\"38R\" dirTag=\"38R__O_F00\" lat=\"37.779728\" lon=\"-122.494644\" secsSinceReport=\"41\" predictable=\"true\" heading=\"267\" speedKmHr=\"23\"/>\\n<vehicle id=\"1479\" routeTag=\"N\" dirTag=\"N____O_F00\" lat=\"37.7764499\" lon=\"-122.39391\" secsSinceReport=\"25\" predictable=\"true\" heading=\"43\" speedKmHr=\"12\" leadingVehicleId=\"1414\"/>\\n<vehicle id=\"5604\" routeTag=\"21\" dirTag=\"21___I_F00\" lat=\"37.78879\" lon=\"-122.40209\" secsSinceReport=\"27\" predictable=\"true\" heading=\"46\" speedKmHr=\"14\"/>\\n<vehicle id=\"1427\" routeTag=\"J\" dirTag=\"J____I_F00\" lat=\"37.76856\" lon=\"-122.42903\" secsSinceReport=\"68\" predictable=\"true\" heading=\"355\" speedKmHr=\"14\"/>\\n<vehicle id=\"8717\" routeTag=\"9\" dirTag=\"9____O_L00\" lat=\"37.74856\" lon=\"-122.4042\" secsSinceReport=\"9\" predictable=\"true\" heading=\"130\" speedKmHr=\"46\"/>\\n<vehicle id=\"8359\" routeTag=\"7\" dirTag=\"7____I_F00\" lat=\"37.75076\" lon=\"-122.50778\" secsSinceReport=\"67\" predictable=\"true\" heading=\"219\" speedKmHr=\"0\"/>\\n<vehicle id=\"8234\" routeTag=\"12\" dirTag=\"12___O_F00\" lat=\"37.75216\" lon=\"-122.41873\" secsSinceReport=\"78\" predictable=\"true\" heading=\"86\" speedKmHr=\"0\"/>\\n<vehicle id=\"6220\" routeTag=\"38\" dirTag=\"38___O_S00\" lat=\"37.78776\" lon=\"-122.4051\" secsSinceReport=\"10\" predictable=\"true\" heading=\"261\" speedKmHr=\"14\"/>\\n<vehicle id=\"5434\" routeTag=\"22\" dirTag=\"22___O_F00\" lat=\"37.76498\" lon=\"-122.39898\" secsSinceReport=\"7\" predictable=\"true\" heading=\"85\" speedKmHr=\"20\"/>\\n<vehicle id=\"8212\" routeTag=\"47\" dirTag=\"47___O_F00\" lat=\"37.8065799\" lon=\"-122.41408\" secsSinceReport=\"5\" predictable=\"true\" heading=\"272\" speedKmHr=\"14\"/>\\n<vehicle id=\"1511\" routeTag=\"M\" dirTag=\"M____O_F00\" lat=\"37.79451\" lon=\"-122.39427\" secsSinceReport=\"8\" predictable=\"true\" heading=\"85\" speedKmHr=\"0\"/>\\n<vehicle id=\"6534\" routeTag=\"38\" dirTag=\"38___I_F10\" lat=\"37.78506\" lon=\"-122.42593\" secsSinceReport=\"47\" predictable=\"true\" heading=\"81\" speedKmHr=\"37\"/>\\n<vehicle id=\"8344\" routeTag=\"47\" dirTag=\"47___I_F00\" lat=\"37.77158\" lon=\"-122.41365\" secsSinceReport=\"15\" predictable=\"true\" heading=\"315\" speedKmHr=\"33\"/>\\n<vehicle id=\"5477\" routeTag=\"22\" dirTag=\"22___I_F00\" lat=\"37.76568\" lon=\"-122.41015\" secsSinceReport=\"9\" predictable=\"true\" heading=\"247\" speedKmHr=\"7\"/>\\n<vehicle id=\"1542\" routeTag=\"KT\" dirTag=\"KT___O_F00\" lat=\"37.79033\" lon=\"-122.38924\" secsSinceReport=\"73\" predictable=\"true\" heading=\"314\" speedKmHr=\"20\"/>\\n<vehicle id=\"6562\" routeTag=\"14R\" dirTag=\"14R__O_F00\" lat=\"37.76377\" lon=\"-122.4196\" secsSinceReport=\"8\" predictable=\"true\" heading=\"175\" speedKmHr=\"29\"/>\\n<vehicle id=\"6541\" routeTag=\"8\" dirTag=\"8____I_F00\" lat=\"37.72377\" lon=\"-122.45263\" secsSinceReport=\"328\" predictable=\"true\" heading=\"89\" speedKmHr=\"5\"/>\\n<vehicle id=\"6519\" routeTag=\"38R\" dirTag=\"38R__O_F00\" lat=\"37.78876\" lon=\"-122.39289\" secsSinceReport=\"11\" predictable=\"true\" heading=\"123\" speedKmHr=\"11\"/>\\n<vehicle id=\"6706\" routeTag=\"38R\" dirTag=\"38R__I_F00\" lat=\"37.78363\" lon=\"-122.43734\" secsSinceReport=\"8\" predictable=\"true\" heading=\"78\" speedKmHr=\"31\"/>\\n<vehicle id=\"5640\" routeTag=\"21\" dirTag=\"21___I_F00\" lat=\"37.77838\" lon=\"-122.41859\" secsSinceReport=\"111\" predictable=\"true\" heading=\"81\" speedKmHr=\"21\"/>\\n<vehicle id=\"1080\" routeTag=\"F\" dirTag=\"F____O_S00\" lat=\"37.77026\" lon=\"-122.42556\" secsSinceReport=\"185\" predictable=\"true\" heading=\"225\" speedKmHr=\"31\"/>\\n<vehicle id=\"8324\" routeTag=\"43\" dirTag=\"43___O_F00\" lat=\"37.7236\" lon=\"-122.45234\" secsSinceReport=\"26\" predictable=\"true\" heading=\"175\" speedKmHr=\"18\"/>\\n<vehicle id=\"1548\" routeTag=\"KT\" dirTag=\"KT___O_F00\" lat=\"37.73747\" lon=\"-122.38972\" secsSinceReport=\"5\" predictable=\"true\" heading=\"15\" speedKmHr=\"0\"/>\\n<vehicle id=\"8207\" routeTag=\"43\" dirTag=\"43___O_F00\" lat=\"37.78231\" lon=\"-122.44745\" secsSinceReport=\"69\" predictable=\"true\" heading=\"245\" speedKmHr=\"22\"/>\\n<vehicle id=\"5633\" routeTag=\"45\" dirTag=\"45___I_F00\" lat=\"37.79848\" lon=\"-122.42445\" secsSinceReport=\"16\" predictable=\"true\" heading=\"83\" speedKmHr=\"24\"/>\\n<vehicle id=\"6572\" routeTag=\"8\" dirTag=\"8____O_F00\" lat=\"37.71056\" lon=\"-122.40482\" secsSinceReport=\"5\" predictable=\"true\" heading=\"291\" speedKmHr=\"24\"/>\\n<vehicle id=\"6217\" routeTag=\"38\" dirTag=\"38___O_F10\" lat=\"37.7898799\" lon=\"-122.39227\" secsSinceReport=\"33\" predictable=\"true\" heading=\"218\" speedKmHr=\"0\"/>\\n<vehicle id=\"8662\" routeTag=\"18\" dirTag=\"18___I_F00\" lat=\"37.77765\" lon=\"-122.49314\" secsSinceReport=\"10\" predictable=\"true\" heading=\"359\" speedKmHr=\"20\"/>\\n<vehicle id=\"5591\" routeTag=\"1\" dirTag=\"1____I_F00\" lat=\"37.79411\" lon=\"-122.40697\" secsSinceReport=\"36\" predictable=\"true\" heading=\"82\" speedKmHr=\"0\"/>\\n<vehicle id=\"5565\" routeTag=\"21\" dirTag=\"21___O_F00\" lat=\"37.7943\" lon=\"-122.39435\" secsSinceReport=\"31\" predictable=\"true\" heading=\"218\" speedKmHr=\"0\"/>\\n<vehicle id=\"5620\" routeTag=\"3\" dirTag=\"3____O_F00\" lat=\"37.79182\" lon=\"-122.43997\" secsSinceReport=\"28\" predictable=\"true\" heading=\"259\" speedKmHr=\"27\"/>\\n<vehicle id=\"8721\" routeTag=\"23\" dirTag=\"23___I_F10\" lat=\"37.72783\" lon=\"-122.38001\" secsSinceReport=\"34\" predictable=\"true\" heading=\"301\" speedKmHr=\"5\"/>\\n<vehicle id=\"6513\" routeTag=\"8\" dirTag=\"8____O_F00\" lat=\"37.77877\" lon=\"-122.40229\" secsSinceReport=\"1\" predictable=\"true\" heading=\"211\" speedKmHr=\"11\"/>\\n<vehicle id=\"5502\" routeTag=\"1\" dirTag=\"1____I_F00\" lat=\"37.78477\" lon=\"-122.4668\" secsSinceReport=\"9\" predictable=\"true\" heading=\"52\" speedKmHr=\"0\"/>\\n<vehicle id=\"5621\" routeTag=\"1\" dirTag=\"1____O_F00\" lat=\"37.7863\" lon=\"-122.45465\" secsSinceReport=\"32\" predictable=\"true\" heading=\"261\" speedKmHr=\"0\"/>\\n<vehicle id=\"8606\" routeTag=\"23\" dirTag=\"23___I_F10\" lat=\"37.73525\" lon=\"-122.4099\" secsSinceReport=\"5\" predictable=\"true\" heading=\"49\" speedKmHr=\"48\"/>\\n<vehicle id=\"5527\" routeTag=\"31\" dirTag=\"31___I_F00\" lat=\"37.7837\" lon=\"-122.40922\" secsSinceReport=\"66\" predictable=\"true\" heading=\"164\" speedKmHr=\"18\"/>\\n<vehicle id=\"1443\" routeTag=\"M\" dirTag=\"M____I_F00\" lat=\"37.71983\" lon=\"-122.44706\" secsSinceReport=\"29\" predictable=\"true\" heading=\"118\" speedKmHr=\"5\"/>\\n<vehicle id=\"8657\" routeTag=\"9R\" dirTag=\"9R___O_L00\" lat=\"37.76975\" lon=\"-122.41134\" secsSinceReport=\"46\" predictable=\"true\" heading=\"133\" speedKmHr=\"25\"/>\\n<vehicle id=\"5586\" routeTag=\"5R\" dirTag=\"5R___O_F00\" lat=\"37.77559\" lon=\"-122.44856\" secsSinceReport=\"7\" predictable=\"true\" heading=\"261\" speedKmHr=\"40\"/>\\n<vehicle id=\"5531\" routeTag=\"1\" dirTag=\"1____I_F00\" lat=\"37.79051\" lon=\"-122.4301\" secsSinceReport=\"22\" predictable=\"true\" heading=\"78\" speedKmHr=\"35\"/>\\n<vehicle id=\"1499\" routeTag=\"L\" dirTag=\"L____O_F00\" lat=\"37.77513\" lon=\"-122.41946\" secsSinceReport=\"17\" predictable=\"true\" heading=\"225\" speedKmHr=\"0\"/>\\n<vehicle id=\"5417\" routeTag=\"22\" dirTag=\"22___O_F00\" lat=\"37.76553\" lon=\"-122.41084\" secsSinceReport=\"50\" predictable=\"true\" heading=\"85\" speedKmHr=\"0\"/>\\n<vehicle id=\"5513\" routeTag=\"30\" dirTag=\"30___O_F00\" lat=\"37.78966\" lon=\"-122.4054\" secsSinceReport=\"89\" predictable=\"true\" heading=\"259\" speedKmHr=\"16\"/>\\n<vehicle id=\"1423\" routeTag=\"KT\" dirTag=\"KT___O_F00\" lat=\"37.78378\" lon=\"-122.38809\" secsSinceReport=\"34\" predictable=\"true\" heading=\"2\" speedKmHr=\"11\"/>\\n<vehicle id=\"8523\" routeTag=\"57\" dirTag=\"57___O_F00\" lat=\"37.74101\" lon=\"-122.46564\" secsSinceReport=\"60\" predictable=\"true\" heading=\"218\" speedKmHr=\"0\"/>\\n<vehicle id=\"5557\" routeTag=\"3\" dirTag=\"3____I_F00\" lat=\"37.78663\" lon=\"-122.42125\" secsSinceReport=\"23\" predictable=\"true\" heading=\"82\" speedKmHr=\"14\"/>\\n<vehicle id=\"8503\" routeTag=\"67\" dirTag=\"67___O_F00\" lat=\"37.75233\" lon=\"-122.41787\" secsSinceReport=\"40\" predictable=\"true\" heading=\"263\" speedKmHr=\"0\"/>\\n<vehicle id=\"8410\" routeTag=\"48\" dirTag=\"48___I_F00\" lat=\"37.7541\" lon=\"-122.44117\" secsSinceReport=\"36\" predictable=\"true\" heading=\"37\" speedKmHr=\"5\"/>\\n<vehicle id=\"7234\" routeTag=\"49\" dirTag=\"49___O_F00\" lat=\"37.79511\" lon=\"-122.42341\" secsSinceReport=\"10\" predictable=\"true\" heading=\"174\" speedKmHr=\"24\"/>\\n<vehicle id=\"1436\" routeTag=\"J\" dirTag=\"J____I_F00\" lat=\"37.7210899\" lon=\"-122.44721\" secsSinceReport=\"74\" predictable=\"true\" heading=\"218\" speedKmHr=\"0\"/>\\n<vehicle id=\"8518\" routeTag=\"67\" dirTag=\"67___O_F00\" lat=\"37.73744\" lon=\"-122.41347\" secsSinceReport=\"30\" predictable=\"true\" heading=\"182\" speedKmHr=\"27\"/>\\n<vehicle id=\"8613\" routeTag=\"18\" dirTag=\"18___O_F00\" lat=\"37.72698\" lon=\"-122.47761\" secsSinceReport=\"27\" predictable=\"true\" heading=\"96\" speedKmHr=\"42\"/>\\n<vehicle id=\"6501\" routeTag=\"9\" lat=\"37.7671\" lon=\"-122.41451\" secsSinceReport=\"2614\" predictable=\"true\" heading=\"218\" speedKmHr=\"0\"/>\\n<vehicle id=\"5466\" routeTag=\"22\" dirTag=\"22___O_F00\" lat=\"37.79495\" lon=\"-122.43684\" secsSinceReport=\"32\" predictable=\"true\" heading=\"168\" speedKmHr=\"20\"/>\\n<vehicle id=\"5404\" routeTag=\"33\" dirTag=\"33___I_F00\" lat=\"37.76968\" lon=\"-122.447\" secsSinceReport=\"17\" predictable=\"true\" heading=\"351\" speedKmHr=\"0\"/>\\n<vehicle id=\"6554\" routeTag=\"14\" lat=\"37.76655\" lon=\"-122.41482\" secsSinceReport=\"7001\" predictable=\"true\" heading=\"218\" speedKmHr=\"0\"/>\\n<vehicle id=\"8182\" routeTag=\"28\" dirTag=\"28___O_F00\" lat=\"37.7465\" lon=\"-122.47603\" secsSinceReport=\"18\" predictable=\"true\" heading=\"177\" speedKmHr=\"0\"/>\\n<vehicle id=\"8231\" routeTag=\"19\" dirTag=\"19___I_F00\" lat=\"37.77938\" lon=\"-122.41122\" secsSinceReport=\"6\" predictable=\"true\" heading=\"314\" speedKmHr=\"29\"/>\\n<vehicle id=\"7103\" routeTag=\"14\" dirTag=\"14___O_F00\" lat=\"37.72293\" lon=\"-122.43623\" secsSinceReport=\"57\" predictable=\"true\" heading=\"210\" speedKmHr=\"14\"/>\\n<vehicle id=\"8645\" routeTag=\"9R\" dirTag=\"9R___O_L00\" lat=\"37.78325\" lon=\"-122.40974\" secsSinceReport=\"10\" predictable=\"true\" heading=\"224\" speedKmHr=\"44\"/>\\n<vehicle id=\"8605\" routeTag=\"9R\" dirTag=\"9R___O_L00\" lat=\"37.79256\" lon=\"-122.39696\" secsSinceReport=\"9\" predictable=\"true\" heading=\"192\" speedKmHr=\"51\"/>\\n<vehicle id=\"8223\" routeTag=\"2\" dirTag=\"2____O_F00\" lat=\"37.79403\" lon=\"-122.39557\" secsSinceReport=\"50\" predictable=\"true\" heading=\"228\" speedKmHr=\"0\"/>\\n<vehicle id=\"5562\" routeTag=\"5R\" dirTag=\"5R___I_F00\" lat=\"37.7737\" lon=\"-122.50991\" secsSinceReport=\"53\" predictable=\"true\" heading=\"218\" speedKmHr=\"0\"/>\\n<vehicle id=\"5594\" routeTag=\"1\" dirTag=\"1____I_F00\" lat=\"37.7798299\" lon=\"-122.49319\" secsSinceReport=\"34\" predictable=\"true\" heading=\"270\" speedKmHr=\"0\"/>\\n<vehicle id=\"8747\" routeTag=\"27\" dirTag=\"27___O_F00\" lat=\"37.7903499\" lon=\"-122.41725\" secsSinceReport=\"5\" predictable=\"true\" heading=\"171\" speedKmHr=\"14\"/>\\n<vehicle id=\"1470\" routeTag=\"M\" dirTag=\"M____O_F00\" lat=\"37.72731\" lon=\"-122.475\" secsSinceReport=\"5\" predictable=\"true\" heading=\"184\" speedKmHr=\"0\"/>\\n<vehicle id=\"8194\" routeTag=\"6\" dirTag=\"6____O_F00\" lat=\"37.75193\" lon=\"-122.46674\" secsSinceReport=\"18\" predictable=\"true\" heading=\"176\" speedKmHr=\"24\"/>\\n<vehicle id=\"8622\" routeTag=\"9\" dirTag=\"9____O_L00\" lat=\"37.71279\" lon=\"-122.40215\" secsSinceReport=\"48\" predictable=\"true\" heading=\"178\" speedKmHr=\"24\"/>\\n<vehicle id=\"1450\" routeTag=\"N\" dirTag=\"N____I_F00\" lat=\"37.76521\" lon=\"-122.45496\" secsSinceReport=\"5\" predictable=\"true\" heading=\"80\" speedKmHr=\"29\"/>\\n<vehicle id=\"8740\" routeTag=\"25\" dirTag=\"25___O_F00\" lat=\"37.81337\" lon=\"-122.37097\" secsSinceReport=\"15\" predictable=\"true\" heading=\"14\" speedKmHr=\"61\"/>\\n<vehicle id=\"6234\" routeTag=\"8\" dirTag=\"8____I_F00\" lat=\"37.80669\" lon=\"-122.40712\" secsSinceReport=\"5\" predictable=\"true\" heading=\"356\" speedKmHr=\"0\"/>\\n<vehicle id=\"5478\" routeTag=\"24\" dirTag=\"24___O_F00\" lat=\"37.76196\" lon=\"-122.43512\" secsSinceReport=\"24\" predictable=\"true\" heading=\"166\" speedKmHr=\"14\"/>\\n<vehicle id=\"6525\" routeTag=\"38R\" dirTag=\"38R__O_F00\" lat=\"37.78606\" lon=\"-122.41879\" secsSinceReport=\"34\" predictable=\"true\" heading=\"261\" speedKmHr=\"35\"/>\\n<vehicle id=\"5585\" routeTag=\"5R\" dirTag=\"5R___O_F00\" lat=\"37.79021\" lon=\"-122.39352\" secsSinceReport=\"0\" predictable=\"true\" heading=\"218\" speedKmHr=\"0\"/>\\n<vehicle id=\"8205\" routeTag=\"10\" dirTag=\"10___O_G00\" lat=\"37.79254\" lon=\"-122.43509\" secsSinceReport=\"40\" predictable=\"true\" heading=\"218\" speedKmHr=\"0\"/>\\n<vehicle id=\"6250\" routeTag=\"38\" dirTag=\"38___O_F10\" lat=\"37.78098\" lon=\"-122.46798\" secsSinceReport=\"23\" predictable=\"true\" heading=\"267\" speedKmHr=\"0\"/>\\n<vehicle id=\"8034\" routeTag=\"38R\" dirTag=\"38R__I_F00\" lat=\"37.76957\" lon=\"-122.51098\" secsSinceReport=\"61\" predictable=\"true\" heading=\"218\" speedKmHr=\"0\"/>\\n<vehicle id=\"5485\" routeTag=\"5R\" dirTag=\"5R___I_F00\" lat=\"37.7735\" lon=\"-122.50965\" secsSinceReport=\"27\" predictable=\"true\" heading=\"218\" speedKmHr=\"0\"/>\\n<vehicle id=\"6574\" routeTag=\"38\" dirTag=\"38___I_F10\" lat=\"37.78116\" lon=\"-122.45873\" secsSinceReport=\"11\" predictable=\"true\" heading=\"90\" speedKmHr=\"25\"/>\\n<vehicle id=\"8144\" routeTag=\"43\" dirTag=\"43___I_F00\" lat=\"37.78584\" lon=\"-122.44649\" secsSinceReport=\"10\" predictable=\"true\" heading=\"350\" speedKmHr=\"29\"/>\\n<vehicle id=\"5629\" routeTag=\"30\" dirTag=\"30___I_S10\" lat=\"37.8055499\" lon=\"-122.4178\" secsSinceReport=\"7\" predictable=\"true\" heading=\"131\" speedKmHr=\"27\"/>\\n<vehicle id=\"7215\" routeTag=\"49\" dirTag=\"49___I_F00\" lat=\"37.76158\" lon=\"-122.41936\" secsSinceReport=\"34\" predictable=\"true\" heading=\"355\" speedKmHr=\"7\"/>\\n<vehicle id=\"5503\" routeTag=\"30\" dirTag=\"30___I_S10\" lat=\"37.79511\" lon=\"-122.40814\" secsSinceReport=\"1\" predictable=\"true\" heading=\"164\" speedKmHr=\"7\"/>\\n<vehicle id=\"1512\" routeTag=\"L\" dirTag=\"L____I_F00\" lat=\"37.73646\" lon=\"-122.50535\" secsSinceReport=\"77\" predictable=\"true\" heading=\"177\" speedKmHr=\"7\" leadingVehicleId=\"1468\"/>\\n<vehicle id=\"1533\" routeTag=\"M\" dirTag=\"M____O_F00\" lat=\"37.79451\" lon=\"-122.39427\" secsSinceReport=\"8\" predictable=\"true\" heading=\"85\" speedKmHr=\"0\" leadingVehicleId=\"1511\"/>\\n<vehicle id=\"5592\" routeTag=\"1\" dirTag=\"1____O_F00\" lat=\"37.78636\" lon=\"-122.45432\" secsSinceReport=\"8\" predictable=\"true\" heading=\"261\" speedKmHr=\"0\"/>\\n<vehicle id=\"1517\" routeTag=\"N\" dirTag=\"N____O_F00\" lat=\"37.76041\" lon=\"-122.50657\" secsSinceReport=\"38\" predictable=\"true\" heading=\"265\" speedKmHr=\"0\"/>\\n<vehicle id=\"7237\" routeTag=\"14\" dirTag=\"14___I_F00\" lat=\"37.77719\" lon=\"-122.41351\" secsSinceReport=\"16\" predictable=\"true\" heading=\"45\" speedKmHr=\"1\"/>\\n<vehicle id=\"5601\" routeTag=\"45\" dirTag=\"45___O_F00\" lat=\"37.79751\" lon=\"-122.43252\" secsSinceReport=\"15\" predictable=\"true\" heading=\"261\" speedKmHr=\"25\"/>\\n<vehicle id=\"1453\" routeTag=\"L\" dirTag=\"L____O_F00\" lat=\"37.74579\" lon=\"-122.4616\" secsSinceReport=\"2\" predictable=\"true\" heading=\"219\" speedKmHr=\"68\" leadingVehicleId=\"1434\"/>\\n<vehicle id=\"8426\" routeTag=\"48\" dirTag=\"48___O_F00\" lat=\"37.75304\" lon=\"-122.40615\" secsSinceReport=\"2\" predictable=\"true\" heading=\"266\" speedKmHr=\"11\"/>\\n<vehicle id=\"8456\" routeTag=\"44\" dirTag=\"44___I_F00\" lat=\"37.73387\" lon=\"-122.43557\" secsSinceReport=\"7\" predictable=\"true\" heading=\"282\" speedKmHr=\"35\"/>\\n<vehicle id=\"5553\" routeTag=\"30\" dirTag=\"30___O_S10\" lat=\"37.80068\" lon=\"-122.41056\" secsSinceReport=\"23\" predictable=\"true\" heading=\"311\" speedKmHr=\"0\"/>\\n<vehicle id=\"1058\" routeTag=\"F\" dirTag=\"F____I_F00\" lat=\"37.767323\" lon=\"-122.42916\" secsSinceReport=\"3\" predictable=\"true\" heading=\"45\" speedKmHr=\"0\"/>\\n<vehicle id=\"6538\" routeTag=\"14R\" dirTag=\"14R__O_F00\" lat=\"37.79209\" lon=\"-122.39467\" secsSinceReport=\"221\" predictable=\"true\" heading=\"225\" speedKmHr=\"0\"/>\\n<vehicle id=\"8169\" routeTag=\"6\" dirTag=\"6____O_F00\" lat=\"37.7551\" lon=\"-122.46584\" secsSinceReport=\"23\" predictable=\"true\" heading=\"178\" speedKmHr=\"25\"/>\\n<vehicle id=\"5532\" routeTag=\"45\" dirTag=\"45___O_F00\" lat=\"37.80036\" lon=\"-122.40995\" secsSinceReport=\"35\" predictable=\"true\" heading=\"265\" speedKmHr=\"0\"/>\\n<vehicle id=\"1490\" routeTag=\"M\" dirTag=\"M____O_F00\" lat=\"37.75551\" lon=\"-122.44834\" secsSinceReport=\"15\" predictable=\"true\" heading=\"240\" speedKmHr=\"68\"/>\\n<vehicle id=\"8302\" routeTag=\"47\" dirTag=\"47___O_F00\" lat=\"37.78804\" lon=\"-122.42189\" secsSinceReport=\"7\" predictable=\"true\" heading=\"170\" speedKmHr=\"25\"/>\\n<vehicle id=\"5490\" routeTag=\"5R\" dirTag=\"5R___O_F00\" lat=\"37.78786\" lon=\"-122.40425\" secsSinceReport=\"8\" predictable=\"true\" heading=\"233\" speedKmHr=\"32\"/>\\n<vehicle id=\"8120\" routeTag=\"10\" dirTag=\"10___I_G00\" lat=\"37.79702\" lon=\"-122.40674\" secsSinceReport=\"51\" predictable=\"true\" heading=\"261\" speedKmHr=\"0\"/>\\n<vehicle id=\"8517\" routeTag=\"66\" dirTag=\"66___I_F00\" lat=\"37.75694\" lon=\"-122.47344\" secsSinceReport=\"1\" predictable=\"true\" heading=\"2\" speedKmHr=\"18\"/>\\n<vehicle id=\"1539\" routeTag=\"M\" dirTag=\"M____I_F00\" lat=\"37.75614\" lon=\"-122.44696\" secsSinceReport=\"2\" predictable=\"true\" heading=\"60\" speedKmHr=\"69\"/>\\n<vehicle id=\"6545\" routeTag=\"14R\" dirTag=\"14R__O_F00\" lat=\"37.79212\" lon=\"-122.39485\" secsSinceReport=\"2\" predictable=\"true\" heading=\"225\" speedKmHr=\"0\"/>\\n<vehicle id=\"6701\" routeTag=\"14R\" dirTag=\"14R__I_F00\" lat=\"37.78797\" lon=\"-122.39993\" secsSinceReport=\"3\" predictable=\"true\" heading=\"45\" speedKmHr=\"0\"/>\\n<vehicle id=\"1422\" routeTag=\"KT\" dirTag=\"KT___I_F00\" lat=\"37.75163\" lon=\"-122.38766\" secsSinceReport=\"1\" predictable=\"true\" heading=\"175\" speedKmHr=\"44\"/>\\n<vehicle id=\"8102\" routeTag=\"28\" dirTag=\"28___I_F00\" lat=\"37.76581\" lon=\"-122.47726\" secsSinceReport=\"58\" predictable=\"true\" heading=\"357\" speedKmHr=\"24\"/>\\n<vehicle id=\"1526\" routeTag=\"N\" dirTag=\"N____O_F00\" lat=\"37.78255\" lon=\"-122.41005\" secsSinceReport=\"17\" predictable=\"true\" heading=\"226\" speedKmHr=\"71\" leadingVehicleId=\"1481\"/>\\n<vehicle id=\"8612\" routeTag=\"29\" dirTag=\"29___O_F00\" lat=\"37.76476\" lon=\"-122.49437\" secsSinceReport=\"2\" predictable=\"true\" heading=\"270\" speedKmHr=\"37\"/>\\n<vehicle id=\"8511\" routeTag=\"56\" dirTag=\"56___I_F00\" lat=\"37.71499\" lon=\"-122.39976\" secsSinceReport=\"9\" predictable=\"true\" heading=\"51\" speedKmHr=\"31\"/>\\n<vehicle id=\"8718\" routeTag=\"5\" dirTag=\"5____O_S00\" lat=\"37.78107\" lon=\"-122.41352\" secsSinceReport=\"4\" predictable=\"true\" heading=\"261\" speedKmHr=\"0\"/>\\n<vehicle id=\"5422\" routeTag=\"22\" dirTag=\"22___O_F00\" lat=\"37.76464\" lon=\"-122.42873\" secsSinceReport=\"1\" predictable=\"true\" heading=\"175\" speedKmHr=\"0\"/>\\n<vehicle id=\"8720\" routeTag=\"5\" dirTag=\"5____I_S00\" lat=\"37.78716\" lon=\"-122.40451\" secsSinceReport=\"61\" predictable=\"true\" heading=\"45\" speedKmHr=\"25\"/>\\n<vehicle id=\"1444\" routeTag=\"J\" dirTag=\"J____I_F00\" lat=\"37.7721\" lon=\"-122.42295\" secsSinceReport=\"7\" predictable=\"true\" heading=\"46\" speedKmHr=\"76\"/>\\n<vehicle id=\"8338\" routeTag=\"43\" dirTag=\"43___O_F00\" lat=\"37.8008\" lon=\"-122.45428\" secsSinceReport=\"4\" predictable=\"true\" heading=\"297\" speedKmHr=\"35\"/>\\n<vehicle id=\"5445\" routeTag=\"33\" dirTag=\"33___I_F00\" lat=\"37.75701\" lon=\"-122.40661\" secsSinceReport=\"24\" predictable=\"true\" heading=\"0\" speedKmHr=\"26\"/>\\n<vehicle id=\"8638\" routeTag=\"5\" dirTag=\"5____I_S00\" lat=\"37.77587\" lon=\"-122.44667\" secsSinceReport=\"46\" predictable=\"true\" heading=\"78\" speedKmHr=\"1\"/>\\n<vehicle id=\"5498\" routeTag=\"45\" dirTag=\"45___I_F00\" lat=\"37.78213\" lon=\"-122.40564\" secsSinceReport=\"15\" predictable=\"true\" heading=\"136\" speedKmHr=\"9\"/>\\n<vehicle id=\"8736\" routeTag=\"23\" dirTag=\"23___I_F10\" lat=\"37.73438\" lon=\"-122.4819\" secsSinceReport=\"4\" predictable=\"true\" heading=\"86\" speedKmHr=\"50\"/>\\n<vehicle id=\"8145\" routeTag=\"43\" dirTag=\"43___I_F00\" lat=\"37.71127\" lon=\"-122.43186\" secsSinceReport=\"16\" predictable=\"true\" heading=\"157\" speedKmHr=\"25\"/>\\n<vehicle id=\"5630\" routeTag=\"30\" dirTag=\"30___O_F00\" lat=\"37.7822699\" lon=\"-122.39699\" secsSinceReport=\"22\" predictable=\"true\" heading=\"315\" speedKmHr=\"0\"/>\\n<vehicle id=\"8708\" routeTag=\"55\" dirTag=\"55___O_F01\" lat=\"37.76525\" lon=\"-122.4169\" secsSinceReport=\"1\" predictable=\"true\" heading=\"85\" speedKmHr=\"35\"/>\\n<vehicle id=\"1503\" routeTag=\"L\" dirTag=\"L____O_F00\" lat=\"37.7947599\" lon=\"-122.39444\" secsSinceReport=\"10\" predictable=\"true\" heading=\"240\" speedKmHr=\"45\" leadingVehicleId=\"1534\"/>\\n<vehicle id=\"8209\" routeTag=\"43\" dirTag=\"43___I_F00\" lat=\"37.71266\" lon=\"-122.4328\" secsSinceReport=\"117\" predictable=\"true\" heading=\"218\" speedKmHr=\"0\"/>\\n<vehicle id=\"5438\" routeTag=\"33\" dirTag=\"33___O_F00\" lat=\"37.76025\" lon=\"-122.44359\" secsSinceReport=\"11\" predictable=\"true\" heading=\"55\" speedKmHr=\"0\"/>\\n<vehicle id=\"7117\" routeTag=\"49\" dirTag=\"49___I_F00\" lat=\"37.7549599\" lon=\"-122.4187\" secsSinceReport=\"13\" predictable=\"true\" heading=\"356\" speedKmHr=\"40\"/>\\n<vehicle id=\"1466\" routeTag=\"J\" dirTag=\"J____O_F00\" lat=\"37.72765\" lon=\"-122.44102\" secsSinceReport=\"11\" predictable=\"true\" heading=\"208\" speedKmHr=\"40\"/>\\n<vehicle id=\"8655\" routeTag=\"9\" dirTag=\"9____I_S00\" lat=\"37.71192\" lon=\"-122.40304\" secsSinceReport=\"42\" predictable=\"true\" heading=\"41\" speedKmHr=\"0\"/>\\n<vehicle id=\"5611\" routeTag=\"1\" dirTag=\"1____O_F00\" lat=\"37.78626\" lon=\"-122.455\" secsSinceReport=\"0\" predictable=\"true\" heading=\"261\" speedKmHr=\"24\"/>\\n<vehicle id=\"5521\" routeTag=\"30\" dirTag=\"30___O_S10\" lat=\"37.78835\" lon=\"-122.40359\" secsSinceReport=\"27\" predictable=\"true\" heading=\"351\" speedKmHr=\"7\"/>\\n<vehicle id=\"5509\" routeTag=\"45\" dirTag=\"45___I_F00\" lat=\"37.77695\" lon=\"-122.39514\" secsSinceReport=\"29\" predictable=\"true\" heading=\"50\" speedKmHr=\"6\"/>\\n<vehicle id=\"1409\" routeTag=\"M\" dirTag=\"M____O_F00\" lat=\"37.73341\" lon=\"-122.47266\" secsSinceReport=\"1\" predictable=\"true\" heading=\"211\" speedKmHr=\"46\" leadingVehicleId=\"1457\"/>\\n<vehicle id=\"1445\" routeTag=\"L\" dirTag=\"L____O_F00\" lat=\"37.77513\" lon=\"-122.41946\" secsSinceReport=\"17\" predictable=\"true\" heading=\"225\" speedKmHr=\"0\" leadingVehicleId=\"1499\"/>\\n<vehicle id=\"6209\" routeTag=\"38\" dirTag=\"38___O_F10\" lat=\"37.78596\" lon=\"-122.41962\" secsSinceReport=\"72\" predictable=\"true\" heading=\"261\" speedKmHr=\"0\"/>\\n<vehicle id=\"1476\" routeTag=\"N\" dirTag=\"N____O_F00\" lat=\"37.77781\" lon=\"-122.39219\" secsSinceReport=\"36\" predictable=\"true\" heading=\"45\" speedKmHr=\"0\"/>\\n<vehicle id=\"8746\" routeTag=\"7\" dirTag=\"7____I_F00\" lat=\"37.75308\" lon=\"-122.50291\" secsSinceReport=\"34\" predictable=\"true\" heading=\"87\" speedKmHr=\"27\"/>\\n<vehicle id=\"5577\" routeTag=\"1\" dirTag=\"1____O_F00\" lat=\"37.79069\" lon=\"-122.42759\" secsSinceReport=\"38\" predictable=\"true\" heading=\"263\" speedKmHr=\"11\"/>\\n<vehicle id=\"6516\" routeTag=\"38\" dirTag=\"38___O_S00\" lat=\"37.7809\" lon=\"-122.46839\" secsSinceReport=\"17\" predictable=\"true\" heading=\"265\" speedKmHr=\"42\"/>\\n<vehicle id=\"8648\" routeTag=\"7\" dirTag=\"7____O_F00\" lat=\"37.78192\" lon=\"-122.41113\" secsSinceReport=\"18\" predictable=\"true\" heading=\"225\" speedKmHr=\"44\"/>\\n<vehicle id=\"6228\" routeTag=\"38R\" dirTag=\"38R__I_F00\" lat=\"37.78904\" lon=\"-122.40211\" secsSinceReport=\"17\" predictable=\"true\" heading=\"45\" speedKmHr=\"14\"/>\\n<vehicle id=\"8168\" routeTag=\"6\" dirTag=\"6____O_F00\" lat=\"37.7845299\" lon=\"-122.40739\" secsSinceReport=\"69\" predictable=\"true\" heading=\"223\" speedKmHr=\"18\"/>\\n<vehicle id=\"5631\" routeTag=\"21\" dirTag=\"21___I_F00\" lat=\"37.77485\" lon=\"-122.4535\" secsSinceReport=\"76\" predictable=\"true\" heading=\"75\" speedKmHr=\"0\"/>\\n<vehicle id=\"5544\" routeTag=\"1\" dirTag=\"1____I_F00\" lat=\"37.78398\" lon=\"-122.48199\" secsSinceReport=\"9\" predictable=\"true\" heading=\"87\" speedKmHr=\"0\"/>\\n<vehicle id=\"8660\" routeTag=\"9R\" dirTag=\"9R___O_L00\" lat=\"37.7546899\" lon=\"-122.40646\" secsSinceReport=\"4\" predictable=\"true\" heading=\"174\" speedKmHr=\"12\"/>\\n<vehicle id=\"8522\" routeTag=\"36\" dirTag=\"36___I_F00\" lat=\"37.74034\" lon=\"-122.45026\" secsSinceReport=\"15\" predictable=\"true\" heading=\"58\" speedKmHr=\"22\"/>\\n<vehicle id=\"1071\" routeTag=\"F\" dirTag=\"F____O_F00\" lat=\"37.79145\" lon=\"-122.39896\" secsSinceReport=\"1\" predictable=\"true\" heading=\"224\" speedKmHr=\"0\"/>\\n<vehicle id=\"8193\" routeTag=\"25\" lat=\"37.7558999\" lon=\"-122.39143\" secsSinceReport=\"3952\" predictable=\"true\" heading=\"219\" speedKmHr=\"0\"/>\\n<vehicle id=\"8646\" routeTag=\"9\" dirTag=\"9____I_S00\" lat=\"37.70691\" lon=\"-122.41544\" secsSinceReport=\"758\" predictable=\"true\" heading=\"218\" speedKmHr=\"0\"/>\\n<vehicle id=\"8516\" routeTag=\"66\" dirTag=\"66___O_F00\" lat=\"37.75835\" lon=\"-122.46877\" secsSinceReport=\"4\" predictable=\"true\" heading=\"267\" speedKmHr=\"29\"/>\\n<vehicle id=\"1475\" routeTag=\"N\" dirTag=\"N____I_F00\" lat=\"37.79115\" lon=\"-122.39042\" secsSinceReport=\"11\" predictable=\"true\" heading=\"145\" speedKmHr=\"0\"/>\\n<vehicle id=\"6505\" routeTag=\"38\" dirTag=\"38___I_F10\" lat=\"37.7924099\" lon=\"-122.40004\" secsSinceReport=\"13\" predictable=\"true\" heading=\"45\" speedKmHr=\"5\"/>\\n<vehicle id=\"8529\" routeTag=\"36\" dirTag=\"36___I_F00\" lat=\"37.74765\" lon=\"-122.42037\" secsSinceReport=\"13\" predictable=\"true\" heading=\"218\" speedKmHr=\"0\"/>\\n<vehicle id=\"8153\" routeTag=\"10\" dirTag=\"10___I_G00\" lat=\"37.75406\" lon=\"-122.39598\" secsSinceReport=\"37\" predictable=\"true\" heading=\"324\" speedKmHr=\"18\"/>\\n<vehicle id=\"6537\" routeTag=\"38\" dirTag=\"38___I_S00\" lat=\"37.77966\" lon=\"-122.49137\" secsSinceReport=\"17\" predictable=\"true\" heading=\"218\" speedKmHr=\"0\"/>\\n<vehicle id=\"6251\" routeTag=\"38R\" dirTag=\"38R__O_F00\" lat=\"37.789978\" lon=\"-122.4006\" secsSinceReport=\"18\" predictable=\"true\" heading=\"224\" speedKmHr=\"0\"/>\\n<vehicle id=\"6567\" routeTag=\"14R\" dirTag=\"14R__O_F00\" lat=\"37.74281\" lon=\"-122.42176\" secsSinceReport=\"23\" predictable=\"true\" heading=\"209\" speedKmHr=\"14\"/>\\n<vehicle id=\"1532\" routeTag=\"N\" dirTag=\"N____I_F00\" lat=\"37.76035\" lon=\"-122.50821\" secsSinceReport=\"45\" predictable=\"true\" heading=\"86\" speedKmHr=\"7\"/>\\n<vehicle id=\"5482\" routeTag=\"24\" dirTag=\"24___I_F00\" lat=\"37.78028\" lon=\"-122.4389\" secsSinceReport=\"3\" predictable=\"true\" heading=\"350\" speedKmHr=\"7\"/>\\n<vehicle id=\"8448\" routeTag=\"44\" dirTag=\"44___O_F00\" lat=\"37.76941\" lon=\"-122.46972\" secsSinceReport=\"17\" predictable=\"true\" heading=\"197\" speedKmHr=\"22\"/>\\n<vehicle id=\"49\" routeTag=\"61\" dirTag=\"61___I_F00\" lat=\"37.79298\" lon=\"-122.39738\" secsSinceReport=\"16\" predictable=\"true\" heading=\"82\" speedKmHr=\"0\"/>\\n<vehicle id=\"7130\" routeTag=\"49\" dirTag=\"49___O_F00\" lat=\"37.74274\" lon=\"-122.42183\" secsSinceReport=\"38\" predictable=\"true\" heading=\"207\" speedKmHr=\"7\"/>\\n<vehicle id=\"5526\" routeTag=\"30\" dirTag=\"30___O_F00\" lat=\"37.80094\" lon=\"-122.43524\" secsSinceReport=\"3\" predictable=\"true\" heading=\"261\" speedKmHr=\"24\"/>\\n<vehicle id=\"8317\" routeTag=\"12\" dirTag=\"12___O_F00\" lat=\"37.79786\" lon=\"-122.40629\" secsSinceReport=\"4\" predictable=\"true\" heading=\"81\" speedKmHr=\"0\"/>\\n<vehicle id=\"8439\" routeTag=\"29\" dirTag=\"29___O_F00\" lat=\"37.78937\" lon=\"-122.48244\" secsSinceReport=\"32\" predictable=\"true\" heading=\"184\" speedKmHr=\"50\"/>\\n<vehicle id=\"8749\" routeTag=\"29\" dirTag=\"29___I_F00\" lat=\"37.7230599\" lon=\"-122.43581\" secsSinceReport=\"1\" predictable=\"true\" heading=\"301\" speedKmHr=\"0\"/>\\n<vehicle id=\"1053\" routeTag=\"F\" dirTag=\"F____I_F00\" lat=\"37.8075\" lon=\"-122.41735\" secsSinceReport=\"11\" predictable=\"true\" heading=\"175\" speedKmHr=\"0\"/>\\n<vehicle id=\"5595\" routeTag=\"31\" dirTag=\"31___I_F00\" lat=\"37.77632\" lon=\"-122.48411\" secsSinceReport=\"0\" predictable=\"true\" heading=\"80\" speedKmHr=\"3\"/>\\n<vehicle id=\"1489\" routeTag=\"M\" dirTag=\"M____I_F00\" lat=\"37.71963\" lon=\"-122.4475\" secsSinceReport=\"50\" predictable=\"true\" heading=\"28\" speedKmHr=\"3\" leadingVehicleId=\"1443\"/>\\n<vehicle id=\"8734\" routeTag=\"7\" dirTag=\"7____O_F00\" lat=\"37.77113\" lon=\"-122.43886\" secsSinceReport=\"14\" predictable=\"true\" heading=\"262\" speedKmHr=\"20\"/>\\n<vehicle id=\"1425\" routeTag=\"N\" dirTag=\"N____O_F00\" lat=\"37.77781\" lon=\"-122.3922\" secsSinceReport=\"57\" predictable=\"true\" heading=\"45\" speedKmHr=\"0\" leadingVehicleId=\"1476\"/>\\n<vehicle id=\"6504\" routeTag=\"14R\" dirTag=\"14R__I_F00\" lat=\"37.70801\" lon=\"-122.45482\" secsSinceReport=\"16\" predictable=\"true\" heading=\"64\" speedKmHr=\"27\"/>\\n<vehicle id=\"5487\" routeTag=\"30\" dirTag=\"30___I_S10\" lat=\"37.79716\" lon=\"-122.4085\" secsSinceReport=\"19\" predictable=\"true\" heading=\"171\" speedKmHr=\"0\"/>\\n<vehicle id=\"5419\" routeTag=\"33\" lat=\"37.7583\" lon=\"-122.44416\" secsSinceReport=\"12399\" predictable=\"true\" heading=\"307\" speedKmHr=\"12\"/>\\n<vehicle id=\"8652\" routeTag=\"54\" dirTag=\"54___O_F00\" lat=\"37.72201\" lon=\"-122.44992\" secsSinceReport=\"28\" predictable=\"true\" heading=\"297\" speedKmHr=\"33\"/>\\n<vehicle id=\"5556\" routeTag=\"5R\" dirTag=\"5R___O_F00\" lat=\"37.77338\" lon=\"-122.46715\" secsSinceReport=\"54\" predictable=\"true\" heading=\"268\" speedKmHr=\"27\"/>\\n<vehicle id=\"8323\" routeTag=\"43\" dirTag=\"43___I_F00\" lat=\"37.79916\" lon=\"-122.45263\" secsSinceReport=\"14\" predictable=\"true\" heading=\"135\" speedKmHr=\"14\"/>\\n<vehicle id=\"5450\" routeTag=\"22\" dirTag=\"22___O_F00\" lat=\"37.76265\" lon=\"-122.39756\" secsSinceReport=\"31\" predictable=\"true\" heading=\"176\" speedKmHr=\"0\"/>\\n<vehicle id=\"5616\" routeTag=\"45\" dirTag=\"45___I_F00\" lat=\"37.79718\" lon=\"-122.44723\" secsSinceReport=\"42\" predictable=\"true\" heading=\"218\" speedKmHr=\"0\"/>\\n<vehicle id=\"5468\" routeTag=\"22\" dirTag=\"22___I_F00\" lat=\"37.76921\" lon=\"-122.4291\" secsSinceReport=\"31\" predictable=\"true\" heading=\"355\" speedKmHr=\"0\"/>\\n<vehicle id=\"5449\" routeTag=\"33\" dirTag=\"33___I_F00\" lat=\"37.76518\" lon=\"-122.41786\" secsSinceReport=\"131\" predictable=\"true\" heading=\"263\" speedKmHr=\"18\"/>\\n<vehicle id=\"5520\" routeTag=\"31\" dirTag=\"31___O_F00\" lat=\"37.7935299\" lon=\"-122.39607\" secsSinceReport=\"38\" predictable=\"true\" heading=\"228\" speedKmHr=\"0\"/>\\n<vehicle id=\"7239\" routeTag=\"49\" dirTag=\"49___I_F00\" lat=\"37.80196\" lon=\"-122.4246\" secsSinceReport=\"39\" predictable=\"true\" heading=\"351\" speedKmHr=\"14\"/>\\n<vehicle id=\"1501\" routeTag=\"M\" dirTag=\"M____I_F00\" lat=\"37.7203\" lon=\"-122.44695\" secsSinceReport=\"37\" predictable=\"true\" heading=\"218\" speedKmHr=\"0\"/>\\n<vehicle id=\"1442\" routeTag=\"M\" dirTag=\"M____I_F00\" lat=\"37.71675\" lon=\"-122.47212\" secsSinceReport=\"57\" predictable=\"true\" heading=\"323\" speedKmHr=\"0\"/>\\n<vehicle id=\"6532\" routeTag=\"14R\" dirTag=\"14R__I_F00\" lat=\"37.7426699\" lon=\"-122.42172\" secsSinceReport=\"11\" predictable=\"true\" heading=\"28\" speedKmHr=\"11\"/>\\n<vehicle id=\"8415\" routeTag=\"7\" dirTag=\"7____O_F00\" lat=\"37.75511\" lon=\"-122.48086\" secsSinceReport=\"12\" predictable=\"true\" heading=\"176\" speedKmHr=\"40\"/>\\n<vehicle id=\"20\" routeTag=\"59\" dirTag=\"59___I_F00\" lat=\"37.792\" lon=\"-122.40918\" secsSinceReport=\"21\" predictable=\"true\" heading=\"171\" speedKmHr=\"0\"/>\\n<vehicle id=\"5607\" routeTag=\"21\" dirTag=\"21___O_F00\" lat=\"37.78126\" lon=\"-122.41182\" secsSinceReport=\"25\" predictable=\"true\" heading=\"216\" speedKmHr=\"11\"/>\\n<vehicle id=\"5479\" routeTag=\"22\" dirTag=\"22___I_F00\" lat=\"37.76475\" lon=\"-122.42557\" secsSinceReport=\"23\" predictable=\"true\" heading=\"265\" speedKmHr=\"33\"/>\\n<vehicle id=\"8107\" routeTag=\"47\" dirTag=\"47___I_F00\" lat=\"37.80729\" lon=\"-122.41218\" secsSinceReport=\"25\" predictable=\"true\" heading=\"354\" speedKmHr=\"0\"/>\\n<vehicle id=\"5560\" routeTag=\"1\" dirTag=\"1____O_F00\" lat=\"37.79011\" lon=\"-122.43197\" secsSinceReport=\"50\" predictable=\"true\" heading=\"262\" speedKmHr=\"24\"/>\\n<vehicle id=\"6510\" routeTag=\"38R\" dirTag=\"38R__I_F00\" lat=\"37.77931\" lon=\"-122.50947\" secsSinceReport=\"25\" predictable=\"true\" heading=\"179\" speedKmHr=\"0\"/>\\n<vehicle id=\"8330\" routeTag=\"28\" dirTag=\"28___I_F00\" lat=\"37.80136\" lon=\"-122.42492\" secsSinceReport=\"20\" predictable=\"true\" heading=\"80\" speedKmHr=\"0\"/>\\n<vehicle id=\"8621\" routeTag=\"27\" dirTag=\"27___O_F00\" lat=\"37.7496099\" lon=\"-122.40886\" secsSinceReport=\"1\" predictable=\"true\" heading=\"166\" speedKmHr=\"12\"/>\\n<vehicle id=\"8639\" routeTag=\"7\" dirTag=\"7____I_F00\" lat=\"37.77794\" lon=\"-122.4166\" secsSinceReport=\"42\" predictable=\"true\" heading=\"44\" speedKmHr=\"16\"/>\\n<vehicle id=\"8442\" routeTag=\"29\" dirTag=\"29___I_F00\" lat=\"37.72303\" lon=\"-122.39495\" secsSinceReport=\"46\" predictable=\"true\" heading=\"128\" speedKmHr=\"0\"/>\\n<vehicle id=\"8337\" routeTag=\"2\" dirTag=\"2____I_F00\" lat=\"37.78665\" lon=\"-122.42856\" secsSinceReport=\"23\" predictable=\"true\" heading=\"81\" speedKmHr=\"0\"/>\\n<vehicle id=\"8714\" routeTag=\"9R\" dirTag=\"9R___O_L00\" lat=\"37.79247\" lon=\"-122.3952\" secsSinceReport=\"270\" predictable=\"true\" heading=\"231\" speedKmHr=\"0\"/>\\n<vehicle id=\"8631\" routeTag=\"7\" dirTag=\"7____I_F00\" lat=\"37.7654\" lon=\"-122.47751\" secsSinceReport=\"5\" predictable=\"true\" heading=\"87\" speedKmHr=\"0\"/>\\n<vehicle id=\"6552\" routeTag=\"8\" dirTag=\"8____I_F00\" lat=\"37.71201\" lon=\"-122.40288\" secsSinceReport=\"38\" predictable=\"true\" heading=\"64\" speedKmHr=\"0\"/>\\n<vehicle id=\"6213\" routeTag=\"38\" dirTag=\"38___I_S00\" lat=\"37.78023\" lon=\"-122.47883\" secsSinceReport=\"15\" predictable=\"true\" heading=\"86\" speedKmHr=\"16\"/>\\n<vehicle id=\"5626\" routeTag=\"30\" dirTag=\"30___I_S10\" lat=\"37.8049899\" lon=\"-122.42543\" secsSinceReport=\"48\" predictable=\"true\" heading=\"218\" speedKmHr=\"0\"/>\\n<vehicle id=\"1070\" routeTag=\"F\" dirTag=\"F____I_F00\" lat=\"37.80685\" lon=\"-122.40607\" secsSinceReport=\"19\" predictable=\"true\" heading=\"302\" speedKmHr=\"22\"/>\\n<vehicle id=\"1549\" routeTag=\"N\" dirTag=\"N____O_F00\" lat=\"37.77335\" lon=\"-122.39765\" secsSinceReport=\"85\" predictable=\"true\" heading=\"218\" speedKmHr=\"0\" leadingVehicleId=\"1433\"/>\\n<vehicle id=\"8351\" routeTag=\"28\" dirTag=\"28___O_F00\" lat=\"37.77253\" lon=\"-122.47617\" secsSinceReport=\"7\" predictable=\"true\" heading=\"263\" speedKmHr=\"64\"/>\\n<vehicle id=\"1408\" routeTag=\"KT\" dirTag=\"KT___O_F00\" lat=\"37.7147099\" lon=\"-122.39921\" secsSinceReport=\"1\" predictable=\"true\" heading=\"19\" speedKmHr=\"29\"/>\\n<vehicle id=\"8615\" routeTag=\"9R\" dirTag=\"9R___I_L20\" lat=\"37.7752\" lon=\"-122.41851\" secsSinceReport=\"64\" predictable=\"true\" heading=\"315\" speedKmHr=\"0\"/>\\n<vehicle id=\"5530\" routeTag=\"5R\" dirTag=\"5R___I_F00\" lat=\"37.77355\" lon=\"-122.50978\" secsSinceReport=\"43\" predictable=\"true\" heading=\"218\" speedKmHr=\"0\"/>\\n<vehicle id=\"8136\" routeTag=\"43\" dirTag=\"43___I_F00\" lat=\"37.7338\" lon=\"-122.45915\" secsSinceReport=\"27\" predictable=\"true\" heading=\"334\" speedKmHr=\"18\"/>\\n<vehicle id=\"5583\" routeTag=\"31\" dirTag=\"31___I_F00\" lat=\"37.7737\" lon=\"-122.50987\" secsSinceReport=\"48\" predictable=\"true\" heading=\"275\" speedKmHr=\"0\"/>\\n<vehicle id=\"1509\" routeTag=\"M\" dirTag=\"M____O_F00\" lat=\"37.7274\" lon=\"-122.47494\" secsSinceReport=\"45\" predictable=\"true\" heading=\"184\" speedKmHr=\"0\" leadingVehicleId=\"1470\"/>\\n<vehicle id=\"7118\" routeTag=\"49\" dirTag=\"49___O_F00\" lat=\"37.78405\" lon=\"-122.42117\" secsSinceReport=\"22\" predictable=\"true\" heading=\"171\" speedKmHr=\"14\"/>\\n<vehicle id=\"7225\" routeTag=\"49\" dirTag=\"49___I_F00\" lat=\"37.77497\" lon=\"-122.41918\" secsSinceReport=\"59\" predictable=\"true\" heading=\"347\" speedKmHr=\"0\"/>\\n<vehicle id=\"1492\" routeTag=\"M\" dirTag=\"M____O_F00\" lat=\"37.78792\" lon=\"-122.40323\" secsSinceReport=\"13\" predictable=\"true\" heading=\"224\" speedKmHr=\"60\" leadingVehicleId=\"1523\"/>\\n<vehicle id=\"7217\" routeTag=\"14\" dirTag=\"14___O_F00\" lat=\"37.75126\" lon=\"-122.4184\" secsSinceReport=\"23\" predictable=\"true\" heading=\"174\" speedKmHr=\"0\"/>\\n<vehicle id=\"5496\" routeTag=\"30\" dirTag=\"30___I_S10\" lat=\"37.80518\" lon=\"-122.42451\" secsSinceReport=\"32\" predictable=\"true\" heading=\"218\" speedKmHr=\"0\"/>\\n<vehicle id=\"5588\" routeTag=\"1\" dirTag=\"1____O_F00\" lat=\"37.79016\" lon=\"-122.43163\" secsSinceReport=\"27\" predictable=\"true\" heading=\"260\" speedKmHr=\"25\"/>\\n<vehicle id=\"8368\" routeTag=\"19\" dirTag=\"19___O_F00\" lat=\"37.80642\" lon=\"-122.4231\" secsSinceReport=\"490\" predictable=\"true\" heading=\"266\" speedKmHr=\"0\"/>\\n<vehicle id=\"8221\" routeTag=\"12\" dirTag=\"12___O_F00\" lat=\"37.79457\" lon=\"-122.42317\" secsSinceReport=\"203\" predictable=\"true\" heading=\"8\" speedKmHr=\"0\"/>\\n<vehicle id=\"8521\" routeTag=\"37\" dirTag=\"37___O_F00\" lat=\"37.7673\" lon=\"-122.43614\" secsSinceReport=\"19\" predictable=\"true\" heading=\"86\" speedKmHr=\"18\"/>\\n<vehicle id=\"8152\" routeTag=\"47\" dirTag=\"47___I_F00\" lat=\"37.7853\" lon=\"-122.42136\" secsSinceReport=\"61\" predictable=\"true\" heading=\"350\" speedKmHr=\"25\"/>\\n<vehicle id=\"8346\" routeTag=\"19\" dirTag=\"19___I_F00\" lat=\"37.76975\" lon=\"-122.40305\" secsSinceReport=\"36\" predictable=\"true\" heading=\"352\" speedKmHr=\"0\"/>\\n<vehicle id=\"1439\" routeTag=\"N\" dirTag=\"N____I_F00\" lat=\"37.76516\" lon=\"-122.45539\" secsSinceReport=\"5\" predictable=\"true\" heading=\"80\" speedKmHr=\"27\"/>\\n<vehicle id=\"1410\" routeTag=\"KT\" dirTag=\"KT___I_F00\" lat=\"37.73925\" lon=\"-122.38918\" secsSinceReport=\"26\" predictable=\"true\" heading=\"195\" speedKmHr=\"35\"/>\\n<vehicle id=\"60\" routeTag=\"61\" lat=\"37.7905299\" lon=\"-122.42196\" secsSinceReport=\"19\" predictable=\"true\" heading=\"259\" speedKmHr=\"0\"/>\\n<vehicle id=\"8515\" routeTag=\"35\" dirTag=\"35___O_F00\" lat=\"37.7435\" lon=\"-122.4356\" secsSinceReport=\"178\" predictable=\"true\" heading=\"178\" speedKmHr=\"29\"/>\\n<vehicle id=\"7207\" routeTag=\"14\" dirTag=\"14___O_F00\" lat=\"37.7069199\" lon=\"-122.45829\" secsSinceReport=\"16\" predictable=\"true\" heading=\"248\" speedKmHr=\"29\"/>\\n<vehicle id=\"5515\" routeTag=\"31\" dirTag=\"31___I_F00\" lat=\"37.78388\" lon=\"-122.41271\" secsSinceReport=\"38\" predictable=\"true\" heading=\"87\" speedKmHr=\"13\"/>\\n<vehicle id=\"8416\" routeTag=\"7\" lat=\"37.75629\" lon=\"-122.39162\" secsSinceReport=\"5220\" predictable=\"true\" heading=\"219\" speedKmHr=\"0\"/>\\n<vehicle id=\"8301\" routeTag=\"43\" dirTag=\"43___O_F00\" lat=\"37.8050799\" lon=\"-122.43279\" secsSinceReport=\"57\" predictable=\"true\" heading=\"83\" speedKmHr=\"0\"/>\\n<vehicle id=\"5547\" routeTag=\"5R\" dirTag=\"5R___I_F00\" lat=\"37.7719499\" lon=\"-122.49744\" secsSinceReport=\"54\" predictable=\"true\" heading=\"85\" speedKmHr=\"40\"/>\\n<vehicle id=\"1484\" routeTag=\"KT\" dirTag=\"KT___I_F00\" lat=\"37.7308\" lon=\"-122.47126\" secsSinceReport=\"65\" predictable=\"true\" heading=\"298\" speedKmHr=\"0\"/>\\n<vehicle id=\"6547\" routeTag=\"8\" dirTag=\"8____I_F00\" lat=\"37.72372\" lon=\"-122.45292\" secsSinceReport=\"28\" predictable=\"true\" heading=\"28\" speedKmHr=\"0\"/>\\n<vehicle id=\"6523\" routeTag=\"38R\" dirTag=\"38R__I_F00\" lat=\"37.77926\" lon=\"-122.50125\" secsSinceReport=\"11\" predictable=\"true\" heading=\"88\" speedKmHr=\"25\"/>\\n<vehicle id=\"1446\" routeTag=\"L\" dirTag=\"L____O_F00\" lat=\"37.74235\" lon=\"-122.49268\" secsSinceReport=\"1\" predictable=\"true\" heading=\"266\" speedKmHr=\"24\" leadingVehicleId=\"1538\"/>\\n<vehicle id=\"5430\" routeTag=\"33\" dirTag=\"33___O_F00\" lat=\"37.75833\" lon=\"-122.40659\" secsSinceReport=\"31\" predictable=\"true\" heading=\"176\" speedKmHr=\"11\"/>\\n<vehicle id=\"5481\" routeTag=\"22\" dirTag=\"22___O_F00\" lat=\"37.8046\" lon=\"-122.43723\" secsSinceReport=\"9\" predictable=\"true\" heading=\"350\" speedKmHr=\"25\"/>\\n<vehicle id=\"5554\" routeTag=\"31\" dirTag=\"31___O_F00\" lat=\"37.77896\" lon=\"-122.44534\" secsSinceReport=\"10\" predictable=\"true\" heading=\"260\" speedKmHr=\"40\"/>\\n<vehicle id=\"8210\" routeTag=\"43\" dirTag=\"43___I_F00\" lat=\"37.76262\" lon=\"-122.46106\" secsSinceReport=\"27\" predictable=\"true\" heading=\"71\" speedKmHr=\"25\"/>\\n<vehicle id=\"8219\" routeTag=\"19\" dirTag=\"19___O_F00\" lat=\"37.79187\" lon=\"-122.421\" secsSinceReport=\"15\" predictable=\"true\" heading=\"171\" speedKmHr=\"0\"/>\\n<vehicle id=\"8447\" routeTag=\"44\" dirTag=\"44___I_F00\" lat=\"37.78081\" lon=\"-122.46424\" secsSinceReport=\"87\" predictable=\"true\" heading=\"357\" speedKmHr=\"0\"/>\\n<vehicle id=\"6548\" routeTag=\"8\" dirTag=\"8____I_F00\" lat=\"37.78364\" lon=\"-122.39881\" secsSinceReport=\"16\" predictable=\"true\" heading=\"315\" speedKmHr=\"0\"/>\\n<vehicle id=\"8431\" routeTag=\"44\" dirTag=\"44___O_F00\" lat=\"37.78492\" lon=\"-122.46521\" secsSinceReport=\"51\" predictable=\"true\" heading=\"218\" speedKmHr=\"0\"/>\\n<vehicle id=\"8425\" routeTag=\"44\" lat=\"37.73295\" lon=\"-122.38617\" secsSinceReport=\"6721\" predictable=\"true\" heading=\"213\" speedKmHr=\"20\"/>\\n<vehicle id=\"6206\" routeTag=\"38\" dirTag=\"38___O_S00\" lat=\"37.784935\" lon=\"-122.42903\" secsSinceReport=\"23\" predictable=\"true\" heading=\"261\" speedKmHr=\"43\"/>\\n<vehicle id=\"8658\" routeTag=\"23\" dirTag=\"23___O_F10\" lat=\"37.73475\" lon=\"-122.475\" secsSinceReport=\"16\" predictable=\"true\" heading=\"265\" speedKmHr=\"18\"/>\\n<vehicle id=\"5545\" routeTag=\"30\" dirTag=\"30___I_F00\" lat=\"37.78971\" lon=\"-122.4069\" secsSinceReport=\"68\" predictable=\"true\" heading=\"165\" speedKmHr=\"0\"/>\\n<vehicle id=\"6507\" routeTag=\"8\" dirTag=\"8____O_F00\" lat=\"37.78987\" lon=\"-122.40714\" secsSinceReport=\"21\" predictable=\"true\" heading=\"165\" speedKmHr=\"1\"/>\\n<vehicle id=\"5494\" routeTag=\"30\" dirTag=\"30___O_S10\" lat=\"37.78327\" lon=\"-122.3983\" secsSinceReport=\"22\" predictable=\"true\" heading=\"315\" speedKmHr=\"14\"/>\\n<vehicle id=\"7206\" routeTag=\"49\" dirTag=\"49___O_F00\" lat=\"37.75585\" lon=\"-122.41884\" secsSinceReport=\"23\" predictable=\"true\" heading=\"177\" speedKmHr=\"24\"/>\\n<vehicle id=\"5473\" routeTag=\"22\" dirTag=\"22___I_F00\" lat=\"37.80106\" lon=\"-122.43622\" secsSinceReport=\"18\" predictable=\"true\" heading=\"351\" speedKmHr=\"0\"/>\\n<vehicle id=\"5568\" routeTag=\"30\" dirTag=\"30___I_S10\" lat=\"37.77675\" lon=\"-122.39539\" secsSinceReport=\"21\" predictable=\"true\" heading=\"41\" speedKmHr=\"19\"/>\\n<vehicle id=\"5525\" routeTag=\"30\" dirTag=\"30___O_S10\" lat=\"37.78025\" lon=\"-122.39413\" secsSinceReport=\"7\" predictable=\"true\" heading=\"315\" speedKmHr=\"24\"/>\\n<vehicle id=\"1448\" routeTag=\"L\" dirTag=\"L____O_F00\" lat=\"37.73805\" lon=\"-122.50456\" secsSinceReport=\"19\" predictable=\"true\" heading=\"265\" speedKmHr=\"18\" leadingVehicleId=\"1440\"/>\\n<vehicle id=\"5460\" routeTag=\"22\" dirTag=\"22___I_F00\" lat=\"37.78778\" lon=\"-122.43378\" secsSinceReport=\"41\" predictable=\"true\" heading=\"352\" speedKmHr=\"1\"/>\\n<vehicle id=\"8643\" routeTag=\"27\" dirTag=\"27___O_F00\" lat=\"37.77537\" lon=\"-122.40663\" secsSinceReport=\"0\" predictable=\"true\" heading=\"202\" speedKmHr=\"11\"/>\\n<vehicle id=\"5403\" routeTag=\"24\" dirTag=\"24___O_F00\" lat=\"37.74265\" lon=\"-122.43111\" secsSinceReport=\"16\" predictable=\"true\" heading=\"175\" speedKmHr=\"38\"/>\\n<vehicle id=\"8624\" routeTag=\"29\" dirTag=\"29___I_F00\" lat=\"37.73453\" lon=\"-122.49383\" secsSinceReport=\"2\" predictable=\"true\" heading=\"357\" speedKmHr=\"37\"/>\\n<vehicle id=\"1077\" routeTag=\"F\" dirTag=\"F____I_F00\" lat=\"37.7712999\" lon=\"-122.42415\" secsSinceReport=\"2\" predictable=\"true\" heading=\"44\" speedKmHr=\"22\"/>\\n<vehicle id=\"1528\" routeTag=\"KT\" dirTag=\"KT___O_F00\" lat=\"37.74162\" lon=\"-122.46535\" secsSinceReport=\"4\" predictable=\"true\" heading=\"212\" speedKmHr=\"16\"/>\\n<vehicle id=\"5559\" routeTag=\"1\" dirTag=\"1____O_F00\" lat=\"37.79592\" lon=\"-122.39742\" secsSinceReport=\"78\" predictable=\"true\" heading=\"80\" speedKmHr=\"0\"/>\\n<vehicle id=\"8733\" routeTag=\"25\" dirTag=\"25___O_F00\" lat=\"37.79042\" lon=\"-122.39332\" secsSinceReport=\"11\" predictable=\"true\" heading=\"315\" speedKmHr=\"12\"/>\\n<vehicle id=\"5452\" routeTag=\"24\" dirTag=\"24___O_F00\" lat=\"37.79226\" lon=\"-122.43696\" secsSinceReport=\"4\" predictable=\"true\" heading=\"260\" speedKmHr=\"33\"/>\\n<vehicle id=\"5458\" routeTag=\"24\" dirTag=\"24___I_F00\" lat=\"37.7363\" lon=\"-122.39496\" secsSinceReport=\"55\" predictable=\"true\" heading=\"305\" speedKmHr=\"29\"/>\\n<vehicle id=\"28\" routeTag=\"59\" lat=\"37.80466\" lon=\"-122.41511\" secsSinceReport=\"68\" predictable=\"true\" heading=\"351\" speedKmHr=\"0\"/>\\n<vehicle id=\"5443\" routeTag=\"33\" dirTag=\"33___O_F00\" lat=\"37.78698\" lon=\"-122.45647\" secsSinceReport=\"58\" predictable=\"true\" heading=\"218\" speedKmHr=\"0\"/>\\n<vehicle id=\"8728\" routeTag=\"9R\" dirTag=\"9R___O_L00\" lat=\"37.76551\" lon=\"-122.40766\" secsSinceReport=\"358\" predictable=\"true\" heading=\"176\" speedKmHr=\"0\"/>\\n<vehicle id=\"8115\" routeTag=\"47\" dirTag=\"47___O_F00\" lat=\"37.78302\" lon=\"-122.42083\" secsSinceReport=\"54\" predictable=\"true\" heading=\"171\" speedKmHr=\"33\"/>\\n<vehicle id=\"5523\" routeTag=\"1\" dirTag=\"1____I_F00\" lat=\"37.78348\" lon=\"-122.49252\" secsSinceReport=\"11\" predictable=\"true\" heading=\"15\" speedKmHr=\"12\"/>\\n<vehicle id=\"8183\" routeTag=\"47\" dirTag=\"47___I_F00\" lat=\"37.7781499\" lon=\"-122.40311\" secsSinceReport=\"33\" predictable=\"true\" heading=\"225\" speedKmHr=\"48\"/>\\n<vehicle id=\"5516\" routeTag=\"5R\" dirTag=\"5R___I_F00\" lat=\"37.7876\" lon=\"-122.40357\" secsSinceReport=\"22\" predictable=\"true\" heading=\"46\" speedKmHr=\"14\"/>\\n<vehicle id=\"5414\" routeTag=\"22\" dirTag=\"22___O_F00\" lat=\"37.78208\" lon=\"-122.43282\" secsSinceReport=\"21\" predictable=\"true\" heading=\"169\" speedKmHr=\"14\"/>\\n<vehicle id=\"1400\" routeTag=\"J\" dirTag=\"J____O_F00\" lat=\"37.72928\" lon=\"-122.43951\" secsSinceReport=\"19\" predictable=\"true\" heading=\"231\" speedKmHr=\"25\"/>\\n<vehicle id=\"6573\" routeTag=\"14R\" dirTag=\"14R__O_F00\" lat=\"37.74378\" lon=\"-122.42113\" secsSinceReport=\"27\" predictable=\"true\" heading=\"208\" speedKmHr=\"18\"/>\\n<vehicle id=\"8514\" routeTag=\"39\" dirTag=\"39___O_F00\" lat=\"37.80862\" lon=\"-122.41235\" secsSinceReport=\"31\" predictable=\"true\" heading=\"279\" speedKmHr=\"0\"/>\\n<vehicle id=\"7108\" routeTag=\"14\" dirTag=\"14___O_F00\" lat=\"37.78315\" lon=\"-122.40576\" secsSinceReport=\"22\" predictable=\"true\" heading=\"219\" speedKmHr=\"37\"/>\\n<vehicle id=\"8451\" routeTag=\"9R\" dirTag=\"9R___O_L00\" lat=\"37.70745\" lon=\"-122.41279\" secsSinceReport=\"1\" predictable=\"true\" heading=\"199\" speedKmHr=\"35\"/>\\n<vehicle id=\"1457\" routeTag=\"M\" dirTag=\"M____O_F00\" lat=\"37.73293\" lon=\"-122.47299\" secsSinceReport=\"1\" predictable=\"true\" heading=\"209\" speedKmHr=\"46\"/>\\n<vehicle id=\"1407\" routeTag=\"M\" dirTag=\"M____I_F00\" lat=\"37.71966\" lon=\"-122.44665\" secsSinceReport=\"78\" predictable=\"true\" heading=\"116\" speedKmHr=\"3\" leadingVehicleId=\"1543\"/>\\n<vehicle id=\"8724\" routeTag=\"54\" dirTag=\"54___I_F00\" lat=\"37.72545\" lon=\"-122.40814\" secsSinceReport=\"9\" predictable=\"true\" heading=\"341\" speedKmHr=\"33\"/>\\n<vehicle id=\"8618\" routeTag=\"27\" dirTag=\"27___I_F00\" lat=\"37.78533\" lon=\"-122.40934\" secsSinceReport=\"23\" predictable=\"true\" heading=\"253\" speedKmHr=\"3\"/>\\n<vehicle id=\"5582\" routeTag=\"1\" dirTag=\"1____I_F00\" lat=\"37.79269\" lon=\"-122.41899\" secsSinceReport=\"9\" predictable=\"true\" heading=\"80\" speedKmHr=\"29\"/>\\n<vehicle id=\"7101\" routeTag=\"49\" dirTag=\"49___I_F00\" lat=\"37.7277\" lon=\"-122.4324\" secsSinceReport=\"148\" predictable=\"true\" heading=\"41\" speedKmHr=\"22\"/>\\n<vehicle id=\"5538\" routeTag=\"30\" dirTag=\"30___O_S10\" lat=\"37.79755\" lon=\"-122.40887\" secsSinceReport=\"16\" predictable=\"true\" heading=\"350\" speedKmHr=\"12\"/>\\n<vehicle id=\"5500\" routeTag=\"5R\" dirTag=\"5R___I_F00\" lat=\"37.78896\" lon=\"-122.40197\" secsSinceReport=\"18\" predictable=\"true\" heading=\"44\" speedKmHr=\"18\"/>\\n<vehicle id=\"6560\" routeTag=\"38\" dirTag=\"38___I_F10\" lat=\"37.77973\" lon=\"-122.4901\" secsSinceReport=\"1\" predictable=\"true\" heading=\"84\" speedKmHr=\"22\"/>\\n<vehicle id=\"8637\" routeTag=\"57\" dirTag=\"57___O_F00\" lat=\"37.72454\" lon=\"-122.48491\" secsSinceReport=\"25\" predictable=\"true\" heading=\"195\" speedKmHr=\"44\"/>\\n<vehicle id=\"8614\" routeTag=\"54\" dirTag=\"54___I_F00\" lat=\"37.70722\" lon=\"-122.46846\" secsSinceReport=\"12\" predictable=\"true\" heading=\"218\" speedKmHr=\"0\"/>\\n<vehicle id=\"6522\" routeTag=\"38R\" dirTag=\"38R__O_F00\" lat=\"37.79014\" lon=\"-122.39295\" secsSinceReport=\"104\" predictable=\"true\" heading=\"218\" speedKmHr=\"0\"/>\\n<vehicle id=\"8706\" routeTag=\"9R\" dirTag=\"9R___I_L20\" lat=\"37.77478\" lon=\"-122.41799\" secsSinceReport=\"16\" predictable=\"true\" heading=\"315\" speedKmHr=\"22\"/>\\n<vehicle id=\"1052\" routeTag=\"F\" dirTag=\"F____I_F00\" lat=\"37.76253\" lon=\"-122.43481\" secsSinceReport=\"31\" predictable=\"true\" heading=\"266\" speedKmHr=\"0\"/>\\n<vehicle id=\"1432\" routeTag=\"J\" dirTag=\"J____I_F00\" lat=\"37.73783\" lon=\"-122.425\" secsSinceReport=\"1\" predictable=\"true\" heading=\"32\" speedKmHr=\"51\"/>\\n<vehicle id=\"5628\" routeTag=\"1\" dirTag=\"1____O_F00\" lat=\"37.79258\" lon=\"-122.41233\" secsSinceReport=\"11\" predictable=\"true\" heading=\"259\" speedKmHr=\"11\"/>\\n<vehicle id=\"8204\" routeTag=\"19\" dirTag=\"19___O_F00\" lat=\"37.7345\" lon=\"-122.37955\" secsSinceReport=\"62\" predictable=\"true\" heading=\"180\" speedKmHr=\"16\"/>\\n<vehicle id=\"8166\" routeTag=\"6\" dirTag=\"6____O_F00\" lat=\"37.77218\" lon=\"-122.43016\" secsSinceReport=\"61\" predictable=\"true\" heading=\"261\" speedKmHr=\"22\"/>\\n<vehicle id=\"8702\" routeTag=\"29\" dirTag=\"29___O_F00\" lat=\"37.72348\" lon=\"-122.45614\" secsSinceReport=\"39\" predictable=\"true\" heading=\"359\" speedKmHr=\"33\"/>\\n<vehicle id=\"8128\" routeTag=\"6\" dirTag=\"6____I_F00\" lat=\"37.7939999\" lon=\"-122.39472\" secsSinceReport=\"15\" predictable=\"true\" heading=\"61\" speedKmHr=\"0\"/>\\n<vehicle id=\"5408\" routeTag=\"24\" dirTag=\"24___I_F00\" lat=\"37.76236\" lon=\"-122.43513\" secsSinceReport=\"11\" predictable=\"true\" heading=\"356\" speedKmHr=\"0\"/>\\n<vehicle id=\"5412\" routeTag=\"22\" dirTag=\"22___O_F00\" lat=\"37.80241\" lon=\"-122.43657\" secsSinceReport=\"31\" predictable=\"true\" heading=\"218\" speedKmHr=\"0\"/>\\n<vehicle id=\"8443\" routeTag=\"29\" dirTag=\"29___O_F00\" lat=\"37.72069\" lon=\"-122.40402\" secsSinceReport=\"38\" predictable=\"true\" heading=\"72\" speedKmHr=\"22\"/>\\n<vehicle id=\"8413\" routeTag=\"44\" dirTag=\"44___O_F00\" lat=\"37.7849\" lon=\"-122.46513\" secsSinceReport=\"40\" predictable=\"true\" heading=\"218\" speedKmHr=\"0\"/>\\n<vehicle id=\"8161\" routeTag=\"2\" dirTag=\"2____I_F00\" lat=\"37.78285\" lon=\"-122.46752\" secsSinceReport=\"46\" predictable=\"true\" heading=\"88\" speedKmHr=\"18\"/>\\n<vehicle id=\"6237\" routeTag=\"14R\" dirTag=\"14R__I_F00\" lat=\"37.75725\" lon=\"-122.41893\" secsSinceReport=\"1\" predictable=\"true\" heading=\"355\" speedKmHr=\"31\"/>\\n<vehicle id=\"5580\" routeTag=\"1\" dirTag=\"1____O_F00\" lat=\"37.7935\" lon=\"-122.4046\" secsSinceReport=\"34\" predictable=\"true\" heading=\"260\" speedKmHr=\"0\"/>\\n<vehicle id=\"6230\" routeTag=\"38R\" dirTag=\"38R__O_F00\" lat=\"37.78517\" lon=\"-122.42734\" secsSinceReport=\"18\" predictable=\"true\" heading=\"263\" speedKmHr=\"24\"/>\\n<vehicle id=\"8138\" routeTag=\"28\" dirTag=\"28___I_F00\" lat=\"37.80304\" lon=\"-122.42481\" secsSinceReport=\"32\" predictable=\"true\" heading=\"351\" speedKmHr=\"22\"/>\\n<vehicle id=\"54\" routeTag=\"61\" dirTag=\"61___I_F00\" lat=\"37.79135\" lon=\"-122.41434\" secsSinceReport=\"17\" predictable=\"true\" heading=\"81\" speedKmHr=\"14\"/>\\n<vehicle id=\"8371\" routeTag=\"19\" dirTag=\"19___I_F00\" lat=\"37.77912\" lon=\"-122.41661\" secsSinceReport=\"26\" predictable=\"true\" heading=\"351\" speedKmHr=\"0\"/>\\n<vehicle id=\"8123\" routeTag=\"6\" dirTag=\"6____I_F00\" lat=\"37.77858\" lon=\"-122.41518\" secsSinceReport=\"28\" predictable=\"true\" heading=\"46\" speedKmHr=\"11\"/>\\n<vehicle id=\"8328\" routeTag=\"43\" dirTag=\"43___I_F00\" lat=\"37.76793\" lon=\"-122.45034\" secsSinceReport=\"9\" predictable=\"true\" heading=\"351\" speedKmHr=\"33\"/>\\n<vehicle id=\"50\" routeTag=\"61\" dirTag=\"61___O_F00\" lat=\"37.79229\" lon=\"-122.40602\" secsSinceReport=\"41\" predictable=\"true\" heading=\"261\" speedKmHr=\"0\"/>\\n<vehicle id=\"5463\" routeTag=\"24\" dirTag=\"24___I_F00\" lat=\"37.7391099\" lon=\"-122.41645\" secsSinceReport=\"19\" predictable=\"true\" heading=\"276\" speedKmHr=\"0\"/>\\n<vehicle id=\"8316\" routeTag=\"28\" dirTag=\"28___I_F00\" lat=\"37.79985\" lon=\"-122.43596\" secsSinceReport=\"3\" predictable=\"true\" heading=\"77\" speedKmHr=\"20\"/>\\n<vehicle id=\"7123\" routeTag=\"14\" dirTag=\"14___I_F00\" lat=\"37.70633\" lon=\"-122.4602\" secsSinceReport=\"65\" predictable=\"true\" heading=\"219\" speedKmHr=\"0\"/>\\n<vehicle id=\"7205\" routeTag=\"49\" dirTag=\"49___I_F00\" lat=\"37.7856499\" lon=\"-122.42131\" secsSinceReport=\"1\" predictable=\"true\" heading=\"351\" speedKmHr=\"5\"/>\\n<vehicle id=\"5566\" routeTag=\"31\" dirTag=\"31___I_F00\" lat=\"37.77854\" lon=\"-122.44743\" secsSinceReport=\"28\" predictable=\"true\" heading=\"88\" speedKmHr=\"18\"/>\\n<vehicle id=\"1514\" routeTag=\"N\" lat=\"37.7659\" lon=\"-122.44947\" secsSinceReport=\"16694\" predictable=\"true\" heading=\"42\" speedKmHr=\"11\"/>\\n<vehicle id=\"1464\" routeTag=\"N\" dirTag=\"N____O_F00\" lat=\"37.7729799\" lon=\"-122.39783\" secsSinceReport=\"69\" predictable=\"true\" heading=\"218\" speedKmHr=\"0\" leadingVehicleId=\"1413\"/>\\n<vehicle id=\"8623\" routeTag=\"5\" dirTag=\"5____I_S00\" lat=\"37.77352\" lon=\"-122.46502\" secsSinceReport=\"257\" predictable=\"true\" heading=\"218\" speedKmHr=\"0\"/>\\n<vehicle id=\"1440\" routeTag=\"L\" dirTag=\"L____O_F00\" lat=\"37.74181\" lon=\"-122.50424\" secsSinceReport=\"182\" predictable=\"true\" heading=\"267\" speedKmHr=\"1\"/>\\n<vehicle id=\"6578\" routeTag=\"8\" dirTag=\"8____I_F00\" lat=\"37.71316\" lon=\"-122.41415\" secsSinceReport=\"2\" predictable=\"true\" heading=\"107\" speedKmHr=\"31\"/>\\n<vehicle id=\"5474\" routeTag=\"22\" dirTag=\"22___O_F00\" lat=\"37.78535\" lon=\"-122.43334\" secsSinceReport=\"49\" predictable=\"true\" heading=\"170\" speedKmHr=\"5\"/>\\n<vehicle id=\"5506\" routeTag=\"30\" dirTag=\"30___I_F00\" lat=\"37.80205\" lon=\"-122.42658\" secsSinceReport=\"25\" predictable=\"true\" heading=\"80\" speedKmHr=\"3\"/>\\n<vehicle id=\"8732\" routeTag=\"9\" dirTag=\"9____O_L00\" lat=\"37.76095\" lon=\"-122.40715\" secsSinceReport=\"26\" predictable=\"true\" heading=\"175\" speedKmHr=\"24\"/>\\n<vehicle id=\"8446\" routeTag=\"44\" dirTag=\"44___I_F00\" lat=\"37.73137\" lon=\"-122.40927\" secsSinceReport=\"3\" predictable=\"true\" heading=\"248\" speedKmHr=\"27\"/>\\n<vehicle id=\"8507\" routeTag=\"36\" dirTag=\"36___O_F00\" lat=\"37.73971\" lon=\"-122.4505\" secsSinceReport=\"14\" predictable=\"true\" heading=\"161\" speedKmHr=\"24\"/>\\n<vehicle id=\"7209\" routeTag=\"14\" dirTag=\"14___O_F00\" lat=\"37.79345\" lon=\"-122.39363\" secsSinceReport=\"46\" predictable=\"true\" heading=\"137\" speedKmHr=\"0\"/>\\n<vehicle id=\"8527\" routeTag=\"57\" dirTag=\"57___O_F00\" lat=\"37.71695\" lon=\"-122.49778\" secsSinceReport=\"9\" predictable=\"true\" heading=\"293\" speedKmHr=\"42\"/>\\n<vehicle id=\"6530\" routeTag=\"8\" dirTag=\"8____I_F00\" lat=\"37.72376\" lon=\"-122.45289\" secsSinceReport=\"186\" predictable=\"true\" heading=\"28\" speedKmHr=\"0\"/>\\n<vehicle id=\"8308\" routeTag=\"47\" dirTag=\"47___I_F00\" lat=\"37.80497\" lon=\"-122.42521\" secsSinceReport=\"6\" predictable=\"true\" heading=\"351\" speedKmHr=\"14\"/>\\n<vehicle id=\"6549\" routeTag=\"14R\" dirTag=\"14R__I_F00\" lat=\"37.78625\" lon=\"-122.40201\" secsSinceReport=\"32\" predictable=\"true\" heading=\"44\" speedKmHr=\"27\"/>\\n<vehicle id=\"8725\" routeTag=\"7\" dirTag=\"7____I_F00\" lat=\"37.76982\" lon=\"-122.44871\" secsSinceReport=\"35\" predictable=\"true\" heading=\"83\" speedKmHr=\"0\"/>\\n<vehicle id=\"1497\" routeTag=\"M\" dirTag=\"M____I_F00\" lat=\"37.71658\" lon=\"-122.47197\" secsSinceReport=\"49\" predictable=\"true\" heading=\"323\" speedKmHr=\"0\" leadingVehicleId=\"1442\"/>\\n<vehicle id=\"1417\" routeTag=\"J\" dirTag=\"J____O_F00\" lat=\"37.76958\" lon=\"-122.42776\" secsSinceReport=\"382\" predictable=\"true\" heading=\"266\" speedKmHr=\"0\"/>\\n<vehicle id=\"8729\" routeTag=\"18\" dirTag=\"18___O_F00\" lat=\"37.76405\" lon=\"-122.50827\" secsSinceReport=\"6\" predictable=\"true\" heading=\"84\" speedKmHr=\"35\"/>\\n<vehicle id=\"7212\" routeTag=\"49\" dirTag=\"49___O_F00\" lat=\"37.73167\" lon=\"-122.42848\" secsSinceReport=\"5\" predictable=\"true\" heading=\"217\" speedKmHr=\"42\"/>\\n<vehicle id=\"8149\" routeTag=\"10\" lat=\"37.80708\" lon=\"-122.41116\" secsSinceReport=\"8822\" predictable=\"true\" heading=\"218\" speedKmHr=\"0\"/>\\n<vehicle id=\"5429\" routeTag=\"24\" dirTag=\"24___O_F00\" lat=\"37.79265\" lon=\"-122.43334\" secsSinceReport=\"86\" predictable=\"true\" heading=\"218\" speedKmHr=\"0\"/>\\n<vehicle id=\"1483\" routeTag=\"M\" dirTag=\"M____O_F00\" lat=\"37.75551\" lon=\"-122.44834\" secsSinceReport=\"15\" predictable=\"true\" heading=\"240\" speedKmHr=\"68\" leadingVehicleId=\"1490\"/>\\n<vehicle id=\"6544\" routeTag=\"38R\" dirTag=\"38R__I_F00\" lat=\"37.78022\" lon=\"-122.48016\" secsSinceReport=\"10\" predictable=\"true\" heading=\"86\" speedKmHr=\"27\"/>\\n<vehicle id=\"5524\" routeTag=\"5R\" dirTag=\"5R___I_F00\" lat=\"37.77905\" lon=\"-122.42863\" secsSinceReport=\"33\" predictable=\"true\" heading=\"81\" speedKmHr=\"37\"/>\\n<vehicle id=\"25\" routeTag=\"60\" dirTag=\"60___I_F00\" lat=\"37.7884\" lon=\"-122.40846\" secsSinceReport=\"61\" predictable=\"true\" heading=\"171\" speedKmHr=\"0\"/>\\n<vehicle id=\"51\" routeTag=\"61\" dirTag=\"61___I_F00\" lat=\"37.793\" lon=\"-122.39957\" secsSinceReport=\"11\" predictable=\"true\" heading=\"79\" speedKmHr=\"9\"/>\\n<vehicle id=\"8148\" routeTag=\"6\" dirTag=\"6____O_F00\" lat=\"37.7649\" lon=\"-122.44992\" secsSinceReport=\"13\" predictable=\"true\" heading=\"260\" speedKmHr=\"20\"/>\\n<vehicle id=\"5517\" routeTag=\"45\" dirTag=\"45___O_F00\" lat=\"37.78606\" lon=\"-122.40177\" secsSinceReport=\"9\" predictable=\"true\" heading=\"314\" speedKmHr=\"0\"/>\\n<vehicle id=\"7102\" routeTag=\"14\" dirTag=\"14___I_F00\" lat=\"37.70988\" lon=\"-122.44969\" secsSinceReport=\"97\" predictable=\"true\" heading=\"66\" speedKmHr=\"20\"/>\\n<vehicle id=\"5411\" routeTag=\"24\" dirTag=\"24___I_F00\" lat=\"37.74216\" lon=\"-122.42642\" secsSinceReport=\"8\" predictable=\"true\" heading=\"265\" speedKmHr=\"0\"/>\\n<vehicle id=\"8650\" routeTag=\"27\" dirTag=\"27___O_F00\" lat=\"37.79404\" lon=\"-122.42285\" secsSinceReport=\"8\" predictable=\"true\" heading=\"264\" speedKmHr=\"0\"/>\\n<vehicle id=\"6201\" routeTag=\"8\" dirTag=\"8____I_F00\" lat=\"37.79739\" lon=\"-122.40635\" secsSinceReport=\"21\" predictable=\"true\" heading=\"306\" speedKmHr=\"3\"/>\\n<vehicle id=\"6509\" routeTag=\"14R\" dirTag=\"14R__I_F00\" lat=\"37.77235\" lon=\"-122.41895\" secsSinceReport=\"0\" predictable=\"true\" heading=\"29\" speedKmHr=\"11\"/>\\n<vehicle id=\"8528\" routeTag=\"37\" dirTag=\"37___I_F00\" lat=\"37.76906\" lon=\"-122.45061\" secsSinceReport=\"16\" predictable=\"true\" heading=\"352\" speedKmHr=\"14\"/>\\n<vehicle id=\"5537\" routeTag=\"30\" dirTag=\"30___O_F00\" lat=\"37.80063\" lon=\"-122.44313\" secsSinceReport=\"39\" predictable=\"true\" heading=\"170\" speedKmHr=\"0\"/>\\n<vehicle id=\"6216\" routeTag=\"38R\" dirTag=\"38R__O_F00\" lat=\"37.7817\" lon=\"-122.45437\" secsSinceReport=\"2\" predictable=\"true\" heading=\"261\" speedKmHr=\"22\"/>\\n<vehicle id=\"8633\" routeTag=\"5\" dirTag=\"5____O_S00\" lat=\"37.78901\" lon=\"-122.40192\" secsSinceReport=\"5\" predictable=\"true\" heading=\"345\" speedKmHr=\"3\"/>\\n<vehicle id=\"8705\" routeTag=\"9\" dirTag=\"9____O_L00\" lat=\"37.79396\" lon=\"-122.39566\" secsSinceReport=\"1\" predictable=\"true\" heading=\"218\" speedKmHr=\"0\"/>\\n<vehicle id=\"8745\" routeTag=\"9R\" dirTag=\"9R___I_L20\" lat=\"37.76789\" lon=\"-122.40779\" secsSinceReport=\"5\" predictable=\"true\" heading=\"355\" speedKmHr=\"40\"/>\\n<vehicle id=\"8348\" routeTag=\"47\" dirTag=\"47___O_F00\" lat=\"37.77654\" lon=\"-122.39575\" secsSinceReport=\"13\" predictable=\"true\" heading=\"225\" speedKmHr=\"0\"/>\\n<vehicle id=\"7240\" routeTag=\"14\" dirTag=\"14___I_F00\" lat=\"37.75831\" lon=\"-122.41904\" secsSinceReport=\"4\" predictable=\"true\" heading=\"356\" speedKmHr=\"7\"/>\\n<vehicle id=\"1481\" routeTag=\"N\" dirTag=\"N____O_F00\" lat=\"37.78255\" lon=\"-122.41005\" secsSinceReport=\"17\" predictable=\"true\" heading=\"226\" speedKmHr=\"71\"/>\\n<vehicle id=\"1523\" routeTag=\"M\" dirTag=\"M____O_F00\" lat=\"37.78792\" lon=\"-122.40323\" secsSinceReport=\"13\" predictable=\"true\" heading=\"224\" speedKmHr=\"60\"/>\\n<vehicle id=\"5606\" routeTag=\"5R\" dirTag=\"5R___O_F00\" lat=\"37.77853\" lon=\"-122.43289\" secsSinceReport=\"18\" predictable=\"true\" heading=\"261\" speedKmHr=\"32\"/>\\n<vehicle id=\"8744\" routeTag=\"9\" dirTag=\"9____I_S00\" lat=\"37.74103\" lon=\"-122.40662\" secsSinceReport=\"5\" predictable=\"true\" heading=\"21\" speedKmHr=\"22\"/>\\n<vehicle id=\"8450\" routeTag=\"29\" dirTag=\"29___I_F00\" lat=\"37.71969\" lon=\"-122.46726\" secsSinceReport=\"3\" predictable=\"true\" heading=\"269\" speedKmHr=\"35\"/>\\n<vehicle id=\"24\" routeTag=\"60\" dirTag=\"60___I_F00\" lat=\"37.78538\" lon=\"-122.40774\" secsSinceReport=\"25\" predictable=\"true\" heading=\"171\" speedKmHr=\"0\"/>\\n<vehicle id=\"5576\" routeTag=\"30\" dirTag=\"30___I_F00\" lat=\"37.79948\" lon=\"-122.40908\" secsSinceReport=\"55\" predictable=\"true\" heading=\"131\" speedKmHr=\"18\"/>\\n<vehicle id=\"8158\" routeTag=\"10\" dirTag=\"10___O_G00\" lat=\"37.79628\" lon=\"-122.41221\" secsSinceReport=\"70\" predictable=\"true\" heading=\"81\" speedKmHr=\"29\"/>\\n<vehicle id=\"8711\" routeTag=\"54\" dirTag=\"54___O_F00\" lat=\"37.73296\" lon=\"-122.3914\" secsSinceReport=\"60\" predictable=\"true\" heading=\"191\" speedKmHr=\"33\"/>\\n<vehicle id=\"5421\" routeTag=\"24\" dirTag=\"24___O_F00\" lat=\"37.77093\" lon=\"-122.43707\" secsSinceReport=\"7\" predictable=\"true\" heading=\"165\" speedKmHr=\"12\"/>\\n<vehicle id=\"8334\" routeTag=\"2\" dirTag=\"2____O_F00\" lat=\"37.78738\" lon=\"-122.42331\" secsSinceReport=\"11\" predictable=\"true\" heading=\"261\" speedKmHr=\"0\"/>\\n<vehicle id=\"5501\" routeTag=\"1\" dirTag=\"1____I_F00\" lat=\"37.78863\" lon=\"-122.43564\" secsSinceReport=\"45\" predictable=\"true\" heading=\"78\" speedKmHr=\"0\"/>\\n<vehicle id=\"6261\" routeTag=\"J\" dirTag=\"J____O_F00\" lat=\"37.73106\" lon=\"-122.43796\" secsSinceReport=\"17\" predictable=\"true\" heading=\"243\" speedKmHr=\"33\"/>\\n<vehicle id=\"7107\" routeTag=\"49\" dirTag=\"49___O_F00\" lat=\"37.72303\" lon=\"-122.44507\" secsSinceReport=\"2\" predictable=\"true\" heading=\"264\" speedKmHr=\"12\"/>\\n<vehicle id=\"8190\" routeTag=\"54\" dirTag=\"54___O_F00\" lat=\"37.7399\" lon=\"-122.38855\" secsSinceReport=\"118\" predictable=\"true\" heading=\"218\" speedKmHr=\"0\"/>\\n<vehicle id=\"8445\" routeTag=\"48\" dirTag=\"48___O_F00\" lat=\"37.75394\" lon=\"-122.44092\" secsSinceReport=\"39\" predictable=\"true\" heading=\"355\" speedKmHr=\"27\"/>\\n<vehicle id=\"7211\" routeTag=\"14\" dirTag=\"14___I_F00\" lat=\"37.74121\" lon=\"-122.42266\" secsSinceReport=\"3\" predictable=\"true\" heading=\"30\" speedKmHr=\"12\"/>\\n<vehicle id=\"8651\" routeTag=\"27\" dirTag=\"27___I_F00\" lat=\"37.74829\" lon=\"-122.4131\" secsSinceReport=\"15\" predictable=\"true\" heading=\"87\" speedKmHr=\"37\"/>\\n<vehicle id=\"7115\" routeTag=\"49\" dirTag=\"49___O_F00\" lat=\"37.80536\" lon=\"-122.42547\" secsSinceReport=\"62\" predictable=\"true\" heading=\"28\" speedKmHr=\"0\"/>\\n<vehicle id=\"8114\" routeTag=\"28\" dirTag=\"28___I_F00\" lat=\"37.8068\" lon=\"-122.47466\" secsSinceReport=\"75\" predictable=\"true\" heading=\"15\" speedKmHr=\"29\"/>\\n<vehicle id=\"5579\" routeTag=\"1\" dirTag=\"1____O_F00\" lat=\"37.79455\" lon=\"-122.39765\" secsSinceReport=\"13\" predictable=\"true\" heading=\"259\" speedKmHr=\"12\"/>\\n<vehicle id=\"05\" routeTag=\"60\" lat=\"37.80629\" lon=\"-122.42059\" secsSinceReport=\"17\" predictable=\"true\" heading=\"349\" speedKmHr=\"0\"/>\\n<vehicle id=\"8602\" routeTag=\"54\" dirTag=\"54___I_F00\" lat=\"37.73926\" lon=\"-122.38907\" secsSinceReport=\"36\" predictable=\"true\" heading=\"15\" speedKmHr=\"33\"/>\\n<vehicle id=\"6568\" routeTag=\"8\" dirTag=\"8____I_F00\" lat=\"37.77412\" lon=\"-122.40564\" secsSinceReport=\"20\" predictable=\"true\" heading=\"66\" speedKmHr=\"27\"/>\\n<vehicle id=\"8342\" routeTag=\"12\" dirTag=\"12___I_F00\" lat=\"37.7720399\" lon=\"-122.41379\" secsSinceReport=\"32\" predictable=\"true\" heading=\"47\" speedKmHr=\"0\"/>\\n<vehicle id=\"8403\" routeTag=\"48\" dirTag=\"48___O_F00\" lat=\"37.75269\" lon=\"-122.39187\" secsSinceReport=\"1\" predictable=\"true\" heading=\"271\" speedKmHr=\"27\"/>\\n<vehicle id=\"8184\" routeTag=\"43\" dirTag=\"43___I_F00\" lat=\"37.72086\" lon=\"-122.44684\" secsSinceReport=\"48\" predictable=\"true\" heading=\"294\" speedKmHr=\"20\"/>\\n<vehicle id=\"7122\" routeTag=\"49\" dirTag=\"49___I_F00\" lat=\"37.72384\" lon=\"-122.45256\" secsSinceReport=\"9\" predictable=\"true\" heading=\"218\" speedKmHr=\"0\"/>\\n<vehicle id=\"1075\" routeTag=\"F\" dirTag=\"F____O_F00\" lat=\"37.7678299\" lon=\"-122.4286\" secsSinceReport=\"30\" predictable=\"true\" heading=\"225\" speedKmHr=\"0\"/>\\n<vehicle id=\"6215\" routeTag=\"8\" dirTag=\"8____O_F00\" lat=\"37.73662\" lon=\"-122.40772\" secsSinceReport=\"1\" predictable=\"true\" heading=\"160\" speedKmHr=\"75\"/>\\n<vehicle id=\"5428\" routeTag=\"33\" dirTag=\"33___I_F00\" lat=\"37.77743\" lon=\"-122.4586\" secsSinceReport=\"23\" predictable=\"true\" heading=\"356\" speedKmHr=\"22\"/>\\n<vehicle id=\"8313\" routeTag=\"28\" dirTag=\"28___O_F00\" lat=\"37.80695\" lon=\"-122.47569\" secsSinceReport=\"50\" predictable=\"true\" heading=\"229\" speedKmHr=\"1\"/>\\n<vehicle id=\"6520\" routeTag=\"38R\" dirTag=\"38R__I_F00\" lat=\"37.78452\" lon=\"-122.42285\" secsSinceReport=\"5\" predictable=\"true\" heading=\"82\" speedKmHr=\"20\"/>\\n<vehicle id=\"6703\" routeTag=\"8\" dirTag=\"8____O_F00\" lat=\"37.71691\" lon=\"-122.44122\" secsSinceReport=\"51\" predictable=\"true\" heading=\"333\" speedKmHr=\"28\"/>\\n<vehicle id=\"1412\" routeTag=\"M\" dirTag=\"M____I_F00\" lat=\"37.73165\" lon=\"-122.47397\" secsSinceReport=\"16\" predictable=\"true\" heading=\"31\" speedKmHr=\"0\"/>\\n<vehicle id=\"1472\" routeTag=\"KT\" dirTag=\"KT___I_F00\" lat=\"37.73018\" lon=\"-122.46978\" secsSinceReport=\"42\" predictable=\"true\" heading=\"298\" speedKmHr=\"0\"/>\\n<vehicle id=\"1006\" routeTag=\"F\" dirTag=\"F____O_F00\" lat=\"37.76504\" lon=\"-122.4321\" secsSinceReport=\"57\" predictable=\"true\" heading=\"226\" speedKmHr=\"37\"/>\\n<vehicle id=\"8422\" routeTag=\"29\" dirTag=\"29___I_F00\" lat=\"37.77428\" lon=\"-122.48431\" secsSinceReport=\"14\" predictable=\"true\" heading=\"357\" speedKmHr=\"0\"/>\\n<vehicle id=\"1507\" routeTag=\"M\" dirTag=\"M____I_F00\" lat=\"37.73166\" lon=\"-122.47398\" secsSinceReport=\"11\" predictable=\"true\" heading=\"32\" speedKmHr=\"3\"/>\\n<vehicle id=\"5552\" routeTag=\"1\" dirTag=\"1____I_F00\" lat=\"37.79246\" lon=\"-122.42077\" secsSinceReport=\"4\" predictable=\"true\" heading=\"81\" speedKmHr=\"0\"/>\\n<vehicle id=\"8367\" routeTag=\"19\" dirTag=\"19___I_F00\" lat=\"37.74727\" lon=\"-122.39591\" secsSinceReport=\"9\" predictable=\"true\" heading=\"300\" speedKmHr=\"31\"/>\\n<vehicle id=\"1543\" routeTag=\"M\" dirTag=\"M____I_F00\" lat=\"37.72003\" lon=\"-122.44613\" secsSinceReport=\"45\" predictable=\"true\" heading=\"23\" speedKmHr=\"7\"/>\\n<vehicle id=\"1011\" routeTag=\"F\" dirTag=\"F____I_F00\" lat=\"37.79161\" lon=\"-122.40111\" secsSinceReport=\"49\" predictable=\"true\" heading=\"9\" speedKmHr=\"23\"/>\\n<vehicle id=\"1815\" routeTag=\"F\" dirTag=\"F____O_F00\" lat=\"37.79276\" lon=\"-122.39689\" secsSinceReport=\"52\" predictable=\"true\" heading=\"217\" speedKmHr=\"18\"/>\\n<vehicle id=\"8362\" routeTag=\"43\" dirTag=\"43___O_F00\" lat=\"37.76814\" lon=\"-122.45049\" secsSinceReport=\"236\" predictable=\"true\" heading=\"171\" speedKmHr=\"33\"/>\\n<vehicle id=\"5510\" routeTag=\"5R\" dirTag=\"5R___O_F00\" lat=\"37.78025\" lon=\"-122.41911\" secsSinceReport=\"38\" predictable=\"true\" heading=\"261\" speedKmHr=\"35\"/>\\n<vehicle id=\"6563\" routeTag=\"38\" dirTag=\"38___O_S00\" lat=\"37.79001\" lon=\"-122.3929\" secsSinceReport=\"20\" predictable=\"true\" heading=\"218\" speedKmHr=\"0\"/>\\n<vehicle id=\"1515\" routeTag=\"M\" dirTag=\"M____O_F00\" lat=\"37.7618\" lon=\"-122.4366\" secsSinceReport=\"8\" predictable=\"true\" heading=\"230\" speedKmHr=\"0\"/>\\n<vehicle id=\"1520\" routeTag=\"L\" dirTag=\"L____I_F00\" lat=\"37.7415\" lon=\"-122.46737\" secsSinceReport=\"71\" predictable=\"true\" heading=\"99\" speedKmHr=\"25\"/>\\n<vehicle id=\"5507\" routeTag=\"30\" dirTag=\"30___I_S10\" lat=\"37.78259\" lon=\"-122.40625\" secsSinceReport=\"34\" predictable=\"true\" heading=\"141\" speedKmHr=\"27\"/>\\n<vehicle id=\"8656\" routeTag=\"29\" dirTag=\"29___I_F00\" lat=\"37.75163\" lon=\"-122.49504\" secsSinceReport=\"69\" predictable=\"true\" heading=\"4\" speedKmHr=\"25\"/>\\n<vehicle id=\"8512\" routeTag=\"39\" dirTag=\"39___I_F00\" lat=\"37.8018\" lon=\"-122.41112\" secsSinceReport=\"29\" predictable=\"true\" heading=\"351\" speedKmHr=\"22\"/>\\n<vehicle id=\"8715\" routeTag=\"9R\" dirTag=\"9R___I_L20\" lat=\"37.77534\" lon=\"-122.41848\" secsSinceReport=\"7\" predictable=\"true\" heading=\"305\" speedKmHr=\"11\"/>\\n<lastTime time=\"1461091909649\"/>\\n</body>\\n'"
      ]
     },
     "execution_count": 26,
     "metadata": {},
     "output_type": "execute_result"
    }
   ],
   "source": [
    "response.text"
   ]
  },
  {
   "cell_type": "code",
   "execution_count": 56,
   "metadata": {
    "collapsed": false
   },
   "outputs": [],
   "source": [
    "soup = BeautifulSoup(response.text, 'lxml')"
   ]
  },
  {
   "cell_type": "code",
   "execution_count": 57,
   "metadata": {
    "collapsed": false
   },
   "outputs": [
    {
     "data": {
      "text/plain": [
       "550"
      ]
     },
     "execution_count": 57,
     "metadata": {},
     "output_type": "execute_result"
    }
   ],
   "source": [
    "len(soup.findAll('vehicle'))"
   ]
  },
  {
   "cell_type": "code",
   "execution_count": 58,
   "metadata": {
    "collapsed": false
   },
   "outputs": [
    {
     "data": {
      "text/plain": [
       "<vehicle dirtag=\"28___O_F00\" heading=\"161\" id=\"8217\" lat=\"37.80237\" lon=\"-122.42482\" predictable=\"true\" routetag=\"28\" secssincereport=\"28\" speedkmhr=\"7\"></vehicle>"
      ]
     },
     "execution_count": 58,
     "metadata": {},
     "output_type": "execute_result"
    }
   ],
   "source": [
    "soup.findAll('vehicle')[0]#['lat']"
   ]
  },
  {
   "cell_type": "code",
   "execution_count": null,
   "metadata": {
    "collapsed": true
   },
   "outputs": [],
   "source": []
  },
  {
   "cell_type": "code",
   "execution_count": 101,
   "metadata": {
    "collapsed": false
   },
   "outputs": [],
   "source": [
    "stop_tuples = stops.apply(lambda x: (x['stop_id'], {'stop_name':x['stop_name'],\\\n",
    "                                      'stop_lat':x['stop_lat'], 'stop_lon':x['stop_lon']}), axis=1)"
   ]
  },
  {
   "cell_type": "code",
   "execution_count": 117,
   "metadata": {
    "collapsed": false
   },
   "outputs": [
    {
     "data": {
      "text/plain": [
       "(98,\n",
       " {'stop_lat': 37.789255,\n",
       "  'stop_lon': -122.401225,\n",
       "  'stop_name': '2ND ST & MARKET ST'})"
      ]
     },
     "execution_count": 117,
     "metadata": {},
     "output_type": "execute_result"
    }
   ],
   "source": [
    "stop_tuples[0]"
   ]
  },
  {
   "cell_type": "code",
   "execution_count": 205,
   "metadata": {
    "collapsed": true
   },
   "outputs": [],
   "source": [
    "G = nx.DiGraph()"
   ]
  },
  {
   "cell_type": "code",
   "execution_count": 206,
   "metadata": {
    "collapsed": true
   },
   "outputs": [],
   "source": [
    "G.add_nodes_from(stop_tuples)"
   ]
  },
  {
   "cell_type": "code",
   "execution_count": 207,
   "metadata": {
    "collapsed": false
   },
   "outputs": [
    {
     "data": {
      "text/plain": [
       "{'stop_lat': 37.789255,\n",
       " 'stop_lon': -122.401225,\n",
       " 'stop_name': '2ND ST & MARKET ST'}"
      ]
     },
     "execution_count": 207,
     "metadata": {},
     "output_type": "execute_result"
    }
   ],
   "source": [
    "G.node[98]"
   ]
  },
  {
   "cell_type": "code",
   "execution_count": 208,
   "metadata": {
    "collapsed": false
   },
   "outputs": [],
   "source": [
    "for trip_id in trips['trip_id'].unique():\n",
    "    trip_stops = stop_times[stop_times['trip_id'] == trip_id]\n",
    "    for stop in trip_stops.iterrows():\n",
    "        if stop[1]['stop_sequence'] == 1:\n",
    "            last_stop = stop[1]['stop_id']\n",
    "            continue\n",
    "        if G.has_edge(last_stop, stop[1]['stop_id']):\n",
    "            G.edge[last_stop][stop[1]['stop_id']]['trips'].append(\\\n",
    "                             {'trip_id': trip_id,\\\n",
    "                              'arr':stop[1]['arrival_time'],\\\n",
    "                              'route':trips[trips['trip_id']==trip_id]['route_id'].values[0]})            \n",
    "        else:\n",
    "            G.add_edge(last_stop, stop[1]['stop_id'],\\\n",
    "                   {'trips': [\\\n",
    "                             {'trip_id': trip_id,\\\n",
    "                              'arr':stop[1]['arrival_time'],\\\n",
    "                              'route':trips[trips['trip_id']==trip_id]['route_id'].values[0]}\n",
    "                             ]})\n",
    "\n",
    "        last_stop = stop[1]['stop_id']"
   ]
  },
  {
   "cell_type": "code",
   "execution_count": 210,
   "metadata": {
    "collapsed": false
   },
   "outputs": [
    {
     "data": {
      "text/plain": [
       "4343"
      ]
     },
     "execution_count": 210,
     "metadata": {},
     "output_type": "execute_result"
    }
   ],
   "source": [
    "G.number_of_edges()"
   ]
  },
  {
   "cell_type": "code",
   "execution_count": 211,
   "metadata": {
    "collapsed": false
   },
   "outputs": [
    {
     "data": {
      "text/plain": [
       "4627"
      ]
     },
     "execution_count": 211,
     "metadata": {},
     "output_type": "execute_result"
    }
   ],
   "source": [
    "G.number_of_nodes()"
   ]
  },
  {
   "cell_type": "code",
   "execution_count": 294,
   "metadata": {
    "collapsed": false,
    "scrolled": true
   },
   "outputs": [
    {
     "data": {
      "text/plain": [
       "[98, 3849, 7227, 7520, 7334, 5509, 4555]"
      ]
     },
     "execution_count": 294,
     "metadata": {},
     "output_type": "execute_result"
    }
   ],
   "source": [
    "nx.shortest_path(G, 98, 4555)"
   ]
  },
  {
   "cell_type": "code",
   "execution_count": 293,
   "metadata": {
    "collapsed": true
   },
   "outputs": [
    {
     "data": {
      "text/plain": [
       "[7680,\n",
       " 7681,\n",
       " 5638,\n",
       " 5639,\n",
       " 5640,\n",
       " 5641,\n",
       " 4109,\n",
       " 3089,\n",
       " 7188,\n",
       " 5657,\n",
       " 5658,\n",
       " 5671,\n",
       " 5677,\n",
       " 5678,\n",
       " 5684,\n",
       " 5685,\n",
       " 5689,\n",
       " 3137,\n",
       " 7264,\n",
       " 98,\n",
       " 5731,\n",
       " 4725,\n",
       " 7810,\n",
       " 7302,\n",
       " 6290,\n",
       " 4121,\n",
       " 6596,\n",
       " 6299,\n",
       " 6302,\n",
       " 6307,\n",
       " 6308,\n",
       " 6314,\n",
       " 6316,\n",
       " 6326,\n",
       " 6327,\n",
       " 6328,\n",
       " 6332,\n",
       " 6333,\n",
       " 6334,\n",
       " 6337,\n",
       " 4301,\n",
       " 4818,\n",
       " 4819,\n",
       " 4820,\n",
       " 4821,\n",
       " 4825,\n",
       " 4826,\n",
       " 3811,\n",
       " 3815,\n",
       " 4346,\n",
       " 4347,\n",
       " 3849,\n",
       " 3851,\n",
       " 3855,\n",
       " 6928,\n",
       " 3857,\n",
       " 7444,\n",
       " 3863,\n",
       " 3864,\n",
       " 3865,\n",
       " 3866,\n",
       " 3871,\n",
       " 3872,\n",
       " 3882,\n",
       " 3883,\n",
       " 5941,\n",
       " 5942,\n",
       " 3895,\n",
       " 3899,\n",
       " 3900,\n",
       " 3894,\n",
       " 5943,\n",
       " 6994,\n",
       " 6511,\n",
       " 6522,\n",
       " 6523,\n",
       " 6524,\n",
       " 7549,\n",
       " 7550,\n",
       " 6019,\n",
       " 7831,\n",
       " 7564,\n",
       " 5528,\n",
       " 4017,\n",
       " 4018,\n",
       " 4021,\n",
       " 4025,\n",
       " 4028,\n",
       " 3012,\n",
       " 3013,\n",
       " 6606,\n",
       " 6611,\n",
       " 6125,\n",
       " 6649]"
      ]
     },
     "execution_count": 293,
     "metadata": {},
     "output_type": "execute_result"
    }
   ],
   "source": [
    "G.neighbors(5944)"
   ]
  },
  {
   "cell_type": "code",
   "execution_count": 291,
   "metadata": {
    "collapsed": false
   },
   "outputs": [
    {
     "data": {
      "text/plain": [
       "False"
      ]
     },
     "execution_count": 291,
     "metadata": {},
     "output_type": "execute_result"
    }
   ],
   "source": [
    "G.has_edge(7810, 5944)"
   ]
  },
  {
   "cell_type": "code",
   "execution_count": 292,
   "metadata": {
    "collapsed": false,
    "scrolled": true
   },
   "outputs": [
    {
     "data": {
      "text/plain": [
       "{'trips': [{'arr': '17:34:09', 'route': 1031, 'trip_id': 6860333},\n",
       "  {'arr': '17:22:24', 'route': 1031, 'trip_id': 6860328},\n",
       "  {'arr': '17:10:01', 'route': 1031, 'trip_id': 6860322},\n",
       "  {'arr': '16:58:01', 'route': 1031, 'trip_id': 6860320},\n",
       "  {'arr': '16:28:01', 'route': 1031, 'trip_id': 6860309},\n",
       "  {'arr': '16:11:01', 'route': 1031, 'trip_id': 6860304},\n",
       "  {'arr': '18:16:46', 'route': 1031, 'trip_id': 6860284},\n",
       "  {'arr': '17:05:23', 'route': 1032, 'trip_id': 7013773},\n",
       "  {'arr': '16:49:23', 'route': 1032, 'trip_id': 7013770},\n",
       "  {'arr': '18:37:57', 'route': 1032, 'trip_id': 7013766},\n",
       "  {'arr': '19:07:57', 'route': 1032, 'trip_id': 7008009},\n",
       "  {'arr': '18:52:57', 'route': 1032, 'trip_id': 7007944},\n",
       "  {'arr': '18:05:57', 'route': 1032, 'trip_id': 6860350},\n",
       "  {'arr': '17:53:47', 'route': 1032, 'trip_id': 6860343},\n",
       "  {'arr': '17:42:47', 'route': 1032, 'trip_id': 6860337},\n",
       "  {'arr': '17:30:57', 'route': 1032, 'trip_id': 6860331},\n",
       "  {'arr': '17:05:23', 'route': 1032, 'trip_id': 6860323},\n",
       "  {'arr': '16:49:23', 'route': 1032, 'trip_id': 6860317},\n",
       "  {'arr': '16:32:23', 'route': 1032, 'trip_id': 6860312},\n",
       "  {'arr': '16:12:08', 'route': 1032, 'trip_id': 6860305},\n",
       "  {'arr': '17:18:57', 'route': 1032, 'trip_id': 6860298},\n",
       "  {'arr': '18:22:57', 'route': 1032, 'trip_id': 6860288},\n",
       "  {'arr': '16:41:22', 'route': 1038, 'trip_id': 7013767},\n",
       "  {'arr': '18:04:59', 'route': 1038, 'trip_id': 6860348},\n",
       "  {'arr': '17:53:10', 'route': 1038, 'trip_id': 6860344},\n",
       "  {'arr': '17:42:58', 'route': 1038, 'trip_id': 6860338},\n",
       "  {'arr': '17:31:58', 'route': 1038, 'trip_id': 6860332},\n",
       "  {'arr': '17:14:22', 'route': 1038, 'trip_id': 6860325},\n",
       "  {'arr': '16:58:10', 'route': 1038, 'trip_id': 6860319},\n",
       "  {'arr': '16:41:22', 'route': 1038, 'trip_id': 6860313},\n",
       "  {'arr': '16:24:10', 'route': 1038, 'trip_id': 6860307},\n",
       "  {'arr': '16:06:10', 'route': 1038, 'trip_id': 6860301},\n",
       "  {'arr': '19:06:59', 'route': 1038, 'trip_id': 6860294},\n",
       "  {'arr': '18:49:59', 'route': 1038, 'trip_id': 6860292},\n",
       "  {'arr': '18:34:59', 'route': 1038, 'trip_id': 6860290},\n",
       "  {'arr': '18:19:59', 'route': 1038, 'trip_id': 6860285},\n",
       "  {'arr': '17:23:49', 'route': 1039, 'trip_id': 7013776},\n",
       "  {'arr': '17:04:48', 'route': 1039, 'trip_id': 7013772},\n",
       "  {'arr': '19:07:34', 'route': 1039, 'trip_id': 7008094},\n",
       "  {'arr': '17:58:34', 'route': 1039, 'trip_id': 6860346},\n",
       "  {'arr': '17:48:34', 'route': 1039, 'trip_id': 6860341},\n",
       "  {'arr': '17:38:49', 'route': 1039, 'trip_id': 6860335},\n",
       "  {'arr': '18:51:32', 'route': 1034, 'trip_id': 7008013},\n",
       "  {'arr': '17:09:13', 'route': 1034, 'trip_id': 6860352},\n",
       "  {'arr': '18:05:32', 'route': 1034, 'trip_id': 6860351},\n",
       "  {'arr': '17:53:53', 'route': 1034, 'trip_id': 6860342},\n",
       "  {'arr': '17:43:35', 'route': 1034, 'trip_id': 6860336},\n",
       "  {'arr': '17:32:35', 'route': 1034, 'trip_id': 6860330},\n",
       "  {'arr': '17:21:14', 'route': 1034, 'trip_id': 6860324},\n",
       "  {'arr': '16:53:31', 'route': 1034, 'trip_id': 6860316},\n",
       "  {'arr': '16:32:51', 'route': 1034, 'trip_id': 6860310},\n",
       "  {'arr': '16:12:51', 'route': 1034, 'trip_id': 6860302},\n",
       "  {'arr': '18:19:32', 'route': 1034, 'trip_id': 6860287},\n",
       "  {'arr': '17:22:24', 'route': 1031, 'trip_id': 7013777},\n",
       "  {'arr': '17:10:01', 'route': 1031, 'trip_id': 7013775},\n",
       "  {'arr': '16:58:01', 'route': 1031, 'trip_id': 7013771},\n",
       "  {'arr': '16:44:01', 'route': 1031, 'trip_id': 7013768},\n",
       "  {'arr': '19:06:35', 'route': 1031, 'trip_id': 7007943},\n",
       "  {'arr': '18:32:35', 'route': 1031, 'trip_id': 7007941},\n",
       "  {'arr': '18:48:35', 'route': 1031, 'trip_id': 7007940},\n",
       "  {'arr': '16:44:01', 'route': 1031, 'trip_id': 6860354},\n",
       "  {'arr': '18:04:54', 'route': 1031, 'trip_id': 6860349},\n",
       "  {'arr': '17:54:54', 'route': 1031, 'trip_id': 6860345},\n",
       "  {'arr': '17:44:54', 'route': 1031, 'trip_id': 6860339},\n",
       "  {'arr': '17:23:49', 'route': 1039, 'trip_id': 6860327},\n",
       "  {'arr': '17:04:48', 'route': 1039, 'trip_id': 6860321},\n",
       "  {'arr': '16:46:48', 'route': 1039, 'trip_id': 6860314},\n",
       "  {'arr': '16:28:48', 'route': 1039, 'trip_id': 6860308},\n",
       "  {'arr': '16:11:48', 'route': 1039, 'trip_id': 6860303},\n",
       "  {'arr': '18:52:34', 'route': 1039, 'trip_id': 6860293},\n",
       "  {'arr': '18:37:48', 'route': 1039, 'trip_id': 6860291},\n",
       "  {'arr': '18:25:34', 'route': 1039, 'trip_id': 6860289},\n",
       "  {'arr': '18:11:34', 'route': 1039, 'trip_id': 6860283},\n",
       "  {'arr': '16:31:40', 'route': 1033, 'trip_id': 7060308},\n",
       "  {'arr': '17:25:36', 'route': 1033, 'trip_id': 7013778},\n",
       "  {'arr': '19:07:36', 'route': 1033, 'trip_id': 7008012},\n",
       "  {'arr': '18:49:36', 'route': 1033, 'trip_id': 7008011},\n",
       "  {'arr': '18:33:36', 'route': 1033, 'trip_id': 7008010},\n",
       "  {'arr': '18:01:49', 'route': 1033, 'trip_id': 6860347},\n",
       "  {'arr': '17:47:49', 'route': 1033, 'trip_id': 6860340},\n",
       "  {'arr': '17:36:49', 'route': 1033, 'trip_id': 6860334},\n",
       "  {'arr': '17:25:36', 'route': 1033, 'trip_id': 6860329},\n",
       "  {'arr': '17:12:36', 'route': 1033, 'trip_id': 6860326},\n",
       "  {'arr': '16:51:40', 'route': 1033, 'trip_id': 6860318},\n",
       "  {'arr': '16:31:40', 'route': 1033, 'trip_id': 6860311},\n",
       "  {'arr': '16:11:26', 'route': 1033, 'trip_id': 6860306},\n",
       "  {'arr': '18:17:36', 'route': 1033, 'trip_id': 6860286},\n",
       "  {'arr': '17:09:13', 'route': 1034, 'trip_id': 7013774},\n",
       "  {'arr': '18:34:32', 'route': 1034, 'trip_id': 7013765},\n",
       "  {'arr': '19:09:32', 'route': 1034, 'trip_id': 7008014}]}"
      ]
     },
     "execution_count": 292,
     "metadata": {},
     "output_type": "execute_result"
    }
   ],
   "source": [
    "G.edge[5944][7810]"
   ]
  },
  {
   "cell_type": "code",
   "execution_count": null,
   "metadata": {
    "collapsed": true
   },
   "outputs": [],
   "source": []
  },
  {
   "cell_type": "code",
   "execution_count": 290,
   "metadata": {
    "collapsed": false
   },
   "outputs": [
    {
     "data": {
      "text/plain": [
       "False"
      ]
     },
     "execution_count": 290,
     "metadata": {},
     "output_type": "execute_result"
    }
   ],
   "source": [
    "G.has_edge(3547,4555)"
   ]
  },
  {
   "cell_type": "code",
   "execution_count": null,
   "metadata": {
    "collapsed": true
   },
   "outputs": [],
   "source": []
  },
  {
   "cell_type": "code",
   "execution_count": 232,
   "metadata": {
    "collapsed": false
   },
   "outputs": [],
   "source": [
    "from math import radians, cos, sin, asin, sqrt\n",
    "\n",
    "def haversine(lon1, lat1, lon2, lat2):\n",
    "    \"\"\"\n",
    "    Calculate the great circle distance between two points \n",
    "    on the earth (specified in decimal degrees)\n",
    "    \"\"\"\n",
    "    # convert decimal degrees to radians \n",
    "    lon1, lat1, lon2, lat2 = map(radians, [lon1, lat1, lon2, lat2])\n",
    "\n",
    "    # haversine formula \n",
    "    dlon = lon2 - lon1 \n",
    "    dlat = lat2 - lat1 \n",
    "    a = sin(dlat/2.)**2 + cos(lat1) * cos(lat2) * sin(dlon/2.)**2\n",
    "    c = 2 * asin(sqrt(a)) \n",
    "    r = 6371 # Radius of earth in kilometers. Use 3956 for miles\n",
    "    return c * r"
   ]
  },
  {
   "cell_type": "code",
   "execution_count": 235,
   "metadata": {
    "collapsed": false
   },
   "outputs": [
    {
     "data": {
      "text/plain": [
       "0.8206931652358888"
      ]
     },
     "execution_count": 235,
     "metadata": {},
     "output_type": "execute_result"
    }
   ],
   "source": [
    "haversine(stops.loc[0]['stop_lon'], stops.loc[0]['stop_lat'], stops.loc[1]['stop_lon'], stops.loc[1]['stop_lat'])"
   ]
  },
  {
   "cell_type": "code",
   "execution_count": 288,
   "metadata": {
    "collapsed": false
   },
   "outputs": [],
   "source": [
    "for row in stops.iterrows():\n",
    "    stop = row[1]\n",
    "    dists = stops.apply(lambda x: haversine(x['stop_lon'], x['stop_lat'], stop['stop_lon'], stop['stop_lat']),\\\n",
    "                       axis=1)\n",
    "    dists = dists[dists < 0.5]\n",
    "    dists = dists.drop(row[0])\n",
    "    for close_stop in dists.iteritems():\n",
    "        close_stop_id = stops.loc[close_stop[0]]['stop_id']\n",
    "        if G.has_edge(stop['stop_id'], close_stop_id):\n",
    "            G[stop['stop_id']][close_stop_id]['d'] = close_stop[1]\n",
    "        else:\n",
    "            G.add_edge(stop['stop_id'], close_stop_id , {'d':close_stop[1]})"
   ]
  },
  {
   "cell_type": "code",
   "execution_count": 289,
   "metadata": {
    "collapsed": false
   },
   "outputs": [
    {
     "data": {
      "text/plain": [
       "186414"
      ]
     },
     "execution_count": 289,
     "metadata": {},
     "output_type": "execute_result"
    }
   ],
   "source": [
    "G.number_of_edges()"
   ]
  },
  {
   "cell_type": "code",
   "execution_count": 177,
   "metadata": {
    "collapsed": false
   },
   "outputs": [],
   "source": [
    "foo = stop_times[stop_times['trip_id'] == 7048004]"
   ]
  },
  {
   "cell_type": "code",
   "execution_count": 178,
   "metadata": {
    "collapsed": false
   },
   "outputs": [
    {
     "data": {
      "text/plain": [
       "49"
      ]
     },
     "execution_count": 178,
     "metadata": {},
     "output_type": "execute_result"
    }
   ],
   "source": [
    "len(foo)"
   ]
  },
  {
   "cell_type": "code",
   "execution_count": 180,
   "metadata": {
    "collapsed": false
   },
   "outputs": [
    {
     "data": {
      "text/html": [
       "<div>\n",
       "<table border=\"1\" class=\"dataframe\">\n",
       "  <thead>\n",
       "    <tr style=\"text-align: right;\">\n",
       "      <th></th>\n",
       "      <th>trip_id</th>\n",
       "      <th>arrival_time</th>\n",
       "      <th>departure_time</th>\n",
       "      <th>stop_id</th>\n",
       "      <th>stop_sequence</th>\n",
       "      <th>stop_headsign</th>\n",
       "      <th>pickup_type</th>\n",
       "      <th>drop_off_type</th>\n",
       "      <th>shape_dist_traveled</th>\n",
       "    </tr>\n",
       "  </thead>\n",
       "  <tbody>\n",
       "    <tr>\n",
       "      <th>976236</th>\n",
       "      <td>7048004</td>\n",
       "      <td>09:34:00</td>\n",
       "      <td>09:34:00</td>\n",
       "      <td>4015</td>\n",
       "      <td>1</td>\n",
       "      <td></td>\n",
       "      <td></td>\n",
       "      <td></td>\n",
       "      <td></td>\n",
       "    </tr>\n",
       "    <tr>\n",
       "      <th>976237</th>\n",
       "      <td>7048004</td>\n",
       "      <td>09:35:08</td>\n",
       "      <td>09:35:08</td>\n",
       "      <td>6294</td>\n",
       "      <td>2</td>\n",
       "      <td></td>\n",
       "      <td></td>\n",
       "      <td></td>\n",
       "      <td></td>\n",
       "    </tr>\n",
       "    <tr>\n",
       "      <th>976238</th>\n",
       "      <td>7048004</td>\n",
       "      <td>09:36:23</td>\n",
       "      <td>09:36:23</td>\n",
       "      <td>6290</td>\n",
       "      <td>3</td>\n",
       "      <td></td>\n",
       "      <td></td>\n",
       "      <td></td>\n",
       "      <td></td>\n",
       "    </tr>\n",
       "    <tr>\n",
       "      <th>976239</th>\n",
       "      <td>7048004</td>\n",
       "      <td>09:37:00</td>\n",
       "      <td>09:37:00</td>\n",
       "      <td>6314</td>\n",
       "      <td>4</td>\n",
       "      <td></td>\n",
       "      <td></td>\n",
       "      <td></td>\n",
       "      <td></td>\n",
       "    </tr>\n",
       "    <tr>\n",
       "      <th>976240</th>\n",
       "      <td>7048004</td>\n",
       "      <td>09:37:59</td>\n",
       "      <td>09:37:59</td>\n",
       "      <td>6307</td>\n",
       "      <td>5</td>\n",
       "      <td></td>\n",
       "      <td></td>\n",
       "      <td></td>\n",
       "      <td></td>\n",
       "    </tr>\n",
       "  </tbody>\n",
       "</table>\n",
       "</div>"
      ],
      "text/plain": [
       "        trip_id arrival_time departure_time  stop_id  stop_sequence  \\\n",
       "976236  7048004     09:34:00       09:34:00     4015              1   \n",
       "976237  7048004     09:35:08       09:35:08     6294              2   \n",
       "976238  7048004     09:36:23       09:36:23     6290              3   \n",
       "976239  7048004     09:37:00       09:37:00     6314              4   \n",
       "976240  7048004     09:37:59       09:37:59     6307              5   \n",
       "\n",
       "       stop_headsign pickup_type drop_off_type shape_dist_traveled  \n",
       "976236                                                              \n",
       "976237                                                              \n",
       "976238                                                              \n",
       "976239                                                              \n",
       "976240                                                              "
      ]
     },
     "execution_count": 180,
     "metadata": {},
     "output_type": "execute_result"
    }
   ],
   "source": [
    "foo.head()"
   ]
  },
  {
   "cell_type": "code",
   "execution_count": 175,
   "metadata": {
    "collapsed": true
   },
   "outputs": [
    {
     "name": "stdout",
     "output_type": "stream",
     "text": [
      "(4015, 6294, {'trips': [{'dep': '25:20:45', 'arr': '25:20:45', 'trip_id': 6858633, 'route': 11047}]})\n",
      "(6294, 6290, {'trips': [{'dep': '25:21:33', 'arr': '25:21:33', 'trip_id': 6858633, 'route': 11047}]})\n",
      "(6290, 6314, {'trips': [{'dep': '25:22:00', 'arr': '25:22:00', 'trip_id': 6858633, 'route': 11047}]})\n",
      "(6314, 6307, {'trips': [{'dep': '25:22:35', 'arr': '25:22:35', 'trip_id': 6858633, 'route': 11047}]})\n",
      "(6307, 6302, {'trips': [{'dep': '25:23:17', 'arr': '25:23:17', 'trip_id': 6858633, 'route': 11047}]})\n",
      "(6302, 6299, {'trips': [{'dep': '25:23:51', 'arr': '25:23:51', 'trip_id': 6858633, 'route': 11047}]})\n",
      "(6299, 6316, {'trips': [{'dep': '25:24:21', 'arr': '25:24:21', 'trip_id': 6858633, 'route': 11047}]})\n",
      "(6316, 6312, {'trips': [{'dep': '25:25:00', 'arr': '25:25:00', 'trip_id': 6858633, 'route': 11047}]})\n",
      "(6312, 6315, {'trips': [{'dep': '25:25:54', 'arr': '25:25:54', 'trip_id': 6858633, 'route': 11047}]})\n",
      "(6315, 6301, {'trips': [{'dep': '25:26:39', 'arr': '25:26:39', 'trip_id': 6858633, 'route': 11047}]})\n",
      "(6301, 6304, {'trips': [{'dep': '25:27:10', 'arr': '25:27:10', 'trip_id': 6858633, 'route': 11047}]})\n",
      "(6304, 6300, {'trips': [{'dep': '25:27:43', 'arr': '25:27:43', 'trip_id': 6858633, 'route': 11047}]})\n",
      "(6300, 6303, {'trips': [{'dep': '25:28:24', 'arr': '25:28:24', 'trip_id': 6858633, 'route': 11047}]})\n",
      "(6303, 6311, {'trips': [{'dep': '25:29:00', 'arr': '25:29:00', 'trip_id': 6858633, 'route': 11047}]})\n",
      "(6311, 6317, {'trips': [{'dep': '25:29:20', 'arr': '25:29:20', 'trip_id': 6858633, 'route': 11047}]})\n",
      "(6317, 6297, {'trips': [{'dep': '25:29:51', 'arr': '25:29:51', 'trip_id': 6858633, 'route': 11047}]})\n",
      "(6297, 6298, {'trips': [{'dep': '25:30:29', 'arr': '25:30:29', 'trip_id': 6858633, 'route': 11047}]})\n",
      "(6298, 6309, {'trips': [{'dep': '25:30:53', 'arr': '25:30:53', 'trip_id': 6858633, 'route': 11047}]})\n",
      "(6309, 6305, {'trips': [{'dep': '25:31:19', 'arr': '25:31:19', 'trip_id': 6858633, 'route': 11047}]})\n",
      "(6305, 6291, {'trips': [{'dep': '25:31:49', 'arr': '25:31:49', 'trip_id': 6858633, 'route': 11047}]})\n",
      "(6291, 6319, {'trips': [{'dep': '25:32:18', 'arr': '25:32:18', 'trip_id': 6858633, 'route': 11047}]})\n",
      "(6319, 6295, {'trips': [{'dep': '25:33:00', 'arr': '25:33:00', 'trip_id': 6858633, 'route': 11047}]})\n",
      "(6295, 6486, {'trips': [{'dep': '25:33:40', 'arr': '25:33:40', 'trip_id': 6858633, 'route': 11047}]})\n",
      "(6486, 3884, {'trips': [{'dep': '25:34:17', 'arr': '25:34:17', 'trip_id': 6858633, 'route': 11047}]})\n",
      "(3884, 3858, {'trips': [{'dep': '25:35:15', 'arr': '25:35:15', 'trip_id': 6858633, 'route': 11047}]})\n",
      "(3858, 3847, {'trips': [{'dep': '25:36:02', 'arr': '25:36:02', 'trip_id': 6858633, 'route': 11047}]})\n",
      "(3847, 3892, {'trips': [{'dep': '25:37:00', 'arr': '25:37:00', 'trip_id': 6858633, 'route': 11047}]})\n",
      "(3892, 3875, {'trips': [{'dep': '25:37:50', 'arr': '25:37:50', 'trip_id': 6858633, 'route': 11047}]})\n",
      "(3875, 3896, {'trips': [{'dep': '25:38:45', 'arr': '25:38:45', 'trip_id': 6858633, 'route': 11047}]})\n",
      "(3896, 3879, {'trips': [{'dep': '25:39:16', 'arr': '25:39:16', 'trip_id': 6858633, 'route': 11047}]})\n",
      "(3879, 3852, {'trips': [{'dep': '25:39:43', 'arr': '25:39:43', 'trip_id': 6858633, 'route': 11047}]})\n",
      "(3852, 3845, {'trips': [{'dep': '25:40:24', 'arr': '25:40:24', 'trip_id': 6858633, 'route': 11047}]})\n",
      "(3845, 3822, {'trips': [{'dep': '25:41:13', 'arr': '25:41:13', 'trip_id': 6858633, 'route': 11047}]})\n",
      "(3822, 3824, {'trips': [{'dep': '25:42:00', 'arr': '25:42:00', 'trip_id': 6858633, 'route': 11047}]})\n",
      "(3824, 7160, {'trips': [{'dep': '25:42:27', 'arr': '25:42:27', 'trip_id': 6858633, 'route': 11047}]})\n",
      "(7160, 3828, {'trips': [{'dep': '25:43:00', 'arr': '25:43:00', 'trip_id': 6858633, 'route': 11047}]})\n",
      "(3828, 3831, {'trips': [{'dep': '25:43:24', 'arr': '25:43:24', 'trip_id': 6858633, 'route': 11047}]})\n",
      "(3831, 3886, {'trips': [{'dep': '25:43:58', 'arr': '25:43:58', 'trip_id': 6858633, 'route': 11047}]})\n",
      "(3886, 3833, {'trips': [{'dep': '25:44:26', 'arr': '25:44:26', 'trip_id': 6858633, 'route': 11047}]})\n",
      "(3833, 3835, {'trips': [{'dep': '25:45:12', 'arr': '25:45:12', 'trip_id': 6858633, 'route': 11047}]})\n",
      "(3835, 3837, {'trips': [{'dep': '25:45:58', 'arr': '25:45:58', 'trip_id': 6858633, 'route': 11047}]})\n",
      "(3837, 3839, {'trips': [{'dep': '25:46:43', 'arr': '25:46:43', 'trip_id': 6858633, 'route': 11047}]})\n",
      "(3839, 3841, {'trips': [{'dep': '25:47:29', 'arr': '25:47:29', 'trip_id': 6858633, 'route': 11047}]})\n",
      "(3841, 3843, {'trips': [{'dep': '25:48:04', 'arr': '25:48:04', 'trip_id': 6858633, 'route': 11047}]})\n",
      "(3843, 3547, {'trips': [{'dep': '25:48:34', 'arr': '25:48:34', 'trip_id': 6858633, 'route': 11047}]})\n",
      "(3547, 3549, {'trips': [{'dep': '25:49:04', 'arr': '25:49:04', 'trip_id': 6858633, 'route': 11047}]})\n",
      "(3549, 3550, {'trips': [{'dep': '25:49:38', 'arr': '25:49:38', 'trip_id': 6858633, 'route': 11047}]})\n",
      "(3550, 4277, {'trips': [{'dep': '25:50:00', 'arr': '25:50:00', 'trip_id': 6858633, 'route': 11047}]})\n"
     ]
    }
   ],
   "source": [
    "trip_id = 6858633\n",
    "for stop in foo.iterrows():\n",
    "    if stop[1]['stop_sequence'] == 1:\n",
    "        last_stop = stop[1]['stop_id']\n",
    "        continue\n",
    "    print (last_stop, stop[1]['stop_id'], {'trips': [\\\n",
    "                                                     {'trip_id': trip_id,\\\n",
    "                                                      'arr':stop[1]['arrival_time'],\\\n",
    "                                                      'route':trips[trips['trip_id']==trip_id]['route_id'].values[0]}\n",
    "                                                     ]})\n",
    "    last_stop = stop[1]['stop_id']"
   ]
  },
  {
   "cell_type": "code",
   "execution_count": 295,
   "metadata": {
    "collapsed": true
   },
   "outputs": [],
   "source": [
    "import cPickle as pickle"
   ]
  },
  {
   "cell_type": "code",
   "execution_count": 298,
   "metadata": {
    "collapsed": false
   },
   "outputs": [],
   "source": [
    "with open('graph.pkl','w') as f:\n",
    "    pickle.dump(G, f)"
   ]
  },
  {
   "cell_type": "code",
   "execution_count": 317,
   "metadata": {
    "collapsed": false
   },
   "outputs": [
    {
     "name": "stdout",
     "output_type": "stream",
     "text": [
      "[98, 7680, 6524, 6695, 3104, 5510, 4555]\n",
      "[98, 7681, 6524, 6695, 3104, 5510, 4555]\n",
      "[98, 6019, 6524, 6695, 3104, 5510, 4555]\n",
      "[98, 5640, 6524, 6695, 3104, 5510, 4555]\n",
      "[98, 5642, 6524, 6695, 3104, 5510, 4555]\n"
     ]
    }
   ],
   "source": [
    "g = nx.all_shortest_paths(G, 98, 4555)\n",
    "for i in xrange(5):\n",
    "    print g.next()"
   ]
  },
  {
   "cell_type": "code",
   "execution_count": null,
   "metadata": {
    "collapsed": true
   },
   "outputs": [],
   "source": []
  }
 ],
 "metadata": {
  "kernelspec": {
   "display_name": "Python 2",
   "language": "python",
   "name": "python2"
  },
  "language_info": {
   "codemirror_mode": {
    "name": "ipython",
    "version": 2
   },
   "file_extension": ".py",
   "mimetype": "text/x-python",
   "name": "python",
   "nbconvert_exporter": "python",
   "pygments_lexer": "ipython2",
   "version": "2.7.11"
  }
 },
 "nbformat": 4,
 "nbformat_minor": 0
}
