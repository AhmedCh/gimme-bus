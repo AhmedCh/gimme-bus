{
 "cells": [
  {
   "cell_type": "code",
   "execution_count": 1,
   "metadata": {
    "collapsed": true
   },
   "outputs": [],
   "source": [
    "import pandas as pd\n",
    "import numpy as np\n",
    "import networkx as nx\n",
    "import cPickle as pickle\n",
    "from model import utilities as ut\n",
    "\n",
    "# Reading in static schedule data\n",
    "stops_full = pd.read_csv('data/google_transit/stops.txt', index_col='stop_id')\n",
    "routes = pd.read_csv('data/google_transit/routes.txt', index_col='route_id')\n",
    "trips = pd.read_csv('data/google_transit/trips.txt', index_col='trip_id')\n",
    "blocks = pd.read_csv('../project/lookUpBlockIDToBlockNumNam.csv', index_col='BLOCKID')\n",
    "stop_times = pd.read_csv('data/google_transit/stop_times.txt')\n",
    "shapes = pd.read_csv('data/google_transit/shapes.txt')\n",
    "\n",
    "# Some of these stops are named \"Not a public stop\" but are still in trips.\n",
    "# Luckily, in the few trips they appear in, they're only either at the\n",
    "# beginning or the end, so we can remove them now and we'll still build\n",
    "# a nice graph with the connections we expect.\n",
    "stops = stops_full[~stops_full.index.isin([7520, 7530, 7531, 7540])]\n",
    "stop_times = stop_times[~stop_times['stop_id'].isin([7520, 7530, 7531, 7540])]\n",
    "\n",
    "# Oh and some stops are in stops.txt but not used in trips... let's remove 'em\n",
    "used_stops = set(stop_times['stop_id'].unique())\n",
    "stops = stops[stops.index.isin(used_stops)]\n",
    "\n",
    "# Let's make some sorted stop-timepoint lists for each stop_id to\n",
    "# make lookup faster for things\n",
    "all_stop_timepoints = {}\n",
    "for stopid in used_stops:\n",
    "    node_names = stop_times[stop_times['stop_id'] == stopid].\\\n",
    "                    apply(lambda x: '{0}_{1}'.\\\n",
    "                              format(stopid, x['arrival_time']),\\\n",
    "                          axis=1)\n",
    "    all_stop_timepoints[stopid] = sorted(list(set(node_names)))"
   ]
  },
  {
   "cell_type": "code",
   "execution_count": 2,
   "metadata": {
    "collapsed": false
   },
   "outputs": [
    {
     "name": "stderr",
     "output_type": "stream",
     "text": [
      "/home/moses/anaconda2/lib/python2.7/site-packages/IPython/core/interactiveshell.py:2902: DtypeWarning: Columns (2,7) have mixed types. Specify dtype option on import or set low_memory=False.\n",
      "  interactivity=interactivity, compiler=compiler, result=result)\n"
     ]
    }
   ],
   "source": [
    "raw_test = pd.read_csv('../project/test3.csv')"
   ]
  },
  {
   "cell_type": "code",
   "execution_count": 29,
   "metadata": {
    "collapsed": false
   },
   "outputs": [
    {
     "data": {
      "text/html": [
       "<div>\n",
       "<table border=\"1\" class=\"dataframe\">\n",
       "  <thead>\n",
       "    <tr style=\"text-align: right;\">\n",
       "      <th></th>\n",
       "      <th>REV</th>\n",
       "      <th>REPORT_TIME</th>\n",
       "      <th>VEHICLE_TAG</th>\n",
       "      <th>LONGITUDE</th>\n",
       "      <th>LATITUDE</th>\n",
       "      <th>SPEED</th>\n",
       "      <th>HEADING</th>\n",
       "      <th>TRAIN_ASSIGNMENT</th>\n",
       "      <th>PREDICTABLE</th>\n",
       "    </tr>\n",
       "  </thead>\n",
       "  <tbody>\n",
       "    <tr>\n",
       "      <th>1100</th>\n",
       "      <td>1506</td>\n",
       "      <td>01/06/2016 12:06:37</td>\n",
       "      <td>7</td>\n",
       "      <td>-122.41139</td>\n",
       "      <td>37.79558</td>\n",
       "      <td>0.000</td>\n",
       "      <td>36.0</td>\n",
       "      <td>6002</td>\n",
       "      <td>0</td>\n",
       "    </tr>\n",
       "    <tr>\n",
       "      <th>1101</th>\n",
       "      <td>1506</td>\n",
       "      <td>01/06/2016 12:08:07</td>\n",
       "      <td>7</td>\n",
       "      <td>-122.41191</td>\n",
       "      <td>37.79496</td>\n",
       "      <td>0.000</td>\n",
       "      <td>78.0</td>\n",
       "      <td>6002</td>\n",
       "      <td>1</td>\n",
       "    </tr>\n",
       "    <tr>\n",
       "      <th>1102</th>\n",
       "      <td>1506</td>\n",
       "      <td>01/06/2016 12:12:37</td>\n",
       "      <td>7</td>\n",
       "      <td>-122.41215</td>\n",
       "      <td>37.79481</td>\n",
       "      <td>0.833</td>\n",
       "      <td>16.0</td>\n",
       "      <td>6002</td>\n",
       "      <td>1</td>\n",
       "    </tr>\n",
       "    <tr>\n",
       "      <th>1103</th>\n",
       "      <td>1506</td>\n",
       "      <td>01/06/2016 12:26:07</td>\n",
       "      <td>7</td>\n",
       "      <td>-122.41181</td>\n",
       "      <td>37.79490</td>\n",
       "      <td>0.000</td>\n",
       "      <td>195.0</td>\n",
       "      <td>6002</td>\n",
       "      <td>0</td>\n",
       "    </tr>\n",
       "    <tr>\n",
       "      <th>1104</th>\n",
       "      <td>1506</td>\n",
       "      <td>01/06/2016 12:35:07</td>\n",
       "      <td>7</td>\n",
       "      <td>-122.41198</td>\n",
       "      <td>37.79495</td>\n",
       "      <td>0.000</td>\n",
       "      <td>65.0</td>\n",
       "      <td>6002</td>\n",
       "      <td>0</td>\n",
       "    </tr>\n",
       "    <tr>\n",
       "      <th>1105</th>\n",
       "      <td>1506</td>\n",
       "      <td>01/06/2016 12:39:37</td>\n",
       "      <td>7</td>\n",
       "      <td>-122.41208</td>\n",
       "      <td>37.79485</td>\n",
       "      <td>0.000</td>\n",
       "      <td>20.0</td>\n",
       "      <td>6002</td>\n",
       "      <td>0</td>\n",
       "    </tr>\n",
       "    <tr>\n",
       "      <th>1106</th>\n",
       "      <td>1506</td>\n",
       "      <td>01/06/2016 12:56:07</td>\n",
       "      <td>7</td>\n",
       "      <td>-122.41206</td>\n",
       "      <td>37.79495</td>\n",
       "      <td>0.000</td>\n",
       "      <td>19.0</td>\n",
       "      <td>6002</td>\n",
       "      <td>0</td>\n",
       "    </tr>\n",
       "    <tr>\n",
       "      <th>1107</th>\n",
       "      <td>1506</td>\n",
       "      <td>01/06/2016 13:00:37</td>\n",
       "      <td>7</td>\n",
       "      <td>-122.41206</td>\n",
       "      <td>37.79471</td>\n",
       "      <td>0.000</td>\n",
       "      <td>348.0</td>\n",
       "      <td>6002</td>\n",
       "      <td>0</td>\n",
       "    </tr>\n",
       "    <tr>\n",
       "      <th>1108</th>\n",
       "      <td>1506</td>\n",
       "      <td>01/06/2016 13:44:07</td>\n",
       "      <td>7</td>\n",
       "      <td>-122.41208</td>\n",
       "      <td>37.79473</td>\n",
       "      <td>0.000</td>\n",
       "      <td>18.0</td>\n",
       "      <td>6002</td>\n",
       "      <td>0</td>\n",
       "    </tr>\n",
       "    <tr>\n",
       "      <th>1109</th>\n",
       "      <td>1506</td>\n",
       "      <td>01/06/2016 13:47:07</td>\n",
       "      <td>7</td>\n",
       "      <td>-122.41200</td>\n",
       "      <td>37.79485</td>\n",
       "      <td>0.000</td>\n",
       "      <td>344.0</td>\n",
       "      <td>6002</td>\n",
       "      <td>0</td>\n",
       "    </tr>\n",
       "    <tr>\n",
       "      <th>1110</th>\n",
       "      <td>1506</td>\n",
       "      <td>01/06/2016 13:50:07</td>\n",
       "      <td>7</td>\n",
       "      <td>-122.41196</td>\n",
       "      <td>37.79488</td>\n",
       "      <td>0.000</td>\n",
       "      <td>21.0</td>\n",
       "      <td>6002</td>\n",
       "      <td>0</td>\n",
       "    </tr>\n",
       "    <tr>\n",
       "      <th>1111</th>\n",
       "      <td>1506</td>\n",
       "      <td>01/06/2016 14:00:37</td>\n",
       "      <td>7</td>\n",
       "      <td>-122.41205</td>\n",
       "      <td>37.79495</td>\n",
       "      <td>0.000</td>\n",
       "      <td>15.0</td>\n",
       "      <td>6002</td>\n",
       "      <td>0</td>\n",
       "    </tr>\n",
       "    <tr>\n",
       "      <th>1112</th>\n",
       "      <td>1506</td>\n",
       "      <td>01/06/2016 14:08:07</td>\n",
       "      <td>7</td>\n",
       "      <td>-122.41212</td>\n",
       "      <td>37.79486</td>\n",
       "      <td>0.000</td>\n",
       "      <td>16.0</td>\n",
       "      <td>6002</td>\n",
       "      <td>0</td>\n",
       "    </tr>\n",
       "    <tr>\n",
       "      <th>1113</th>\n",
       "      <td>1506</td>\n",
       "      <td>01/06/2016 14:11:07</td>\n",
       "      <td>7</td>\n",
       "      <td>-122.41169</td>\n",
       "      <td>37.79585</td>\n",
       "      <td>0.000</td>\n",
       "      <td>354.0</td>\n",
       "      <td>6002</td>\n",
       "      <td>0</td>\n",
       "    </tr>\n",
       "    <tr>\n",
       "      <th>1114</th>\n",
       "      <td>1506</td>\n",
       "      <td>01/06/2016 14:14:07</td>\n",
       "      <td>7</td>\n",
       "      <td>-122.41214</td>\n",
       "      <td>37.79511</td>\n",
       "      <td>0.000</td>\n",
       "      <td>329.0</td>\n",
       "      <td>6002</td>\n",
       "      <td>0</td>\n",
       "    </tr>\n",
       "    <tr>\n",
       "      <th>1115</th>\n",
       "      <td>1506</td>\n",
       "      <td>01/06/2016 14:18:37</td>\n",
       "      <td>7</td>\n",
       "      <td>-122.41207</td>\n",
       "      <td>37.79501</td>\n",
       "      <td>0.000</td>\n",
       "      <td>219.0</td>\n",
       "      <td>6002</td>\n",
       "      <td>0</td>\n",
       "    </tr>\n",
       "    <tr>\n",
       "      <th>1116</th>\n",
       "      <td>1506</td>\n",
       "      <td>01/06/2016 14:23:07</td>\n",
       "      <td>7</td>\n",
       "      <td>-122.41181</td>\n",
       "      <td>37.79486</td>\n",
       "      <td>0.000</td>\n",
       "      <td>78.0</td>\n",
       "      <td>6002</td>\n",
       "      <td>0</td>\n",
       "    </tr>\n",
       "    <tr>\n",
       "      <th>1117</th>\n",
       "      <td>1506</td>\n",
       "      <td>01/06/2016 14:27:37</td>\n",
       "      <td>7</td>\n",
       "      <td>-122.41209</td>\n",
       "      <td>37.79501</td>\n",
       "      <td>0.000</td>\n",
       "      <td>21.0</td>\n",
       "      <td>6002</td>\n",
       "      <td>0</td>\n",
       "    </tr>\n",
       "    <tr>\n",
       "      <th>1118</th>\n",
       "      <td>1506</td>\n",
       "      <td>01/06/2016 14:30:37</td>\n",
       "      <td>7</td>\n",
       "      <td>-122.41214</td>\n",
       "      <td>37.79495</td>\n",
       "      <td>0.000</td>\n",
       "      <td>188.0</td>\n",
       "      <td>6002</td>\n",
       "      <td>0</td>\n",
       "    </tr>\n",
       "    <tr>\n",
       "      <th>1119</th>\n",
       "      <td>1506</td>\n",
       "      <td>01/06/2016 14:35:07</td>\n",
       "      <td>7</td>\n",
       "      <td>-122.41197</td>\n",
       "      <td>37.79483</td>\n",
       "      <td>0.278</td>\n",
       "      <td>275.0</td>\n",
       "      <td>6002</td>\n",
       "      <td>0</td>\n",
       "    </tr>\n",
       "    <tr>\n",
       "      <th>1120</th>\n",
       "      <td>1506</td>\n",
       "      <td>01/06/2016 14:39:37</td>\n",
       "      <td>7</td>\n",
       "      <td>-122.41215</td>\n",
       "      <td>37.79488</td>\n",
       "      <td>0.833</td>\n",
       "      <td>348.0</td>\n",
       "      <td>6002</td>\n",
       "      <td>0</td>\n",
       "    </tr>\n",
       "  </tbody>\n",
       "</table>\n",
       "</div>"
      ],
      "text/plain": [
       "       REV          REPORT_TIME VEHICLE_TAG  LONGITUDE  LATITUDE  SPEED  \\\n",
       "1100  1506  01/06/2016 12:06:37           7 -122.41139  37.79558  0.000   \n",
       "1101  1506  01/06/2016 12:08:07           7 -122.41191  37.79496  0.000   \n",
       "1102  1506  01/06/2016 12:12:37           7 -122.41215  37.79481  0.833   \n",
       "1103  1506  01/06/2016 12:26:07           7 -122.41181  37.79490  0.000   \n",
       "1104  1506  01/06/2016 12:35:07           7 -122.41198  37.79495  0.000   \n",
       "1105  1506  01/06/2016 12:39:37           7 -122.41208  37.79485  0.000   \n",
       "1106  1506  01/06/2016 12:56:07           7 -122.41206  37.79495  0.000   \n",
       "1107  1506  01/06/2016 13:00:37           7 -122.41206  37.79471  0.000   \n",
       "1108  1506  01/06/2016 13:44:07           7 -122.41208  37.79473  0.000   \n",
       "1109  1506  01/06/2016 13:47:07           7 -122.41200  37.79485  0.000   \n",
       "1110  1506  01/06/2016 13:50:07           7 -122.41196  37.79488  0.000   \n",
       "1111  1506  01/06/2016 14:00:37           7 -122.41205  37.79495  0.000   \n",
       "1112  1506  01/06/2016 14:08:07           7 -122.41212  37.79486  0.000   \n",
       "1113  1506  01/06/2016 14:11:07           7 -122.41169  37.79585  0.000   \n",
       "1114  1506  01/06/2016 14:14:07           7 -122.41214  37.79511  0.000   \n",
       "1115  1506  01/06/2016 14:18:37           7 -122.41207  37.79501  0.000   \n",
       "1116  1506  01/06/2016 14:23:07           7 -122.41181  37.79486  0.000   \n",
       "1117  1506  01/06/2016 14:27:37           7 -122.41209  37.79501  0.000   \n",
       "1118  1506  01/06/2016 14:30:37           7 -122.41214  37.79495  0.000   \n",
       "1119  1506  01/06/2016 14:35:07           7 -122.41197  37.79483  0.278   \n",
       "1120  1506  01/06/2016 14:39:37           7 -122.41215  37.79488  0.833   \n",
       "\n",
       "      HEADING TRAIN_ASSIGNMENT  PREDICTABLE  \n",
       "1100     36.0             6002            0  \n",
       "1101     78.0             6002            1  \n",
       "1102     16.0             6002            1  \n",
       "1103    195.0             6002            0  \n",
       "1104     65.0             6002            0  \n",
       "1105     20.0             6002            0  \n",
       "1106     19.0             6002            0  \n",
       "1107    348.0             6002            0  \n",
       "1108     18.0             6002            0  \n",
       "1109    344.0             6002            0  \n",
       "1110     21.0             6002            0  \n",
       "1111     15.0             6002            0  \n",
       "1112     16.0             6002            0  \n",
       "1113    354.0             6002            0  \n",
       "1114    329.0             6002            0  \n",
       "1115    219.0             6002            0  \n",
       "1116     78.0             6002            0  \n",
       "1117     21.0             6002            0  \n",
       "1118    188.0             6002            0  \n",
       "1119    275.0             6002            0  \n",
       "1120    348.0             6002            0  "
      ]
     },
     "execution_count": 29,
     "metadata": {},
     "output_type": "execute_result"
    }
   ],
   "source": [
    "raw_test.loc[1100:1120]"
   ]
  },
  {
   "cell_type": "code",
   "execution_count": 4,
   "metadata": {
    "collapsed": false
   },
   "outputs": [
    {
     "data": {
      "text/plain": [
       "array([nan, '6003', '6004', ..., 905.0, 2905.0, 8888.0], dtype=object)"
      ]
     },
     "execution_count": 4,
     "metadata": {},
     "output_type": "execute_result"
    }
   ],
   "source": [
    "raw_test.TRAIN_ASSIGNMENT.unique()"
   ]
  },
  {
   "cell_type": "code",
   "execution_count": 5,
   "metadata": {
    "collapsed": false
   },
   "outputs": [
    {
     "data": {
      "text/plain": [
       "(101.0, 'NUNSCHED')"
      ]
     },
     "execution_count": 5,
     "metadata": {},
     "output_type": "execute_result"
    }
   ],
   "source": [
    "raw_test.TRAIN_ASSIGNMENT.min(), raw_test.TRAIN_ASSIGNMENT.max()"
   ]
  },
  {
   "cell_type": "code",
   "execution_count": 42,
   "metadata": {
    "collapsed": false
   },
   "outputs": [
    {
     "name": "stdout",
     "output_type": "stream",
     "text": [
      "<class 'pandas.core.frame.DataFrame'>\n",
      "RangeIndex: 304830 entries, 0 to 304829\n",
      "Data columns (total 9 columns):\n",
      "REV                 304830 non-null int64\n",
      "REPORT_TIME         304830 non-null object\n",
      "VEHICLE_TAG         304830 non-null object\n",
      "LONGITUDE           304830 non-null float64\n",
      "LATITUDE            304830 non-null float64\n",
      "SPEED               304830 non-null float64\n",
      "HEADING             304830 non-null float64\n",
      "TRAIN_ASSIGNMENT    239082 non-null object\n",
      "PREDICTABLE         304830 non-null int64\n",
      "dtypes: float64(4), int64(2), object(3)\n",
      "memory usage: 20.9+ MB\n"
     ]
    }
   ],
   "source": [
    "raw_test.info()"
   ]
  },
  {
   "cell_type": "code",
   "execution_count": 6,
   "metadata": {
    "collapsed": false
   },
   "outputs": [
    {
     "data": {
      "text/html": [
       "<div>\n",
       "<table border=\"1\" class=\"dataframe\">\n",
       "  <thead>\n",
       "    <tr style=\"text-align: right;\">\n",
       "      <th></th>\n",
       "      <th>SIGNID</th>\n",
       "      <th>BLOCKNUM</th>\n",
       "      <th>BLOCKNAME</th>\n",
       "    </tr>\n",
       "    <tr>\n",
       "      <th>BLOCKID</th>\n",
       "      <th></th>\n",
       "      <th></th>\n",
       "      <th></th>\n",
       "    </tr>\n",
       "  </thead>\n",
       "  <tbody>\n",
       "    <tr>\n",
       "      <th>332917</th>\n",
       "      <td>69</td>\n",
       "      <td>107</td>\n",
       "      <td>107</td>\n",
       "    </tr>\n",
       "    <tr>\n",
       "      <th>332918</th>\n",
       "      <td>69</td>\n",
       "      <td>108</td>\n",
       "      <td>108</td>\n",
       "    </tr>\n",
       "    <tr>\n",
       "      <th>332919</th>\n",
       "      <td>69</td>\n",
       "      <td>109</td>\n",
       "      <td>109</td>\n",
       "    </tr>\n",
       "    <tr>\n",
       "      <th>332920</th>\n",
       "      <td>69</td>\n",
       "      <td>110</td>\n",
       "      <td>110</td>\n",
       "    </tr>\n",
       "    <tr>\n",
       "      <th>332921</th>\n",
       "      <td>69</td>\n",
       "      <td>102</td>\n",
       "      <td>102</td>\n",
       "    </tr>\n",
       "  </tbody>\n",
       "</table>\n",
       "</div>"
      ],
      "text/plain": [
       "         SIGNID  BLOCKNUM BLOCKNAME\n",
       "BLOCKID                            \n",
       "332917       69       107       107\n",
       "332918       69       108       108\n",
       "332919       69       109       109\n",
       "332920       69       110       110\n",
       "332921       69       102       102"
      ]
     },
     "execution_count": 6,
     "metadata": {},
     "output_type": "execute_result"
    }
   ],
   "source": [
    "blocks.head()"
   ]
  },
  {
   "cell_type": "code",
   "execution_count": 73,
   "metadata": {
    "collapsed": false
   },
   "outputs": [
    {
     "name": "stdout",
     "output_type": "stream",
     "text": [
      "<class 'pandas.core.frame.DataFrame'>\n",
      "Int64Index: 71670 entries, 332917 to 442963\n",
      "Data columns (total 3 columns):\n",
      "SIGNID       71670 non-null int64\n",
      "BLOCKNUM     71670 non-null int64\n",
      "BLOCKNAME    67983 non-null object\n",
      "dtypes: int64(2), object(1)\n",
      "memory usage: 2.2+ MB\n"
     ]
    }
   ],
   "source": [
    "blocks.info()"
   ]
  },
  {
   "cell_type": "code",
   "execution_count": 7,
   "metadata": {
    "collapsed": false
   },
   "outputs": [
    {
     "data": {
      "text/plain": [
       "442993"
      ]
     },
     "execution_count": 7,
     "metadata": {},
     "output_type": "execute_result"
    }
   ],
   "source": [
    "blocks.index.max()"
   ]
  },
  {
   "cell_type": "code",
   "execution_count": 8,
   "metadata": {
    "collapsed": false
   },
   "outputs": [
    {
     "data": {
      "text/plain": [
       "69"
      ]
     },
     "execution_count": 8,
     "metadata": {},
     "output_type": "execute_result"
    }
   ],
   "source": [
    "blocks.SIGNID.min()"
   ]
  },
  {
   "cell_type": "code",
   "execution_count": 9,
   "metadata": {
    "collapsed": false
   },
   "outputs": [
    {
     "data": {
      "text/plain": [
       "88"
      ]
     },
     "execution_count": 9,
     "metadata": {},
     "output_type": "execute_result"
    }
   ],
   "source": [
    "blocks.SIGNID.max()"
   ]
  },
  {
   "cell_type": "code",
   "execution_count": 10,
   "metadata": {
    "collapsed": false
   },
   "outputs": [
    {
     "data": {
      "text/plain": [
       "(1, 9973)"
      ]
     },
     "execution_count": 10,
     "metadata": {},
     "output_type": "execute_result"
    }
   ],
   "source": [
    "blocks.BLOCKNUM.min(), blocks.BLOCKNUM.max()"
   ]
  },
  {
   "cell_type": "code",
   "execution_count": 22,
   "metadata": {
    "collapsed": false
   },
   "outputs": [
    {
     "data": {
      "text/html": [
       "<div>\n",
       "<table border=\"1\" class=\"dataframe\">\n",
       "  <thead>\n",
       "    <tr style=\"text-align: right;\">\n",
       "      <th></th>\n",
       "      <th>SIGNID</th>\n",
       "      <th>BLOCKNUM</th>\n",
       "      <th>BLOCKNAME</th>\n",
       "    </tr>\n",
       "    <tr>\n",
       "      <th>BLOCKID</th>\n",
       "      <th></th>\n",
       "      <th></th>\n",
       "      <th></th>\n",
       "    </tr>\n",
       "  </thead>\n",
       "  <tbody>\n",
       "    <tr>\n",
       "      <th>334964</th>\n",
       "      <td>69</td>\n",
       "      <td>6002</td>\n",
       "      <td>6002</td>\n",
       "    </tr>\n",
       "    <tr>\n",
       "      <th>334977</th>\n",
       "      <td>69</td>\n",
       "      <td>6002</td>\n",
       "      <td>6002</td>\n",
       "    </tr>\n",
       "    <tr>\n",
       "      <th>334989</th>\n",
       "      <td>69</td>\n",
       "      <td>6002</td>\n",
       "      <td>6002</td>\n",
       "    </tr>\n",
       "    <tr>\n",
       "      <th>342104</th>\n",
       "      <td>69</td>\n",
       "      <td>6002</td>\n",
       "      <td>6002</td>\n",
       "    </tr>\n",
       "    <tr>\n",
       "      <th>342109</th>\n",
       "      <td>69</td>\n",
       "      <td>6002</td>\n",
       "      <td>6002</td>\n",
       "    </tr>\n",
       "  </tbody>\n",
       "</table>\n",
       "</div>"
      ],
      "text/plain": [
       "         SIGNID  BLOCKNUM BLOCKNAME\n",
       "BLOCKID                            \n",
       "334964       69      6002      6002\n",
       "334977       69      6002      6002\n",
       "334989       69      6002      6002\n",
       "342104       69      6002      6002\n",
       "342109       69      6002      6002"
      ]
     },
     "execution_count": 22,
     "metadata": {},
     "output_type": "execute_result"
    }
   ],
   "source": [
    "blocks[blocks.BLOCKNUM == 6002].head()"
   ]
  },
  {
   "cell_type": "code",
   "execution_count": 53,
   "metadata": {
    "collapsed": false
   },
   "outputs": [
    {
     "name": "stdout",
     "output_type": "stream",
     "text": [
      "<class 'pandas.core.frame.DataFrame'>\n",
      "Int64Index: 29087 entries, 6858659 to 6916562\n",
      "Data columns (total 6 columns):\n",
      "route_id         29087 non-null int64\n",
      "service_id       29087 non-null int64\n",
      "trip_headsign    29071 non-null object\n",
      "direction_id     29087 non-null int64\n",
      "block_id         29087 non-null int64\n",
      "shape_id         29087 non-null int64\n",
      "dtypes: int64(5), object(1)\n",
      "memory usage: 1.6+ MB\n"
     ]
    }
   ],
   "source": [
    "trips.info()"
   ]
  },
  {
   "cell_type": "code",
   "execution_count": 52,
   "metadata": {
    "collapsed": false
   },
   "outputs": [
    {
     "data": {
      "text/html": [
       "<div>\n",
       "<table border=\"1\" class=\"dataframe\">\n",
       "  <thead>\n",
       "    <tr style=\"text-align: right;\">\n",
       "      <th></th>\n",
       "      <th>route_id</th>\n",
       "      <th>service_id</th>\n",
       "      <th>trip_headsign</th>\n",
       "      <th>direction_id</th>\n",
       "      <th>block_id</th>\n",
       "      <th>shape_id</th>\n",
       "    </tr>\n",
       "    <tr>\n",
       "      <th>trip_id</th>\n",
       "      <th></th>\n",
       "      <th></th>\n",
       "      <th></th>\n",
       "      <th></th>\n",
       "      <th></th>\n",
       "      <th></th>\n",
       "    </tr>\n",
       "  </thead>\n",
       "  <tbody>\n",
       "    <tr>\n",
       "      <th>6900882</th>\n",
       "      <td>1060</td>\n",
       "      <td>3</td>\n",
       "      <td>Beach + Hyde</td>\n",
       "      <td>0</td>\n",
       "      <td>6002</td>\n",
       "      <td>135858</td>\n",
       "    </tr>\n",
       "    <tr>\n",
       "      <th>6900834</th>\n",
       "      <td>1060</td>\n",
       "      <td>3</td>\n",
       "      <td>Beach + Hyde</td>\n",
       "      <td>0</td>\n",
       "      <td>6002</td>\n",
       "      <td>135856</td>\n",
       "    </tr>\n",
       "    <tr>\n",
       "      <th>6900281</th>\n",
       "      <td>1060</td>\n",
       "      <td>2</td>\n",
       "      <td>Beach + Hyde</td>\n",
       "      <td>0</td>\n",
       "      <td>6002</td>\n",
       "      <td>135856</td>\n",
       "    </tr>\n",
       "    <tr>\n",
       "      <th>6900751</th>\n",
       "      <td>1060</td>\n",
       "      <td>3</td>\n",
       "      <td>Beach + Hyde</td>\n",
       "      <td>0</td>\n",
       "      <td>6002</td>\n",
       "      <td>135858</td>\n",
       "    </tr>\n",
       "    <tr>\n",
       "      <th>6899740</th>\n",
       "      <td>1060</td>\n",
       "      <td>1</td>\n",
       "      <td>Beach + Hyde</td>\n",
       "      <td>0</td>\n",
       "      <td>6002</td>\n",
       "      <td>135856</td>\n",
       "    </tr>\n",
       "  </tbody>\n",
       "</table>\n",
       "</div>"
      ],
      "text/plain": [
       "         route_id  service_id trip_headsign  direction_id  block_id  shape_id\n",
       "trip_id                                                                      \n",
       "6900882      1060           3  Beach + Hyde             0      6002    135858\n",
       "6900834      1060           3  Beach + Hyde             0      6002    135856\n",
       "6900281      1060           2  Beach + Hyde             0      6002    135856\n",
       "6900751      1060           3  Beach + Hyde             0      6002    135858\n",
       "6899740      1060           1  Beach + Hyde             0      6002    135856"
      ]
     },
     "execution_count": 52,
     "metadata": {},
     "output_type": "execute_result"
    }
   ],
   "source": [
    "trips[trips.block_id == 6002].head()"
   ]
  },
  {
   "cell_type": "code",
   "execution_count": 24,
   "metadata": {
    "collapsed": false
   },
   "outputs": [
    {
     "data": {
      "text/plain": [
       "array([135858, 135856, 135862, 135863])"
      ]
     },
     "execution_count": 24,
     "metadata": {},
     "output_type": "execute_result"
    }
   ],
   "source": [
    "trips[(trips.block_id == 6002)].shape_id.unique()"
   ]
  },
  {
   "cell_type": "code",
   "execution_count": 14,
   "metadata": {
    "collapsed": false
   },
   "outputs": [
    {
     "data": {
      "text/html": [
       "<div>\n",
       "<table border=\"1\" class=\"dataframe\">\n",
       "  <thead>\n",
       "    <tr style=\"text-align: right;\">\n",
       "      <th></th>\n",
       "      <th>shape_id</th>\n",
       "      <th>shape_pt_lon</th>\n",
       "      <th>shape_pt_lat</th>\n",
       "      <th>shape_pt_sequence</th>\n",
       "      <th>shape_dist_traveled</th>\n",
       "    </tr>\n",
       "  </thead>\n",
       "  <tbody>\n",
       "    <tr>\n",
       "      <th>0</th>\n",
       "      <td>135594</td>\n",
       "      <td>-122.446805</td>\n",
       "      <td>37.787266</td>\n",
       "      <td>1</td>\n",
       "      <td>0</td>\n",
       "    </tr>\n",
       "    <tr>\n",
       "      <th>1</th>\n",
       "      <td>135594</td>\n",
       "      <td>-122.448481</td>\n",
       "      <td>37.787054</td>\n",
       "      <td>2</td>\n",
       "      <td>149</td>\n",
       "    </tr>\n",
       "    <tr>\n",
       "      <th>2</th>\n",
       "      <td>135594</td>\n",
       "      <td>-122.450131</td>\n",
       "      <td>37.786842</td>\n",
       "      <td>3</td>\n",
       "      <td>296</td>\n",
       "    </tr>\n",
       "    <tr>\n",
       "      <th>3</th>\n",
       "      <td>135594</td>\n",
       "      <td>-122.450238</td>\n",
       "      <td>37.786822</td>\n",
       "      <td>4</td>\n",
       "      <td>306</td>\n",
       "    </tr>\n",
       "    <tr>\n",
       "      <th>4</th>\n",
       "      <td>135594</td>\n",
       "      <td>-122.451771</td>\n",
       "      <td>37.786624</td>\n",
       "      <td>5</td>\n",
       "      <td>443</td>\n",
       "    </tr>\n",
       "  </tbody>\n",
       "</table>\n",
       "</div>"
      ],
      "text/plain": [
       "   shape_id  shape_pt_lon  shape_pt_lat  shape_pt_sequence  \\\n",
       "0    135594   -122.446805     37.787266                  1   \n",
       "1    135594   -122.448481     37.787054                  2   \n",
       "2    135594   -122.450131     37.786842                  3   \n",
       "3    135594   -122.450238     37.786822                  4   \n",
       "4    135594   -122.451771     37.786624                  5   \n",
       "\n",
       "   shape_dist_traveled  \n",
       "0                    0  \n",
       "1                  149  \n",
       "2                  296  \n",
       "3                  306  \n",
       "4                  443  "
      ]
     },
     "execution_count": 14,
     "metadata": {},
     "output_type": "execute_result"
    }
   ],
   "source": [
    "shapes.head()"
   ]
  },
  {
   "cell_type": "code",
   "execution_count": 41,
   "metadata": {
    "collapsed": false
   },
   "outputs": [
    {
     "data": {
      "text/plain": [
       "array([nan, '6003', '6004', '6007', '5903', '5908', '6005', '5907', '6010',\n",
       "       '6002', '5904', '6006', '5906', '9805', '9801', '9803', '9804',\n",
       "       '9806', '9821', '9822', '9814', '9816', '9999', '9808', '9809',\n",
       "       '9811', '9802', '9812', '9817', '9810', '9815', '9819', '9813',\n",
       "       '9818', '5901', 'NUNSCHED', '9401', '9409', 'MUNSCHED', 'KTUNSCHED',\n",
       "       '9405', '9419', '9506', '9713', '9508', '9603', 'LUNSCHED', '9304',\n",
       "       '9504', '9704', '9706', '9606', '9611', '9621', '9604', '9502',\n",
       "       '9410', '9717', '9421', '9303', '9413', '9501', '9609', '9703',\n",
       "       '9718', '9503', '9511', '9705', '9724', '9509', '9414', '9310',\n",
       "       '9708', '9507', '9605', '9412', '9712', '9721', '9607', '9522',\n",
       "       '9608', '9716', '9711', '9702', '9305', '9407', '9404', '9601',\n",
       "       '9723', '9306', '9308', 'JUNSCHED', '9710', '9521', '9422', '9416',\n",
       "       '9402', '9415', '9725', '9602', '9510', '9610', '9709', '9406',\n",
       "       '9420', '9321', '9424', '9423', '9453', '9707', '9451', '9403',\n",
       "       '9719', '9408', '9302', '6001', '6008', '9417', '9714', '9505',\n",
       "       '9715', '9612', '9301', '9411', '9701', '9722', '9452', '9309',\n",
       "       '9307', '9418', '5909', '6009', '5905', '9807', '5902', '6106',\n",
       "       '4105', '1433', '4113', '2292', '3303', '2491', '2412', '2408',\n",
       "       '2405', '1494', '2415', '4103', '1431', '4913', '1492', '3309',\n",
       "       '2403', '3306', '0814', '1403', '2492', '2203', '3304', '4911',\n",
       "       '4915', '2207', '2406', '0940', '2206', '2402', '4114', '4104',\n",
       "       '2251', '4111', '6105', '1443', '2410', '2409', '2215', '1418',\n",
       "       '3307', '4101', '1408', '1406', '4916', '2214', '2208', '2212',\n",
       "       '4708', '4110', '3101', '1432', '2407', '2293', '2414', '2201',\n",
       "       '1493', '4107', '4951', '4106', '0901', '1411', '3305', '2411',\n",
       "       '2211', '2291', '2209', '4109', '4909', '2252', '2701', '4115',\n",
       "       '3302', '2213', '3308', '3301', '2205', '4952', '4953', '2404',\n",
       "       '4108', '4912', '2210', '2216', '2413', '2401', '2217', '2202',\n",
       "       '4102', '2253', '4112', '1491', '2204', '3015', '3009', '0302',\n",
       "       '2151', '0304', '4157', '0116', '3103', '2102', '4301', '2154',\n",
       "       '3022', '0508', '4153', '0525', '2103', '3811', '0502', '2109',\n",
       "       '4161', '0503', '1469', '3012', '0513', '0152', '0103', '0107',\n",
       "       '0521', '3013', '3016', '0118', '0591', '3020', '0108', '0153',\n",
       "       '0112', '3010', '0520', '0579', '3106', '2111', '2101', '4160',\n",
       "       '0523', '0551', '2153', '3151', '3024', '3021', '0306', '3104',\n",
       "       '0526', '0353', '0114', '3102', '3023', '2108', '0110', '0554',\n",
       "       '0119', '4508', '0303', '2107', '0552', '3109', '4504', '4151',\n",
       "       '3008', '4501', '2152', '2105', '0518', '4550', '3007', '4155',\n",
       "       '3011', '0515', '0522', '4159', '0113', '4506', '0123', '3110',\n",
       "       '4154', '2106', '0117', '3017', '0111', '0154', '3005', '3004',\n",
       "       '0517', '0572', '0301', '0553', '0352', '4507', '0115', '4503',\n",
       "       '0516', '3002', '0815', 3002.0, 101.0, 506.0, 505.0, 4502.0, 4509.0,\n",
       "       304.0, 106.0, 507.0, 517.0, 3110.0, 510.0, 3023.0, 2110.0, 119.0,\n",
       "       3102.0, 3018.0, 4151.0, 3019.0, 107.0, 512.0, 592.0, 3006.0, 117.0,\n",
       "       102.0, 524.0, 580.0, 103.0, 3107.0, 4505.0, 514.0, 551.0, 2112.0,\n",
       "       3106.0, 151.0, 105.0, 509.0, 575.0, 6103.0, 5906.0, 6104.0, 305.0,\n",
       "       3109.0, 3001.0, 511.0, 120.0, 111.0, 108.0, 124.0, 591.0, 3032.0,\n",
       "       3003.0, 2201.0, 3105.0, 4501.0, 519.0, 3031.0, 3021.0, 9759.0,\n",
       "       3024.0, 2105.0, 1408.0, 1406.0, 504.0, 3101.0, 3010.0, 122.0, 121.0,\n",
       "       4152.0, 114.0, 3014.0, 109.0, 4158.0, 352.0, 3011.0, 501.0, 3020.0,\n",
       "       4506.0, 104.0, 3108.0, 351.0, 4156.0, 6004.0, 6102.0, 6105.0,\n",
       "       5909.0, 6005.0, 6107.0, 814.0, 812.0, 9756.0, 9308.0, 3301.0,\n",
       "       3804.0, 817.0, 811.0, 806.0, 1450.0, 3812.0, 3841.0, 3814.0, 853.0,\n",
       "       3802.0, 835.0, 3842.0, 3854.0, 3827.0, 1445.0, 834.0, 944.0, 837.0,\n",
       "       1454.0, 1441.0, 803.0, 1462.0, 818.0, 1449.0, 3807.0, 5146.0, 816.0,\n",
       "       839.0, 1471.0, 3012.0, 3902.0, 809.0, 3836.0, 3852.0, 3806.0,\n",
       "       3834.0, 3810.0, 822.0, 831.0, 3837.0, 865.0, 3808.0, 1447.0, 3822.0,\n",
       "       9801.0, 1442.0, 3833.0, 1443.0, 2104.0, 3813.0, 3811.0, 3821.0,\n",
       "       3803.0, 3078.0, 861.0, 3826.0, 810.0, 3832.0, 813.0, 808.0, 836.0,\n",
       "       931.0, 1411.0, 1452.0, 807.0, 4709.0, 3843.0, 3840.0, 1203.0, 820.0,\n",
       "       4706.0, 3801.0, 3853.0, 3835.0, 3825.0, 3809.0], dtype=object)"
      ]
     },
     "execution_count": 41,
     "metadata": {},
     "output_type": "execute_result"
    }
   ],
   "source": [
    "raw_test.TRAIN_ASSIGNMENT.unique()[:500]"
   ]
  },
  {
   "cell_type": "code",
   "execution_count": null,
   "metadata": {
    "collapsed": true
   },
   "outputs": [],
   "source": []
  },
  {
   "cell_type": "code",
   "execution_count": 34,
   "metadata": {
    "collapsed": false
   },
   "outputs": [
    {
     "data": {
      "text/plain": [
       "'6002'"
      ]
     },
     "execution_count": 34,
     "metadata": {},
     "output_type": "execute_result"
    }
   ],
   "source": [
    "raw_test.loc[1109]['TRAIN_ASSIGNMENT']"
   ]
  },
  {
   "cell_type": "code",
   "execution_count": 64,
   "metadata": {
    "collapsed": false
   },
   "outputs": [],
   "source": [
    "test_block = raw_test[raw_test['TRAIN_ASSIGNMENT'] == '6002']"
   ]
  },
  {
   "cell_type": "code",
   "execution_count": 65,
   "metadata": {
    "collapsed": false
   },
   "outputs": [
    {
     "data": {
      "text/html": [
       "<div>\n",
       "<table border=\"1\" class=\"dataframe\">\n",
       "  <thead>\n",
       "    <tr style=\"text-align: right;\">\n",
       "      <th></th>\n",
       "      <th>REV</th>\n",
       "      <th>REPORT_TIME</th>\n",
       "      <th>VEHICLE_TAG</th>\n",
       "      <th>LONGITUDE</th>\n",
       "      <th>LATITUDE</th>\n",
       "      <th>SPEED</th>\n",
       "      <th>HEADING</th>\n",
       "      <th>TRAIN_ASSIGNMENT</th>\n",
       "      <th>PREDICTABLE</th>\n",
       "    </tr>\n",
       "  </thead>\n",
       "  <tbody>\n",
       "    <tr>\n",
       "      <th>1043</th>\n",
       "      <td>1506</td>\n",
       "      <td>01/06/2016 06:00:37</td>\n",
       "      <td>7</td>\n",
       "      <td>-122.42101</td>\n",
       "      <td>37.80691</td>\n",
       "      <td>0.000</td>\n",
       "      <td>221.0</td>\n",
       "      <td>6002</td>\n",
       "      <td>1</td>\n",
       "    </tr>\n",
       "    <tr>\n",
       "      <th>1044</th>\n",
       "      <td>1506</td>\n",
       "      <td>01/06/2016 06:03:49</td>\n",
       "      <td>7</td>\n",
       "      <td>-122.41953</td>\n",
       "      <td>37.80141</td>\n",
       "      <td>3.889</td>\n",
       "      <td>170.0</td>\n",
       "      <td>6002</td>\n",
       "      <td>1</td>\n",
       "    </tr>\n",
       "    <tr>\n",
       "      <th>1045</th>\n",
       "      <td>1506</td>\n",
       "      <td>01/06/2016 06:04:34</td>\n",
       "      <td>7</td>\n",
       "      <td>-122.41918</td>\n",
       "      <td>37.79971</td>\n",
       "      <td>3.889</td>\n",
       "      <td>171.0</td>\n",
       "      <td>6002</td>\n",
       "      <td>1</td>\n",
       "    </tr>\n",
       "    <tr>\n",
       "      <th>1046</th>\n",
       "      <td>1506</td>\n",
       "      <td>01/06/2016 06:09:06</td>\n",
       "      <td>7</td>\n",
       "      <td>-122.41374</td>\n",
       "      <td>37.79423</td>\n",
       "      <td>1.944</td>\n",
       "      <td>80.0</td>\n",
       "      <td>6002</td>\n",
       "      <td>1</td>\n",
       "    </tr>\n",
       "    <tr>\n",
       "      <th>1047</th>\n",
       "      <td>1506</td>\n",
       "      <td>01/06/2016 06:11:48</td>\n",
       "      <td>7</td>\n",
       "      <td>-122.40951</td>\n",
       "      <td>37.79388</td>\n",
       "      <td>3.333</td>\n",
       "      <td>171.0</td>\n",
       "      <td>6002</td>\n",
       "      <td>1</td>\n",
       "    </tr>\n",
       "  </tbody>\n",
       "</table>\n",
       "</div>"
      ],
      "text/plain": [
       "       REV          REPORT_TIME VEHICLE_TAG  LONGITUDE  LATITUDE  SPEED  \\\n",
       "1043  1506  01/06/2016 06:00:37           7 -122.42101  37.80691  0.000   \n",
       "1044  1506  01/06/2016 06:03:49           7 -122.41953  37.80141  3.889   \n",
       "1045  1506  01/06/2016 06:04:34           7 -122.41918  37.79971  3.889   \n",
       "1046  1506  01/06/2016 06:09:06           7 -122.41374  37.79423  1.944   \n",
       "1047  1506  01/06/2016 06:11:48           7 -122.40951  37.79388  3.333   \n",
       "\n",
       "      HEADING TRAIN_ASSIGNMENT  PREDICTABLE  \n",
       "1043    221.0             6002            1  \n",
       "1044    170.0             6002            1  \n",
       "1045    171.0             6002            1  \n",
       "1046     80.0             6002            1  \n",
       "1047    171.0             6002            1  "
      ]
     },
     "execution_count": 65,
     "metadata": {},
     "output_type": "execute_result"
    }
   ],
   "source": [
    "test_block.head()"
   ]
  },
  {
   "cell_type": "code",
   "execution_count": 48,
   "metadata": {
    "collapsed": false
   },
   "outputs": [
    {
     "data": {
      "text/html": [
       "<div>\n",
       "<table border=\"1\" class=\"dataframe\">\n",
       "  <thead>\n",
       "    <tr style=\"text-align: right;\">\n",
       "      <th></th>\n",
       "      <th>route_id</th>\n",
       "      <th>service_id</th>\n",
       "      <th>trip_headsign</th>\n",
       "      <th>direction_id</th>\n",
       "      <th>block_id</th>\n",
       "      <th>shape_id</th>\n",
       "    </tr>\n",
       "    <tr>\n",
       "      <th>trip_id</th>\n",
       "      <th></th>\n",
       "      <th></th>\n",
       "      <th></th>\n",
       "      <th></th>\n",
       "      <th></th>\n",
       "      <th></th>\n",
       "    </tr>\n",
       "  </thead>\n",
       "  <tbody>\n",
       "    <tr>\n",
       "      <th>6858659</th>\n",
       "      <td>11047</td>\n",
       "      <td>2</td>\n",
       "      <td>Geary + 33rd Avenue</td>\n",
       "      <td>0</td>\n",
       "      <td>115</td>\n",
       "      <td>135594</td>\n",
       "    </tr>\n",
       "    <tr>\n",
       "      <th>7048008</th>\n",
       "      <td>11047</td>\n",
       "      <td>1</td>\n",
       "      <td>Geary + 33rd Avenue</td>\n",
       "      <td>0</td>\n",
       "      <td>110</td>\n",
       "      <td>135595</td>\n",
       "    </tr>\n",
       "    <tr>\n",
       "      <th>7048006</th>\n",
       "      <td>11047</td>\n",
       "      <td>1</td>\n",
       "      <td>Geary + 33rd Avenue</td>\n",
       "      <td>0</td>\n",
       "      <td>116</td>\n",
       "      <td>135595</td>\n",
       "    </tr>\n",
       "    <tr>\n",
       "      <th>7048005</th>\n",
       "      <td>11047</td>\n",
       "      <td>1</td>\n",
       "      <td>Geary + 33rd Avenue</td>\n",
       "      <td>0</td>\n",
       "      <td>103</td>\n",
       "      <td>135595</td>\n",
       "    </tr>\n",
       "    <tr>\n",
       "      <th>7048004</th>\n",
       "      <td>11047</td>\n",
       "      <td>1</td>\n",
       "      <td>Geary + 33rd Avenue</td>\n",
       "      <td>0</td>\n",
       "      <td>113</td>\n",
       "      <td>135595</td>\n",
       "    </tr>\n",
       "  </tbody>\n",
       "</table>\n",
       "</div>"
      ],
      "text/plain": [
       "         route_id  service_id        trip_headsign  direction_id  block_id  \\\n",
       "trip_id                                                                      \n",
       "6858659     11047           2  Geary + 33rd Avenue             0       115   \n",
       "7048008     11047           1  Geary + 33rd Avenue             0       110   \n",
       "7048006     11047           1  Geary + 33rd Avenue             0       116   \n",
       "7048005     11047           1  Geary + 33rd Avenue             0       103   \n",
       "7048004     11047           1  Geary + 33rd Avenue             0       113   \n",
       "\n",
       "         shape_id  \n",
       "trip_id            \n",
       "6858659    135594  \n",
       "7048008    135595  \n",
       "7048006    135595  \n",
       "7048005    135595  \n",
       "7048004    135595  "
      ]
     },
     "execution_count": 48,
     "metadata": {},
     "output_type": "execute_result"
    }
   ],
   "source": []
  },
  {
   "cell_type": "code",
   "execution_count": 67,
   "metadata": {
    "collapsed": false
   },
   "outputs": [],
   "source": [
    "foo = raw_test['TRAIN_ASSIGNMENT'].apply(lambda x: int(x) if str(x)[0].isdigit() else 'boo')"
   ]
  },
  {
   "cell_type": "code",
   "execution_count": 70,
   "metadata": {
    "collapsed": false
   },
   "outputs": [
    {
     "data": {
      "text/plain": [
       "array(['boo', 6003, 6004, 6007, 5903, 5908, 6005, 5907, 6010, 6002, 5904,\n",
       "       6006, 5906, 9805, 9801, 9803, 9804, 9806, 9821, 9822, 9814, 9816,\n",
       "       9999, 9808, 9809, 9811, 9802, 9812, 9817, 9810, 9815, 9819, 9813,\n",
       "       9818, 5901, 9401, 9409, 9405, 9419, 9506, 9713, 9508, 9603, 9304,\n",
       "       9504, 9704, 9706, 9606, 9611, 9621, 9604, 9502, 9410, 9717, 9421,\n",
       "       9303, 9413, 9501, 9609, 9703, 9718, 9503, 9511, 9705, 9724, 9509,\n",
       "       9414, 9310, 9708, 9507, 9605, 9412, 9712, 9721, 9607, 9522, 9608,\n",
       "       9716, 9711, 9702, 9305, 9407, 9404, 9601, 9723, 9306, 9308, 9710,\n",
       "       9521, 9422, 9416, 9402, 9415, 9725, 9602, 9510, 9610, 9709, 9406,\n",
       "       9420, 9321, 9424, 9423, 9453, 9707, 9451, 9403, 9719, 9408, 9302,\n",
       "       6001, 6008, 9417, 9714, 9505, 9715, 9612, 9301, 9411, 9701, 9722,\n",
       "       9452, 9309, 9307, 9418, 5909, 6009, 5905, 9807, 5902, 6106, 4105,\n",
       "       1433, 4113, 2292, 3303, 2491, 2412, 2408, 2405, 1494, 2415, 4103,\n",
       "       1431, 4913, 1492, 3309, 2403, 3306, 814, 1403, 2492, 2203, 3304,\n",
       "       4911, 4915, 2207, 2406, 940, 2206, 2402, 4114, 4104, 2251, 4111,\n",
       "       6105, 1443, 2410, 2409, 2215, 1418, 3307, 4101, 1408, 1406, 4916,\n",
       "       2214, 2208, 2212, 4708, 4110, 3101, 1432, 2407, 2293, 2414, 2201,\n",
       "       1493, 4107, 4951, 4106, 901, 1411, 3305, 2411, 2211, 2291, 2209,\n",
       "       4109, 4909], dtype=object)"
      ]
     },
     "execution_count": 70,
     "metadata": {},
     "output_type": "execute_result"
    }
   ],
   "source": [
    "foo.unique()[:200]"
   ]
  },
  {
   "cell_type": "code",
   "execution_count": null,
   "metadata": {
    "collapsed": false
   },
   "outputs": [],
   "source": []
  },
  {
   "cell_type": "code",
   "execution_count": null,
   "metadata": {
    "collapsed": true
   },
   "outputs": [],
   "source": []
  }
 ],
 "metadata": {
  "kernelspec": {
   "display_name": "Python 2",
   "language": "python",
   "name": "python2"
  },
  "language_info": {
   "codemirror_mode": {
    "name": "ipython",
    "version": 2
   },
   "file_extension": ".py",
   "mimetype": "text/x-python",
   "name": "python",
   "nbconvert_exporter": "python",
   "pygments_lexer": "ipython2",
   "version": "2.7.11"
  }
 },
 "nbformat": 4,
 "nbformat_minor": 0
}
