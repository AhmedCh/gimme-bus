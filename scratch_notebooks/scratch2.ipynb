{
 "cells": [
  {
   "cell_type": "code",
   "execution_count": 3,
   "metadata": {
    "collapsed": true
   },
   "outputs": [],
   "source": [
    "import pandas as pd\n",
    "import numpy as np\n",
    "import networkx as nx\n",
    "import requests\n",
    "from bs4 import BeautifulSoup\n",
    "import cPickle as pickle"
   ]
  },
  {
   "cell_type": "code",
   "execution_count": 2,
   "metadata": {
    "collapsed": true
   },
   "outputs": [],
   "source": [
    "from math import radians, cos, sin, asin, sqrt\n",
    "\n",
    "def haversine(lon1, lat1, lon2, lat2):\n",
    "    \"\"\"\n",
    "    Calculate the great circle distance between two points \n",
    "    on the earth (specified in decimal degrees)\n",
    "    \"\"\"\n",
    "    # convert decimal degrees to radians \n",
    "    lon1, lat1, lon2, lat2 = map(radians, [lon1, lat1, lon2, lat2])\n",
    "\n",
    "    # haversine formula \n",
    "    dlon = lon2 - lon1 \n",
    "    dlat = lat2 - lat1 \n",
    "    a = sin(dlat/2.)**2 + cos(lat1) * cos(lat2) * sin(dlon/2.)**2\n",
    "    c = 2 * asin(sqrt(a)) \n",
    "    r = 6371 # Radius of earth in kilometers. Use 3956 for miles\n",
    "    return c * r"
   ]
  },
  {
   "cell_type": "code",
   "execution_count": 5,
   "metadata": {
    "collapsed": false
   },
   "outputs": [],
   "source": [
    "with open('model/graph.pkl') as f:\n",
    "    G = pickle.load(f)"
   ]
  },
  {
   "cell_type": "code",
   "execution_count": 7,
   "metadata": {
    "collapsed": false
   },
   "outputs": [
    {
     "data": {
      "text/plain": [
       "[3415, 3329, 3311, 4726, 7227, 7520, 7334, 5509, 4555]"
      ]
     },
     "execution_count": 7,
     "metadata": {},
     "output_type": "execute_result"
    }
   ],
   "source": [
    "nx.shortest_path(G, 3415,4555)"
   ]
  },
  {
   "cell_type": "code",
   "execution_count": 69,
   "metadata": {
    "collapsed": false
   },
   "outputs": [],
   "source": [
    "stops = pd.read_csv('data/google_transit/stops.txt')\n",
    "routes = pd.read_csv('data/google_transit/routes.txt')\n",
    "trips = pd.read_csv('data/google_transit/trips.txt')\n",
    "stop_times = pd.read_csv('data/google_transit/stop_times.txt')\n",
    "shapes = pd.read_csv('data/google_transit/shapes.txt')"
   ]
  },
  {
   "cell_type": "code",
   "execution_count": 33,
   "metadata": {
    "collapsed": true
   },
   "outputs": [],
   "source": [
    "nx.shortest_path?"
   ]
  },
  {
   "cell_type": "code",
   "execution_count": 45,
   "metadata": {
    "collapsed": false
   },
   "outputs": [
    {
     "data": {
      "text/html": [
       "<div>\n",
       "<table border=\"1\" class=\"dataframe\">\n",
       "  <thead>\n",
       "    <tr style=\"text-align: right;\">\n",
       "      <th></th>\n",
       "      <th>stop_id</th>\n",
       "      <th>stop_name</th>\n",
       "      <th>stop_desc</th>\n",
       "      <th>stop_lat</th>\n",
       "      <th>stop_lon</th>\n",
       "      <th>zone_id</th>\n",
       "      <th>stop_url</th>\n",
       "    </tr>\n",
       "  </thead>\n",
       "  <tbody>\n",
       "    <tr>\n",
       "      <th>4377</th>\n",
       "      <td>7520</td>\n",
       "      <td>Not a public stop</td>\n",
       "      <td></td>\n",
       "      <td>37.709523</td>\n",
       "      <td>-122.404631</td>\n",
       "      <td></td>\n",
       "      <td></td>\n",
       "    </tr>\n",
       "    <tr>\n",
       "      <th>4386</th>\n",
       "      <td>7530</td>\n",
       "      <td>Not a public stop</td>\n",
       "      <td></td>\n",
       "      <td>37.755387</td>\n",
       "      <td>-122.386889</td>\n",
       "      <td></td>\n",
       "      <td></td>\n",
       "    </tr>\n",
       "    <tr>\n",
       "      <th>4387</th>\n",
       "      <td>7531</td>\n",
       "      <td>Not a public stop</td>\n",
       "      <td></td>\n",
       "      <td>37.755387</td>\n",
       "      <td>-122.386832</td>\n",
       "      <td></td>\n",
       "      <td></td>\n",
       "    </tr>\n",
       "    <tr>\n",
       "      <th>4392</th>\n",
       "      <td>7540</td>\n",
       "      <td>Not a public stop</td>\n",
       "      <td></td>\n",
       "      <td>37.755387</td>\n",
       "      <td>-122.386867</td>\n",
       "      <td></td>\n",
       "      <td></td>\n",
       "    </tr>\n",
       "  </tbody>\n",
       "</table>\n",
       "</div>"
      ],
      "text/plain": [
       "      stop_id          stop_name stop_desc   stop_lat    stop_lon zone_id  \\\n",
       "4377     7520  Not a public stop            37.709523 -122.404631           \n",
       "4386     7530  Not a public stop            37.755387 -122.386889           \n",
       "4387     7531  Not a public stop            37.755387 -122.386832           \n",
       "4392     7540  Not a public stop            37.755387 -122.386867           \n",
       "\n",
       "     stop_url  \n",
       "4377           \n",
       "4386           \n",
       "4387           \n",
       "4392           "
      ]
     },
     "execution_count": 45,
     "metadata": {},
     "output_type": "execute_result"
    }
   ],
   "source": [
    "stops[stops['stop_name'] == 'Not a public stop']"
   ]
  },
  {
   "cell_type": "code",
   "execution_count": 68,
   "metadata": {
    "collapsed": false
   },
   "outputs": [
    {
     "data": {
      "text/html": [
       "<div>\n",
       "<table border=\"1\" class=\"dataframe\">\n",
       "  <thead>\n",
       "    <tr style=\"text-align: right;\">\n",
       "      <th></th>\n",
       "      <th>trip_id</th>\n",
       "      <th>arrival_time</th>\n",
       "      <th>departure_time</th>\n",
       "      <th>stop_id</th>\n",
       "      <th>stop_sequence</th>\n",
       "      <th>stop_headsign</th>\n",
       "      <th>pickup_type</th>\n",
       "      <th>drop_off_type</th>\n",
       "      <th>shape_dist_traveled</th>\n",
       "    </tr>\n",
       "  </thead>\n",
       "  <tbody>\n",
       "    <tr>\n",
       "      <th>126835</th>\n",
       "      <td>6869040</td>\n",
       "      <td>06:55:00</td>\n",
       "      <td>06:55:00</td>\n",
       "      <td>7520</td>\n",
       "      <td>43</td>\n",
       "      <td></td>\n",
       "      <td></td>\n",
       "      <td></td>\n",
       "      <td></td>\n",
       "    </tr>\n",
       "    <tr>\n",
       "      <th>126876</th>\n",
       "      <td>6869041</td>\n",
       "      <td>07:08:00</td>\n",
       "      <td>07:08:00</td>\n",
       "      <td>7520</td>\n",
       "      <td>43</td>\n",
       "      <td></td>\n",
       "      <td></td>\n",
       "      <td></td>\n",
       "      <td></td>\n",
       "    </tr>\n",
       "    <tr>\n",
       "      <th>126917</th>\n",
       "      <td>6869042</td>\n",
       "      <td>07:22:00</td>\n",
       "      <td>07:22:00</td>\n",
       "      <td>7520</td>\n",
       "      <td>43</td>\n",
       "      <td></td>\n",
       "      <td></td>\n",
       "      <td></td>\n",
       "      <td></td>\n",
       "    </tr>\n",
       "    <tr>\n",
       "      <th>126958</th>\n",
       "      <td>6869043</td>\n",
       "      <td>07:35:00</td>\n",
       "      <td>07:35:00</td>\n",
       "      <td>7520</td>\n",
       "      <td>43</td>\n",
       "      <td></td>\n",
       "      <td></td>\n",
       "      <td></td>\n",
       "      <td></td>\n",
       "    </tr>\n",
       "    <tr>\n",
       "      <th>126999</th>\n",
       "      <td>6869044</td>\n",
       "      <td>07:49:00</td>\n",
       "      <td>07:49:00</td>\n",
       "      <td>7520</td>\n",
       "      <td>43</td>\n",
       "      <td></td>\n",
       "      <td></td>\n",
       "      <td></td>\n",
       "      <td></td>\n",
       "    </tr>\n",
       "  </tbody>\n",
       "</table>\n",
       "</div>"
      ],
      "text/plain": [
       "        trip_id arrival_time departure_time  stop_id  stop_sequence  \\\n",
       "126835  6869040     06:55:00       06:55:00     7520             43   \n",
       "126876  6869041     07:08:00       07:08:00     7520             43   \n",
       "126917  6869042     07:22:00       07:22:00     7520             43   \n",
       "126958  6869043     07:35:00       07:35:00     7520             43   \n",
       "126999  6869044     07:49:00       07:49:00     7520             43   \n",
       "\n",
       "       stop_headsign pickup_type drop_off_type shape_dist_traveled  \n",
       "126835                                                              \n",
       "126876                                                              \n",
       "126917                                                              \n",
       "126958                                                              \n",
       "126999                                                              "
      ]
     },
     "execution_count": 68,
     "metadata": {},
     "output_type": "execute_result"
    }
   ],
   "source": [
    "stop_times[stop_times['stop_id'] == 7520].head()"
   ]
  },
  {
   "cell_type": "code",
   "execution_count": 65,
   "metadata": {
    "collapsed": false
   },
   "outputs": [
    {
     "data": {
      "text/html": [
       "<div>\n",
       "<table border=\"1\" class=\"dataframe\">\n",
       "  <thead>\n",
       "    <tr style=\"text-align: right;\">\n",
       "      <th></th>\n",
       "      <th>trip_id</th>\n",
       "      <th>arrival_time</th>\n",
       "      <th>departure_time</th>\n",
       "      <th>stop_id</th>\n",
       "      <th>stop_sequence</th>\n",
       "      <th>stop_headsign</th>\n",
       "      <th>pickup_type</th>\n",
       "      <th>drop_off_type</th>\n",
       "      <th>shape_dist_traveled</th>\n",
       "    </tr>\n",
       "  </thead>\n",
       "  <tbody>\n",
       "    <tr>\n",
       "      <th>134805</th>\n",
       "      <td>6869266</td>\n",
       "      <td>15:24:00</td>\n",
       "      <td>15:24:00</td>\n",
       "      <td>7520</td>\n",
       "      <td>16</td>\n",
       "      <td></td>\n",
       "      <td></td>\n",
       "      <td></td>\n",
       "      <td></td>\n",
       "    </tr>\n",
       "    <tr>\n",
       "      <th>134806</th>\n",
       "      <td>6869266</td>\n",
       "      <td>15:25:00</td>\n",
       "      <td>15:25:00</td>\n",
       "      <td>6352</td>\n",
       "      <td>18</td>\n",
       "      <td></td>\n",
       "      <td></td>\n",
       "      <td></td>\n",
       "      <td></td>\n",
       "    </tr>\n",
       "    <tr>\n",
       "      <th>134807</th>\n",
       "      <td>6869266</td>\n",
       "      <td>15:34:00</td>\n",
       "      <td>15:34:00</td>\n",
       "      <td>6364</td>\n",
       "      <td>29</td>\n",
       "      <td></td>\n",
       "      <td></td>\n",
       "      <td></td>\n",
       "      <td></td>\n",
       "    </tr>\n",
       "    <tr>\n",
       "      <th>134808</th>\n",
       "      <td>6869266</td>\n",
       "      <td>15:44:00</td>\n",
       "      <td>15:44:00</td>\n",
       "      <td>6038</td>\n",
       "      <td>36</td>\n",
       "      <td></td>\n",
       "      <td></td>\n",
       "      <td></td>\n",
       "      <td></td>\n",
       "    </tr>\n",
       "    <tr>\n",
       "      <th>134809</th>\n",
       "      <td>6869266</td>\n",
       "      <td>15:51:00</td>\n",
       "      <td>15:51:00</td>\n",
       "      <td>6026</td>\n",
       "      <td>42</td>\n",
       "      <td></td>\n",
       "      <td></td>\n",
       "      <td></td>\n",
       "      <td></td>\n",
       "    </tr>\n",
       "    <tr>\n",
       "      <th>134810</th>\n",
       "      <td>6869266</td>\n",
       "      <td>15:59:00</td>\n",
       "      <td>15:59:00</td>\n",
       "      <td>3244</td>\n",
       "      <td>47</td>\n",
       "      <td></td>\n",
       "      <td></td>\n",
       "      <td></td>\n",
       "      <td></td>\n",
       "    </tr>\n",
       "    <tr>\n",
       "      <th>134811</th>\n",
       "      <td>6869266</td>\n",
       "      <td>16:00:31</td>\n",
       "      <td>16:00:31</td>\n",
       "      <td>5652</td>\n",
       "      <td>48</td>\n",
       "      <td></td>\n",
       "      <td></td>\n",
       "      <td></td>\n",
       "      <td></td>\n",
       "    </tr>\n",
       "    <tr>\n",
       "      <th>134812</th>\n",
       "      <td>6869266</td>\n",
       "      <td>16:01:27</td>\n",
       "      <td>16:01:27</td>\n",
       "      <td>5651</td>\n",
       "      <td>49</td>\n",
       "      <td></td>\n",
       "      <td></td>\n",
       "      <td></td>\n",
       "      <td></td>\n",
       "    </tr>\n",
       "    <tr>\n",
       "      <th>134813</th>\n",
       "      <td>6869266</td>\n",
       "      <td>16:02:49</td>\n",
       "      <td>16:02:49</td>\n",
       "      <td>5650</td>\n",
       "      <td>50</td>\n",
       "      <td></td>\n",
       "      <td></td>\n",
       "      <td></td>\n",
       "      <td></td>\n",
       "    </tr>\n",
       "    <tr>\n",
       "      <th>134814</th>\n",
       "      <td>6869266</td>\n",
       "      <td>16:04:11</td>\n",
       "      <td>16:04:11</td>\n",
       "      <td>5647</td>\n",
       "      <td>51</td>\n",
       "      <td></td>\n",
       "      <td></td>\n",
       "      <td></td>\n",
       "      <td></td>\n",
       "    </tr>\n",
       "    <tr>\n",
       "      <th>134815</th>\n",
       "      <td>6869266</td>\n",
       "      <td>16:05:35</td>\n",
       "      <td>16:05:35</td>\n",
       "      <td>5645</td>\n",
       "      <td>52</td>\n",
       "      <td></td>\n",
       "      <td></td>\n",
       "      <td></td>\n",
       "      <td></td>\n",
       "    </tr>\n",
       "    <tr>\n",
       "      <th>134816</th>\n",
       "      <td>6869266</td>\n",
       "      <td>16:07:00</td>\n",
       "      <td>16:07:00</td>\n",
       "      <td>5643</td>\n",
       "      <td>53</td>\n",
       "      <td></td>\n",
       "      <td></td>\n",
       "      <td></td>\n",
       "      <td></td>\n",
       "    </tr>\n",
       "    <tr>\n",
       "      <th>134817</th>\n",
       "      <td>6869266</td>\n",
       "      <td>16:16:00</td>\n",
       "      <td>16:16:00</td>\n",
       "      <td>7227</td>\n",
       "      <td>60</td>\n",
       "      <td></td>\n",
       "      <td></td>\n",
       "      <td></td>\n",
       "      <td></td>\n",
       "    </tr>\n",
       "  </tbody>\n",
       "</table>\n",
       "</div>"
      ],
      "text/plain": [
       "        trip_id arrival_time departure_time  stop_id  stop_sequence  \\\n",
       "134805  6869266     15:24:00       15:24:00     7520             16   \n",
       "134806  6869266     15:25:00       15:25:00     6352             18   \n",
       "134807  6869266     15:34:00       15:34:00     6364             29   \n",
       "134808  6869266     15:44:00       15:44:00     6038             36   \n",
       "134809  6869266     15:51:00       15:51:00     6026             42   \n",
       "134810  6869266     15:59:00       15:59:00     3244             47   \n",
       "134811  6869266     16:00:31       16:00:31     5652             48   \n",
       "134812  6869266     16:01:27       16:01:27     5651             49   \n",
       "134813  6869266     16:02:49       16:02:49     5650             50   \n",
       "134814  6869266     16:04:11       16:04:11     5647             51   \n",
       "134815  6869266     16:05:35       16:05:35     5645             52   \n",
       "134816  6869266     16:07:00       16:07:00     5643             53   \n",
       "134817  6869266     16:16:00       16:16:00     7227             60   \n",
       "\n",
       "       stop_headsign pickup_type drop_off_type shape_dist_traveled  \n",
       "134805                                                              \n",
       "134806                                                              \n",
       "134807                                                              \n",
       "134808                                                              \n",
       "134809                                                              \n",
       "134810                                                              \n",
       "134811                                                              \n",
       "134812                                                              \n",
       "134813                                                              \n",
       "134814                                                              \n",
       "134815                                                              \n",
       "134816                                                              \n",
       "134817                                                              "
      ]
     },
     "execution_count": 65,
     "metadata": {},
     "output_type": "execute_result"
    }
   ],
   "source": [
    "stop_times[stop_times['trip_id'] == 6869266]"
   ]
  },
  {
   "cell_type": "code",
   "execution_count": 67,
   "metadata": {
    "collapsed": false
   },
   "outputs": [
    {
     "data": {
      "text/html": [
       "<div>\n",
       "<table border=\"1\" class=\"dataframe\">\n",
       "  <thead>\n",
       "    <tr style=\"text-align: right;\">\n",
       "      <th></th>\n",
       "      <th>route_id</th>\n",
       "      <th>service_id</th>\n",
       "      <th>trip_id</th>\n",
       "      <th>trip_headsign</th>\n",
       "      <th>direction_id</th>\n",
       "      <th>block_id</th>\n",
       "      <th>shape_id</th>\n",
       "    </tr>\n",
       "  </thead>\n",
       "  <tbody>\n",
       "    <tr>\n",
       "      <th>0</th>\n",
       "      <td>11047</td>\n",
       "      <td>2</td>\n",
       "      <td>6858659</td>\n",
       "      <td>Geary + 33rd Avenue</td>\n",
       "      <td>0</td>\n",
       "      <td>115</td>\n",
       "      <td>135594</td>\n",
       "    </tr>\n",
       "    <tr>\n",
       "      <th>1</th>\n",
       "      <td>11047</td>\n",
       "      <td>1</td>\n",
       "      <td>7048008</td>\n",
       "      <td>Geary + 33rd Avenue</td>\n",
       "      <td>0</td>\n",
       "      <td>110</td>\n",
       "      <td>135595</td>\n",
       "    </tr>\n",
       "    <tr>\n",
       "      <th>2</th>\n",
       "      <td>11047</td>\n",
       "      <td>1</td>\n",
       "      <td>7048006</td>\n",
       "      <td>Geary + 33rd Avenue</td>\n",
       "      <td>0</td>\n",
       "      <td>116</td>\n",
       "      <td>135595</td>\n",
       "    </tr>\n",
       "    <tr>\n",
       "      <th>3</th>\n",
       "      <td>11047</td>\n",
       "      <td>1</td>\n",
       "      <td>7048005</td>\n",
       "      <td>Geary + 33rd Avenue</td>\n",
       "      <td>0</td>\n",
       "      <td>103</td>\n",
       "      <td>135595</td>\n",
       "    </tr>\n",
       "    <tr>\n",
       "      <th>4</th>\n",
       "      <td>11047</td>\n",
       "      <td>1</td>\n",
       "      <td>7048004</td>\n",
       "      <td>Geary + 33rd Avenue</td>\n",
       "      <td>0</td>\n",
       "      <td>113</td>\n",
       "      <td>135595</td>\n",
       "    </tr>\n",
       "  </tbody>\n",
       "</table>\n",
       "</div>"
      ],
      "text/plain": [
       "   route_id  service_id  trip_id        trip_headsign  direction_id  block_id  \\\n",
       "0     11047           2  6858659  Geary + 33rd Avenue             0       115   \n",
       "1     11047           1  7048008  Geary + 33rd Avenue             0       110   \n",
       "2     11047           1  7048006  Geary + 33rd Avenue             0       116   \n",
       "3     11047           1  7048005  Geary + 33rd Avenue             0       103   \n",
       "4     11047           1  7048004  Geary + 33rd Avenue             0       113   \n",
       "\n",
       "   shape_id  \n",
       "0    135594  \n",
       "1    135595  \n",
       "2    135595  \n",
       "3    135595  \n",
       "4    135595  "
      ]
     },
     "execution_count": 67,
     "metadata": {},
     "output_type": "execute_result"
    }
   ],
   "source": [
    "trips.head()"
   ]
  },
  {
   "cell_type": "code",
   "execution_count": 48,
   "metadata": {
    "collapsed": true
   },
   "outputs": [],
   "source": [
    "for n in [7520, 7530, 7531, 7540]:\n",
    "    G.remove_node(n)"
   ]
  },
  {
   "cell_type": "code",
   "execution_count": 49,
   "metadata": {
    "collapsed": false
   },
   "outputs": [
    {
     "data": {
      "text/plain": [
       "[3415, 3329, 3311, 4726, 7227, 6352, 7334, 5509, 4555]"
      ]
     },
     "execution_count": 49,
     "metadata": {},
     "output_type": "execute_result"
    }
   ],
   "source": [
    "nx.shortest_path(G, 3415,4555)"
   ]
  },
  {
   "cell_type": "code",
   "execution_count": 66,
   "metadata": {
    "collapsed": false
   },
   "outputs": [
    {
     "data": {
      "text/plain": [
       "{'trips': [{'arr': '05:00:00', 'route': 1900, 'trip_id': 6869556},\n",
       "  {'arr': '05:20:00', 'route': 1900, 'trip_id': 6869555},\n",
       "  {'arr': '05:40:00', 'route': 1900, 'trip_id': 6869554},\n",
       "  {'arr': '06:00:00', 'route': 1900, 'trip_id': 6869553},\n",
       "  {'arr': '05:00:00', 'route': 1900, 'trip_id': 6869389},\n",
       "  {'arr': '05:20:00', 'route': 1900, 'trip_id': 6869388},\n",
       "  {'arr': '05:40:00', 'route': 1900, 'trip_id': 6869387},\n",
       "  {'arr': '06:00:00', 'route': 1900, 'trip_id': 6869386},\n",
       "  {'arr': '05:24:00', 'route': 1900, 'trip_id': 6869114},\n",
       "  {'arr': '05:10:00', 'route': 1900, 'trip_id': 6869113},\n",
       "  {'arr': '04:55:00', 'route': 1900, 'trip_id': 6869112},\n",
       "  {'arr': '05:51:00', 'route': 1900, 'trip_id': 6869116}]}"
      ]
     },
     "execution_count": 66,
     "metadata": {},
     "output_type": "execute_result"
    }
   ],
   "source": [
    "G.edge[7227][6352]"
   ]
  },
  {
   "cell_type": "code",
   "execution_count": 51,
   "metadata": {
    "collapsed": true
   },
   "outputs": [],
   "source": [
    "nx.write_gpickle?"
   ]
  },
  {
   "cell_type": "code",
   "execution_count": null,
   "metadata": {
    "collapsed": true
   },
   "outputs": [],
   "source": [
    "# Adding edges between stops that are within walking distance (250 meters)\n",
    "for row in stops.iterrows():\n",
    "    stop = row[1]\n",
    "    dists = stops.apply(lambda x: haversine(x['stop_lon'], \\\n",
    "                        x['stop_lat'], stop['stop_lon'], stop['stop_lat']),\\\n",
    "                       axis=1)\n",
    "    dists = dists[dists < 0.250]\n",
    "    dists = dists.drop(row[0])\n",
    "    for close_stop in dists.iteritems():\n",
    "        close_stop_id = stops.loc[close_stop[0]]['stop_id']\n",
    "        if G.has_edge(stop['stop_id'], close_stop_id):\n",
    "            G[stop['stop_id']][close_stop_id]['d'] = close_stop[1]\n",
    "        else:\n",
    "            G.add_edge(stop['stop_id'], close_stop_id , {'d':close_stop[1]})"
   ]
  },
  {
   "cell_type": "code",
   "execution_count": 71,
   "metadata": {
    "collapsed": true
   },
   "outputs": [],
   "source": [
    "G.subgraph?"
   ]
  },
  {
   "cell_type": "code",
   "execution_count": null,
   "metadata": {
    "collapsed": true
   },
   "outputs": [],
   "source": []
  }
 ],
 "metadata": {
  "kernelspec": {
   "display_name": "Python 2",
   "language": "python",
   "name": "python2"
  },
  "language_info": {
   "codemirror_mode": {
    "name": "ipython",
    "version": 2
   },
   "file_extension": ".py",
   "mimetype": "text/x-python",
   "name": "python",
   "nbconvert_exporter": "python",
   "pygments_lexer": "ipython2",
   "version": "2.7.11"
  }
 },
 "nbformat": 4,
 "nbformat_minor": 0
}
