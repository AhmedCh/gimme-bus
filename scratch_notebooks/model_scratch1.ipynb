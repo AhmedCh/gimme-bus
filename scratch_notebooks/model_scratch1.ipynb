{
 "cells": [
  {
   "cell_type": "code",
   "execution_count": 1,
   "metadata": {
    "collapsed": true
   },
   "outputs": [],
   "source": [
    "import pandas as pd\n",
    "import numpy as np\n",
    "import networkx as nx\n",
    "import cPickle as pickle\n",
    "from model import utilities as ut\n",
    "\n",
    "# Reading in static schedule data\n",
    "stops_full = pd.read_csv('data/google_transit/stops.txt', index_col='stop_id')\n",
    "routes = pd.read_csv('data/google_transit/routes.txt', index_col='route_id')\n",
    "trips = pd.read_csv('data/google_transit/trips.txt', index_col='trip_id')\n",
    "stop_times = pd.read_csv('data/google_transit/stop_times.txt')\n",
    "shapes = pd.read_csv('data/google_transit/shapes.txt')\n",
    "\n",
    "# Some of these stops are named \"Not a public stop\" but are still in trips.\n",
    "# Luckily, in the few trips they appear in, they're only either at the\n",
    "# beginning or the end, so we can remove them now and we'll still build\n",
    "# a nice graph with the connections we expect.\n",
    "stops = stops_full[~stops_full.index.isin([7520, 7530, 7531, 7540])]\n",
    "stop_times = stop_times[~stop_times['stop_id'].isin([7520, 7530, 7531, 7540])]\n",
    "\n",
    "# Oh and some stops are in stops.txt but not used in trips... let's remove 'em\n",
    "used_stops = set(stop_times['stop_id'].unique())\n",
    "stops = stops[stops.index.isin(used_stops)]\n",
    "\n",
    "# Let's make some sorted stop-timepoint lists for each stop_id to\n",
    "# make lookup faster for things\n",
    "all_stop_timepoints = {}\n",
    "for stopid in used_stops:\n",
    "    node_names = stop_times[stop_times['stop_id'] == stopid].\\\n",
    "                    apply(lambda x: '{0}_{1}'.\\\n",
    "                              format(stopid, x['arrival_time']),\\\n",
    "                          axis=1)\n",
    "    all_stop_timepoints[stopid] = sorted(list(set(node_names)))"
   ]
  },
  {
   "cell_type": "code",
   "execution_count": 29,
   "metadata": {
    "collapsed": true
   },
   "outputs": [],
   "source": [
    "blocks = pd.read_csv('../project/lookUpBlockIDToBlockNumNam.csv')"
   ]
  },
  {
   "cell_type": "code",
   "execution_count": 5,
   "metadata": {
    "collapsed": true
   },
   "outputs": [],
   "source": [
    "open?"
   ]
  },
  {
   "cell_type": "code",
   "execution_count": 7,
   "metadata": {
    "collapsed": false
   },
   "outputs": [],
   "source": [
    "with open('../project/test3.csv', 'r+') as f:\n",
    "    foo = f.readlines()\n",
    "    foo[0] = foo[0][:89] + '\\n' + foo[0][89:]\n",
    "    f.seek(0)\n",
    "    f.write(''.join(foo))"
   ]
  },
  {
   "cell_type": "code",
   "execution_count": null,
   "metadata": {
    "collapsed": true
   },
   "outputs": [],
   "source": []
  },
  {
   "cell_type": "code",
   "execution_count": 8,
   "metadata": {
    "collapsed": false
   },
   "outputs": [
    {
     "name": "stderr",
     "output_type": "stream",
     "text": [
      "/home/moses/anaconda2/lib/python2.7/site-packages/IPython/core/interactiveshell.py:2902: DtypeWarning: Columns (2,7) have mixed types. Specify dtype option on import or set low_memory=False.\n",
      "  interactivity=interactivity, compiler=compiler, result=result)\n"
     ]
    }
   ],
   "source": [
    "raw_test = pd.read_csv('../project/test1.csv')"
   ]
  },
  {
   "cell_type": "code",
   "execution_count": 28,
   "metadata": {
    "collapsed": false
   },
   "outputs": [
    {
     "data": {
      "text/html": [
       "<div>\n",
       "<table border=\"1\" class=\"dataframe\">\n",
       "  <thead>\n",
       "    <tr style=\"text-align: right;\">\n",
       "      <th></th>\n",
       "      <th>REV</th>\n",
       "      <th>REPORT_TIME</th>\n",
       "      <th>VEHICLE_TAG</th>\n",
       "      <th>LONGITUDE</th>\n",
       "      <th>LATITUDE</th>\n",
       "      <th>SPEED</th>\n",
       "      <th>HEADING</th>\n",
       "      <th>TRAIN_ASSIGNMENT</th>\n",
       "      <th>PREDICTABLE</th>\n",
       "    </tr>\n",
       "  </thead>\n",
       "  <tbody>\n",
       "    <tr>\n",
       "      <th>800</th>\n",
       "      <td>1506</td>\n",
       "      <td>01/06/2016 17:39:15</td>\n",
       "      <td>5</td>\n",
       "      <td>-122.42088</td>\n",
       "      <td>37.80689</td>\n",
       "      <td>0.000</td>\n",
       "      <td>307.0</td>\n",
       "      <td>6007</td>\n",
       "      <td>0</td>\n",
       "    </tr>\n",
       "    <tr>\n",
       "      <th>801</th>\n",
       "      <td>1506</td>\n",
       "      <td>01/06/2016 17:48:15</td>\n",
       "      <td>5</td>\n",
       "      <td>-122.42089</td>\n",
       "      <td>37.80690</td>\n",
       "      <td>0.000</td>\n",
       "      <td>307.0</td>\n",
       "      <td>6007</td>\n",
       "      <td>0</td>\n",
       "    </tr>\n",
       "    <tr>\n",
       "      <th>802</th>\n",
       "      <td>1506</td>\n",
       "      <td>01/06/2016 17:51:15</td>\n",
       "      <td>5</td>\n",
       "      <td>-122.42090</td>\n",
       "      <td>37.80691</td>\n",
       "      <td>0.000</td>\n",
       "      <td>307.0</td>\n",
       "      <td>6007</td>\n",
       "      <td>0</td>\n",
       "    </tr>\n",
       "    <tr>\n",
       "      <th>803</th>\n",
       "      <td>1506</td>\n",
       "      <td>01/06/2016 18:13:45</td>\n",
       "      <td>5</td>\n",
       "      <td>-122.41218</td>\n",
       "      <td>37.79493</td>\n",
       "      <td>0.000</td>\n",
       "      <td>157.0</td>\n",
       "      <td>6007</td>\n",
       "      <td>0</td>\n",
       "    </tr>\n",
       "    <tr>\n",
       "      <th>804</th>\n",
       "      <td>1506</td>\n",
       "      <td>01/06/2016 18:24:15</td>\n",
       "      <td>5</td>\n",
       "      <td>-122.41186</td>\n",
       "      <td>37.79477</td>\n",
       "      <td>0.000</td>\n",
       "      <td>49.0</td>\n",
       "      <td>6007</td>\n",
       "      <td>0</td>\n",
       "    </tr>\n",
       "    <tr>\n",
       "      <th>805</th>\n",
       "      <td>1506</td>\n",
       "      <td>01/06/2016 18:37:45</td>\n",
       "      <td>5</td>\n",
       "      <td>-122.40996</td>\n",
       "      <td>37.79467</td>\n",
       "      <td>0.000</td>\n",
       "      <td>81.0</td>\n",
       "      <td>NaN</td>\n",
       "      <td>0</td>\n",
       "    </tr>\n",
       "    <tr>\n",
       "      <th>806</th>\n",
       "      <td>1506</td>\n",
       "      <td>01/06/2016 18:51:37</td>\n",
       "      <td>5</td>\n",
       "      <td>-122.41269</td>\n",
       "      <td>37.80097</td>\n",
       "      <td>2.500</td>\n",
       "      <td>351.0</td>\n",
       "      <td>5903</td>\n",
       "      <td>1</td>\n",
       "    </tr>\n",
       "    <tr>\n",
       "      <th>807</th>\n",
       "      <td>1506</td>\n",
       "      <td>01/06/2016 19:04:45</td>\n",
       "      <td>5</td>\n",
       "      <td>-122.41509</td>\n",
       "      <td>37.80463</td>\n",
       "      <td>0.000</td>\n",
       "      <td>352.0</td>\n",
       "      <td>5903</td>\n",
       "      <td>0</td>\n",
       "    </tr>\n",
       "    <tr>\n",
       "      <th>808</th>\n",
       "      <td>1506</td>\n",
       "      <td>01/06/2016 19:13:45</td>\n",
       "      <td>5</td>\n",
       "      <td>-122.41519</td>\n",
       "      <td>37.80458</td>\n",
       "      <td>0.000</td>\n",
       "      <td>352.0</td>\n",
       "      <td>5903</td>\n",
       "      <td>0</td>\n",
       "    </tr>\n",
       "    <tr>\n",
       "      <th>809</th>\n",
       "      <td>1506</td>\n",
       "      <td>01/06/2016 19:18:15</td>\n",
       "      <td>5</td>\n",
       "      <td>-122.41515</td>\n",
       "      <td>37.80471</td>\n",
       "      <td>0.000</td>\n",
       "      <td>355.0</td>\n",
       "      <td>5903</td>\n",
       "      <td>0</td>\n",
       "    </tr>\n",
       "    <tr>\n",
       "      <th>810</th>\n",
       "      <td>1506</td>\n",
       "      <td>01/06/2016 19:33:15</td>\n",
       "      <td>5</td>\n",
       "      <td>-122.41514</td>\n",
       "      <td>37.80473</td>\n",
       "      <td>0.000</td>\n",
       "      <td>355.0</td>\n",
       "      <td>5903</td>\n",
       "      <td>0</td>\n",
       "    </tr>\n",
       "    <tr>\n",
       "      <th>811</th>\n",
       "      <td>1506</td>\n",
       "      <td>01/06/2016 19:45:15</td>\n",
       "      <td>5</td>\n",
       "      <td>-122.41509</td>\n",
       "      <td>37.80481</td>\n",
       "      <td>0.000</td>\n",
       "      <td>359.0</td>\n",
       "      <td>5903</td>\n",
       "      <td>0</td>\n",
       "    </tr>\n",
       "    <tr>\n",
       "      <th>812</th>\n",
       "      <td>1506</td>\n",
       "      <td>01/06/2016 20:04:45</td>\n",
       "      <td>5</td>\n",
       "      <td>-122.41225</td>\n",
       "      <td>37.79893</td>\n",
       "      <td>3.889</td>\n",
       "      <td>170.0</td>\n",
       "      <td>NaN</td>\n",
       "      <td>0</td>\n",
       "    </tr>\n",
       "    <tr>\n",
       "      <th>813</th>\n",
       "      <td>1506</td>\n",
       "      <td>01/06/2016 20:10:56</td>\n",
       "      <td>5</td>\n",
       "      <td>-122.40933</td>\n",
       "      <td>37.79286</td>\n",
       "      <td>3.056</td>\n",
       "      <td>171.0</td>\n",
       "      <td>5908</td>\n",
       "      <td>1</td>\n",
       "    </tr>\n",
       "    <tr>\n",
       "      <th>814</th>\n",
       "      <td>1506</td>\n",
       "      <td>01/06/2016 20:12:12</td>\n",
       "      <td>5</td>\n",
       "      <td>-122.40902</td>\n",
       "      <td>37.79117</td>\n",
       "      <td>3.889</td>\n",
       "      <td>171.0</td>\n",
       "      <td>5908</td>\n",
       "      <td>1</td>\n",
       "    </tr>\n",
       "    <tr>\n",
       "      <th>815</th>\n",
       "      <td>1506</td>\n",
       "      <td>01/06/2016 20:13:15</td>\n",
       "      <td>5</td>\n",
       "      <td>-122.40860</td>\n",
       "      <td>37.78948</td>\n",
       "      <td>2.500</td>\n",
       "      <td>164.0</td>\n",
       "      <td>5908</td>\n",
       "      <td>1</td>\n",
       "    </tr>\n",
       "    <tr>\n",
       "      <th>816</th>\n",
       "      <td>1506</td>\n",
       "      <td>01/06/2016 20:22:45</td>\n",
       "      <td>5</td>\n",
       "      <td>-122.40790</td>\n",
       "      <td>37.78469</td>\n",
       "      <td>0.000</td>\n",
       "      <td>357.0</td>\n",
       "      <td>5908</td>\n",
       "      <td>1</td>\n",
       "    </tr>\n",
       "    <tr>\n",
       "      <th>817</th>\n",
       "      <td>1506</td>\n",
       "      <td>01/06/2016 20:26:53</td>\n",
       "      <td>5</td>\n",
       "      <td>-122.40814</td>\n",
       "      <td>37.78779</td>\n",
       "      <td>2.500</td>\n",
       "      <td>351.0</td>\n",
       "      <td>5908</td>\n",
       "      <td>1</td>\n",
       "    </tr>\n",
       "    <tr>\n",
       "      <th>818</th>\n",
       "      <td>1506</td>\n",
       "      <td>01/06/2016 20:44:04</td>\n",
       "      <td>5</td>\n",
       "      <td>-122.41502</td>\n",
       "      <td>37.80426</td>\n",
       "      <td>0.000</td>\n",
       "      <td>355.0</td>\n",
       "      <td>5908</td>\n",
       "      <td>1</td>\n",
       "    </tr>\n",
       "    <tr>\n",
       "      <th>819</th>\n",
       "      <td>1506</td>\n",
       "      <td>01/06/2016 20:50:04</td>\n",
       "      <td>5</td>\n",
       "      <td>-122.41498</td>\n",
       "      <td>37.80428</td>\n",
       "      <td>0.000</td>\n",
       "      <td>355.0</td>\n",
       "      <td>5908</td>\n",
       "      <td>1</td>\n",
       "    </tr>\n",
       "    <tr>\n",
       "      <th>820</th>\n",
       "      <td>1506</td>\n",
       "      <td>01/06/2016 21:03:34</td>\n",
       "      <td>5</td>\n",
       "      <td>-122.41501</td>\n",
       "      <td>37.80428</td>\n",
       "      <td>0.000</td>\n",
       "      <td>355.0</td>\n",
       "      <td>5908</td>\n",
       "      <td>1</td>\n",
       "    </tr>\n",
       "    <tr>\n",
       "      <th>821</th>\n",
       "      <td>1506</td>\n",
       "      <td>01/06/2016 21:23:04</td>\n",
       "      <td>5</td>\n",
       "      <td>-122.41515</td>\n",
       "      <td>37.80464</td>\n",
       "      <td>0.000</td>\n",
       "      <td>354.0</td>\n",
       "      <td>5908</td>\n",
       "      <td>0</td>\n",
       "    </tr>\n",
       "  </tbody>\n",
       "</table>\n",
       "</div>"
      ],
      "text/plain": [
       "      REV          REPORT_TIME VEHICLE_TAG  LONGITUDE  LATITUDE  SPEED  \\\n",
       "800  1506  01/06/2016 17:39:15           5 -122.42088  37.80689  0.000   \n",
       "801  1506  01/06/2016 17:48:15           5 -122.42089  37.80690  0.000   \n",
       "802  1506  01/06/2016 17:51:15           5 -122.42090  37.80691  0.000   \n",
       "803  1506  01/06/2016 18:13:45           5 -122.41218  37.79493  0.000   \n",
       "804  1506  01/06/2016 18:24:15           5 -122.41186  37.79477  0.000   \n",
       "805  1506  01/06/2016 18:37:45           5 -122.40996  37.79467  0.000   \n",
       "806  1506  01/06/2016 18:51:37           5 -122.41269  37.80097  2.500   \n",
       "807  1506  01/06/2016 19:04:45           5 -122.41509  37.80463  0.000   \n",
       "808  1506  01/06/2016 19:13:45           5 -122.41519  37.80458  0.000   \n",
       "809  1506  01/06/2016 19:18:15           5 -122.41515  37.80471  0.000   \n",
       "810  1506  01/06/2016 19:33:15           5 -122.41514  37.80473  0.000   \n",
       "811  1506  01/06/2016 19:45:15           5 -122.41509  37.80481  0.000   \n",
       "812  1506  01/06/2016 20:04:45           5 -122.41225  37.79893  3.889   \n",
       "813  1506  01/06/2016 20:10:56           5 -122.40933  37.79286  3.056   \n",
       "814  1506  01/06/2016 20:12:12           5 -122.40902  37.79117  3.889   \n",
       "815  1506  01/06/2016 20:13:15           5 -122.40860  37.78948  2.500   \n",
       "816  1506  01/06/2016 20:22:45           5 -122.40790  37.78469  0.000   \n",
       "817  1506  01/06/2016 20:26:53           5 -122.40814  37.78779  2.500   \n",
       "818  1506  01/06/2016 20:44:04           5 -122.41502  37.80426  0.000   \n",
       "819  1506  01/06/2016 20:50:04           5 -122.41498  37.80428  0.000   \n",
       "820  1506  01/06/2016 21:03:34           5 -122.41501  37.80428  0.000   \n",
       "821  1506  01/06/2016 21:23:04           5 -122.41515  37.80464  0.000   \n",
       "\n",
       "     HEADING TRAIN_ASSIGNMENT  PREDICTABLE  \n",
       "800    307.0             6007            0  \n",
       "801    307.0             6007            0  \n",
       "802    307.0             6007            0  \n",
       "803    157.0             6007            0  \n",
       "804     49.0             6007            0  \n",
       "805     81.0              NaN            0  \n",
       "806    351.0             5903            1  \n",
       "807    352.0             5903            0  \n",
       "808    352.0             5903            0  \n",
       "809    355.0             5903            0  \n",
       "810    355.0             5903            0  \n",
       "811    359.0             5903            0  \n",
       "812    170.0              NaN            0  \n",
       "813    171.0             5908            1  \n",
       "814    171.0             5908            1  \n",
       "815    164.0             5908            1  \n",
       "816    357.0             5908            1  \n",
       "817    351.0             5908            1  \n",
       "818    355.0             5908            1  \n",
       "819    355.0             5908            1  \n",
       "820    355.0             5908            1  \n",
       "821    354.0             5908            0  "
      ]
     },
     "execution_count": 28,
     "metadata": {},
     "output_type": "execute_result"
    }
   ],
   "source": [
    "raw_test.iloc[800:822]"
   ]
  },
  {
   "cell_type": "code",
   "execution_count": 10,
   "metadata": {
    "collapsed": false
   },
   "outputs": [
    {
     "name": "stdout",
     "output_type": "stream",
     "text": [
      "<class 'pandas.core.frame.DataFrame'>\n",
      "RangeIndex: 304830 entries, 0 to 304829\n",
      "Data columns (total 9 columns):\n",
      "REV                 304830 non-null int64\n",
      "REPORT_TIME         304830 non-null object\n",
      "VEHICLE_TAG         304830 non-null object\n",
      "LONGITUDE           304830 non-null float64\n",
      "LATITUDE            304830 non-null float64\n",
      "SPEED               304830 non-null float64\n",
      "HEADING             304830 non-null float64\n",
      "TRAIN_ASSIGNMENT    239082 non-null object\n",
      "PREDICTABLE         304830 non-null int64\n",
      "dtypes: float64(4), int64(2), object(3)\n",
      "memory usage: 20.9+ MB\n"
     ]
    }
   ],
   "source": [
    "raw_test.info()"
   ]
  },
  {
   "cell_type": "code",
   "execution_count": 11,
   "metadata": {
    "collapsed": false
   },
   "outputs": [
    {
     "data": {
      "text/plain": [
       "array([1, 2, 3, ..., 'T445', 'T448', 'T727'], dtype=object)"
      ]
     },
     "execution_count": 11,
     "metadata": {},
     "output_type": "execute_result"
    }
   ],
   "source": [
    "raw_test.VEHICLE_TAG.unique()"
   ]
  },
  {
   "cell_type": "code",
   "execution_count": 12,
   "metadata": {
    "collapsed": true
   },
   "outputs": [],
   "source": [
    "raw_test3 = pd.read_csv('../project/test3.csv')"
   ]
  },
  {
   "cell_type": "code",
   "execution_count": 13,
   "metadata": {
    "collapsed": false
   },
   "outputs": [
    {
     "name": "stdout",
     "output_type": "stream",
     "text": [
      "<class 'pandas.core.frame.DataFrame'>\n",
      "RangeIndex: 304830 entries, 0 to 304829\n",
      "Data columns (total 9 columns):\n",
      "REV                 304830 non-null int64\n",
      "REPORT_TIME         304830 non-null object\n",
      "VEHICLE_TAG         304830 non-null object\n",
      "LONGITUDE           304830 non-null float64\n",
      "LATITUDE            304830 non-null float64\n",
      "SPEED               304830 non-null float64\n",
      "HEADING             304830 non-null float64\n",
      "TRAIN_ASSIGNMENT    239082 non-null object\n",
      "PREDICTABLE         304830 non-null int64\n",
      "dtypes: float64(4), int64(2), object(3)\n",
      "memory usage: 20.9+ MB\n"
     ]
    }
   ],
   "source": [
    "raw_test3.info()"
   ]
  },
  {
   "cell_type": "code",
   "execution_count": 14,
   "metadata": {
    "collapsed": false
   },
   "outputs": [
    {
     "data": {
      "text/html": [
       "<div>\n",
       "<table border=\"1\" class=\"dataframe\">\n",
       "  <thead>\n",
       "    <tr style=\"text-align: right;\">\n",
       "      <th></th>\n",
       "      <th>agency_id</th>\n",
       "      <th>route_short_name</th>\n",
       "      <th>route_long_name</th>\n",
       "      <th>route_desc</th>\n",
       "      <th>route_type</th>\n",
       "      <th>route_url</th>\n",
       "      <th>route_color</th>\n",
       "      <th>route_text_color</th>\n",
       "    </tr>\n",
       "    <tr>\n",
       "      <th>route_id</th>\n",
       "      <th></th>\n",
       "      <th></th>\n",
       "      <th></th>\n",
       "      <th></th>\n",
       "      <th></th>\n",
       "      <th></th>\n",
       "      <th></th>\n",
       "      <th></th>\n",
       "    </tr>\n",
       "  </thead>\n",
       "  <tbody>\n",
       "    <tr>\n",
       "      <th>11047</th>\n",
       "      <td>SFMTA</td>\n",
       "      <td>1</td>\n",
       "      <td>CALIFORNIA</td>\n",
       "      <td></td>\n",
       "      <td>3</td>\n",
       "      <td></td>\n",
       "      <td></td>\n",
       "      <td></td>\n",
       "    </tr>\n",
       "    <tr>\n",
       "      <th>1033</th>\n",
       "      <td>SFMTA</td>\n",
       "      <td>1AX</td>\n",
       "      <td>CALIFORNIA A EXPRESS</td>\n",
       "      <td></td>\n",
       "      <td>3</td>\n",
       "      <td></td>\n",
       "      <td></td>\n",
       "      <td></td>\n",
       "    </tr>\n",
       "    <tr>\n",
       "      <th>1034</th>\n",
       "      <td>SFMTA</td>\n",
       "      <td>1BX</td>\n",
       "      <td>CALIFORNIA B EXPRESS</td>\n",
       "      <td></td>\n",
       "      <td>3</td>\n",
       "      <td></td>\n",
       "      <td></td>\n",
       "      <td></td>\n",
       "    </tr>\n",
       "    <tr>\n",
       "      <th>1031</th>\n",
       "      <td>SFMTA</td>\n",
       "      <td>31AX</td>\n",
       "      <td>BALBOA A EXPRESS</td>\n",
       "      <td></td>\n",
       "      <td>3</td>\n",
       "      <td></td>\n",
       "      <td></td>\n",
       "      <td></td>\n",
       "    </tr>\n",
       "    <tr>\n",
       "      <th>1032</th>\n",
       "      <td>SFMTA</td>\n",
       "      <td>31BX</td>\n",
       "      <td>BALBOA B EXPRESS</td>\n",
       "      <td></td>\n",
       "      <td>3</td>\n",
       "      <td></td>\n",
       "      <td></td>\n",
       "      <td></td>\n",
       "    </tr>\n",
       "  </tbody>\n",
       "</table>\n",
       "</div>"
      ],
      "text/plain": [
       "         agency_id route_short_name       route_long_name route_desc  \\\n",
       "route_id                                                               \n",
       "11047        SFMTA                1            CALIFORNIA              \n",
       "1033         SFMTA              1AX  CALIFORNIA A EXPRESS              \n",
       "1034         SFMTA              1BX  CALIFORNIA B EXPRESS              \n",
       "1031         SFMTA             31AX      BALBOA A EXPRESS              \n",
       "1032         SFMTA             31BX      BALBOA B EXPRESS              \n",
       "\n",
       "          route_type route_url route_color route_text_color  \n",
       "route_id                                                     \n",
       "11047              3                                         \n",
       "1033               3                                         \n",
       "1034               3                                         \n",
       "1031               3                                         \n",
       "1032               3                                         "
      ]
     },
     "execution_count": 14,
     "metadata": {},
     "output_type": "execute_result"
    }
   ],
   "source": [
    "routes.head()"
   ]
  },
  {
   "cell_type": "code",
   "execution_count": 16,
   "metadata": {
    "collapsed": false
   },
   "outputs": [
    {
     "data": {
      "text/plain": [
       "array([nan, '6003', '6004', ..., 905.0, 2905.0, 8888.0], dtype=object)"
      ]
     },
     "execution_count": 16,
     "metadata": {},
     "output_type": "execute_result"
    }
   ],
   "source": [
    "raw_test3.TRAIN_ASSIGNMENT.unique()"
   ]
  },
  {
   "cell_type": "code",
   "execution_count": 18,
   "metadata": {
    "collapsed": false
   },
   "outputs": [
    {
     "data": {
      "text/html": [
       "<div>\n",
       "<table border=\"1\" class=\"dataframe\">\n",
       "  <thead>\n",
       "    <tr style=\"text-align: right;\">\n",
       "      <th></th>\n",
       "      <th>route_id</th>\n",
       "      <th>service_id</th>\n",
       "      <th>trip_headsign</th>\n",
       "      <th>direction_id</th>\n",
       "      <th>block_id</th>\n",
       "      <th>shape_id</th>\n",
       "    </tr>\n",
       "    <tr>\n",
       "      <th>trip_id</th>\n",
       "      <th></th>\n",
       "      <th></th>\n",
       "      <th></th>\n",
       "      <th></th>\n",
       "      <th></th>\n",
       "      <th></th>\n",
       "    </tr>\n",
       "  </thead>\n",
       "  <tbody>\n",
       "    <tr>\n",
       "      <th>6858659</th>\n",
       "      <td>11047</td>\n",
       "      <td>2</td>\n",
       "      <td>Geary + 33rd Avenue</td>\n",
       "      <td>0</td>\n",
       "      <td>115</td>\n",
       "      <td>135594</td>\n",
       "    </tr>\n",
       "    <tr>\n",
       "      <th>7048008</th>\n",
       "      <td>11047</td>\n",
       "      <td>1</td>\n",
       "      <td>Geary + 33rd Avenue</td>\n",
       "      <td>0</td>\n",
       "      <td>110</td>\n",
       "      <td>135595</td>\n",
       "    </tr>\n",
       "    <tr>\n",
       "      <th>7048006</th>\n",
       "      <td>11047</td>\n",
       "      <td>1</td>\n",
       "      <td>Geary + 33rd Avenue</td>\n",
       "      <td>0</td>\n",
       "      <td>116</td>\n",
       "      <td>135595</td>\n",
       "    </tr>\n",
       "    <tr>\n",
       "      <th>7048005</th>\n",
       "      <td>11047</td>\n",
       "      <td>1</td>\n",
       "      <td>Geary + 33rd Avenue</td>\n",
       "      <td>0</td>\n",
       "      <td>103</td>\n",
       "      <td>135595</td>\n",
       "    </tr>\n",
       "    <tr>\n",
       "      <th>7048004</th>\n",
       "      <td>11047</td>\n",
       "      <td>1</td>\n",
       "      <td>Geary + 33rd Avenue</td>\n",
       "      <td>0</td>\n",
       "      <td>113</td>\n",
       "      <td>135595</td>\n",
       "    </tr>\n",
       "  </tbody>\n",
       "</table>\n",
       "</div>"
      ],
      "text/plain": [
       "         route_id  service_id        trip_headsign  direction_id  block_id  \\\n",
       "trip_id                                                                      \n",
       "6858659     11047           2  Geary + 33rd Avenue             0       115   \n",
       "7048008     11047           1  Geary + 33rd Avenue             0       110   \n",
       "7048006     11047           1  Geary + 33rd Avenue             0       116   \n",
       "7048005     11047           1  Geary + 33rd Avenue             0       103   \n",
       "7048004     11047           1  Geary + 33rd Avenue             0       113   \n",
       "\n",
       "         shape_id  \n",
       "trip_id            \n",
       "6858659    135594  \n",
       "7048008    135595  \n",
       "7048006    135595  \n",
       "7048005    135595  \n",
       "7048004    135595  "
      ]
     },
     "execution_count": 18,
     "metadata": {},
     "output_type": "execute_result"
    }
   ],
   "source": [
    "trips.head()"
   ]
  },
  {
   "cell_type": "code",
   "execution_count": 22,
   "metadata": {
    "collapsed": false
   },
   "outputs": [
    {
     "data": {
      "text/plain": [
       "agency_id                      SFMTA\n",
       "route_short_name                31BX\n",
       "route_long_name     BALBOA B EXPRESS\n",
       "route_desc                          \n",
       "route_type                         3\n",
       "route_url                           \n",
       "route_color                         \n",
       "route_text_color                    \n",
       "Name: 1032, dtype: object"
      ]
     },
     "execution_count": 22,
     "metadata": {},
     "output_type": "execute_result"
    }
   ],
   "source": [
    "routes.loc[1032]"
   ]
  },
  {
   "cell_type": "code",
   "execution_count": 30,
   "metadata": {
    "collapsed": false
   },
   "outputs": [
    {
     "data": {
      "text/html": [
       "<div>\n",
       "<table border=\"1\" class=\"dataframe\">\n",
       "  <thead>\n",
       "    <tr style=\"text-align: right;\">\n",
       "      <th></th>\n",
       "      <th>SIGNID</th>\n",
       "      <th>BLOCKID</th>\n",
       "      <th>BLOCKNUM</th>\n",
       "      <th>BLOCKNAME</th>\n",
       "    </tr>\n",
       "  </thead>\n",
       "  <tbody>\n",
       "    <tr>\n",
       "      <th>0</th>\n",
       "      <td>69</td>\n",
       "      <td>332917</td>\n",
       "      <td>107</td>\n",
       "      <td>107</td>\n",
       "    </tr>\n",
       "    <tr>\n",
       "      <th>1</th>\n",
       "      <td>69</td>\n",
       "      <td>332918</td>\n",
       "      <td>108</td>\n",
       "      <td>108</td>\n",
       "    </tr>\n",
       "    <tr>\n",
       "      <th>2</th>\n",
       "      <td>69</td>\n",
       "      <td>332919</td>\n",
       "      <td>109</td>\n",
       "      <td>109</td>\n",
       "    </tr>\n",
       "    <tr>\n",
       "      <th>3</th>\n",
       "      <td>69</td>\n",
       "      <td>332920</td>\n",
       "      <td>110</td>\n",
       "      <td>110</td>\n",
       "    </tr>\n",
       "    <tr>\n",
       "      <th>4</th>\n",
       "      <td>69</td>\n",
       "      <td>332921</td>\n",
       "      <td>102</td>\n",
       "      <td>102</td>\n",
       "    </tr>\n",
       "  </tbody>\n",
       "</table>\n",
       "</div>"
      ],
      "text/plain": [
       "   SIGNID  BLOCKID  BLOCKNUM BLOCKNAME\n",
       "0      69   332917       107       107\n",
       "1      69   332918       108       108\n",
       "2      69   332919       109       109\n",
       "3      69   332920       110       110\n",
       "4      69   332921       102       102"
      ]
     },
     "execution_count": 30,
     "metadata": {},
     "output_type": "execute_result"
    }
   ],
   "source": [
    "blocks.head()"
   ]
  },
  {
   "cell_type": "code",
   "execution_count": 31,
   "metadata": {
    "collapsed": false
   },
   "outputs": [
    {
     "name": "stdout",
     "output_type": "stream",
     "text": [
      "<class 'pandas.core.frame.DataFrame'>\n",
      "RangeIndex: 71670 entries, 0 to 71669\n",
      "Data columns (total 4 columns):\n",
      "SIGNID       71670 non-null int64\n",
      "BLOCKID      71670 non-null int64\n",
      "BLOCKNUM     71670 non-null int64\n",
      "BLOCKNAME    67983 non-null object\n",
      "dtypes: int64(3), object(1)\n",
      "memory usage: 2.2+ MB\n"
     ]
    }
   ],
   "source": [
    "blocks.info()"
   ]
  },
  {
   "cell_type": "code",
   "execution_count": 32,
   "metadata": {
    "collapsed": false
   },
   "outputs": [
    {
     "data": {
      "text/plain": [
       "71670"
      ]
     },
     "execution_count": 32,
     "metadata": {},
     "output_type": "execute_result"
    }
   ],
   "source": [
    "len(blocks.BLOCKID.unique())"
   ]
  },
  {
   "cell_type": "code",
   "execution_count": 33,
   "metadata": {
    "collapsed": false
   },
   "outputs": [
    {
     "data": {
      "text/plain": [
       "2491"
      ]
     },
     "execution_count": 33,
     "metadata": {},
     "output_type": "execute_result"
    }
   ],
   "source": [
    "len(blocks.BLOCKNUM.unique())"
   ]
  },
  {
   "cell_type": "code",
   "execution_count": null,
   "metadata": {
    "collapsed": true
   },
   "outputs": [],
   "source": []
  }
 ],
 "metadata": {
  "kernelspec": {
   "display_name": "Python 2",
   "language": "python",
   "name": "python2"
  },
  "language_info": {
   "codemirror_mode": {
    "name": "ipython",
    "version": 2
   },
   "file_extension": ".py",
   "mimetype": "text/x-python",
   "name": "python",
   "nbconvert_exporter": "python",
   "pygments_lexer": "ipython2",
   "version": "2.7.11"
  }
 },
 "nbformat": 4,
 "nbformat_minor": 0
}
