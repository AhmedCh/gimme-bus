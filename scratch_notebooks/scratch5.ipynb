{
 "cells": [
  {
   "cell_type": "code",
   "execution_count": 1,
   "metadata": {
    "collapsed": false
   },
   "outputs": [],
   "source": [
    "import pandas as pd\n",
    "import numpy as np\n",
    "import networkx as nx\n",
    "import cPickle as pickle\n",
    "from model.utilities import haversine, diff_timestamps\n",
    "\n",
    "# Reading in static schedule data\n",
    "stops_full = pd.read_csv('data/google_transit/stops.txt', index_col='stop_id')\n",
    "routes = pd.read_csv('data/google_transit/routes.txt', index_col='route_id')\n",
    "trips = pd.read_csv('data/google_transit/trips.txt', index_col='trip_id')\n",
    "stop_times = pd.read_csv('data/google_transit/stop_times.txt')\n",
    "shapes = pd.read_csv('data/google_transit/shapes.txt')\n",
    "\n",
    "# Some of these stops are named \"Not a public stop\" but are still in trips.\n",
    "# Luckily, in the few trips they appear in, they're only either at the\n",
    "# beginning or the end, so we can remove them now and we'll still build\n",
    "# a nice graph with the connections we expect.\n",
    "stops = stops_full[~stops_full.index.isin([7520, 7530, 7531, 7540])]\n",
    "stop_times = stop_times[~stop_times['stop_id'].isin([7520, 7530, 7531, 7540])]\n",
    "\n",
    "# Oh and some stops are in stops.txt but not used in trips... let's remove 'em\n",
    "used_stops = set(stop_times['stop_id'].unique())\n",
    "stops = stops[stops.index.isin(used_stops)]\n"
   ]
  },
  {
   "cell_type": "code",
   "execution_count": 2,
   "metadata": {
    "collapsed": true
   },
   "outputs": [],
   "source": [
    "G_x = nx.read_gpickle('graph_x_5.gpkl')"
   ]
  },
  {
   "cell_type": "code",
   "execution_count": 3,
   "metadata": {
    "collapsed": true
   },
   "outputs": [],
   "source": [
    "#foot speeds in m/s\n",
    "walk_speed = 1.39\n",
    "run_speed = 4.47\n",
    "sprint_speed = 6.7"
   ]
  },
  {
   "cell_type": "code",
   "execution_count": null,
   "metadata": {
    "collapsed": false
   },
   "outputs": [],
   "source": []
  },
  {
   "cell_type": "code",
   "execution_count": 4,
   "metadata": {
    "collapsed": false
   },
   "outputs": [
    {
     "data": {
      "text/plain": [
       "['3335_05:27:38',\n",
       " '3335_05:27:48',\n",
       " '3335_05:47:38',\n",
       " '3335_05:57:48',\n",
       " '3335_06:02:38',\n",
       " '3335_06:15:38',\n",
       " '3335_06:17:48',\n",
       " '3335_06:38:48',\n",
       " '3335_06:48:48',\n",
       " '3335_06:54:48',\n",
       " '3335_07:10:58',\n",
       " '3335_07:19:48',\n",
       " '3335_07:27:58',\n",
       " '3335_07:42:08',\n",
       " '3335_07:44:08',\n",
       " '3335_07:51:48',\n",
       " '3335_08:00:08',\n",
       " '3335_08:17:08',\n",
       " '3335_08:22:58',\n",
       " '3335_08:29:08']"
      ]
     },
     "execution_count": 4,
     "metadata": {},
     "output_type": "execute_result"
    }
   ],
   "source": [
    "sorted(list((n for n,d in G_x.nodes_iter(data=True) if d['stop_id'] == 3335)))[:20]"
   ]
  },
  {
   "cell_type": "code",
   "execution_count": 5,
   "metadata": {
    "collapsed": false
   },
   "outputs": [
    {
     "data": {
      "text/plain": [
       "{'4555_12:21:13': {'duration': 240, 'type': 'wait'},\n",
       " '4559_12:17:53': {'block_id': 1908,\n",
       "  'duration': 40,\n",
       "  'route_id': 11063,\n",
       "  'service_id': 1,\n",
       "  'shape_id': 135694,\n",
       "  'trip_id': 6874997,\n",
       "  'type': 'ride'}}"
      ]
     },
     "execution_count": 5,
     "metadata": {},
     "output_type": "execute_result"
    }
   ],
   "source": [
    "G_x.edge['4555_12:17:13']"
   ]
  },
  {
   "cell_type": "code",
   "execution_count": 12,
   "metadata": {
    "collapsed": false
   },
   "outputs": [],
   "source": [
    "# Let's make some sorted stop-timepoint lists for each stop_id to\n",
    "# make lookup faster in our loop.\n",
    "all_stop_timepoints = {}\n",
    "for stopid in used_stops:\n",
    "    all_stop_timepoints[stopid] = sorted( list( set(stop_times[stop_times['stop_id'] == stopid].\\\n",
    "                                                    apply(lambda x: '{0}_{1}'.\\\n",
    "                                                          format(stopid, \\\n",
    "                                                                 x['arrival_time']), axis=1))))"
   ]
  },
  {
   "cell_type": "code",
   "execution_count": 13,
   "metadata": {
    "collapsed": true
   },
   "outputs": [
    {
     "data": {
      "text/plain": [
       "['7423_05:49:43',\n",
       " '7423_05:50:33',\n",
       " '7423_05:51:23',\n",
       " '7423_06:09:23',\n",
       " '7423_06:09:43',\n",
       " '7423_06:11:33',\n",
       " '7423_06:28:23',\n",
       " '7423_06:30:43',\n",
       " '7423_06:32:33',\n",
       " '7423_06:36:23',\n",
       " '7423_06:44:23',\n",
       " '7423_06:50:43',\n",
       " '7423_06:55:43',\n",
       " '7423_06:56:23',\n",
       " '7423_06:58:23',\n",
       " '7423_07:10:43',\n",
       " '7423_07:11:23',\n",
       " '7423_07:16:23',\n",
       " '7423_07:16:43',\n",
       " '7423_07:23:23',\n",
       " '7423_07:30:43',\n",
       " '7423_07:31:43',\n",
       " '7423_07:33:23',\n",
       " '7423_07:36:23',\n",
       " '7423_07:43:23',\n",
       " '7423_07:47:54',\n",
       " '7423_07:50:54',\n",
       " '7423_07:52:23',\n",
       " '7423_07:56:23',\n",
       " '7423_08:01:23',\n",
       " '7423_08:03:54',\n",
       " '7423_08:10:23',\n",
       " '7423_08:10:54',\n",
       " '7423_08:16:23',\n",
       " '7423_08:19:44',\n",
       " '7423_08:19:54',\n",
       " '7423_08:27:44',\n",
       " '7423_08:30:54',\n",
       " '7423_08:34:54',\n",
       " '7423_08:35:44',\n",
       " '7423_08:36:23',\n",
       " '7423_08:43:44',\n",
       " '7423_08:48:54',\n",
       " '7423_08:50:54',\n",
       " '7423_08:51:44',\n",
       " '7423_08:56:23',\n",
       " '7423_08:59:44',\n",
       " '7423_09:04:04',\n",
       " '7423_09:07:44',\n",
       " '7423_09:11:54',\n",
       " '7423_09:15:44',\n",
       " '7423_09:16:23',\n",
       " '7423_09:19:04',\n",
       " '7423_09:23:44',\n",
       " '7423_09:31:44',\n",
       " '7423_09:31:54',\n",
       " '7423_09:33:04',\n",
       " '7423_09:34:23',\n",
       " '7423_09:39:44',\n",
       " '7423_09:47:44',\n",
       " '7423_09:48:04',\n",
       " '7423_09:51:23',\n",
       " '7423_09:52:04',\n",
       " '7423_09:55:44',\n",
       " '7423_10:02:04',\n",
       " '7423_10:03:44',\n",
       " '7423_10:08:23',\n",
       " '7423_10:11:44',\n",
       " '7423_10:12:04',\n",
       " '7423_10:17:04',\n",
       " '7423_10:19:44',\n",
       " '7423_10:23:23',\n",
       " '7423_10:27:44',\n",
       " '7423_10:31:04',\n",
       " '7423_10:31:15',\n",
       " '7423_10:35:44',\n",
       " '7423_10:38:44',\n",
       " '7423_10:43:44',\n",
       " '7423_10:46:04',\n",
       " '7423_10:46:15',\n",
       " '7423_10:51:44',\n",
       " '7423_10:53:44',\n",
       " '7423_10:59:44',\n",
       " '7423_11:01:04',\n",
       " '7423_11:01:15',\n",
       " '7423_11:07:44',\n",
       " '7423_11:09:44',\n",
       " '7423_11:16:04',\n",
       " '7423_11:16:15',\n",
       " '7423_11:16:44',\n",
       " '7423_11:24:44',\n",
       " '7423_11:26:44',\n",
       " '7423_11:31:04',\n",
       " '7423_11:31:15',\n",
       " '7423_11:37:44',\n",
       " '7423_11:39:44',\n",
       " '7423_11:46:04',\n",
       " '7423_11:46:15',\n",
       " '7423_11:49:44',\n",
       " '7423_11:54:44',\n",
       " '7423_12:01:04',\n",
       " '7423_12:01:15',\n",
       " '7423_12:02:44',\n",
       " '7423_12:09:44',\n",
       " '7423_12:14:44',\n",
       " '7423_12:16:04',\n",
       " '7423_12:16:15',\n",
       " '7423_12:24:44',\n",
       " '7423_12:26:44',\n",
       " '7423_12:31:04',\n",
       " '7423_12:31:15',\n",
       " '7423_12:38:44',\n",
       " '7423_12:39:44',\n",
       " '7423_12:46:15',\n",
       " '7423_12:47:04',\n",
       " '7423_12:50:44',\n",
       " '7423_12:54:44',\n",
       " '7423_13:01:15',\n",
       " '7423_13:02:04',\n",
       " '7423_13:02:44',\n",
       " '7423_13:10:44',\n",
       " '7423_13:14:44',\n",
       " '7423_13:16:15',\n",
       " '7423_13:17:04',\n",
       " '7423_13:25:44',\n",
       " '7423_13:26:44',\n",
       " '7423_13:31:15',\n",
       " '7423_13:32:04',\n",
       " '7423_13:38:44',\n",
       " '7423_13:40:44',\n",
       " '7423_13:46:15',\n",
       " '7423_13:47:04',\n",
       " '7423_13:50:44',\n",
       " '7423_13:55:44',\n",
       " '7423_14:01:15',\n",
       " '7423_14:02:04',\n",
       " '7423_14:02:44',\n",
       " '7423_14:10:44',\n",
       " '7423_14:14:44',\n",
       " '7423_14:16:15',\n",
       " '7423_14:17:04',\n",
       " '7423_14:25:44',\n",
       " '7423_14:26:44',\n",
       " '7423_14:31:15',\n",
       " '7423_14:32:04',\n",
       " '7423_14:38:44',\n",
       " '7423_14:40:44',\n",
       " '7423_14:46:15',\n",
       " '7423_14:47:04',\n",
       " '7423_14:50:44',\n",
       " '7423_14:55:44',\n",
       " '7423_15:01:04',\n",
       " '7423_15:01:44',\n",
       " '7423_15:02:04',\n",
       " '7423_15:10:44',\n",
       " '7423_15:11:44',\n",
       " '7423_15:16:04',\n",
       " '7423_15:17:04',\n",
       " '7423_15:21:44',\n",
       " '7423_15:25:44',\n",
       " '7423_15:31:04',\n",
       " '7423_15:31:44',\n",
       " '7423_15:32:04',\n",
       " '7423_15:40:44',\n",
       " '7423_15:41:44',\n",
       " '7423_15:46:04',\n",
       " '7423_15:47:04',\n",
       " '7423_15:51:44',\n",
       " '7423_15:55:44',\n",
       " '7423_16:01:04',\n",
       " '7423_16:01:44',\n",
       " '7423_16:02:04',\n",
       " '7423_16:10:44',\n",
       " '7423_16:11:44',\n",
       " '7423_16:17:04',\n",
       " '7423_16:20:44',\n",
       " '7423_16:25:44',\n",
       " '7423_16:29:44',\n",
       " '7423_16:32:04',\n",
       " '7423_16:38:44',\n",
       " '7423_16:40:44',\n",
       " '7423_16:46:44',\n",
       " '7423_16:47:04',\n",
       " '7423_16:55:44',\n",
       " '7423_17:00:04',\n",
       " '7423_17:02:04',\n",
       " '7423_17:03:44',\n",
       " '7423_17:10:44',\n",
       " '7423_17:12:44',\n",
       " '7423_17:15:04',\n",
       " '7423_17:17:04',\n",
       " '7423_17:22:05',\n",
       " '7423_17:25:44',\n",
       " '7423_17:29:43',\n",
       " '7423_17:31:05',\n",
       " '7423_17:32:04',\n",
       " '7423_17:39:05',\n",
       " '7423_17:40:44',\n",
       " '7423_17:44:43',\n",
       " '7423_17:47:04',\n",
       " '7423_17:48:05',\n",
       " '7423_17:55:44',\n",
       " '7423_17:56:05',\n",
       " '7423_17:59:43',\n",
       " '7423_18:02:04',\n",
       " '7423_18:05:05',\n",
       " '7423_18:10:23',\n",
       " '7423_18:13:05',\n",
       " '7423_18:14:43',\n",
       " '7423_18:16:04',\n",
       " '7423_18:22:05',\n",
       " '7423_18:25:23',\n",
       " '7423_18:28:43',\n",
       " '7423_18:30:04',\n",
       " '7423_18:30:05',\n",
       " '7423_18:39:05',\n",
       " '7423_18:43:23',\n",
       " '7423_18:43:43',\n",
       " '7423_18:45:04',\n",
       " '7423_18:47:05',\n",
       " '7423_18:54:44',\n",
       " '7423_18:58:43',\n",
       " '7423_18:58:54',\n",
       " '7423_19:03:23',\n",
       " '7423_19:03:44',\n",
       " '7423_19:12:44',\n",
       " '7423_19:12:54',\n",
       " '7423_19:13:43',\n",
       " '7423_19:23:23',\n",
       " '7423_19:23:44',\n",
       " '7423_19:27:54',\n",
       " '7423_19:28:43',\n",
       " '7423_19:36:44',\n",
       " '7423_19:41:54',\n",
       " '7423_19:44:23',\n",
       " '7423_19:44:43',\n",
       " '7423_19:51:44',\n",
       " '7423_19:56:54',\n",
       " '7423_20:04:23',\n",
       " '7423_20:04:43',\n",
       " '7423_20:08:44',\n",
       " '7423_20:11:54',\n",
       " '7423_20:23:43',\n",
       " '7423_20:24:23',\n",
       " '7423_20:26:23',\n",
       " '7423_20:27:43',\n",
       " '7423_20:43:43',\n",
       " '7423_20:44:23',\n",
       " '7423_20:46:23',\n",
       " '7423_20:46:43',\n",
       " '7423_21:02:23',\n",
       " '7423_21:03:43',\n",
       " '7423_21:05:43',\n",
       " '7423_21:06:23',\n",
       " '7423_21:22:23',\n",
       " '7423_21:23:43',\n",
       " '7423_21:25:23',\n",
       " '7423_21:25:43',\n",
       " '7423_21:43:23',\n",
       " '7423_21:43:43',\n",
       " '7423_21:45:43',\n",
       " '7423_21:46:23',\n",
       " '7423_22:03:43',\n",
       " '7423_22:05:43',\n",
       " '7423_22:13:23',\n",
       " '7423_22:16:23',\n",
       " '7423_22:22:43',\n",
       " '7423_22:24:43',\n",
       " '7423_22:42:43',\n",
       " '7423_22:43:23',\n",
       " '7423_22:44:43',\n",
       " '7423_22:46:23',\n",
       " '7423_23:12:43',\n",
       " '7423_23:13:23',\n",
       " '7423_23:14:23',\n",
       " '7423_23:14:43',\n",
       " '7423_23:42:43',\n",
       " '7423_23:43:23',\n",
       " '7423_23:44:23',\n",
       " '7423_23:44:43',\n",
       " '7423_24:12:43',\n",
       " '7423_24:13:23',\n",
       " '7423_24:14:23',\n",
       " '7423_24:14:43',\n",
       " '7423_24:42:43',\n",
       " '7423_24:43:23',\n",
       " '7423_24:44:23',\n",
       " '7423_24:44:43',\n",
       " '7423_25:12:43',\n",
       " '7423_25:14:43']"
      ]
     },
     "execution_count": 13,
     "metadata": {},
     "output_type": "execute_result"
    }
   ],
   "source": [
    "all_stop_timepoints[7423]"
   ]
  },
  {
   "cell_type": "code",
   "execution_count": null,
   "metadata": {
    "collapsed": true
   },
   "outputs": [],
   "source": []
  },
  {
   "cell_type": "code",
   "execution_count": null,
   "metadata": {
    "collapsed": true
   },
   "outputs": [],
   "source": []
  },
  {
   "cell_type": "code",
   "execution_count": 15,
   "metadata": {
    "collapsed": true
   },
   "outputs": [],
   "source": [
    "for row in stops.iterrows():\n",
    "    stop_id = row[0]\n",
    "    stop_info = row[1]\n",
    "\n",
    "    # calculate distance between this stop and every other stop\n",
    "    dists = stops.apply(lambda x: haversine(x['stop_lon'], \\\n",
    "                        x['stop_lat'], stop_info['stop_lon'],\\\n",
    "                        stop_info['stop_lat']), axis=1)\n",
    "\n",
    "    # only keep the stops within 200 meters\n",
    "    dists = dists[dists <= 0.2]\n",
    "\n",
    "    # don't connect the stop to itself, duh\n",
    "    dists = dists.drop(row[0])\n",
    "\n",
    "    # convert to walking times. add 30 seconds for maybe waiting for a stoplight, sure.\n",
    "    walk_times = np.ceil(1000*dists/walk_speed) + 30\n",
    "\n",
    "    # for every closest stop, add an edge between each stop-timepoint\n",
    "    # and the earliest walkable closest stop timepoint\n",
    "    for close_stop in walk_times.iteritems():\n",
    "        close_stop_id = close_stop[0]\n",
    "        walk_time = close_stop[1]\n",
    "        for node1 in all_stop_timepoints[stop_id]:\n",
    "            t1 = G_x.node[node1]['arrival_time']\n",
    "            for node2 in all_stop_timepoints[close_stop_id]:\n",
    "                t2 = G_x.node[node2]['arrival_time']\n",
    "                if (t2 > t1) and (diff_timestamps(t1, t2) >= walk_time):\n",
    "                    if G_x.has_edge(node1, node2):\n",
    "                        break\n",
    "                    G_x.add_edge(node1, node2, duration=walk_time, type='walk')\n",
    "                    break"
   ]
  },
  {
   "cell_type": "code",
   "execution_count": 14,
   "metadata": {
    "collapsed": false
   },
   "outputs": [
    {
     "data": {
      "text/plain": [
       "False"
      ]
     },
     "execution_count": 14,
     "metadata": {},
     "output_type": "execute_result"
    }
   ],
   "source": [
    "G_x.node['3335_07:42:08']['arrival_time'] < G_x.node['4555_05:48:48']['arrival_time']"
   ]
  },
  {
   "cell_type": "code",
   "execution_count": 18,
   "metadata": {
    "collapsed": false
   },
   "outputs": [
    {
     "data": {
      "text/plain": [
       "{'3327_07:43:00': {'block_id': 3309,\n",
       "  'duration': 52,\n",
       "  'route_id': 11076,\n",
       "  'service_id': 1,\n",
       "  'shape_id': 135779,\n",
       "  'trip_id': 6887009,\n",
       "  'type': 'ride'},\n",
       " '3335_07:44:08': {'duration': 120, 'type': 'wait'},\n",
       " '3336_07:46:47': {'duration': 52.0, 'type': 'walk'},\n",
       " '4179_07:55:37': {'duration': 121.0, 'type': 'walk'},\n",
       " '4180_07:52:27': {'duration': 112.0, 'type': 'walk'},\n",
       " '4185_07:55:24': {'duration': 149.0, 'type': 'walk'}}"
      ]
     },
     "execution_count": 18,
     "metadata": {},
     "output_type": "execute_result"
    }
   ],
   "source": [
    "G_x['3335_07:42:08']"
   ]
  },
  {
   "cell_type": "code",
   "execution_count": 19,
   "metadata": {
    "collapsed": true
   },
   "outputs": [],
   "source": [
    "nx.write_gpickle(G_x, 'graph_x_6.gpkl')"
   ]
  },
  {
   "cell_type": "code",
   "execution_count": 36,
   "metadata": {
    "collapsed": false
   },
   "outputs": [
    {
     "data": {
      "text/plain": [
       "2122.0"
      ]
     },
     "execution_count": 36,
     "metadata": {},
     "output_type": "execute_result"
    }
   ],
   "source": [
    "nx.dijkstra_path_length(G_x, '3335_07:42:08', '4555_09:47:13', weight='duration')"
   ]
  },
  {
   "cell_type": "code",
   "execution_count": 37,
   "metadata": {
    "collapsed": false
   },
   "outputs": [
    {
     "data": {
      "text/plain": [
       "35.36666666666667"
      ]
     },
     "execution_count": 37,
     "metadata": {},
     "output_type": "execute_result"
    }
   ],
   "source": [
    "2122./60"
   ]
  },
  {
   "cell_type": "code",
   "execution_count": 23,
   "metadata": {
    "collapsed": false,
    "scrolled": true
   },
   "outputs": [
    {
     "data": {
      "text/plain": [
       "['3335_07:42:08',\n",
       " '3336_07:46:47',\n",
       " '3329_07:48:01',\n",
       " '3326_07:49:00',\n",
       " '4314_07:51:00',\n",
       " '3326_08:05:00',\n",
       " '4315_08:07:00',\n",
       " '4316_08:07:25',\n",
       " '4318_08:07:55',\n",
       " '4321_08:08:26',\n",
       " '4322_08:08:53',\n",
       " '4325_08:09:26',\n",
       " '4333_08:09:41',\n",
       " '4327_08:10:00',\n",
       " '4328_08:10:28',\n",
       " '7290_08:11:00',\n",
       " '3521_08:11:35',\n",
       " '5732_08:12:06',\n",
       " '5734_08:12:35',\n",
       " '5736_08:13:07',\n",
       " '5738_08:13:37',\n",
       " '3544_08:14:09',\n",
       " '3536_08:14:44',\n",
       " '3538_08:15:19',\n",
       " '3541_08:16:00',\n",
       " '4157_08:16:40',\n",
       " '4161_08:17:08',\n",
       " '4150_08:17:30',\n",
       " '4146_08:17:47',\n",
       " '4143_08:18:21',\n",
       " '4152_08:18:52',\n",
       " '4154_08:19:10',\n",
       " '4159_08:19:34',\n",
       " '7213_08:20:07',\n",
       " '4148_08:21:00',\n",
       " '5093_08:21:41',\n",
       " '5094_08:22:35',\n",
       " '5095_08:23:24',\n",
       " '5884_08:24:17',\n",
       " '5882_08:24:55',\n",
       " '5880_08:25:35',\n",
       " '5939_08:42:44',\n",
       " '5938_08:59:16',\n",
       " '5936_08:59:43',\n",
       " '5934_09:00:24',\n",
       " '5176_09:15:04',\n",
       " '3129_09:25:27',\n",
       " '7404_09:30:54',\n",
       " '7352_09:31:52',\n",
       " '4555_09:47:00',\n",
       " '4555_09:47:13']"
      ]
     },
     "execution_count": 23,
     "metadata": {},
     "output_type": "execute_result"
    }
   ],
   "source": [
    "nx.dijkstra_path(G_x, '3335_07:42:08', '4555_09:47:13', weight='duration')"
   ]
  },
  {
   "cell_type": "code",
   "execution_count": 24,
   "metadata": {
    "collapsed": true
   },
   "outputs": [],
   "source": [
    "path = _"
   ]
  },
  {
   "cell_type": "code",
   "execution_count": 29,
   "metadata": {
    "collapsed": false
   },
   "outputs": [
    {
     "data": {
      "text/plain": [
       "{'3311_07:54:00': {'duration': 169.0, 'type': 'walk'},\n",
       " '3325_07:50:00': {'duration': 52.0, 'type': 'walk'},\n",
       " '3326_08:05:00': {'duration': 960, 'type': 'wait'},\n",
       " '3340_07:57:02': {'duration': 168.0, 'type': 'walk'},\n",
       " '3341_07:49:56': {'block_id': 3301,\n",
       "  'duration': 56,\n",
       "  'route_id': 11076,\n",
       "  'service_id': 1,\n",
       "  'shape_id': 135773,\n",
       "  'trip_id': 6886921,\n",
       "  'type': 'ride'},\n",
       " '3341_08:05:56': {'duration': 153.0, 'type': 'walk'},\n",
       " '4313_07:51:59': {'duration': 153.0, 'type': 'walk'},\n",
       " '4314_07:51:00': {'duration': 36.0, 'type': 'walk'},\n",
       " '4315_07:50:44': {'duration': 44.0, 'type': 'walk'},\n",
       " '4316_07:55:34': {'duration': 147.0, 'type': 'walk'},\n",
       " '4317_07:59:05': {'duration': 165.0, 'type': 'walk'},\n",
       " '4334_07:54:10': {'duration': 158.0, 'type': 'walk'},\n",
       " '5665_07:54:00': {'duration': 165.0, 'type': 'walk'},\n",
       " '7253_08:02:00': {'duration': 169.0, 'type': 'walk'}}"
      ]
     },
     "execution_count": 29,
     "metadata": {},
     "output_type": "execute_result"
    }
   ],
   "source": [
    "G_x['3326_07:49:00']"
   ]
  },
  {
   "cell_type": "code",
   "execution_count": 28,
   "metadata": {
    "collapsed": false,
    "scrolled": true
   },
   "outputs": [
    {
     "name": "stdout",
     "output_type": "stream",
     "text": [
      "3335_07:42:08\n",
      "3336_07:46:47\n",
      "{'duration': 52.0, 'type': 'walk'} \n",
      "\n",
      "3336_07:46:47\n",
      "3329_07:48:01\n",
      "{'block_id': 3301, 'trip_id': 6886921, 'route_id': 11076, 'shape_id': 135773, 'duration': 74, 'service_id': 1, 'type': 'ride'} \n",
      "\n",
      "3329_07:48:01\n",
      "3326_07:49:00\n",
      "{'block_id': 3301, 'trip_id': 6886921, 'route_id': 11076, 'shape_id': 135773, 'duration': 59, 'service_id': 1, 'type': 'ride'} \n",
      "\n",
      "3326_07:49:00\n",
      "4314_07:51:00\n",
      "{'duration': 36.0, 'type': 'walk'} \n",
      "\n",
      "4314_07:51:00\n",
      "3326_08:05:00\n",
      "{'duration': 36.0, 'type': 'walk'} \n",
      "\n",
      "3326_08:05:00\n",
      "4315_08:07:00\n",
      "{'duration': 44.0, 'type': 'walk'} \n",
      "\n",
      "4315_08:07:00\n",
      "4316_08:07:25\n",
      "{'block_id': 2403, 'type': 'ride', 'route_id': 11067, 'service_id': 2, 'duration': 25, 'shape_id': 135714, 'trip_id': 7044264} \n",
      "\n",
      "4316_08:07:25\n",
      "4318_08:07:55\n",
      "{'block_id': 2403, 'type': 'ride', 'route_id': 11067, 'service_id': 2, 'duration': 30, 'shape_id': 135714, 'trip_id': 7044264} \n",
      "\n",
      "4318_08:07:55\n",
      "4321_08:08:26\n",
      "{'block_id': 2403, 'type': 'ride', 'route_id': 11067, 'service_id': 2, 'duration': 31, 'shape_id': 135714, 'trip_id': 7044264} \n",
      "\n",
      "4321_08:08:26\n",
      "4322_08:08:53\n",
      "{'block_id': 2403, 'type': 'ride', 'route_id': 11067, 'service_id': 2, 'duration': 27, 'shape_id': 135714, 'trip_id': 7044264} \n",
      "\n",
      "4322_08:08:53\n",
      "4325_08:09:26\n",
      "{'block_id': 2403, 'type': 'ride', 'route_id': 11067, 'service_id': 2, 'duration': 33, 'shape_id': 135714, 'trip_id': 7044264} \n",
      "\n",
      "4325_08:09:26\n",
      "4333_08:09:41\n",
      "{'block_id': 2403, 'type': 'ride', 'route_id': 11067, 'service_id': 2, 'duration': 15, 'shape_id': 135714, 'trip_id': 7044264} \n",
      "\n",
      "4333_08:09:41\n",
      "4327_08:10:00\n",
      "{'block_id': 2403, 'type': 'ride', 'route_id': 11067, 'service_id': 2, 'duration': 19, 'shape_id': 135714, 'trip_id': 7044264} \n",
      "\n",
      "4327_08:10:00\n",
      "4328_08:10:28\n",
      "{'block_id': 2403, 'type': 'ride', 'route_id': 11067, 'service_id': 2, 'duration': 28, 'shape_id': 135714, 'trip_id': 7044264} \n",
      "\n",
      "4328_08:10:28\n",
      "7290_08:11:00\n",
      "{'block_id': 2403, 'type': 'ride', 'route_id': 11067, 'service_id': 2, 'duration': 32, 'shape_id': 135714, 'trip_id': 7044264} \n",
      "\n",
      "7290_08:11:00\n",
      "3521_08:11:35\n",
      "{'block_id': 2403, 'type': 'ride', 'route_id': 11067, 'service_id': 2, 'duration': 35, 'shape_id': 135714, 'trip_id': 7044264} \n",
      "\n",
      "3521_08:11:35\n",
      "5732_08:12:06\n",
      "{'block_id': 2403, 'type': 'ride', 'route_id': 11067, 'service_id': 2, 'duration': 31, 'shape_id': 135714, 'trip_id': 7044264} \n",
      "\n",
      "5732_08:12:06\n",
      "5734_08:12:35\n",
      "{'block_id': 2403, 'type': 'ride', 'route_id': 11067, 'service_id': 2, 'duration': 29, 'shape_id': 135714, 'trip_id': 7044264} \n",
      "\n",
      "5734_08:12:35\n",
      "5736_08:13:07\n",
      "{'block_id': 2403, 'type': 'ride', 'route_id': 11067, 'service_id': 2, 'duration': 32, 'shape_id': 135714, 'trip_id': 7044264} \n",
      "\n",
      "5736_08:13:07\n",
      "5738_08:13:37\n",
      "{'block_id': 2403, 'type': 'ride', 'route_id': 11067, 'service_id': 2, 'duration': 30, 'shape_id': 135714, 'trip_id': 7044264} \n",
      "\n",
      "5738_08:13:37\n",
      "3544_08:14:09\n",
      "{'block_id': 2403, 'type': 'ride', 'route_id': 11067, 'service_id': 2, 'duration': 32, 'shape_id': 135714, 'trip_id': 7044264} \n",
      "\n",
      "3544_08:14:09\n",
      "3536_08:14:44\n",
      "{'block_id': 2403, 'type': 'ride', 'route_id': 11067, 'service_id': 2, 'duration': 35, 'shape_id': 135714, 'trip_id': 7044264} \n",
      "\n",
      "3536_08:14:44\n",
      "3538_08:15:19\n",
      "{'block_id': 2403, 'type': 'ride', 'route_id': 11067, 'service_id': 2, 'duration': 35, 'shape_id': 135714, 'trip_id': 7044264} \n",
      "\n",
      "3538_08:15:19\n",
      "3541_08:16:00\n",
      "{'block_id': 2403, 'type': 'ride', 'route_id': 11067, 'service_id': 2, 'duration': 41, 'shape_id': 135714, 'trip_id': 7044264} \n",
      "\n",
      "3541_08:16:00\n",
      "4157_08:16:40\n",
      "{'block_id': 2403, 'type': 'ride', 'route_id': 11067, 'service_id': 2, 'duration': 40, 'shape_id': 135714, 'trip_id': 7044264} \n",
      "\n",
      "4157_08:16:40\n",
      "4161_08:17:08\n",
      "{'block_id': 2403, 'type': 'ride', 'route_id': 11067, 'service_id': 2, 'duration': 28, 'shape_id': 135714, 'trip_id': 7044264} \n",
      "\n",
      "4161_08:17:08\n",
      "4150_08:17:30\n",
      "{'block_id': 2403, 'type': 'ride', 'route_id': 11067, 'service_id': 2, 'duration': 22, 'shape_id': 135714, 'trip_id': 7044264} \n",
      "\n",
      "4150_08:17:30\n",
      "4146_08:17:47\n",
      "{'block_id': 2403, 'type': 'ride', 'route_id': 11067, 'service_id': 2, 'duration': 17, 'shape_id': 135714, 'trip_id': 7044264} \n",
      "\n",
      "4146_08:17:47\n",
      "4143_08:18:21\n",
      "{'block_id': 2403, 'type': 'ride', 'route_id': 11067, 'service_id': 2, 'duration': 34, 'shape_id': 135714, 'trip_id': 7044264} \n",
      "\n",
      "4143_08:18:21\n",
      "4152_08:18:52\n",
      "{'block_id': 2403, 'type': 'ride', 'route_id': 11067, 'service_id': 2, 'duration': 31, 'shape_id': 135714, 'trip_id': 7044264} \n",
      "\n",
      "4152_08:18:52\n",
      "4154_08:19:10\n",
      "{'block_id': 2403, 'type': 'ride', 'route_id': 11067, 'service_id': 2, 'duration': 18, 'shape_id': 135714, 'trip_id': 7044264} \n",
      "\n",
      "4154_08:19:10\n",
      "4159_08:19:34\n",
      "{'block_id': 2403, 'type': 'ride', 'route_id': 11067, 'service_id': 2, 'duration': 24, 'shape_id': 135714, 'trip_id': 7044264} \n",
      "\n",
      "4159_08:19:34\n",
      "7213_08:20:07\n",
      "{'block_id': 2403, 'type': 'ride', 'route_id': 11067, 'service_id': 2, 'duration': 33, 'shape_id': 135714, 'trip_id': 7044264} \n",
      "\n",
      "7213_08:20:07\n",
      "4148_08:21:00\n",
      "{'block_id': 2403, 'type': 'ride', 'route_id': 11067, 'service_id': 2, 'duration': 53, 'shape_id': 135714, 'trip_id': 7044264} \n",
      "\n",
      "4148_08:21:00\n",
      "5093_08:21:41\n",
      "{'block_id': 2403, 'type': 'ride', 'route_id': 11067, 'service_id': 2, 'duration': 41, 'shape_id': 135714, 'trip_id': 7044264} \n",
      "\n",
      "5093_08:21:41\n",
      "5094_08:22:35\n",
      "{'block_id': 2403, 'type': 'ride', 'route_id': 11067, 'service_id': 2, 'duration': 54, 'shape_id': 135714, 'trip_id': 7044264} \n",
      "\n",
      "5094_08:22:35\n",
      "5095_08:23:24\n",
      "{'block_id': 2403, 'type': 'ride', 'route_id': 11067, 'service_id': 2, 'duration': 49, 'shape_id': 135714, 'trip_id': 7044264} \n",
      "\n",
      "5095_08:23:24\n",
      "5884_08:24:17\n",
      "{'block_id': 2403, 'type': 'ride', 'route_id': 11067, 'service_id': 2, 'duration': 53, 'shape_id': 135714, 'trip_id': 7044264} \n",
      "\n",
      "5884_08:24:17\n",
      "5882_08:24:55\n",
      "{'block_id': 2403, 'type': 'ride', 'route_id': 11067, 'service_id': 2, 'duration': 38, 'shape_id': 135714, 'trip_id': 7044264} \n",
      "\n",
      "5882_08:24:55\n",
      "5880_08:25:35\n",
      "{'block_id': 2403, 'type': 'ride', 'route_id': 11067, 'service_id': 2, 'duration': 40, 'shape_id': 135714, 'trip_id': 7044264} \n",
      "\n",
      "5880_08:25:35\n",
      "5939_08:42:44\n",
      "{'duration': 43.0, 'type': 'walk'} \n",
      "\n",
      "5939_08:42:44\n",
      "5938_08:59:16\n",
      "{'duration': 80.0, 'type': 'walk'} \n",
      "\n",
      "5938_08:59:16\n",
      "5936_08:59:43\n",
      "{'block_id': 2302, 'trip_id': 6878679, 'route_id': 11066, 'shape_id': 135708, 'duration': 27, 'service_id': 1, 'type': 'ride'} \n",
      "\n",
      "5936_08:59:43\n",
      "5934_09:00:24\n",
      "{'block_id': 2302, 'trip_id': 6878679, 'route_id': 11066, 'shape_id': 135708, 'duration': 41, 'service_id': 1, 'type': 'ride'} \n",
      "\n",
      "5934_09:00:24\n",
      "5176_09:15:04\n",
      "{'duration': 42.0, 'type': 'walk'} \n",
      "\n",
      "5176_09:15:04\n",
      "3129_09:25:27\n",
      "{'duration': 173.0, 'type': 'walk'} \n",
      "\n",
      "3129_09:25:27\n",
      "7404_09:30:54\n",
      "{'duration': 84.0, 'type': 'walk'} \n",
      "\n",
      "7404_09:30:54\n",
      "7352_09:31:52\n",
      "{'block_id': 9412, 'trip_id': 7069059, 'route_id': 11397, 'shape_id': 138550, 'duration': 58, 'service_id': 3, 'type': 'ride'} \n",
      "\n",
      "7352_09:31:52\n",
      "4555_09:47:00\n",
      "{'duration': 145.0, 'type': 'walk'} \n",
      "\n",
      "4555_09:47:00\n",
      "4555_09:47:13\n",
      "{'duration': 13, 'type': 'wait'} \n",
      "\n"
     ]
    }
   ],
   "source": [
    "for i in xrange(len(path) - 1):\n",
    "    print path[i]\n",
    "    print path[i+1]\n",
    "    print G_x[path[i]][path[i+1]], '\\n'"
   ]
  },
  {
   "cell_type": "code",
   "execution_count": 31,
   "metadata": {
    "collapsed": false
   },
   "outputs": [
    {
     "data": {
      "text/plain": [
       "stop_name    Evans Ave & Newhall St\n",
       "stop_desc                          \n",
       "stop_lat                    37.7419\n",
       "stop_lon                   -122.386\n",
       "zone_id                            \n",
       "stop_url                           \n",
       "Name: 4555, dtype: object"
      ]
     },
     "execution_count": 31,
     "metadata": {},
     "output_type": "execute_result"
    }
   ],
   "source": [
    "stops.loc[4555]"
   ]
  },
  {
   "cell_type": "code",
   "execution_count": 32,
   "metadata": {
    "collapsed": false
   },
   "outputs": [
    {
     "data": {
      "text/plain": [
       "stop_name    18th St & Hattie St\n",
       "stop_desc                       \n",
       "stop_lat                 37.7606\n",
       "stop_lon                -122.441\n",
       "zone_id                         \n",
       "stop_url                        \n",
       "Name: 3335, dtype: object"
      ]
     },
     "execution_count": 32,
     "metadata": {},
     "output_type": "execute_result"
    }
   ],
   "source": [
    "stops.loc[3335]"
   ]
  },
  {
   "cell_type": "code",
   "execution_count": 33,
   "metadata": {
    "collapsed": false
   },
   "outputs": [
    {
     "data": {
      "text/plain": [
       "agency_id                SFMTA\n",
       "route_short_name            24\n",
       "route_long_name     DIVISADERO\n",
       "route_desc                    \n",
       "route_type                   3\n",
       "route_url                     \n",
       "route_color                   \n",
       "route_text_color              \n",
       "Name: 11067, dtype: object"
      ]
     },
     "execution_count": 33,
     "metadata": {},
     "output_type": "execute_result"
    }
   ],
   "source": [
    "routes.loc[11067]"
   ]
  },
  {
   "cell_type": "code",
   "execution_count": null,
   "metadata": {
    "collapsed": true
   },
   "outputs": [],
   "source": []
  }
 ],
 "metadata": {
  "kernelspec": {
   "display_name": "Python 2",
   "language": "python",
   "name": "python2"
  },
  "language_info": {
   "codemirror_mode": {
    "name": "ipython",
    "version": 2
   },
   "file_extension": ".py",
   "mimetype": "text/x-python",
   "name": "python",
   "nbconvert_exporter": "python",
   "pygments_lexer": "ipython2",
   "version": "2.7.11"
  }
 },
 "nbformat": 4,
 "nbformat_minor": 0
}
