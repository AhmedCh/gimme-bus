{
 "cells": [
  {
   "cell_type": "code",
   "execution_count": 1,
   "metadata": {
    "collapsed": true
   },
   "outputs": [],
   "source": [
    "import pandas as pd\n",
    "import numpy as np\n",
    "import networkx as nx\n",
    "import cPickle as pickle\n",
    "from model import utilities as ut\n",
    "\n",
    "# Reading in static schedule data\n",
    "stops_full = pd.read_csv('data/google_transit/stops.txt', index_col='stop_id')\n",
    "routes = pd.read_csv('data/google_transit/routes.txt', index_col='route_id')\n",
    "trips = pd.read_csv('data/google_transit/trips.txt', index_col='trip_id')\n",
    "stop_times = pd.read_csv('data/google_transit/stop_times.txt')\n",
    "shapes = pd.read_csv('data/google_transit/shapes.txt')\n",
    "\n",
    "# Some of these stops are named \"Not a public stop\" but are still in trips.\n",
    "# Luckily, in the few trips they appear in, they're only either at the\n",
    "# beginning or the end, so we can remove them now and we'll still build\n",
    "# a nice graph with the connections we expect.\n",
    "stops = stops_full[~stops_full.index.isin([7520, 7530, 7531, 7540])]\n",
    "stop_times = stop_times[~stop_times['stop_id'].isin([7520, 7530, 7531, 7540])]\n",
    "\n",
    "# Oh and some stops are in stops.txt but not used in trips... let's remove 'em\n",
    "used_stops = set(stop_times['stop_id'].unique())\n",
    "stops = stops[stops.index.isin(used_stops)]\n",
    "\n",
    "# Let's make some sorted stop-timepoint lists for each stop_id to\n",
    "# make lookup faster for things\n",
    "all_stop_timepoints = {}\n",
    "for stopid in used_stops:\n",
    "    node_names = stop_times[stop_times['stop_id'] == stopid].\\\n",
    "                    apply(lambda x: '{0}_{1}'.\\\n",
    "                              format(stopid, x['arrival_time']),\\\n",
    "                          axis=1)\n",
    "    all_stop_timepoints[stopid] = sorted(list(set(node_names)))"
   ]
  },
  {
   "cell_type": "code",
   "execution_count": 31,
   "metadata": {
    "collapsed": false
   },
   "outputs": [
    {
     "data": {
      "text/plain": [
       "3210"
      ]
     },
     "execution_count": 31,
     "metadata": {},
     "output_type": "execute_result"
    }
   ],
   "source": [
    "np.random.choice(stops.index)"
   ]
  },
  {
   "cell_type": "code",
   "execution_count": 2,
   "metadata": {
    "collapsed": true
   },
   "outputs": [],
   "source": [
    "G_x = nx.read_gpickle('graph_x_7.gpkl')"
   ]
  },
  {
   "cell_type": "code",
   "execution_count": 38,
   "metadata": {
    "collapsed": true
   },
   "outputs": [],
   "source": [
    "sat_edges = [(u, v, d) for u,v,d in G_x.edges_iter(data=True) if d.get('service_id', 0) == 2]\n",
    "sun_edges = [(u, v, d) for u,v,d in G_x.edges_iter(data=True) if d.get('service_id', 0) == 3]\n",
    "w_edges = [(u, v, d) for u,v,d in G_x.edges_iter(data=True) if d.get('service_id', 0) == 1]"
   ]
  },
  {
   "cell_type": "code",
   "execution_count": 39,
   "metadata": {
    "collapsed": true
   },
   "outputs": [],
   "source": [
    "G_x.remove_edges_from(sat_edges)\n",
    "G_x.remove_edges_from(sun_edges)"
   ]
  },
  {
   "cell_type": "code",
   "execution_count": 41,
   "metadata": {
    "collapsed": true
   },
   "outputs": [],
   "source": [
    "from model import utilities as ut"
   ]
  },
  {
   "cell_type": "code",
   "execution_count": 51,
   "metadata": {
    "collapsed": false
   },
   "outputs": [],
   "source": [
    "origin = 5874\n",
    "o_lat = stops.loc[origin, 'stop_lat']\n",
    "o_lon = stops.loc[origin, 'stop_lon']\n",
    "\n",
    "start_time = '08:15:00'\n",
    "start_node = ut.get_next_stop_timepoint(origin, start_time, all_stop_timepoints)\n",
    "\n",
    "destination = 3210\n",
    "d_lat = stops.loc[destination, 'stop_lat']\n",
    "d_lon = stops.loc[destination, 'stop_lon']\n",
    "\n",
    "est_time = np.ceil(1000.*ut.haversine(o_lon, o_lat, d_lon, d_lat)/3)"
   ]
  },
  {
   "cell_type": "code",
   "execution_count": 52,
   "metadata": {
    "collapsed": false
   },
   "outputs": [
    {
     "data": {
      "text/plain": [
       "1504.0"
      ]
     },
     "execution_count": 52,
     "metadata": {},
     "output_type": "execute_result"
    }
   ],
   "source": [
    "est_time"
   ]
  },
  {
   "cell_type": "code",
   "execution_count": 78,
   "metadata": {
    "collapsed": false
   },
   "outputs": [],
   "source": [
    "path_time, path = ut.quickest_route(start_node, 3210, 2*est_time, G_x, all_stop_timepoints)"
   ]
  },
  {
   "cell_type": "code",
   "execution_count": 70,
   "metadata": {
    "collapsed": false
   },
   "outputs": [
    {
     "data": {
      "text/plain": [
       "<module 'model.utilities' from 'model/utilities.py'>"
      ]
     },
     "execution_count": 70,
     "metadata": {},
     "output_type": "execute_result"
    }
   ],
   "source": [
    "reload(ut)"
   ]
  },
  {
   "cell_type": "code",
   "execution_count": 81,
   "metadata": {
    "collapsed": false
   },
   "outputs": [
    {
     "name": "stdout",
     "output_type": "stream",
     "text": [
      "10:02:52: Arrive at Palou Ave & Keith St.\n",
      "\t  Take 44 to Keith St & Oakdale Ave\n",
      "10:09:00: Arrive at Hudson Ave & 3rd St.\n",
      "\t  Walk to Third Street/Hudson/Innes\n",
      "10:12:17: Arrive at Third Street/Hudson/Innes.\n",
      "\t  Take KT to Third Street & Evans Ave\n",
      "10:20:00: Arrive at Third Street & 20th St.\n",
      "\t  Walk to 20th St & 3rd St\n",
      "10:26:00: Arrive at 20th St & 3rd St.\n",
      "\t  Take 22 to Tennessee St & 18th St\n",
      "10:32:08: Arrive at 17th St & De Haro St.\n",
      "\t  Walk to De Haro St & 17th St\n",
      "10:33:03: Arrive at De Haro St & 17th St.\n",
      "\t  Take 19 to De Haro St & 16th St\n",
      "10:35:33: Arrive at Division St & Townsend St.\n",
      "\t  Walk to 8th St & Townsend St\n",
      "10:38:44: Arrive at 8th St & Townsend St\n"
     ]
    }
   ],
   "source": [
    "ut.nice_path(G_x, path, routes, condensed=True)"
   ]
  },
  {
   "cell_type": "code",
   "execution_count": null,
   "metadata": {
    "collapsed": false
   },
   "outputs": [],
   "source": []
  },
  {
   "cell_type": "code",
   "execution_count": null,
   "metadata": {
    "collapsed": true
   },
   "outputs": [],
   "source": []
  }
 ],
 "metadata": {
  "kernelspec": {
   "display_name": "Python 2",
   "language": "python",
   "name": "python2"
  },
  "language_info": {
   "codemirror_mode": {
    "name": "ipython",
    "version": 2
   },
   "file_extension": ".py",
   "mimetype": "text/x-python",
   "name": "python",
   "nbconvert_exporter": "python",
   "pygments_lexer": "ipython2",
   "version": "2.7.11"
  }
 },
 "nbformat": 4,
 "nbformat_minor": 0
}
