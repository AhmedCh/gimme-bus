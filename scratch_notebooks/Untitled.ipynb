{
 "cells": [
  {
   "cell_type": "code",
   "execution_count": null,
   "metadata": {
    "collapsed": true
   },
   "outputs": [],
   "source": [
    "import pandas as pd\n",
    "import numpy as np\n",
    "import networkx as nx\n",
    "import cPickle as pickle\n",
    "from model import utilities as ut\n",
    "\n",
    "# Reading in static schedule data\n",
    "stops_full = pd.read_csv('data/google_transit/stops.txt', index_col='stop_id')\n",
    "routes = pd.read_csv('data/google_transit/routes.txt', index_col='route_id')\n",
    "trips = pd.read_csv('data/google_transit/trips.txt', index_col='trip_id')\n",
    "stop_times = pd.read_csv('data/google_transit/stop_times.txt')\n",
    "shapes = pd.read_csv('data/google_transit/shapes.txt')\n",
    "\n",
    "# Some of these stops are named \"Not a public stop\" but are still in trips.\n",
    "# Luckily, in the few trips they appear in, they're only either at the\n",
    "# beginning or the end, so we can remove them now and we'll still build\n",
    "# a nice graph with the connections we expect.\n",
    "stops = stops_full[~stops_full.index.isin([7520, 7530, 7531, 7540])]\n",
    "stop_times = stop_times[~stop_times['stop_id'].isin([7520, 7530, 7531, 7540])]\n",
    "\n",
    "# Oh and some stops are in stops.txt but not used in trips... let's remove 'em\n",
    "used_stops = set(stop_times['stop_id'].unique())\n",
    "stops = stops[stops.index.isin(used_stops)]\n",
    "\n",
    "# Let's make some sorted stop-timepoint lists for each stop_id to\n",
    "# make lookup faster for things\n",
    "#all_stop_timepoints = {}\n",
    "#for stopid in used_stops:\n",
    "#    node_names = stop_times[stop_times['stop_id'] == stopid].\\\n",
    "#                    apply(lambda x: '{0}_{1}'.\\\n",
    "#                              format(stopid, x['arrival_time']),\\\n",
    "#                          axis=1)\n",
    "#    all_stop_timepoints[stopid] = sorted(list(set(node_names)))\n"
   ]
  }
 ],
 "metadata": {
  "kernelspec": {
   "display_name": "Python 2",
   "language": "python",
   "name": "python2"
  },
  "language_info": {
   "codemirror_mode": {
    "name": "ipython",
    "version": 2
   },
   "file_extension": ".py",
   "mimetype": "text/x-python",
   "name": "python",
   "nbconvert_exporter": "python",
   "pygments_lexer": "ipython2",
   "version": "2.7.11"
  }
 },
 "nbformat": 4,
 "nbformat_minor": 0
}
